{
 "cells": [
  {
   "cell_type": "code",
   "execution_count": null,
   "metadata": {},
   "outputs": [],
   "source": [
    "#pip install category_encoders"
   ]
  },
  {
   "cell_type": "code",
   "execution_count": 37,
   "metadata": {},
   "outputs": [],
   "source": [
    "import xgboost as xgb\n",
    "from sklearn.ensemble import RandomForestRegressor\n",
    "from sklearn.metrics import mean_squared_error\n",
    "import pandas as pd\n",
    "import numpy as np\n",
    "%matplotlib inline\n",
    "import matplotlib.pyplot as plt\n",
    "from sklearn import tree\n",
    "from sklearn.metrics import log_loss, make_scorer"
   ]
  },
  {
   "cell_type": "markdown",
   "metadata": {
    "id": "AcSgcz_JgCCh"
   },
   "source": [
    "# Train"
   ]
  },
  {
   "cell_type": "code",
   "execution_count": 3,
   "metadata": {
    "executionInfo": {
     "elapsed": 3442,
     "status": "ok",
     "timestamp": 1609043250550,
     "user": {
      "displayName": "GERMAN BERNARDO BOBADILLA CATALAN",
      "photoUrl": "",
      "userId": "14005656012307870514"
     },
     "user_tz": 180
    },
    "id": "mbO3fP4nAlQr"
   },
   "outputs": [],
   "source": [
    "train = pd.read_csv('Train_TP2_Datos_2020-2C.csv')"
   ]
  },
  {
   "cell_type": "code",
   "execution_count": 3,
   "metadata": {
    "scrolled": true
   },
   "outputs": [
    {
     "data": {
      "text/plain": [
       "(16947, 52)"
      ]
     },
     "execution_count": 3,
     "metadata": {},
     "output_type": "execute_result"
    }
   ],
   "source": [
    "train.shape"
   ]
  },
  {
   "cell_type": "code",
   "execution_count": 3,
   "metadata": {},
   "outputs": [
    {
     "name": "stdout",
     "output_type": "stream",
     "text": [
      "<class 'pandas.core.frame.DataFrame'>\n",
      "RangeIndex: 16947 entries, 0 to 16946\n",
      "Data columns (total 52 columns):\n",
      " #   Column                              Non-Null Count  Dtype  \n",
      "---  ------                              --------------  -----  \n",
      " 0   ID                                  16947 non-null  int64  \n",
      " 1   Region                              16947 non-null  object \n",
      " 2   Territory                           16947 non-null  object \n",
      " 3   Pricing, Delivery_Terms_Quote_Appr  16947 non-null  int64  \n",
      " 4   Pricing, Delivery_Terms_Approved    16947 non-null  int64  \n",
      " 5   Bureaucratic_Code_0_Approval        16947 non-null  int64  \n",
      " 6   Bureaucratic_Code_0_Approved        16947 non-null  int64  \n",
      " 7   Submitted_for_Approval              16947 non-null  int64  \n",
      " 8   Bureaucratic_Code                   16947 non-null  object \n",
      " 9   Account_Created_Date                16947 non-null  object \n",
      " 10  Source                              16947 non-null  object \n",
      " 11  Billing_Country                     16947 non-null  object \n",
      " 12  Account_Name                        16947 non-null  object \n",
      " 13  Opportunity_Name                    16947 non-null  object \n",
      " 14  Opportunity_ID                      16947 non-null  int64  \n",
      " 15  Sales_Contract_No                   16947 non-null  object \n",
      " 16  Account_Owner                       16947 non-null  object \n",
      " 17  Opportunity_Owner                   16947 non-null  object \n",
      " 18  Account_Type                        16947 non-null  object \n",
      " 19  Opportunity_Type                    16947 non-null  object \n",
      " 20  Quote_Type                          16947 non-null  object \n",
      " 21  Delivery_Terms                      16947 non-null  object \n",
      " 22  Opportunity_Created_Date            16947 non-null  object \n",
      " 23  Brand                               16947 non-null  object \n",
      " 24  Product_Type                        16947 non-null  object \n",
      " 25  Size                                16947 non-null  object \n",
      " 26  Product_Category_B                  16947 non-null  object \n",
      " 27  Price                               16947 non-null  object \n",
      " 28  Currency                            16947 non-null  object \n",
      " 29  Last_Activity                       16947 non-null  object \n",
      " 30  Quote_Expiry_Date                   16947 non-null  object \n",
      " 31  Last_Modified_Date                  16947 non-null  object \n",
      " 32  Last_Modified_By                    16947 non-null  object \n",
      " 33  Product_Family                      16947 non-null  object \n",
      " 34  Product_Name                        16947 non-null  object \n",
      " 35  ASP_Currency                        16947 non-null  object \n",
      " 36  ASP                                 13738 non-null  float64\n",
      " 37  ASP_(converted)_Currency            16947 non-null  object \n",
      " 38  ASP_(converted)                     13738 non-null  float64\n",
      " 39  Planned_Delivery_Start_Date         16947 non-null  object \n",
      " 40  Planned_Delivery_End_Date           16947 non-null  object \n",
      " 41  Month                               16947 non-null  object \n",
      " 42  Delivery_Quarter                    16947 non-null  object \n",
      " 43  Delivery_Year                       16947 non-null  int64  \n",
      " 44  Actual_Delivery_Date                16947 non-null  object \n",
      " 45  TRF                                 16947 non-null  int64  \n",
      " 46  Total_Amount_Currency               16947 non-null  object \n",
      " 47  Total_Amount                        16888 non-null  float64\n",
      " 48  Total_Taxable_Amount_Currency       16947 non-null  object \n",
      " 49  Total_Taxable_Amount                16947 non-null  float64\n",
      " 50  Stage                               16947 non-null  object \n",
      " 51  Prod_Category_A                     16947 non-null  object \n",
      "dtypes: float64(4), int64(9), object(39)\n",
      "memory usage: 6.7+ MB\n"
     ]
    }
   ],
   "source": [
    "train.info()"
   ]
  },
  {
   "cell_type": "code",
   "execution_count": 4,
   "metadata": {},
   "outputs": [],
   "source": [
    "train = train[(train.Stage == 'Closed Won') | (train.Stage == 'Closed Lost')]\n",
    "train['Stage'] = train['Stage'].transform(func=lambda x : 1 if x=='Closed Won' else 0)"
   ]
  },
  {
   "cell_type": "code",
   "execution_count": 5,
   "metadata": {},
   "outputs": [],
   "source": [
    "#NO USAR NUMERO DE CONRATO PARA PREDECIR Sales_Contract_No\n",
    "#porque si hay numero de contrato, quiere decir que hubo oportunidad con exito.....\n",
    "train = train.drop('Sales_Contract_No', axis=1)"
   ]
  },
  {
   "cell_type": "code",
   "execution_count": 6,
   "metadata": {},
   "outputs": [],
   "source": [
    "train = train.select_dtypes(['int64','float64']) "
   ]
  },
  {
   "cell_type": "code",
   "execution_count": 7,
   "metadata": {},
   "outputs": [],
   "source": [
    "train = train.drop('ID', axis=1)"
   ]
  },
  {
   "cell_type": "code",
   "execution_count": 52,
   "metadata": {},
   "outputs": [],
   "source": [
    "train = train.drop('Pricing, Delivery_Terms_Quote_Appr', axis=1)\n",
    "train = train.drop('Pricing, Delivery_Terms_Approved', axis=1)\n",
    "train = train.drop('Bureaucratic_Code_0_Approved', axis=1)\n",
    "train = train.drop('Bureaucratic_Code_0_Approval', axis=1)"
   ]
  },
  {
   "cell_type": "code",
   "execution_count": 12,
   "metadata": {
    "executionInfo": {
     "elapsed": 4143,
     "status": "ok",
     "timestamp": 1609043251279,
     "user": {
      "displayName": "GERMAN BERNARDO BOBADILLA CATALAN",
      "photoUrl": "",
      "userId": "14005656012307870514"
     },
     "user_tz": 180
    },
    "id": "Q9bqha_hrdek"
   },
   "outputs": [],
   "source": [
    "train = train.drop('ID', axis=1)\n",
    "train = train.drop('Territory', axis=1)\n",
    "#train = train.drop('Pricing, Delivery_Terms_Quote_Appr', axis=1)\n",
    "train = train.drop('Account_Name', axis=1)\n",
    "train = train.drop('Opportunity_Name', axis=1)\n",
    "train = train.drop('Account_Owner', axis=1)\n",
    "train = train.drop('Opportunity_Owner', axis=1)\n",
    "train = train.drop('Account_Type', axis=1)\n",
    "train = train.drop('Opportunity_Type', axis=1)\n",
    "train = train.drop('Quote_Type', axis=1)\n",
    "train = train.drop('Delivery_Terms', axis=1)\n",
    "#train = train.drop('Opportunity_Created_Date', axis=1)\n",
    "train = train.drop('Brand', axis=1)\n",
    "train = train.drop('Product_Type', axis=1)\n",
    "train = train.drop('Size', axis=1)\n",
    "train = train.drop('Product_Category_B', axis=1)\n",
    "train = train.drop('Price', axis=1)\n",
    "train = train.drop('Currency', axis=1)\n",
    "train = train.drop('Last_Activity', axis=1)\n",
    "train = train.drop('Quote_Expiry_Date', axis=1)\n",
    "train = train.drop('Last_Modified_Date', axis=1)\n",
    "train = train.drop('Last_Modified_By', axis=1)\n",
    "train = train.drop('Product_Family', axis=1)\n",
    "train = train.drop('Product_Name', axis=1)\n",
    "train = train.drop('ASP_Currency', axis=1)\n",
    "train = train.drop('ASP', axis=1)\n",
    "train = train.drop('ASP_(converted)_Currency', axis=1)\n",
    "train = train.drop('ASP_(converted)', axis=1)\n",
    "train = train.drop('Planned_Delivery_Start_Date', axis=1)\n",
    "train = train.drop('Planned_Delivery_End_Date', axis=1)\n",
    "train = train.drop('Month', axis=1)\n",
    "train = train.drop('Delivery_Quarter', axis=1)\n",
    "train = train.drop('Delivery_Year', axis=1)\n",
    "train = train.drop('Actual_Delivery_Date', axis=1)\n",
    "train = train.drop('Total_Amount_Currency', axis=1)\n",
    "train = train.drop('Total_Amount', axis=1)\n",
    "train = train.drop('Total_Taxable_Amount_Currency', axis=1)\n",
    "train = train.drop('Total_Taxable_Amount', axis=1)\n",
    "train = train.drop('Prod_Category_A', axis=1)\n",
    "train = train.drop('Submitted_for_Approval', axis=1)\n",
    "train = train.drop('Bureaucratic_Code', axis=1)\n",
    "train = train.drop('Region', axis=1)"
   ]
  },
  {
   "cell_type": "markdown",
   "metadata": {},
   "source": [
    "---"
   ]
  },
  {
   "cell_type": "code",
   "execution_count": 8,
   "metadata": {
    "executionInfo": {
     "elapsed": 4116,
     "status": "ok",
     "timestamp": 1609043251283,
     "user": {
      "displayName": "GERMAN BERNARDO BOBADILLA CATALAN",
      "photoUrl": "",
      "userId": "14005656012307870514"
     },
     "user_tz": 180
    },
    "id": "bP_f1T4g_5k6"
   },
   "outputs": [],
   "source": [
    "train['TRF_promedio'] = train.groupby('Opportunity_ID')['TRF'].transform('mean')\n",
    "train = train.drop('TRF', axis=1)"
   ]
  },
  {
   "cell_type": "code",
   "execution_count": 9,
   "metadata": {},
   "outputs": [],
   "source": [
    "train = train.drop_duplicates('Opportunity_ID')\n",
    "train = train.drop('Opportunity_ID', axis=1)"
   ]
  },
  {
   "cell_type": "code",
   "execution_count": 55,
   "metadata": {},
   "outputs": [
    {
     "data": {
      "text/plain": [
       "(9791, 8)"
      ]
     },
     "execution_count": 55,
     "metadata": {},
     "output_type": "execute_result"
    }
   ],
   "source": [
    "train.shape"
   ]
  },
  {
   "cell_type": "code",
   "execution_count": 10,
   "metadata": {},
   "outputs": [
    {
     "name": "stdout",
     "output_type": "stream",
     "text": [
      "(9791,) (9791, 11)\n"
     ]
    }
   ],
   "source": [
    "train_label = train['Stage']\n",
    "train_data = train.iloc[:, train.columns != 'Stage']\n",
    "print(train_label.shape,train_data.shape)"
   ]
  },
  {
   "cell_type": "code",
   "execution_count": 11,
   "metadata": {},
   "outputs": [],
   "source": [
    "X, y = train.iloc[:, train.columns != 'Stage'],train.loc[:,['Stage']]\n",
    "from sklearn.model_selection import train_test_split\n",
    "\n",
    "X_train, X_test, y_train, y_test =  train_test_split(X, y, test_size=0.2, random_state=123)"
   ]
  },
  {
   "cell_type": "markdown",
   "metadata": {},
   "source": [
    "HIPERPARAMETROS\n",
    "\n",
    "learning_rate: tasa de aprendizaje\n",
    "max_depth: máxima profundidad de cada árbol\n",
    "subsample: porcentaje de muestras usadas para cada árbol (valor muy bajo, posible underfitting)\n",
    "colsample_bytree: porcentaje de features usadas para cada árbol (valores muy alto, posible overfitting)\n",
    "n_estimators: cantidad de árboles a construir.\n",
    "objective: función de error a utilizar (algunas: reg:squarederror para regresión, reg:logistic o binary:logistic para clasificación)\n",
    "Parámetros de regularización:\n",
    "\n",
    "gamma: umbral para hacer split basado en la reducción de error de hacer el nuevo split.\n",
    "alpha: regularización para los pesos de las hojas. Un valor más alto genera una mayor regularización.\n",
    "lambda: similar alpha pero para la sintonia fina."
   ]
  },
  {
   "cell_type": "code",
   "execution_count": 49,
   "metadata": {},
   "outputs": [
    {
     "data": {
      "text/plain": [
       "XGBRegressor(alpha=15, base_score=0.5, booster='gbtree', colsample_bylevel=1,\n",
       "             colsample_bynode=1, colsample_bytree=0.3,\n",
       "             eval_metric=<function log_loss at 0x000001E6BECE94C8>, gamma=0,\n",
       "             gpu_id=-1, importance_type='gain', interaction_constraints='',\n",
       "             learning_rate=0.1, max_delta_step=0, max_depth=5,\n",
       "             min_child_weight=1, missing=nan, monotone_constraints='()',\n",
       "             n_estimators=10, n_jobs=8, num_parallel_tree=1,\n",
       "             objective='reg:squaredlogerror', random_state=0, reg_alpha=15,\n",
       "             reg_lambda=1, scale_pos_weight=1, subsample=1, tree_method='exact',\n",
       "             validate_parameters=1, verbosity=None)"
      ]
     },
     "execution_count": 49,
     "metadata": {},
     "output_type": "execute_result"
    }
   ],
   "source": [
    "#INSTANCIO XGBOOST REGRESSOR\n",
    "xg_reg = xgb.XGBRegressor(objective ='reg:squaredlogerror', \n",
    "                colsample_bytree = 0.3, learning_rate = 0.1,\n",
    "                max_depth = 5, alpha = 15, n_estimators = 10,eval_metric=log_loss)\n",
    "xg_reg.fit(X_train,y_train)"
   ]
  },
  {
   "cell_type": "code",
   "execution_count": 50,
   "metadata": {},
   "outputs": [
    {
     "name": "stdout",
     "output_type": "stream",
     "text": [
      "RMSLE: 0.598146\n"
     ]
    }
   ],
   "source": [
    "preds = xg_reg.predict(X_test)\n",
    "rmsle = log_loss(y_test, preds)\n",
    "print(\"RMSLE: %f\" % (rmsle))"
   ]
  },
  {
   "cell_type": "code",
   "execution_count": 14,
   "metadata": {},
   "outputs": [],
   "source": [
    "data_dmatrix = xgb.DMatrix(data=X,label=y)"
   ]
  },
  {
   "cell_type": "code",
   "execution_count": 55,
   "metadata": {},
   "outputs": [],
   "source": [
    "params = {\"objective\":\"reg:logistic\",'colsample_bytree': 0.3,\n",
    "          'learning_rate': 0.1, 'max_depth': 5, 'alpha': 15}\n",
    "\n",
    "cv_results = xgb.cv(dtrain=data_dmatrix, params=params, nfold=3,\n",
    "                    num_boost_round=50, early_stopping_rounds=10,\n",
    "                    metrics=\"logloss\", as_pandas=True, seed=123)"
   ]
  },
  {
   "cell_type": "code",
   "execution_count": 56,
   "metadata": {},
   "outputs": [
    {
     "data": {
      "text/html": [
       "<div>\n",
       "<style scoped>\n",
       "    .dataframe tbody tr th:only-of-type {\n",
       "        vertical-align: middle;\n",
       "    }\n",
       "\n",
       "    .dataframe tbody tr th {\n",
       "        vertical-align: top;\n",
       "    }\n",
       "\n",
       "    .dataframe thead th {\n",
       "        text-align: right;\n",
       "    }\n",
       "</style>\n",
       "<table border=\"1\" class=\"dataframe\">\n",
       "  <thead>\n",
       "    <tr style=\"text-align: right;\">\n",
       "      <th></th>\n",
       "      <th>train-logloss-mean</th>\n",
       "      <th>train-logloss-std</th>\n",
       "      <th>test-logloss-mean</th>\n",
       "      <th>test-logloss-std</th>\n",
       "    </tr>\n",
       "  </thead>\n",
       "  <tbody>\n",
       "    <tr>\n",
       "      <th>0</th>\n",
       "      <td>0.690252</td>\n",
       "      <td>0.000160</td>\n",
       "      <td>0.690477</td>\n",
       "      <td>0.000156</td>\n",
       "    </tr>\n",
       "    <tr>\n",
       "      <th>1</th>\n",
       "      <td>0.672836</td>\n",
       "      <td>0.002638</td>\n",
       "      <td>0.673582</td>\n",
       "      <td>0.002383</td>\n",
       "    </tr>\n",
       "    <tr>\n",
       "      <th>2</th>\n",
       "      <td>0.661227</td>\n",
       "      <td>0.008611</td>\n",
       "      <td>0.662488</td>\n",
       "      <td>0.008045</td>\n",
       "    </tr>\n",
       "    <tr>\n",
       "      <th>3</th>\n",
       "      <td>0.645248</td>\n",
       "      <td>0.008098</td>\n",
       "      <td>0.646892</td>\n",
       "      <td>0.007400</td>\n",
       "    </tr>\n",
       "    <tr>\n",
       "      <th>4</th>\n",
       "      <td>0.634752</td>\n",
       "      <td>0.010218</td>\n",
       "      <td>0.636866</td>\n",
       "      <td>0.009560</td>\n",
       "    </tr>\n",
       "  </tbody>\n",
       "</table>\n",
       "</div>"
      ],
      "text/plain": [
       "   train-logloss-mean  train-logloss-std  test-logloss-mean  test-logloss-std\n",
       "0            0.690252           0.000160           0.690477          0.000156\n",
       "1            0.672836           0.002638           0.673582          0.002383\n",
       "2            0.661227           0.008611           0.662488          0.008045\n",
       "3            0.645248           0.008098           0.646892          0.007400\n",
       "4            0.634752           0.010218           0.636866          0.009560"
      ]
     },
     "execution_count": 56,
     "metadata": {},
     "output_type": "execute_result"
    }
   ],
   "source": [
    "cv_results.head()"
   ]
  },
  {
   "cell_type": "code",
   "execution_count": 57,
   "metadata": {},
   "outputs": [
    {
     "name": "stdout",
     "output_type": "stream",
     "text": [
      "49    0.517247\n",
      "Name: test-logloss-mean, dtype: float64\n"
     ]
    }
   ],
   "source": [
    "print((cv_results[\"test-logloss-mean\"]).tail(1))"
   ]
  },
  {
   "cell_type": "code",
   "execution_count": 18,
   "metadata": {},
   "outputs": [
    {
     "data": {
      "image/png": "[encoded data removed]",
      "text/plain": [
       "<Figure size 432x288 with 1 Axes>"
      ]
     },
     "metadata": {
      "needs_background": "light"
     },
     "output_type": "display_data"
    },
    {
     "data": {
      "text/plain": [
       "<Figure size 1152x864 with 0 Axes>"
      ]
     },
     "metadata": {},
     "output_type": "display_data"
    }
   ],
   "source": [
    "xgb.plot_importance(xg_reg)\n",
    "plt.figure(figsize = (16, 12))\n",
    "plt.show()"
   ]
  },
  {
   "cell_type": "code",
   "execution_count": 65,
   "metadata": {},
   "outputs": [
    {
     "data": {
      "text/plain": [
       "<matplotlib.axes._subplots.AxesSubplot at 0x19858c83a48>"
      ]
     },
     "execution_count": 65,
     "metadata": {},
     "output_type": "execute_result"
    },
    {
     "data": {
      "image/png": "[encoded data removed]",
      "text/plain": [
       "<Figure size 1440x1440 with 1 Axes>"
      ]
     },
     "metadata": {
      "needs_background": "light"
     },
     "output_type": "display_data"
    }
   ],
   "source": [
    "xg_reg = xgb.train(params=params, dtrain=data_dmatrix, num_boost_round=10)\n",
    "plt.rcParams['figure.figsize'] = [20, 20]\n",
    "xgb.plot_tree(xg_reg,num_trees=0)"
   ]
  },
  {
   "cell_type": "markdown",
   "metadata": {
    "id": "A4SzN2AtgJhC"
   },
   "source": [
    "# Test"
   ]
  },
  {
   "cell_type": "code",
   "execution_count": 29,
   "metadata": {
    "executionInfo": {
     "elapsed": 4521,
     "status": "ok",
     "timestamp": 1609043251989,
     "user": {
      "displayName": "GERMAN BERNARDO BOBADILLA CATALAN",
      "photoUrl": "",
      "userId": "14005656012307870514"
     },
     "user_tz": 180
    },
    "id": "mxzTC3EJgnbF"
   },
   "outputs": [],
   "source": [
    "test = pd.read_csv('Test_TP2_Datos_2020-2C.csv')"
   ]
  },
  {
   "cell_type": "code",
   "execution_count": 30,
   "metadata": {},
   "outputs": [],
   "source": [
    "test = test.drop('Sales_Contract_No', axis=1)"
   ]
  },
  {
   "cell_type": "code",
   "execution_count": 21,
   "metadata": {},
   "outputs": [],
   "source": [
    "test = test.select_dtypes(['int64','float64']) "
   ]
  },
  {
   "cell_type": "code",
   "execution_count": 22,
   "metadata": {},
   "outputs": [],
   "source": [
    "test = test.drop('ID', axis=1)"
   ]
  },
  {
   "cell_type": "code",
   "execution_count": 15,
   "metadata": {
    "executionInfo": {
     "elapsed": 4508,
     "status": "ok",
     "timestamp": 1609043251990,
     "user": {
      "displayName": "GERMAN BERNARDO BOBADILLA CATALAN",
      "photoUrl": "",
      "userId": "14005656012307870514"
     },
     "user_tz": 180
    },
    "id": "NpoTtzaVs-Ke"
   },
   "outputs": [],
   "source": [
    "test = test.drop('ID', axis=1)\n",
    "#test = test.drop('Territory', axis=1)\n",
    "test = test.drop('Pricing, Delivery_Terms_Quote_Appr', axis=1)\n",
    "test = test.drop('Pricing, Delivery_Terms_Approved', axis=1)\n",
    "test = test.drop('Bureaucratic_Code_0_Approval', axis=1)\n",
    "test = test.drop('Bureaucratic_Code_0_Approved', axis=1)\n",
    "test = test.drop('Account_Created_Date', axis=1)\n",
    "#test = test.drop('Source ', axis=1)\n",
    "test = test.drop('Billing_Country', axis=1)\n",
    "#test = test.drop('Account_Name', axis=1)\n",
    "test = test.drop('Opportunity_Name', axis=1)\n",
    "test = test.drop('Account_Owner', axis=1)\n",
    "#test = test.drop('Opportunity_Owner', axis=1)\n",
    "test = test.drop('Account_Type', axis=1)\n",
    "test = test.drop('Opportunity_Type', axis=1)\n",
    "test = test.drop('Quote_Type', axis=1)\n",
    "test = test.drop('Delivery_Terms', axis=1)\n",
    "test = test.drop('Opportunity_Created_Date', axis=1)\n",
    "test = test.drop('Brand', axis=1)\n",
    "test = test.drop('Product_Type', axis=1)\n",
    "test = test.drop('Size', axis=1)\n",
    "test = test.drop('Product_Category_B', axis=1)\n",
    "test = test.drop('Price', axis=1)\n",
    "test = test.drop('Currency', axis=1)\n",
    "test = test.drop('Last_Activity', axis=1)\n",
    "test = test.drop('Quote_Expiry_Date', axis=1)\n",
    "test = test.drop('Last_Modified_Date', axis=1)\n",
    "test = test.drop('Last_Modified_By', axis=1)\n",
    "test = test.drop('Product_Family', axis=1)\n",
    "test = test.drop('Product_Name', axis=1)\n",
    "test = test.drop('ASP_Currency', axis=1)\n",
    "test = test.drop('ASP', axis=1)\n",
    "test = test.drop('ASP_(converted)_Currency', axis=1)\n",
    "test = test.drop('ASP_(converted)', axis=1)\n",
    "test = test.drop('Planned_Delivery_Start_Date', axis=1)\n",
    "test = test.drop('Planned_Delivery_End_Date', axis=1)\n",
    "test = test.drop('Month', axis=1)\n",
    "test = test.drop('Delivery_Quarter', axis=1)\n",
    "test = test.drop('Delivery_Year', axis=1)\n",
    "test = test.drop('Actual_Delivery_Date', axis=1)\n",
    "test = test.drop('Total_Amount_Currency', axis=1)\n",
    "test = test.drop('Total_Amount', axis=1)\n",
    "test = test.drop('Total_Taxable_Amount_Currency', axis=1)\n",
    "test = test.drop('Total_Taxable_Amount', axis=1)\n",
    "test = test.drop('Prod_Category_A', axis=1)\n",
    "test = test.drop('Submitted_for_Approval', axis=1)\n",
    "test = test.drop('Bureaucratic_Code', axis=1)\n",
    "test = test.drop('Region', axis=1)"
   ]
  },
  {
   "cell_type": "markdown",
   "metadata": {
    "executionInfo": {
     "elapsed": 4496,
     "status": "ok",
     "timestamp": 1609043251992,
     "user": {
      "displayName": "GERMAN BERNARDO BOBADILLA CATALAN",
      "photoUrl": "",
      "userId": "14005656012307870514"
     },
     "user_tz": 180
    },
    "id": "7qsbH_aYkY_Y"
   },
   "source": [
    "---"
   ]
  },
  {
   "cell_type": "code",
   "execution_count": 23,
   "metadata": {
    "executionInfo": {
     "elapsed": 4484,
     "status": "ok",
     "timestamp": 1609043251994,
     "user": {
      "displayName": "GERMAN BERNARDO BOBADILLA CATALAN",
      "photoUrl": "",
      "userId": "14005656012307870514"
     },
     "user_tz": 180
    },
    "id": "PViXhFQaA5b4"
   },
   "outputs": [],
   "source": [
    "test['TRF_promedio'] = test.groupby('Opportunity_ID')['TRF'].transform('mean')\n",
    "test = test.drop('TRF', axis=1)"
   ]
  },
  {
   "cell_type": "markdown",
   "metadata": {
    "executionInfo": {
     "elapsed": 4474,
     "status": "ok",
     "timestamp": 1609043251997,
     "user": {
      "displayName": "GERMAN BERNARDO BOBADILLA CATALAN",
      "photoUrl": "",
      "userId": "14005656012307870514"
     },
     "user_tz": 180
    },
    "id": "rxYU1WAGBpWl"
   },
   "source": [
    "---"
   ]
  },
  {
   "cell_type": "code",
   "execution_count": 32,
   "metadata": {
    "executionInfo": {
     "elapsed": 4386,
     "status": "ok",
     "timestamp": 1609043252010,
     "user": {
      "displayName": "GERMAN BERNARDO BOBADILLA CATALAN",
      "photoUrl": "",
      "userId": "14005656012307870514"
     },
     "user_tz": 180
    },
    "id": "ps3Rx3dlBAKU"
   },
   "outputs": [],
   "source": [
    "test = test.drop_duplicates('Opportunity_ID')\n",
    "IDs = test[['Opportunity_ID']].copy()\n",
    "test = test.drop('Opportunity_ID', axis=1)"
   ]
  },
  {
   "cell_type": "markdown",
   "metadata": {
    "executionInfo": {
     "elapsed": 4374,
     "status": "ok",
     "timestamp": 1609043252012,
     "user": {
      "displayName": "GERMAN BERNARDO BOBADILLA CATALAN",
      "photoUrl": "",
      "userId": "14005656012307870514"
     },
     "user_tz": 180
    },
    "id": "hPD0_PVR_Vj3"
   },
   "source": [
    "---"
   ]
  },
  {
   "cell_type": "markdown",
   "metadata": {
    "id": "TwO2KPqmgQvO"
   },
   "source": [
    "# Modelos"
   ]
  },
  {
   "cell_type": "code",
   "execution_count": 25,
   "metadata": {},
   "outputs": [],
   "source": [
    "#INSTANCIO XGBOOST REGRESSOR\n",
    "xg_reg = xgb.XGBRegressor(objective ='reg:squaredlogerror', \n",
    "                colsample_bytree = 0.2, learning_rate = 0.1,\n",
    "                max_depth = 4, alpha = 50, n_estimators = 10)\n",
    "xg_reg.fit(train_data,train_label)\n",
    "preds = xg_reg.predict(test)"
   ]
  },
  {
   "cell_type": "code",
   "execution_count": 26,
   "metadata": {
    "executionInfo": {
     "elapsed": 1388,
     "status": "ok",
     "timestamp": 1609043354575,
     "user": {
      "displayName": "GERMAN BERNARDO BOBADILLA CATALAN",
      "photoUrl": "",
      "userId": "14005656012307870514"
     },
     "user_tz": 180
    },
    "id": "rVjlaa0m5Qn5"
   },
   "outputs": [],
   "source": [
    "entregable_RFC = IDs[['Opportunity_ID']].copy()\n",
    "entregable_RFC['Target'] = preds"
   ]
  },
  {
   "cell_type": "code",
   "execution_count": 27,
   "metadata": {},
   "outputs": [
    {
     "data": {
      "text/html": [
       "<div>\n",
       "<style scoped>\n",
       "    .dataframe tbody tr th:only-of-type {\n",
       "        vertical-align: middle;\n",
       "    }\n",
       "\n",
       "    .dataframe tbody tr th {\n",
       "        vertical-align: top;\n",
       "    }\n",
       "\n",
       "    .dataframe thead th {\n",
       "        text-align: right;\n",
       "    }\n",
       "</style>\n",
       "<table border=\"1\" class=\"dataframe\">\n",
       "  <thead>\n",
       "    <tr style=\"text-align: right;\">\n",
       "      <th></th>\n",
       "      <th>Opportunity_ID</th>\n",
       "      <th>Target</th>\n",
       "    </tr>\n",
       "  </thead>\n",
       "  <tbody>\n",
       "    <tr>\n",
       "      <th>0</th>\n",
       "      <td>10689</td>\n",
       "      <td>0.523409</td>\n",
       "    </tr>\n",
       "    <tr>\n",
       "      <th>3</th>\n",
       "      <td>10690</td>\n",
       "      <td>0.477769</td>\n",
       "    </tr>\n",
       "    <tr>\n",
       "      <th>8</th>\n",
       "      <td>10691</td>\n",
       "      <td>0.592709</td>\n",
       "    </tr>\n",
       "    <tr>\n",
       "      <th>9</th>\n",
       "      <td>10692</td>\n",
       "      <td>0.419267</td>\n",
       "    </tr>\n",
       "    <tr>\n",
       "      <th>15</th>\n",
       "      <td>10693</td>\n",
       "      <td>0.599801</td>\n",
       "    </tr>\n",
       "    <tr>\n",
       "      <th>...</th>\n",
       "      <td>...</td>\n",
       "      <td>...</td>\n",
       "    </tr>\n",
       "    <tr>\n",
       "      <th>2545</th>\n",
       "      <td>12364</td>\n",
       "      <td>0.562343</td>\n",
       "    </tr>\n",
       "    <tr>\n",
       "      <th>2547</th>\n",
       "      <td>12365</td>\n",
       "      <td>0.592709</td>\n",
       "    </tr>\n",
       "    <tr>\n",
       "      <th>2548</th>\n",
       "      <td>12366</td>\n",
       "      <td>0.591858</td>\n",
       "    </tr>\n",
       "    <tr>\n",
       "      <th>2549</th>\n",
       "      <td>12367</td>\n",
       "      <td>0.543365</td>\n",
       "    </tr>\n",
       "    <tr>\n",
       "      <th>2550</th>\n",
       "      <td>12368</td>\n",
       "      <td>0.380162</td>\n",
       "    </tr>\n",
       "  </tbody>\n",
       "</table>\n",
       "<p>1567 rows × 2 columns</p>\n",
       "</div>"
      ],
      "text/plain": [
       "      Opportunity_ID    Target\n",
       "0              10689  0.523409\n",
       "3              10690  0.477769\n",
       "8              10691  0.592709\n",
       "9              10692  0.419267\n",
       "15             10693  0.599801\n",
       "...              ...       ...\n",
       "2545           12364  0.562343\n",
       "2547           12365  0.592709\n",
       "2548           12366  0.591858\n",
       "2549           12367  0.543365\n",
       "2550           12368  0.380162\n",
       "\n",
       "[1567 rows x 2 columns]"
      ]
     },
     "execution_count": 27,
     "metadata": {},
     "output_type": "execute_result"
    }
   ],
   "source": [
    "entregable_RFC"
   ]
  },
  {
   "cell_type": "code",
   "execution_count": 28,
   "metadata": {
    "executionInfo": {
     "elapsed": 813,
     "status": "ok",
     "timestamp": 1609043357563,
     "user": {
      "displayName": "GERMAN BERNARDO BOBADILLA CATALAN",
      "photoUrl": "",
      "userId": "14005656012307870514"
     },
     "user_tz": 180
    },
    "id": "eVZkqAHN6Jkh"
   },
   "outputs": [],
   "source": [
    "entregable_RFC.to_csv('Test_XGBoostSoloNumericos.csv', index=False)"
   ]
  },
  {
   "cell_type": "code",
   "execution_count": null,
   "metadata": {
    "id": "ou1cRYlebsTr"
   },
   "outputs": [],
   "source": []
  }
 ],
 "metadata": {
  "colab": {
   "authorship_tag": "ABX9TyM6+TQM+etp+FfN611rFbC2",
   "collapsed_sections": [],
   "name": "19-Target_Sales_Contract_No.ipynb",
   "provenance": [
    {
     "file_id": "1qJFyFsyYYcgaEK5Yz6qh6WfuBl8wH07Z",
     "timestamp": 1608489303765
    }
   ]
  },
  "kernelspec": {
   "display_name": "Python 3",
   "language": "python",
   "name": "python3"
  },
  "language_info": {
   "codemirror_mode": {
    "name": "ipython",
    "version": 3
   },
   "file_extension": ".py",
   "mimetype": "text/x-python",
   "name": "python",
   "nbconvert_exporter": "python",
   "pygments_lexer": "ipython3",
   "version": "3.7.6"
  }
 },
 "nbformat": 4,
 "nbformat_minor": 1
}
