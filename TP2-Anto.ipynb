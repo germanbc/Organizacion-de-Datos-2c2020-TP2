{
 "cells": [
  {
   "cell_type": "code",
   "execution_count": null,
   "metadata": {
    "colab": {
     "base_uri": "https://localhost:8080/"
    },
    "executionInfo": {
     "elapsed": 3287,
     "status": "ok",
     "timestamp": 1613662258038,
     "user": {
      "displayName": "GERMAN BERNARDO BOBADILLA CATALAN",
      "photoUrl": "",
      "userId": "14005656012307870514"
     },
     "user_tz": 180
    },
    "id": "LbXE6jOSiAbx",
    "outputId": "eb35f29f-4594-4044-d58c-73f4c31b9b42"
   },
   "outputs": [],
   "source": [
    "#pip install category_encoders"
   ]
  },
  {
   "cell_type": "code",
   "execution_count": 131,
   "metadata": {
    "executionInfo": {
     "elapsed": 3238,
     "status": "ok",
     "timestamp": 1613662258041,
     "user": {
      "displayName": "GERMAN BERNARDO BOBADILLA CATALAN",
      "photoUrl": "",
      "userId": "14005656012307870514"
     },
     "user_tz": 180
    },
    "id": "-nmSKb48ias1"
   },
   "outputs": [],
   "source": [
    "import pandas as pd\n",
    "import numpy as np\n",
    "import seaborn as sns\n",
    "import matplotlib.pyplot as plt\n",
    "from itertools import cycle, islice\n",
    "import datetime as datetime\n",
    "import glob\n",
    "from matplotlib import pyplot\n",
    "import plotly.graph_objects as go\n",
    "import plotly.io as pio\n",
    "from sklearn.model_selection import GridSearchCV\n",
    "from sklearn.metrics import log_loss, make_scorer\n",
    "import category_encoders as ce\n",
    "from sklearn.ensemble import RandomForestRegressor\n",
    "import warnings\n",
    "\n",
    "%matplotlib inline\n",
    "\n",
    "plt.style.use('default')\n",
    "sns.set(style=\"whitegrid\")\n",
    "pd.options.display.float_format = '{:20,.2f}'.format\n",
    "warnings.filterwarnings('ignore')\n",
    "plt.rcParams['figure.figsize'] = (15, 5)\n",
    "\n",
    "\n",
    "import xgboost as xgb\n",
    "from xgboost.sklearn import XGBClassifier\n",
    "from sklearn.ensemble import RandomForestRegressor\n",
    "from sklearn.metrics import mean_squared_error\n",
    "import pandas as pd\n",
    "import numpy as np\n",
    "%matplotlib inline\n",
    "import matplotlib.pyplot as plt\n",
    "from sklearn import tree"
   ]
  },
  {
   "cell_type": "markdown",
   "metadata": {
    "id": "-GQVNmCfijVf"
   },
   "source": [
    "# Train"
   ]
  },
  {
   "cell_type": "markdown",
   "metadata": {},
   "source": [
    "__Lectura de datos__"
   ]
  },
  {
   "cell_type": "code",
   "execution_count": 51,
   "metadata": {},
   "outputs": [],
   "source": [
    "train = pd.read_csv('Train_TP2_Datos_2020-2C.csv')\n",
    "\n",
    "train = train[(train.Stage == 'Closed Won') | (train.Stage == 'Closed Lost')]\n",
    "train['Stage'] = train['Stage'].transform(func=lambda x : 1 if x=='Closed Won' else 0)\n",
    "\n",
    "train = train.drop('Last_Activity', axis=1) #Todos datos nulos\n",
    "train = train.drop('Actual_Delivery_Date', axis=1) #Todos datos nulos\n",
    "train = train.drop('Submitted_for_Approval', axis=1) #Todos los datos en cero\n",
    "train = train.drop('Prod_Category_A', axis=1) #Todos en none\n",
    "train = train.drop('Sales_Contract_No', axis=1) #Para evitar el problema de target leakage\n",
    "train = train.drop('Opportunity_Name', axis=1) #Redundante si tenemos Opportunity_ID"
   ]
  },
  {
   "cell_type": "markdown",
   "metadata": {},
   "source": [
    "***"
   ]
  },
  {
   "cell_type": "markdown",
   "metadata": {},
   "source": [
    "__FEATURES__"
   ]
  },
  {
   "cell_type": "markdown",
   "metadata": {},
   "source": [
    "__Aprobación especial de su precio total__"
   ]
  },
  {
   "cell_type": "code",
   "execution_count": 52,
   "metadata": {},
   "outputs": [],
   "source": [
    "train['Pricing, Delivery_Terms_Quote_Appr'] = train['Pricing, Delivery_Terms_Quote_Appr']\\\n",
    "                                                .transform(func=lambda x : 'Necesita' if x==1 else 'NoNecesita')\n",
    "train['Pricing, Delivery_Terms_Approved'] = train['Pricing, Delivery_Terms_Approved']\\\n",
    "                                                .transform(func=lambda x : 'Obtuvo' if x==1 else 'NoObtuvo')\n",
    "\n",
    "train['Aprobacion_Especial'] = train['Pricing, Delivery_Terms_Quote_Appr']+train['Pricing, Delivery_Terms_Approved']\n",
    "\n",
    "train = train.drop('Pricing, Delivery_Terms_Quote_Appr', axis=1)\n",
    "train = train.drop('Pricing, Delivery_Terms_Approved', axis=1)"
   ]
  },
  {
   "cell_type": "markdown",
   "metadata": {},
   "source": [
    "***"
   ]
  },
  {
   "cell_type": "markdown",
   "metadata": {},
   "source": [
    "__TRF promedio__"
   ]
  },
  {
   "cell_type": "code",
   "execution_count": 53,
   "metadata": {},
   "outputs": [],
   "source": [
    "train['TRF_promedio'] = train.groupby('Opportunity_ID')['TRF'].transform('mean')\n",
    "train = train.drop('TRF', axis=1)"
   ]
  },
  {
   "cell_type": "markdown",
   "metadata": {},
   "source": [
    "***"
   ]
  },
  {
   "cell_type": "markdown",
   "metadata": {},
   "source": [
    "__Total Taxable Amount (converted)__"
   ]
  },
  {
   "cell_type": "code",
   "execution_count": 54,
   "metadata": {},
   "outputs": [],
   "source": [
    "#Completo datos faltantes con Total Amount\n",
    "train['Total_Taxable_Amount'].loc[train.Total_Taxable_Amount==0.00] = train.loc[train.Total_Taxable_Amount==0.00]\\\n",
    "                                            .groupby(['Opportunity_ID'])['Total_Amount'].transform('sum')\n",
    "\n",
    "#Convierto a una misma moneda (a dólares) con la información que ya viene en ASP, ASP_Currency y ASP_(converted)\n",
    "toEUR = train[train.ASP_Currency=='EUR'].head(1)[['ASP_(converted)']].iloc[0,0]/train[train.ASP_Currency=='EUR']\\\n",
    "        .head(1)[['ASP']].iloc[0,0]\n",
    "toAUD = train[train.ASP_Currency=='AUD'].head(1)[['ASP_(converted)']].iloc[0,0]/train[train.ASP_Currency=='AUD']\\\n",
    "        .head(1)[['ASP']].iloc[0,0]\n",
    "toGBP = train[train.ASP_Currency=='GBP'].head(1)[['ASP_(converted)']].iloc[0,0]/train[train.ASP_Currency=='GBP']\\\n",
    "        .head(1)[['ASP']].iloc[0,0]\n",
    "toJPY = train[['ASP_(converted)']].iloc[12,0]/train[['ASP']].iloc[12,0]\n",
    "#En el head(1) de JPY justo habia un nan. Ese numero magico 12 corresponde a la primera fila de moneda JPY con un valor valido\n",
    "\n",
    "train['Total_Taxable_Amount_(converted)']=0.0\n",
    "train['Total_Taxable_Amount_(converted)'].loc[train['Total_Taxable_Amount_Currency']=='EUR'] = \\\n",
    "                                                        train['Total_Taxable_Amount'].apply(lambda x: x*toEUR)\n",
    "train['Total_Taxable_Amount_(converted)'].loc[train['Total_Taxable_Amount_Currency']=='JPY'] = \\\n",
    "                                                        train['Total_Taxable_Amount'].apply(lambda x: x*toJPY)\n",
    "train['Total_Taxable_Amount_(converted)'].loc[train['Total_Taxable_Amount_Currency']=='AUD'] = \\\n",
    "                                                        train['Total_Taxable_Amount'].apply(lambda x: x*toAUD)\n",
    "train['Total_Taxable_Amount_(converted)'].loc[train['Total_Taxable_Amount_Currency']=='GBP'] = \\\n",
    "                                                        train['Total_Taxable_Amount'].apply(lambda x: x*toGBP)\n",
    "train['Total_Taxable_Amount_(converted)'].loc[train['Total_Taxable_Amount_Currency']=='USD'] = \\\n",
    "                                                        train['Total_Taxable_Amount'].apply(lambda x: x)\n",
    "\n",
    "train = train.drop('Total_Taxable_Amount_Currency', axis=1)\n",
    "train = train.drop('Total_Amount_Currency', axis=1)\n",
    "train = train.drop('Total_Amount', axis=1)\n",
    "train = train.drop('ASP_Currency', axis=1)\n",
    "train = train.drop('ASP', axis=1)\n",
    "train = train.drop('ASP_(converted)_Currency', axis=1)\n",
    "train = train.drop('ASP_(converted)', axis=1)"
   ]
  },
  {
   "cell_type": "markdown",
   "metadata": {},
   "source": [
    "***"
   ]
  },
  {
   "cell_type": "markdown",
   "metadata": {},
   "source": [
    "__Tiempo de entrega (en días)__"
   ]
  },
  {
   "cell_type": "code",
   "execution_count": 56,
   "metadata": {},
   "outputs": [],
   "source": [
    "#Es la diferencia entre la maxima fecha de entrega (Planned_Delivery_End_Date) y la mínima (Planned_Delivery_Start_Date)\n",
    "#Reemplazo los Nat de Planned_Delivery_End_Date con los de Start_Date (curiosamente da mejor resultado que\n",
    "#reemplazarlo con la fecha de Month)\n",
    "train['Planned_Delivery_End_Date'].loc[train['Planned_Delivery_End_Date']=='NaT'] = train['Planned_Delivery_Start_Date']\n",
    "\n",
    "train['Planned_Delivery_Start_Date'] = pd.to_datetime(train['Planned_Delivery_Start_Date'])\n",
    "train['Planned_Delivery_End_Date'] = pd.to_datetime(train['Planned_Delivery_End_Date'])\n",
    "\n",
    "train['Planned_Delivery_Start_Date_min'] = train.groupby('Opportunity_ID')['Planned_Delivery_Start_Date'].transform('min')\n",
    "train['Planned_Delivery_End_Date_max'] = train.groupby('Opportunity_ID')['Planned_Delivery_End_Date'].transform('max')\n",
    "\n",
    "train['Diferencia'] = train['Planned_Delivery_End_Date_max'] - train['Planned_Delivery_Start_Date_min']\n",
    "train['Diferencia'] = train['Diferencia'].dt.days\n",
    "\n",
    "train = train.drop('Planned_Delivery_Start_Date', axis=1)\n",
    "train = train.drop('Planned_Delivery_End_Date', axis=1)\n",
    "train = train.drop('Planned_Delivery_Start_Date_min', axis=1)\n",
    "train = train.drop('Planned_Delivery_End_Date_max', axis=1)"
   ]
  },
  {
   "cell_type": "markdown",
   "metadata": {},
   "source": [
    "***"
   ]
  },
  {
   "cell_type": "markdown",
   "metadata": {},
   "source": [
    "__Cantidad de productos por oportunidad__"
   ]
  },
  {
   "cell_type": "code",
   "execution_count": 57,
   "metadata": {},
   "outputs": [],
   "source": [
    "train['Cantidad de productos'] = train.groupby('Opportunity_ID')['ID'].transform('count')\n",
    "train = train.drop('ID', axis=1)"
   ]
  },
  {
   "cell_type": "markdown",
   "metadata": {},
   "source": [
    "***"
   ]
  },
  {
   "cell_type": "markdown",
   "metadata": {},
   "source": [
    "__Elimino lo que ya no voy a usar__"
   ]
  },
  {
   "cell_type": "code",
   "execution_count": 58,
   "metadata": {
    "colab": {
     "base_uri": "https://localhost:8080/"
    },
    "executionInfo": {
     "elapsed": 4417,
     "status": "ok",
     "timestamp": 1613662259297,
     "user": {
      "displayName": "GERMAN BERNARDO BOBADILLA CATALAN",
      "photoUrl": "",
      "userId": "14005656012307870514"
     },
     "user_tz": 180
    },
    "id": "xllpdLWLie20",
    "outputId": "1f74a58b-a051-4472-d756-af46efe829a3"
   },
   "outputs": [],
   "source": [
    "#Elimino columnas que no aportaron para mejorar el resultado\n",
    "train = train.drop('Bureaucratic_Code_0_Approval', axis=1)\n",
    "train = train.drop('Bureaucratic_Code_0_Approved', axis=1)\n",
    "train = train.drop('Account_Created_Date', axis=1)\n",
    "train = train.drop('Source ', axis=1)\n",
    "train = train.drop('Billing_Country', axis=1)\n",
    "train = train.drop('Account_Name', axis=1) #Genera overfitting\n",
    "train = train.drop('Opportunity_Owner', axis=1)\n",
    "train = train.drop('Account_Type', axis=1)\n",
    "train = train.drop('Quote_Type', axis=1)\n",
    "train = train.drop('Delivery_Terms', axis=1)\n",
    "train = train.drop('Opportunity_Created_Date', axis=1)\n",
    "train = train.drop('Product_Type', axis=1)\n",
    "train = train.drop('Size', axis=1)\n",
    "train = train.drop('Product_Category_B', axis=1)\n",
    "train = train.drop('Price', axis=1)\n",
    "train = train.drop('Currency', axis=1)\n",
    "train = train.drop('Quote_Expiry_Date', axis=1)\n",
    "train = train.drop('Last_Modified_Date', axis=1)\n",
    "train = train.drop('Last_Modified_By', axis=1)\n",
    "train = train.drop('Product_Family', axis=1)\n",
    "train = train.drop('Product_Name', axis=1)\n",
    "train = train.drop('Month', axis=1)\n",
    "train = train.drop('Delivery_Quarter', axis=1)\n",
    "train = train.drop('Delivery_Year', axis=1)\n",
    "train = train.drop('Bureaucratic_Code', axis=1)\n",
    "\n",
    "#Elimino los duplicados para obtener una oportunidad por fila. Nota: Todos los features que siguen corresponden a\n",
    "#caracteristicas de las oportunidades, no a caracteristicas especificas de c/producto dentro de una oportunidad\n",
    "train = train.drop_duplicates('Opportunity_ID')\n",
    "train = train.drop('Opportunity_ID', axis=1)"
   ]
  },
  {
   "cell_type": "markdown",
   "metadata": {},
   "source": [
    "***"
   ]
  },
  {
   "cell_type": "markdown",
   "metadata": {},
   "source": [
    "__CODIFICACIÓN DE VARIABLES CATEGÓRICAS__"
   ]
  },
  {
   "cell_type": "markdown",
   "metadata": {},
   "source": [
    "__Territorio__"
   ]
  },
  {
   "cell_type": "code",
   "execution_count": 59,
   "metadata": {
    "colab": {
     "base_uri": "https://localhost:8080/"
    },
    "executionInfo": {
     "elapsed": 4387,
     "status": "ok",
     "timestamp": 1613662259301,
     "user": {
      "displayName": "GERMAN BERNARDO BOBADILLA CATALAN",
      "photoUrl": "",
      "userId": "14005656012307870514"
     },
     "user_tz": 180
    },
    "id": "t4LQ4z85jJdW",
    "outputId": "0a029227-1c85-4d26-9aa0-2e47143182eb"
   },
   "outputs": [],
   "source": [
    "target_enc_terr = ce.TargetEncoder(train['Territory'])\n",
    "target_enc_terr.fit(train['Territory'], train['Stage'])\n",
    "train = train.join(target_enc_terr.transform(train['Territory']).add_suffix('_target'))\n",
    "train = train.drop('Territory', axis=1)"
   ]
  },
  {
   "cell_type": "markdown",
   "metadata": {},
   "source": [
    "***"
   ]
  },
  {
   "cell_type": "markdown",
   "metadata": {},
   "source": [
    "__Region__"
   ]
  },
  {
   "cell_type": "code",
   "execution_count": 60,
   "metadata": {
    "colab": {
     "base_uri": "https://localhost:8080/"
    },
    "executionInfo": {
     "elapsed": 4371,
     "status": "ok",
     "timestamp": 1613662259303,
     "user": {
      "displayName": "GERMAN BERNARDO BOBADILLA CATALAN",
      "photoUrl": "",
      "userId": "14005656012307870514"
     },
     "user_tz": 180
    },
    "id": "EBdUiy3ds6jg",
    "outputId": "c4202faa-d49b-4030-a6dc-33ceb70ae319"
   },
   "outputs": [],
   "source": [
    "target_enc_region = ce.TargetEncoder(train['Region'])\n",
    "target_enc_region.fit(train['Region'], train['Stage'])\n",
    "train = train.join(target_enc_region.transform(train['Region']).add_suffix('_target'))\n",
    "train = train.drop('Region', axis=1)"
   ]
  },
  {
   "cell_type": "markdown",
   "metadata": {},
   "source": [
    "***"
   ]
  },
  {
   "cell_type": "markdown",
   "metadata": {},
   "source": [
    "__Aprobación especial__"
   ]
  },
  {
   "cell_type": "code",
   "execution_count": 61,
   "metadata": {
    "colab": {
     "base_uri": "https://localhost:8080/"
    },
    "executionInfo": {
     "elapsed": 4358,
     "status": "ok",
     "timestamp": 1613662259305,
     "user": {
      "displayName": "GERMAN BERNARDO BOBADILLA CATALAN",
      "photoUrl": "",
      "userId": "14005656012307870514"
     },
     "user_tz": 180
    },
    "id": "AIAiA7O-MMAh",
    "outputId": "87ba9689-5956-439e-d2db-654ae38ebe8e"
   },
   "outputs": [],
   "source": [
    "target_enc_AE = ce.TargetEncoder(train['Aprobacion_Especial'])\n",
    "target_enc_AE.fit(train['Aprobacion_Especial'], train['Stage'])\n",
    "train = train.join(target_enc_AE.transform(train['Aprobacion_Especial']).add_suffix('_target'))\n",
    "train = train.drop('Aprobacion_Especial', axis=1)"
   ]
  },
  {
   "cell_type": "markdown",
   "metadata": {},
   "source": [
    "***"
   ]
  },
  {
   "cell_type": "markdown",
   "metadata": {},
   "source": [
    "__Marca__"
   ]
  },
  {
   "cell_type": "code",
   "execution_count": 62,
   "metadata": {
    "colab": {
     "base_uri": "https://localhost:8080/"
    },
    "executionInfo": {
     "elapsed": 4342,
     "status": "ok",
     "timestamp": 1613662259307,
     "user": {
      "displayName": "GERMAN BERNARDO BOBADILLA CATALAN",
      "photoUrl": "",
      "userId": "14005656012307870514"
     },
     "user_tz": 180
    },
    "id": "Tgt7kJURGVKo",
    "outputId": "2be855f7-c0c1-4013-aa1f-39dba135bb2c"
   },
   "outputs": [],
   "source": [
    "target_enc_brand = ce.TargetEncoder(train['Brand'])\n",
    "target_enc_brand.fit(train['Brand'], train['Stage'])\n",
    "train = train.join(target_enc_brand.transform(train['Brand']).add_suffix('_target'))\n",
    "train = train.drop('Brand', axis=1)"
   ]
  },
  {
   "cell_type": "markdown",
   "metadata": {},
   "source": [
    "***"
   ]
  },
  {
   "cell_type": "markdown",
   "metadata": {},
   "source": [
    "__Tipo de oportunidad__"
   ]
  },
  {
   "cell_type": "code",
   "execution_count": 63,
   "metadata": {
    "colab": {
     "base_uri": "https://localhost:8080/"
    },
    "executionInfo": {
     "elapsed": 5101,
     "status": "ok",
     "timestamp": 1613662260084,
     "user": {
      "displayName": "GERMAN BERNARDO BOBADILLA CATALAN",
      "photoUrl": "",
      "userId": "14005656012307870514"
     },
     "user_tz": 180
    },
    "id": "FyaAi_8wU--t",
    "outputId": "dc964b8e-3444-470d-b1e7-299d1d2d6827"
   },
   "outputs": [],
   "source": [
    "target_enc_Opportunity_Type = ce.TargetEncoder(train['Opportunity_Type'])\n",
    "target_enc_Opportunity_Type.fit(train['Opportunity_Type'], train['Stage'])\n",
    "train = train.join(target_enc_Opportunity_Type.transform(train['Opportunity_Type']).add_suffix('_target'))\n",
    "train = train.drop('Opportunity_Type', axis=1)"
   ]
  },
  {
   "cell_type": "markdown",
   "metadata": {},
   "source": [
    "***"
   ]
  },
  {
   "cell_type": "markdown",
   "metadata": {},
   "source": [
    "__Vendedor responsable de la cuenta cliente__"
   ]
  },
  {
   "cell_type": "code",
   "execution_count": 64,
   "metadata": {
    "colab": {
     "base_uri": "https://localhost:8080/"
    },
    "executionInfo": {
     "elapsed": 5088,
     "status": "ok",
     "timestamp": 1613662260085,
     "user": {
      "displayName": "GERMAN BERNARDO BOBADILLA CATALAN",
      "photoUrl": "",
      "userId": "14005656012307870514"
     },
     "user_tz": 180
    },
    "id": "LlV33OwCCsZA",
    "outputId": "6126632a-3871-4507-e932-4584bfaba604"
   },
   "outputs": [],
   "source": [
    "target_enc_Account_Owner = ce.TargetEncoder(train['Account_Owner'])\n",
    "target_enc_Account_Owner.fit(train['Account_Owner'], train['Stage'])\n",
    "train = train.join(target_enc_Account_Owner.transform(train['Account_Owner']).add_suffix('_target'))\n",
    "train = train.drop('Account_Owner', axis=1)"
   ]
  },
  {
   "cell_type": "markdown",
   "metadata": {},
   "source": [
    "***"
   ]
  },
  {
   "cell_type": "code",
   "execution_count": 65,
   "metadata": {
    "executionInfo": {
     "elapsed": 5076,
     "status": "ok",
     "timestamp": 1613662260087,
     "user": {
      "displayName": "GERMAN BERNARDO BOBADILLA CATALAN",
      "photoUrl": "",
      "userId": "14005656012307870514"
     },
     "user_tz": 180
    },
    "id": "4wcyKGKFj1Yg"
   },
   "outputs": [],
   "source": [
    "train_label = train['Stage']\n",
    "train_data = train.iloc[:, train.columns != 'Stage']"
   ]
  },
  {
   "cell_type": "code",
   "execution_count": 236,
   "metadata": {},
   "outputs": [
    {
     "data": {
      "text/plain": [
       "1    5072\n",
       "0    4719\n",
       "Name: Stage, dtype: int64"
      ]
     },
     "execution_count": 236,
     "metadata": {},
     "output_type": "execute_result"
    }
   ],
   "source": [
    "train_label.value_counts()"
   ]
  },
  {
   "cell_type": "markdown",
   "metadata": {},
   "source": [
    "***"
   ]
  },
  {
   "cell_type": "markdown",
   "metadata": {
    "id": "pz5jTfCuk8dk"
   },
   "source": [
    "# Test"
   ]
  },
  {
   "cell_type": "markdown",
   "metadata": {},
   "source": [
    "__Lectura de datos__"
   ]
  },
  {
   "cell_type": "code",
   "execution_count": 66,
   "metadata": {},
   "outputs": [],
   "source": [
    "test = pd.read_csv('Test_TP2_Datos_2020-2C.csv')\n",
    "\n",
    "test = test.drop('Last_Activity', axis=1)\n",
    "test = test.drop('Actual_Delivery_Date', axis=1)\n",
    "test = test.drop('Submitted_for_Approval', axis=1)\n",
    "test = test.drop('Prod_Category_A', axis=1)\n",
    "test = test.drop('Sales_Contract_No', axis=1)\n",
    "test = test.drop('Opportunity_Name', axis=1)"
   ]
  },
  {
   "cell_type": "markdown",
   "metadata": {},
   "source": [
    "***"
   ]
  },
  {
   "cell_type": "markdown",
   "metadata": {},
   "source": [
    "__FEATURES__"
   ]
  },
  {
   "cell_type": "markdown",
   "metadata": {},
   "source": [
    "__Aprobación especial de su precio total__"
   ]
  },
  {
   "cell_type": "code",
   "execution_count": 67,
   "metadata": {},
   "outputs": [],
   "source": [
    "test['Pricing, Delivery_Terms_Quote_Appr'] = test['Pricing, Delivery_Terms_Quote_Appr']\\\n",
    "                                                .transform(func=lambda x : 'Necesita' if x==1 else 'NoNecesita')\n",
    "test['Pricing, Delivery_Terms_Approved'] = test['Pricing, Delivery_Terms_Approved']\\\n",
    "                                                .transform(func=lambda x : 'Obtuvo' if x==1 else 'NoObtuvo')\n",
    "\n",
    "test['Aprobacion_Especial'] = test['Pricing, Delivery_Terms_Quote_Appr']+test['Pricing, Delivery_Terms_Approved']\n",
    "\n",
    "test = test.drop('Pricing, Delivery_Terms_Quote_Appr', axis=1)\n",
    "test = test.drop('Pricing, Delivery_Terms_Approved', axis=1)"
   ]
  },
  {
   "cell_type": "markdown",
   "metadata": {},
   "source": [
    "***"
   ]
  },
  {
   "cell_type": "markdown",
   "metadata": {},
   "source": [
    "__TRF promedio__"
   ]
  },
  {
   "cell_type": "code",
   "execution_count": 68,
   "metadata": {},
   "outputs": [],
   "source": [
    "test['TRF_promedio'] = test.groupby('Opportunity_ID')['TRF'].transform('mean')\n",
    "test = test.drop('TRF', axis=1)"
   ]
  },
  {
   "cell_type": "markdown",
   "metadata": {},
   "source": [
    "***"
   ]
  },
  {
   "cell_type": "markdown",
   "metadata": {},
   "source": [
    "__Total Taxable Amount (converted)__"
   ]
  },
  {
   "cell_type": "code",
   "execution_count": 69,
   "metadata": {},
   "outputs": [],
   "source": [
    "test['Total_Taxable_Amount'].loc[test.Total_Taxable_Amount==0.00] = test.loc[test.Total_Taxable_Amount==0.00]\\\n",
    "                                            .groupby(['Opportunity_ID'])['Total_Amount'].transform('sum')\n",
    "\n",
    "test['Total_Taxable_Amount_(converted)']=0.0\n",
    "test['Total_Taxable_Amount_(converted)'].loc[test['Total_Taxable_Amount_Currency']=='EUR'] = \\\n",
    "                                                        test['Total_Taxable_Amount'].apply(lambda x: x*toEUR)\n",
    "test['Total_Taxable_Amount_(converted)'].loc[test['Total_Taxable_Amount_Currency']=='JPY'] = \\\n",
    "                                                        test['Total_Taxable_Amount'].apply(lambda x: x*toJPY)\n",
    "test['Total_Taxable_Amount_(converted)'].loc[test['Total_Taxable_Amount_Currency']=='AUD'] = \\\n",
    "                                                        test['Total_Taxable_Amount'].apply(lambda x: x*toAUD)\n",
    "test['Total_Taxable_Amount_(converted)'].loc[test['Total_Taxable_Amount_Currency']=='GBP'] = \\\n",
    "                                                        test['Total_Taxable_Amount'].apply(lambda x: x*toGBP)\n",
    "test['Total_Taxable_Amount_(converted)'].loc[test['Total_Taxable_Amount_Currency']=='USD'] = \\\n",
    "                                                        test['Total_Taxable_Amount'].apply(lambda x: x)\n",
    "\n",
    "test = test.drop('Total_Amount_Currency', axis=1)\n",
    "test = test.drop('Total_Amount', axis=1)\n",
    "test = test.drop('Total_Taxable_Amount_Currency', axis=1)\n",
    "test = test.drop('ASP_Currency', axis=1)\n",
    "test = test.drop('ASP', axis=1)\n",
    "test = test.drop('ASP_(converted)_Currency', axis=1)\n",
    "test = test.drop('ASP_(converted)', axis=1)"
   ]
  },
  {
   "cell_type": "markdown",
   "metadata": {},
   "source": [
    "***"
   ]
  },
  {
   "cell_type": "markdown",
   "metadata": {},
   "source": [
    "__Tiempo de entrega (en días)__"
   ]
  },
  {
   "cell_type": "code",
   "execution_count": 70,
   "metadata": {},
   "outputs": [],
   "source": [
    "test['Planned_Delivery_End_Date'].loc[test['Planned_Delivery_End_Date']=='NaT'] = test['Planned_Delivery_Start_Date']\n",
    "\n",
    "test['Planned_Delivery_Start_Date'] = pd.to_datetime(test['Planned_Delivery_Start_Date'])\n",
    "test['Planned_Delivery_End_Date'] = pd.to_datetime(test['Planned_Delivery_End_Date'])\n",
    "\n",
    "test['Planned_Delivery_Start_Date_min'] = test.groupby('Opportunity_ID')['Planned_Delivery_Start_Date'].transform('min')\n",
    "test['Planned_Delivery_End_Date_max'] = test.groupby('Opportunity_ID')['Planned_Delivery_End_Date'].transform('max')\n",
    "\n",
    "test['Diferencia'] = test['Planned_Delivery_End_Date_max'] - test['Planned_Delivery_Start_Date_min']\n",
    "test['Diferencia'] = test['Diferencia'].dt.days\n",
    "\n",
    "test = test.drop('Planned_Delivery_Start_Date', axis=1)\n",
    "test = test.drop('Planned_Delivery_End_Date', axis=1)\n",
    "test = test.drop('Planned_Delivery_Start_Date_min', axis=1)\n",
    "test = test.drop('Planned_Delivery_End_Date_max', axis=1)"
   ]
  },
  {
   "cell_type": "markdown",
   "metadata": {},
   "source": [
    "***"
   ]
  },
  {
   "cell_type": "markdown",
   "metadata": {},
   "source": [
    "__Cantidad de productos por oportunidad__"
   ]
  },
  {
   "cell_type": "code",
   "execution_count": 71,
   "metadata": {},
   "outputs": [],
   "source": [
    "test['Cantidad de productos'] = test.groupby('Opportunity_ID')['ID'].transform('count')\n",
    "test = test.drop('ID', axis=1)"
   ]
  },
  {
   "cell_type": "markdown",
   "metadata": {},
   "source": [
    "***"
   ]
  },
  {
   "cell_type": "markdown",
   "metadata": {},
   "source": [
    "__Elimino lo que ya no voy a usar__"
   ]
  },
  {
   "cell_type": "code",
   "execution_count": 72,
   "metadata": {
    "colab": {
     "base_uri": "https://localhost:8080/"
    },
    "executionInfo": {
     "elapsed": 5062,
     "status": "ok",
     "timestamp": 1613662260089,
     "user": {
      "displayName": "GERMAN BERNARDO BOBADILLA CATALAN",
      "photoUrl": "",
      "userId": "14005656012307870514"
     },
     "user_tz": 180
    },
    "id": "GBus4FDzle3M",
    "outputId": "0a1683ca-07f2-4f2c-be6d-e9be436b061f"
   },
   "outputs": [],
   "source": [
    "test = test.drop('Bureaucratic_Code_0_Approval', axis=1)\n",
    "test = test.drop('Bureaucratic_Code_0_Approved', axis=1)\n",
    "test = test.drop('Account_Created_Date', axis=1)\n",
    "test = test.drop('Source ', axis=1)\n",
    "test = test.drop('Billing_Country', axis=1)\n",
    "test = test.drop('Account_Name', axis=1)\n",
    "test = test.drop('Opportunity_Owner', axis=1)\n",
    "test = test.drop('Account_Type', axis=1)\n",
    "test = test.drop('Quote_Type', axis=1)\n",
    "test = test.drop('Delivery_Terms', axis=1)\n",
    "test = test.drop('Opportunity_Created_Date', axis=1)\n",
    "test = test.drop('Product_Type', axis=1)\n",
    "test = test.drop('Size', axis=1)\n",
    "test = test.drop('Product_Category_B', axis=1)\n",
    "test = test.drop('Price', axis=1)\n",
    "test = test.drop('Currency', axis=1)\n",
    "test = test.drop('Quote_Expiry_Date', axis=1)\n",
    "test = test.drop('Last_Modified_Date', axis=1)\n",
    "test = test.drop('Last_Modified_By', axis=1)\n",
    "test = test.drop('Product_Family', axis=1)\n",
    "test = test.drop('Product_Name', axis=1)\n",
    "test = test.drop('Month', axis=1)\n",
    "test = test.drop('Delivery_Quarter', axis=1)\n",
    "test = test.drop('Delivery_Year', axis=1)\n",
    "test = test.drop('Bureaucratic_Code', axis=1)\n",
    "\n",
    "test = test.drop_duplicates('Opportunity_ID')\n",
    "IDs = test[['Opportunity_ID']].copy()\n",
    "test = test.drop('Opportunity_ID', axis=1)"
   ]
  },
  {
   "cell_type": "markdown",
   "metadata": {},
   "source": [
    "***"
   ]
  },
  {
   "cell_type": "markdown",
   "metadata": {},
   "source": [
    "__CODIFICACIÓN DE VARIABLES CATEGÓRICAS__"
   ]
  },
  {
   "cell_type": "markdown",
   "metadata": {},
   "source": [
    "__Territorio__"
   ]
  },
  {
   "cell_type": "code",
   "execution_count": 73,
   "metadata": {
    "executionInfo": {
     "elapsed": 5019,
     "status": "ok",
     "timestamp": 1613662260093,
     "user": {
      "displayName": "GERMAN BERNARDO BOBADILLA CATALAN",
      "photoUrl": "",
      "userId": "14005656012307870514"
     },
     "user_tz": 180
    },
    "id": "3xkagsXBlHkE"
   },
   "outputs": [],
   "source": [
    "test = test.join(target_enc_terr.transform(test['Territory']).add_suffix('_target'))\n",
    "test = test.drop('Territory', axis=1)"
   ]
  },
  {
   "cell_type": "markdown",
   "metadata": {},
   "source": [
    "***"
   ]
  },
  {
   "cell_type": "markdown",
   "metadata": {},
   "source": [
    "__Región__"
   ]
  },
  {
   "cell_type": "code",
   "execution_count": 74,
   "metadata": {
    "executionInfo": {
     "elapsed": 5008,
     "status": "ok",
     "timestamp": 1613662260095,
     "user": {
      "displayName": "GERMAN BERNARDO BOBADILLA CATALAN",
      "photoUrl": "",
      "userId": "14005656012307870514"
     },
     "user_tz": 180
    },
    "id": "RheWQSjOtaiu"
   },
   "outputs": [],
   "source": [
    "test = test.join(target_enc_region.transform(test['Region']).add_suffix('_target'))\n",
    "test = test.drop('Region', axis=1)"
   ]
  },
  {
   "cell_type": "markdown",
   "metadata": {},
   "source": [
    "***"
   ]
  },
  {
   "cell_type": "markdown",
   "metadata": {},
   "source": [
    "__Aprobación especial__"
   ]
  },
  {
   "cell_type": "code",
   "execution_count": 75,
   "metadata": {
    "executionInfo": {
     "elapsed": 4996,
     "status": "ok",
     "timestamp": 1613662260097,
     "user": {
      "displayName": "GERMAN BERNARDO BOBADILLA CATALAN",
      "photoUrl": "",
      "userId": "14005656012307870514"
     },
     "user_tz": 180
    },
    "id": "du8wNaeCMaoM"
   },
   "outputs": [],
   "source": [
    "test = test.join(target_enc_AE.transform(test['Aprobacion_Especial']).add_suffix('_target'))\n",
    "test = test.drop('Aprobacion_Especial', axis=1)"
   ]
  },
  {
   "cell_type": "markdown",
   "metadata": {},
   "source": [
    "***"
   ]
  },
  {
   "cell_type": "markdown",
   "metadata": {},
   "source": [
    "__Marca__"
   ]
  },
  {
   "cell_type": "code",
   "execution_count": 76,
   "metadata": {
    "executionInfo": {
     "elapsed": 4981,
     "status": "ok",
     "timestamp": 1613662260099,
     "user": {
      "displayName": "GERMAN BERNARDO BOBADILLA CATALAN",
      "photoUrl": "",
      "userId": "14005656012307870514"
     },
     "user_tz": 180
    },
    "id": "RudWGahgGi1U"
   },
   "outputs": [],
   "source": [
    "test = test.join(target_enc_brand.transform(test['Brand']).add_suffix('_target'))\n",
    "test = test.drop('Brand', axis=1)"
   ]
  },
  {
   "cell_type": "markdown",
   "metadata": {},
   "source": [
    "***"
   ]
  },
  {
   "cell_type": "markdown",
   "metadata": {},
   "source": [
    "__Tipo de oportunidad__"
   ]
  },
  {
   "cell_type": "code",
   "execution_count": 77,
   "metadata": {
    "executionInfo": {
     "elapsed": 4968,
     "status": "ok",
     "timestamp": 1613662260100,
     "user": {
      "displayName": "GERMAN BERNARDO BOBADILLA CATALAN",
      "photoUrl": "",
      "userId": "14005656012307870514"
     },
     "user_tz": 180
    },
    "id": "mycNhJ91VLWg"
   },
   "outputs": [],
   "source": [
    "test = test.join(target_enc_Opportunity_Type.transform(test['Opportunity_Type']).add_suffix('_target'))\n",
    "test = test.drop('Opportunity_Type', axis=1)"
   ]
  },
  {
   "cell_type": "markdown",
   "metadata": {},
   "source": [
    "***"
   ]
  },
  {
   "cell_type": "markdown",
   "metadata": {},
   "source": [
    "__Vendedor responsable de la cuenta cliente__"
   ]
  },
  {
   "cell_type": "code",
   "execution_count": 78,
   "metadata": {
    "executionInfo": {
     "elapsed": 4957,
     "status": "ok",
     "timestamp": 1613662260102,
     "user": {
      "displayName": "GERMAN BERNARDO BOBADILLA CATALAN",
      "photoUrl": "",
      "userId": "14005656012307870514"
     },
     "user_tz": 180
    },
    "id": "Y8Ea19mRCwM1"
   },
   "outputs": [],
   "source": [
    "test = test.join(target_enc_Account_Owner.transform(test['Account_Owner']).add_suffix('_target'))\n",
    "test = test.drop('Account_Owner', axis=1)"
   ]
  },
  {
   "cell_type": "markdown",
   "metadata": {},
   "source": [
    "***"
   ]
  },
  {
   "cell_type": "markdown",
   "metadata": {
    "id": "Ju9jZKwImBCV"
   },
   "source": [
    "# Modelos"
   ]
  },
  {
   "cell_type": "markdown",
   "metadata": {},
   "source": [
    "__Random Forest__"
   ]
  },
  {
   "cell_type": "code",
   "execution_count": null,
   "metadata": {
    "executionInfo": {
     "elapsed": 4946,
     "status": "ok",
     "timestamp": 1613662260104,
     "user": {
      "displayName": "GERMAN BERNARDO BOBADILLA CATALAN",
      "photoUrl": "",
      "userId": "14005656012307870514"
     },
     "user_tz": 180
    },
    "id": "5IluSsdnmF-X"
   },
   "outputs": [],
   "source": [
    "modeloRFR=RandomForestRegressor(random_state=0, n_jobs=-1)\n",
    "LogLoss = make_scorer(log_loss)"
   ]
  },
  {
   "cell_type": "markdown",
   "metadata": {},
   "source": [
    "__Grid Search Cross Validation__"
   ]
  },
  {
   "cell_type": "code",
   "execution_count": null,
   "metadata": {
    "executionInfo": {
     "elapsed": 4933,
     "status": "ok",
     "timestamp": 1613662260105,
     "user": {
      "displayName": "GERMAN BERNARDO BOBADILLA CATALAN",
      "photoUrl": "",
      "userId": "14005656012307870514"
     },
     "user_tz": 180
    },
    "id": "2O5dGDy-mTqz"
   },
   "outputs": [],
   "source": [
    "parameters = {'n_estimators':[5, 10, 20, 30, 40, 50, 60, 70, 80, 90, 100] , 'min_samples_split':[100, 500, 1000]}\n",
    "gscv = GridSearchCV(modeloRFR, parameters, cv=5, scoring=LogLoss)"
   ]
  },
  {
   "cell_type": "code",
   "execution_count": null,
   "metadata": {
    "colab": {
     "base_uri": "https://localhost:8080/"
    },
    "executionInfo": {
     "elapsed": 117692,
     "status": "ok",
     "timestamp": 1613662372878,
     "user": {
      "displayName": "GERMAN BERNARDO BOBADILLA CATALAN",
      "photoUrl": "",
      "userId": "14005656012307870514"
     },
     "user_tz": 180
    },
    "id": "U_f_9uzUmfjZ",
    "outputId": "31451dc6-0adb-4ba2-bec8-7552a5e3d7fc"
   },
   "outputs": [],
   "source": [
    "gscv.fit(train_data, train_label)"
   ]
  },
  {
   "cell_type": "code",
   "execution_count": null,
   "metadata": {
    "colab": {
     "base_uri": "https://localhost:8080/"
    },
    "executionInfo": {
     "elapsed": 1184,
     "status": "ok",
     "timestamp": 1613662384994,
     "user": {
      "displayName": "GERMAN BERNARDO BOBADILLA CATALAN",
      "photoUrl": "",
      "userId": "14005656012307870514"
     },
     "user_tz": 180
    },
    "id": "KpMpGAp3mikF",
    "outputId": "47f44d14-989a-470e-b963-449aa0a9c050"
   },
   "outputs": [],
   "source": [
    "print(gscv.best_score_, gscv.best_estimator_)"
   ]
  },
  {
   "cell_type": "markdown",
   "metadata": {},
   "source": [
    "__Predicción__"
   ]
  },
  {
   "cell_type": "code",
   "execution_count": null,
   "metadata": {
    "executionInfo": {
     "elapsed": 1532,
     "status": "ok",
     "timestamp": 1613662410578,
     "user": {
      "displayName": "GERMAN BERNARDO BOBADILLA CATALAN",
      "photoUrl": "",
      "userId": "14005656012307870514"
     },
     "user_tz": 180
    },
    "id": "rE3npCCYm9QB"
   },
   "outputs": [],
   "source": [
    "modeloRFR=RandomForestRegressor(bootstrap=True, criterion='mse', max_depth=None,\n",
    "                      max_features='auto', max_leaf_nodes=None,\n",
    "                      min_impurity_decrease=0.0, min_impurity_split=None,\n",
    "                      min_samples_leaf=1, min_samples_split=1000,\n",
    "                      min_weight_fraction_leaf=0.0, n_estimators=80, n_jobs=-1,\n",
    "                      oob_score=False, random_state=0, verbose=0,\n",
    "                      warm_start=False)\n",
    "modeloRFR.fit(train_data, train_label)\n",
    "result = modeloRFR.predict(test)\n",
    "\n",
    "entregable_RFC = IDs[['Opportunity_ID']].copy()\n",
    "entregable_RFC['Target'] = result"
   ]
  },
  {
   "cell_type": "code",
   "execution_count": null,
   "metadata": {
    "executionInfo": {
     "elapsed": 677,
     "status": "ok",
     "timestamp": 1613662418507,
     "user": {
      "displayName": "GERMAN BERNARDO BOBADILLA CATALAN",
      "photoUrl": "",
      "userId": "14005656012307870514"
     },
     "user_tz": 180
    },
    "id": "2hsF6-7FnY3A"
   },
   "outputs": [],
   "source": [
    "entregable_RFC.to_csv('RF_Final.csv', index=False)"
   ]
  },
  {
   "cell_type": "code",
   "execution_count": 79,
   "metadata": {},
   "outputs": [],
   "source": [
    "from sklearn.model_selection import train_test_split\n",
    "\n",
    "X_train, X_test, y_train, y_test =  train_test_split(train_data, train_label, test_size=0.2, random_state=123)"
   ]
  },
  {
   "cell_type": "code",
   "execution_count": 121,
   "metadata": {},
   "outputs": [
    {
     "name": "stdout",
     "output_type": "stream",
     "text": [
      "[22:58:54] WARNING: C:/Users/Administrator/workspace/xgboost-win64_release_1.3.0/src/learner.cc:1061: Starting in XGBoost 1.3.0, the default evaluation metric used with the objective 'binary:logistic' was changed from 'error' to 'logloss'. Explicitly set eval_metric if you'd like to restore the old behavior.\n"
     ]
    },
    {
     "data": {
      "text/plain": [
       "XGBRegressor(alpha=10, base_score=0.5, booster='gbtree', colsample_bylevel=1,\n",
       "             colsample_bynode=1, colsample_bytree=0.8,\n",
       "             eval_metric=<function log_loss at 0x00000192683D8D38>, gamma=0,\n",
       "             gpu_id=-1, importance_type='gain', interaction_constraints='',\n",
       "             learning_rate=0.1, max_delta_step=0, max_depth=5,\n",
       "             min_child_weight=1, missing=nan, monotone_constraints='()',\n",
       "             n_estimators=100, n_jobs=8, num_parallel_tree=1,\n",
       "             objective='binary:logistic', random_state=0, reg_alpha=10,\n",
       "             reg_lambda=1, scale_pos_weight=1, subsample=0.8,\n",
       "             tree_method='exact', validate_parameters=1, verbosity=None)"
      ]
     },
     "execution_count": 121,
     "metadata": {},
     "output_type": "execute_result"
    }
   ],
   "source": [
    "#INSTANCIO XGBOOST REGRESSOR\n",
    "xg_reg = xgb.XGBRegressor(objective ='binary:logistic', \n",
    "              min_child_weight = 1, learning_rate = 0.1, gamma = 0,\n",
    "                subsample= 0.8, colsample_bytree = 0.8, alpha = 10,\n",
    "                          max_depth = 5, eval_metric=log_loss)\n",
    "xg_reg.fit(X_train,y_train)"
   ]
  },
  {
   "cell_type": "code",
   "execution_count": 155,
   "metadata": {},
   "outputs": [],
   "source": [
    "def modelfit(alg, dtrain, predictors,useTrainCV=True, cv_folds=5, early_stopping_rounds=50):\n",
    "    \n",
    "    if useTrainCV:\n",
    "        xgb_param = alg.get_xgb_params()\n",
    "        xgtrain = xgb.DMatrix(data=dtrain, label=predictors)\n",
    "        cvresult = xgb.cv(xgb_param, xgtrain, num_boost_round=alg.get_params()['n_estimators'], nfold=cv_folds,\n",
    "           metrics=\"logloss\", as_pandas=True, early_stopping_rounds=early_stopping_rounds)\n",
    "        alg.set_params(n_estimators=cvresult.shape[0])\n",
    "    \n",
    "    #Fit the algorithm on the data\n",
    "    alg.fit(dtrain, predictors)\n",
    "        \n",
    "    #Predict training set:\n",
    "    dtrain_predictions = alg.predict(dtrain)\n",
    "    dtrain_predprob = alg.predict_proba(dtrain)[:,1]\n",
    "        \n",
    "    #Print model report:\n",
    "    print (\"\\nModel Report\")\n",
    "    rmsle = log_loss(predictors, dtrain_predprob)\n",
    "    print(\"RMSLE: %f\" % (rmsle))\n",
    "    print((cvresult[\"test-logloss-mean\"]).tail(1))\n",
    "                    \n",
    "   # feat_imp = pd.Series(alg.booster().get_fscore()).sort_values(ascending=False)\n",
    "   # feat_imp.plot(kind='bar', title='Feature Importances')\n",
    "   # plt.ylabel('Feature Importance Score')"
   ]
  },
  {
   "cell_type": "code",
   "execution_count": 273,
   "metadata": {},
   "outputs": [],
   "source": [
    "xgb1 = XGBClassifier(\n",
    " learning_rate =0.2,\n",
    " n_estimators=5000,\n",
    " max_depth=8,\n",
    " min_child_weight=3,\n",
    " gamma=0,\n",
    " subsample=0.5,\n",
    " colsample_bytree=0.65,\n",
    " objective= 'binary:logistic',\n",
    " nthread=4,\n",
    " seed=27)\n"
   ]
  },
  {
   "cell_type": "code",
   "execution_count": 274,
   "metadata": {},
   "outputs": [
    {
     "name": "stdout",
     "output_type": "stream",
     "text": [
      "[01:30:47] WARNING: C:/Users/Administrator/workspace/xgboost-win64_release_1.3.0/src/learner.cc:1061: Starting in XGBoost 1.3.0, the default evaluation metric used with the objective 'binary:logistic' was changed from 'error' to 'logloss'. Explicitly set eval_metric if you'd like to restore the old behavior.\n",
      "\n",
      "Model Report\n",
      "RMSLE: 0.293108\n",
      "48                   0.38\n",
      "Name: test-logloss-mean, dtype: float64\n"
     ]
    }
   ],
   "source": [
    "modelfit(xgb1, train_data, train_label)"
   ]
  },
  {
   "cell_type": "code",
   "execution_count": 275,
   "metadata": {},
   "outputs": [
    {
     "name": "stdout",
     "output_type": "stream",
     "text": [
      "[01:31:37] WARNING: C:/Users/Administrator/workspace/xgboost-win64_release_1.3.0/src/learner.cc:1061: Starting in XGBoost 1.3.0, the default evaluation metric used with the objective 'binary:logistic' was changed from 'error' to 'logloss'. Explicitly set eval_metric if you'd like to restore the old behavior.\n"
     ]
    },
    {
     "data": {
      "text/plain": [
       "({'mean_fit_time': array([0.96321411, 0.22599502, 0.21821723, 0.33091373, 0.3159544 ,\n",
       "         0.31276264, 0.44301429, 0.45278873, 0.42366557, 0.60398283,\n",
       "         0.52798705, 0.443613  ]),\n",
       "  'std_fit_time': array([0.37534152, 0.01343411, 0.01105563, 0.00990118, 0.01165477,\n",
       "         0.00986469, 0.01130841, 0.03973785, 0.02368889, 0.01566387,\n",
       "         0.01732715, 0.06357095]),\n",
       "  'mean_score_time': array([0.00578465, 0.00558524, 0.00578318, 0.0057847 , 0.00538568,\n",
       "         0.00558491, 0.00598416, 0.00618353, 0.00638547, 0.00638318,\n",
       "         0.00638323, 0.005585  ]),\n",
       "  'std_score_time': array([7.46773524e-04, 4.88753095e-04, 4.02379075e-04, 7.46148995e-04,\n",
       "         4.88577656e-04, 4.88967069e-04, 1.90734863e-07, 3.98802796e-04,\n",
       "         4.89771992e-04, 4.88811327e-04, 4.88772704e-04, 4.88072086e-04]),\n",
       "  'param_max_depth': masked_array(data=[3, 3, 3, 5, 5, 5, 7, 7, 7, 9, 9, 9],\n",
       "               mask=[False, False, False, False, False, False, False, False,\n",
       "                     False, False, False, False],\n",
       "         fill_value='?',\n",
       "              dtype=object),\n",
       "  'param_min_child_weight': masked_array(data=[1, 3, 5, 1, 3, 5, 1, 3, 5, 1, 3, 5],\n",
       "               mask=[False, False, False, False, False, False, False, False,\n",
       "                     False, False, False, False],\n",
       "         fill_value='?',\n",
       "              dtype=object),\n",
       "  'params': [{'max_depth': 3, 'min_child_weight': 1},\n",
       "   {'max_depth': 3, 'min_child_weight': 3},\n",
       "   {'max_depth': 3, 'min_child_weight': 5},\n",
       "   {'max_depth': 5, 'min_child_weight': 1},\n",
       "   {'max_depth': 5, 'min_child_weight': 3},\n",
       "   {'max_depth': 5, 'min_child_weight': 5},\n",
       "   {'max_depth': 7, 'min_child_weight': 1},\n",
       "   {'max_depth': 7, 'min_child_weight': 3},\n",
       "   {'max_depth': 7, 'min_child_weight': 5},\n",
       "   {'max_depth': 9, 'min_child_weight': 1},\n",
       "   {'max_depth': 9, 'min_child_weight': 3},\n",
       "   {'max_depth': 9, 'min_child_weight': 5}],\n",
       "  'split0_test_score': array([6.01217819, 6.20611926, 6.15322924, 5.80059611, 5.64191873,\n",
       "         5.88875307, 6.08268964, 5.80059325, 6.0121635 , 6.06505882,\n",
       "         6.29426111, 6.10032168]),\n",
       "  'split1_test_score': array([6.80906619, 6.80906823, 8.0086057 , 6.59738053, 6.95018723,\n",
       "         7.33827072, 6.91491044, 7.19714764, 7.3911902 , 7.00310426,\n",
       "         6.7914186 , 6.87962712]),\n",
       "  'split2_test_score': array([7.81457049, 7.8145709 , 7.83221235, 8.23793281, 8.11445118,\n",
       "         8.18501211, 8.39668919, 8.0086155 , 7.92041352, 8.48488913,\n",
       "         7.90276634, 8.18500885]),\n",
       "  'split3_test_score': array([7.95567888, 7.779279  , 8.02624267, 7.86748629, 8.09680809,\n",
       "         7.6734425 , 7.95568296, 7.8498436 , 7.79692331, 7.93804477,\n",
       "         7.93804436, 7.62052303]),\n",
       "  'split4_test_score': array([5.99759546, 5.8035578 , 5.85647687, 5.39784184, 5.55660026,\n",
       "         5.69772049, 5.85648177, 5.53895839, 5.85647769, 5.73299687,\n",
       "         5.64479857, 5.60952014]),\n",
       "  'mean_test_score': array([6.91781784, 6.88251904, 7.17535337, 6.78024752, 6.8719931 ,\n",
       "         6.95663978, 7.0412908 , 6.87903168, 6.99543364, 7.04481877,\n",
       "         6.9142578 , 6.87900016]),\n",
       "  'std_test_score': array([0.84381753, 0.81239992, 0.96270024, 1.11455258, 1.1219028 ,\n",
       "         0.98930346, 1.00118714, 1.02746864, 0.88528386, 1.05396411,\n",
       "         0.89847651, 0.94587895]),\n",
       "  'rank_test_score': array([ 6,  8,  1, 12, 11,  5,  3,  9,  4,  2,  7, 10])},\n",
       " {'max_depth': 3, 'min_child_weight': 5},\n",
       " 7.175353366579915)"
      ]
     },
     "execution_count": 275,
     "metadata": {},
     "output_type": "execute_result"
    }
   ],
   "source": [
    "param_test1 = {\n",
    " 'max_depth':range(3,10,2),\n",
    " 'min_child_weight':range(1,6,2)\n",
    "}\n",
    "gsearch1 = GridSearchCV(estimator = XGBClassifier( learning_rate =0.2, n_estimators=48, max_depth=5,\n",
    " min_child_weight=1, gamma=0, subsample=0.5, colsample_bytree=0.65,\n",
    " objective= 'binary:logistic', nthread=4, seed=27), \n",
    " param_grid = param_test1, scoring=LogLoss,n_jobs=4,iid=False, cv=5)\n",
    "gsearch1.fit(train_data,train_label)\n",
    "gsearch1.cv_results_, gsearch1.best_params_, gsearch1.best_score_"
   ]
  },
  {
   "cell_type": "code",
   "execution_count": 279,
   "metadata": {},
   "outputs": [
    {
     "name": "stdout",
     "output_type": "stream",
     "text": [
      "[01:33:16] WARNING: C:/Users/Administrator/workspace/xgboost-win64_release_1.3.0/src/learner.cc:1061: Starting in XGBoost 1.3.0, the default evaluation metric used with the objective 'binary:logistic' was changed from 'error' to 'logloss'. Explicitly set eval_metric if you'd like to restore the old behavior.\n"
     ]
    },
    {
     "data": {
      "text/plain": [
       "({'mean_fit_time': array([0.13921905, 0.13443947, 0.13922663, 0.14122214, 0.14361558,\n",
       "         0.14321656, 0.18709831, 0.18669968, 0.17732491, 0.17692661,\n",
       "         0.17812247, 0.17253866, 0.22459874, 0.22240462, 0.21781683,\n",
       "         0.22240481, 0.21741786, 0.21602192, 0.27606101, 0.26788354,\n",
       "         0.27027645, 0.26828256, 0.2638938 , 0.21063633]),\n",
       "  'std_fit_time': array([0.00593813, 0.00723006, 0.00425979, 0.00430579, 0.00267637,\n",
       "         0.00448665, 0.00616688, 0.00277785, 0.00291806, 0.00448651,\n",
       "         0.00079796, 0.004039  , 0.00390805, 0.00327732, 0.00293128,\n",
       "         0.00199473, 0.0057463 , 0.00406819, 0.00486143, 0.00430565,\n",
       "         0.00260062, 0.00189218, 0.00256984, 0.0206272 ]),\n",
       "  'mean_score_time': array([0.0057847 , 0.00498695, 0.00558529, 0.00538549, 0.00558534,\n",
       "         0.00558553, 0.00578527, 0.00518665, 0.00478735, 0.00498676,\n",
       "         0.0051867 , 0.00458746, 0.00498657, 0.00498695, 0.00518627,\n",
       "         0.00498652, 0.00558519, 0.00498695, 0.00518622, 0.00518627,\n",
       "         0.00518641, 0.0053854 , 0.00498657, 0.00518599]),\n",
       "  'std_score_time': array([7.46977415e-04, 6.64157308e-07, 4.88694457e-04, 4.88636085e-04,\n",
       "         4.88831110e-04, 4.88403066e-04, 3.99255995e-04, 3.99065431e-04,\n",
       "         3.98707657e-04, 7.07263802e-07, 3.99279662e-04, 4.88850199e-04,\n",
       "         5.09122765e-07, 2.78041453e-07, 3.98898221e-04, 2.13248060e-07,\n",
       "         4.88811257e-04, 2.78041453e-07, 3.98564549e-04, 3.99494427e-04,\n",
       "         3.99184266e-04, 4.88616714e-04, 4.10190833e-07, 3.98922166e-04]),\n",
       "  'param_max_depth': masked_array(data=[1, 1, 1, 1, 1, 1, 2, 2, 2, 2, 2, 2, 3, 3, 3, 3, 3, 3,\n",
       "                     4, 4, 4, 4, 4, 4],\n",
       "               mask=[False, False, False, False, False, False, False, False,\n",
       "                     False, False, False, False, False, False, False, False,\n",
       "                     False, False, False, False, False, False, False, False],\n",
       "         fill_value='?',\n",
       "              dtype=object),\n",
       "  'param_min_child_weight': masked_array(data=[1, 2, 3, 4, 5, 6, 1, 2, 3, 4, 5, 6, 1, 2, 3, 4, 5, 6,\n",
       "                     1, 2, 3, 4, 5, 6],\n",
       "               mask=[False, False, False, False, False, False, False, False,\n",
       "                     False, False, False, False, False, False, False, False,\n",
       "                     False, False, False, False, False, False, False, False],\n",
       "         fill_value='?',\n",
       "              dtype=object),\n",
       "  'params': [{'max_depth': 1, 'min_child_weight': 1},\n",
       "   {'max_depth': 1, 'min_child_weight': 2},\n",
       "   {'max_depth': 1, 'min_child_weight': 3},\n",
       "   {'max_depth': 1, 'min_child_weight': 4},\n",
       "   {'max_depth': 1, 'min_child_weight': 5},\n",
       "   {'max_depth': 1, 'min_child_weight': 6},\n",
       "   {'max_depth': 2, 'min_child_weight': 1},\n",
       "   {'max_depth': 2, 'min_child_weight': 2},\n",
       "   {'max_depth': 2, 'min_child_weight': 3},\n",
       "   {'max_depth': 2, 'min_child_weight': 4},\n",
       "   {'max_depth': 2, 'min_child_weight': 5},\n",
       "   {'max_depth': 2, 'min_child_weight': 6},\n",
       "   {'max_depth': 3, 'min_child_weight': 1},\n",
       "   {'max_depth': 3, 'min_child_weight': 2},\n",
       "   {'max_depth': 3, 'min_child_weight': 3},\n",
       "   {'max_depth': 3, 'min_child_weight': 4},\n",
       "   {'max_depth': 3, 'min_child_weight': 5},\n",
       "   {'max_depth': 3, 'min_child_weight': 6},\n",
       "   {'max_depth': 4, 'min_child_weight': 1},\n",
       "   {'max_depth': 4, 'min_child_weight': 2},\n",
       "   {'max_depth': 4, 'min_child_weight': 3},\n",
       "   {'max_depth': 4, 'min_child_weight': 4},\n",
       "   {'max_depth': 4, 'min_child_weight': 5},\n",
       "   {'max_depth': 4, 'min_child_weight': 6}],\n",
       "  'split0_test_score': array([8.48056157, 8.48056157, 8.48056157, 8.48056157, 8.48056157,\n",
       "         8.48056157, 7.96924942, 7.98688065, 7.96924942, 7.89872573,\n",
       "         7.96925024, 7.91635614, 6.01217819, 6.2061213 , 6.20611926,\n",
       "         6.13559679, 6.15322924, 6.22375212, 5.76533773, 5.88875347,\n",
       "         5.78296855, 5.64191791, 5.92401471, 5.88875103]),\n",
       "  'split1_test_score': array([8.80241495, 8.80241495, 8.80241495, 8.80241495, 8.80241495,\n",
       "         8.80241495, 8.27320429, 8.32612458, 8.37904324, 8.39668225,\n",
       "         8.20264418, 6.50918182, 6.80906619, 7.67343923, 6.80906823,\n",
       "         8.079165  , 8.0086057 , 7.93804599, 6.57974439, 6.5973838 ,\n",
       "         6.59738503, 6.54446229, 6.77378368, 6.73850485]),\n",
       "  'split2_test_score': array([8.25557794, 8.25557794, 8.25557794, 8.25557794, 8.25557794,\n",
       "         8.25557794, 7.92040984, 7.92040984, 7.93804967, 7.92041025,\n",
       "         7.93805008, 8.02624797, 7.81457049, 7.84985055, 7.8145709 ,\n",
       "         7.70873195, 7.83221235, 7.83221521, 8.27321246, 8.25557427,\n",
       "         8.14973328, 7.99097037, 7.92041066, 7.9556899 ]),\n",
       "  'split3_test_score': array([8.04388372, 8.04388372, 8.04388372, 8.04388372, 8.04388372,\n",
       "         8.04388372, 8.20264295, 8.22028278, 8.11444301, 8.22028319,\n",
       "         8.22028319, 8.14972225, 7.95567888, 7.97331992, 7.779279  ,\n",
       "         8.1673584 , 8.02624267, 7.9027594 , 7.65580308, 7.92040249,\n",
       "         7.77928308, 7.81456355, 7.72635993, 7.93804313]),\n",
       "  'split4_test_score': array([6.65029184, 6.65029184, 6.65029184, 6.65029184, 6.65029184,\n",
       "         6.65029184, 6.13871406, 6.06815476, 6.22691359, 6.01523447,\n",
       "         6.03287471, 6.08579459, 5.99759546, 5.80355658, 5.8035578 ,\n",
       "         5.82119926, 5.85647687, 5.97995768, 5.64480224, 5.68007944,\n",
       "         5.66244288, 5.7682802 , 5.85648095, 5.71536154]),\n",
       "  'mean_test_score': array([8.046546  , 8.046546  , 8.046546  , 8.046546  , 8.046546  ,\n",
       "         8.046546  , 7.70084411, 7.70437052, 7.72553979, 7.69026718,\n",
       "         7.67262048, 7.33746056, 6.91781784, 7.10125752, 6.88251904,\n",
       "         7.18241028, 7.17535337, 7.17534608, 6.78377998, 6.8684387 ,\n",
       "         6.79436256, 6.75203886, 6.84020999, 6.84727009]),\n",
       "  'std_test_score': array([0.74201543, 0.74201543, 0.74201543, 0.74201543, 0.74201543,\n",
       "         0.74201543, 0.79245177, 0.83143617, 0.76534277, 0.85814854,\n",
       "         0.82801786, 0.86278974, 0.84381753, 0.90923846, 0.81239992,\n",
       "         1.00000202, 0.96270024, 0.88054561, 1.03488732, 1.04653949,\n",
       "         1.01489491, 0.99067125, 0.86759948, 0.96230826]),\n",
       "  'rank_test_score': array([ 1,  1,  1,  1,  1,  1,  9,  8,  7, 10, 11, 12, 17, 16, 18, 13, 14,\n",
       "         15, 23, 19, 22, 24, 21, 20])},\n",
       " {'max_depth': 1, 'min_child_weight': 1},\n",
       " 8.046546004342446)"
      ]
     },
     "execution_count": 279,
     "metadata": {},
     "output_type": "execute_result"
    }
   ],
   "source": [
    "param_test2 = {\n",
    " 'max_depth':[1,2,3,4],\n",
    " 'min_child_weight':[1,2,3,4,5,6]\n",
    "}\n",
    "gsearch2 = GridSearchCV(estimator = XGBClassifier( learning_rate=0.2, n_estimators=48, max_depth=8,\n",
    " min_child_weight=1, gamma=0, subsample=0.5, colsample_bytree=0.65,\n",
    " objective= 'binary:logistic', nthread=4, seed=27), \n",
    " param_grid = param_test2, scoring=LogLoss,n_jobs=4,iid=False, cv=5)\n",
    "gsearch2.fit(train_data,train_label)\n",
    "gsearch2.cv_results_, gsearch2.best_params_, gsearch2.best_score_"
   ]
  },
  {
   "cell_type": "code",
   "execution_count": 250,
   "metadata": {},
   "outputs": [
    {
     "name": "stdout",
     "output_type": "stream",
     "text": [
      "[01:19:17] WARNING: C:/Users/Administrator/workspace/xgboost-win64_release_1.3.0/src/learner.cc:1061: Starting in XGBoost 1.3.0, the default evaluation metric used with the objective 'binary:logistic' was changed from 'error' to 'logloss'. Explicitly set eval_metric if you'd like to restore the old behavior.\n"
     ]
    },
    {
     "data": {
      "text/plain": [
       "({'mean_fit_time': array([0.59889903, 0.61317549, 0.6017664 , 0.59627757, 0.56197367]),\n",
       "  'std_fit_time': array([0.00846189, 0.02024256, 0.02285744, 0.01792458, 0.06554538]),\n",
       "  'mean_score_time': array([0.004004  , 0.01103592, 0.00624843, 0.00937276, 0.00372291]),\n",
       "  'std_score_time': array([0.00490388, 0.0068879 , 0.00765273, 0.00765283, 0.00606085]),\n",
       "  'param_gamma': masked_array(data=[0.0, 0.1, 0.2, 0.3, 0.4],\n",
       "               mask=[False, False, False, False, False],\n",
       "         fill_value='?',\n",
       "              dtype=object),\n",
       "  'params': [{'gamma': 0.0},\n",
       "   {'gamma': 0.1},\n",
       "   {'gamma': 0.2},\n",
       "   {'gamma': 0.3},\n",
       "   {'gamma': 0.4}],\n",
       "  'split0_test_score': array([6.50583462, 6.40004603, 6.27663192, 6.41767359, 6.27663029]),\n",
       "  'split1_test_score': array([7.65579287, 6.72086298, 6.61502322, 7.25006874, 6.96782502]),\n",
       "  'split2_test_score': array([8.29084861, 8.06152558, 8.16736494, 8.60836504, 8.02624389]),\n",
       "  'split3_test_score': array([8.20264214, 7.88512244, 8.00860243, 8.06152231, 8.00860366]),\n",
       "  'split4_test_score': array([5.76827897, 5.89175938, 5.838835  , 5.76827489, 5.57423518]),\n",
       "  'mean_test_score': array([7.28467944, 6.99186328, 6.9812915 , 7.22118091, 6.97070761]),\n",
       "  'std_test_score': array([0.98983097, 0.84569578, 0.93787445, 1.03806049, 0.96158951]),\n",
       "  'rank_test_score': array([1, 3, 4, 2, 5])},\n",
       " {'gamma': 0.0},\n",
       " 7.284679442842856)"
      ]
     },
     "execution_count": 250,
     "metadata": {},
     "output_type": "execute_result"
    }
   ],
   "source": [
    "param_test3 = {\n",
    " 'gamma':[i/10.0 for i in range(0,5)]\n",
    "}\n",
    "gsearch3 = GridSearchCV(estimator = XGBClassifier( learning_rate =0.3, n_estimators=60, max_depth=8,\n",
    " min_child_weight=3, gamma=0, subsample=0.8, colsample_bytree=0.8,\n",
    " objective= 'binary:logistic', nthread=4, seed=27), \n",
    " param_grid = param_test3, scoring=LogLoss,n_jobs=4,iid=False, cv=5)\n",
    "gsearch3.fit(train_data,train_label)\n",
    "gsearch3.cv_results_, gsearch3.best_params_, gsearch3.best_score_"
   ]
  },
  {
   "cell_type": "code",
   "execution_count": 251,
   "metadata": {},
   "outputs": [
    {
     "name": "stdout",
     "output_type": "stream",
     "text": [
      "[01:20:22] WARNING: C:/Users/Administrator/workspace/xgboost-win64_release_1.3.0/src/learner.cc:1061: Starting in XGBoost 1.3.0, the default evaluation metric used with the objective 'binary:logistic' was changed from 'error' to 'logloss'. Explicitly set eval_metric if you'd like to restore the old behavior.\n"
     ]
    },
    {
     "data": {
      "text/plain": [
       "({'mean_fit_time': array([0.49587135, 0.52858529, 0.53417077, 0.51163096, 0.5341702 ,\n",
       "         0.56688323, 0.54554005, 0.57925019, 0.59777937, 0.57486439,\n",
       "         0.6248529 , 0.58994193]),\n",
       "  'std_fit_time': array([0.02002001, 0.02333791, 0.01928345, 0.02192302, 0.03074968,\n",
       "         0.02147932, 0.02372725, 0.01420829, 0.01572677, 0.01169014,\n",
       "         0.01976016, 0.07073463]),\n",
       "  'mean_score_time': array([0.00698147, 0.00698171, 0.00678225, 0.00758018, 0.00678234,\n",
       "         0.00718145, 0.00758028, 0.00797911, 0.00432153, 0.00312438,\n",
       "         0.00937276, 0.00884156]),\n",
       "  'std_score_time': array([0.00063098, 0.00109258, 0.00074577, 0.00079794, 0.00074624,\n",
       "         0.00146552, 0.00149277, 0.00063083, 0.00610721, 0.00624876,\n",
       "         0.00765283, 0.00602847]),\n",
       "  'param_colsample_bytree': masked_array(data=[0.6, 0.6, 0.6, 0.7, 0.7, 0.7, 0.8, 0.8, 0.8, 0.9, 0.9,\n",
       "                     0.9],\n",
       "               mask=[False, False, False, False, False, False, False, False,\n",
       "                     False, False, False, False],\n",
       "         fill_value='?',\n",
       "              dtype=object),\n",
       "  'param_subsample': masked_array(data=[0.4, 0.5, 0.6, 0.4, 0.5, 0.6, 0.4, 0.5, 0.6, 0.4, 0.5,\n",
       "                     0.6],\n",
       "               mask=[False, False, False, False, False, False, False, False,\n",
       "                     False, False, False, False],\n",
       "         fill_value='?',\n",
       "              dtype=object),\n",
       "  'params': [{'colsample_bytree': 0.6, 'subsample': 0.4},\n",
       "   {'colsample_bytree': 0.6, 'subsample': 0.5},\n",
       "   {'colsample_bytree': 0.6, 'subsample': 0.6},\n",
       "   {'colsample_bytree': 0.7, 'subsample': 0.4},\n",
       "   {'colsample_bytree': 0.7, 'subsample': 0.5},\n",
       "   {'colsample_bytree': 0.7, 'subsample': 0.6},\n",
       "   {'colsample_bytree': 0.8, 'subsample': 0.4},\n",
       "   {'colsample_bytree': 0.8, 'subsample': 0.5},\n",
       "   {'colsample_bytree': 0.8, 'subsample': 0.6},\n",
       "   {'colsample_bytree': 0.9, 'subsample': 0.4},\n",
       "   {'colsample_bytree': 0.9, 'subsample': 0.5},\n",
       "   {'colsample_bytree': 0.9, 'subsample': 0.6}],\n",
       "  'split0_test_score': array([6.20610823, 6.50583585, 6.38241684, 6.78792856, 6.66451241,\n",
       "         6.06505963, 6.52346381, 6.59398464, 6.75266406, 6.17084211,\n",
       "         6.68213997, 6.77029733]),\n",
       "  'split1_test_score': array([7.23242075, 6.87961977, 7.23242729, 6.79142187, 7.81454803,\n",
       "         6.79142473, 6.75614059, 7.44410395, 6.82670111, 7.17950373,\n",
       "         7.10894239, 6.68558333]),\n",
       "  'split2_test_score': array([8.41432289, 8.5907244 , 8.4319668 , 8.52016551, 8.34376522,\n",
       "         8.20264499, 8.37904528, 8.04388535, 8.25556733, 8.44960254,\n",
       "         8.55544516, 8.44960131]),\n",
       "  'split3_test_score': array([8.22028604, 8.18500149, 7.9733187 , 8.18500354, 8.20264336,\n",
       "         8.39668266, 8.32611968, 8.00860325, 8.13208406, 8.0967987 ,\n",
       "         8.27319858, 8.11444301]),\n",
       "  'split4_test_score': array([5.99759465, 5.45075805, 5.68007862, 5.94467762, 5.78591961,\n",
       "         5.82119599, 6.10343605, 6.350394  , 5.59187828, 6.12107383,\n",
       "         6.01523651, 5.68007536]),\n",
       "  'mean_test_score': array([7.21414651, 7.12238791, 7.14004165, 7.24583942, 7.36227773,\n",
       "         7.0554016 , 7.21764108, 7.28819424, 7.11177897, 7.20356418,\n",
       "         7.32699252, 7.14000007]),\n",
       "  'std_test_score': array([0.9949084 , 1.14180374, 1.00771461, 0.96074304, 0.98446553,\n",
       "         1.06667022, 0.95014759, 0.7036707 , 0.98687439, 0.95805622,\n",
       "         0.95796516, 1.01381944]),\n",
       "  'rank_test_score': array([ 6, 10,  8,  4,  1, 12,  5,  3, 11,  7,  2,  9])},\n",
       " {'colsample_bytree': 0.7, 'subsample': 0.5},\n",
       " 7.362277727472369)"
      ]
     },
     "execution_count": 251,
     "metadata": {},
     "output_type": "execute_result"
    }
   ],
   "source": [
    "param_test4 = {\n",
    " 'subsample':[i/10.0 for i in range(4,7)],\n",
    " 'colsample_bytree':[i/10.0 for i in range(6,10)]\n",
    "}\n",
    "gsearch4 = GridSearchCV(estimator = XGBClassifier( learning_rate =0.3, n_estimators=60, max_depth=8,\n",
    " min_child_weight=3, gamma=0, subsample=0.8, colsample_bytree=0.8,\n",
    " objective= 'binary:logistic', nthread=4,seed=27), \n",
    " param_grid = param_test4, scoring=LogLoss,n_jobs=4,iid=False, cv=5)\n",
    "gsearch4.fit(train_data,train_label)\n",
    "gsearch4.cv_results_, gsearch4.best_params_, gsearch4.best_score_"
   ]
  },
  {
   "cell_type": "code",
   "execution_count": 252,
   "metadata": {},
   "outputs": [
    {
     "name": "stdout",
     "output_type": "stream",
     "text": [
      "[01:21:09] WARNING: C:/Users/Administrator/workspace/xgboost-win64_release_1.3.0/src/learner.cc:1061: Starting in XGBoost 1.3.0, the default evaluation metric used with the objective 'binary:logistic' was changed from 'error' to 'logloss'. Explicitly set eval_metric if you'd like to restore the old behavior.\n"
     ]
    },
    {
     "data": {
      "text/plain": [
       "({'mean_fit_time': array([0.53176813, 0.5940115 , 0.60857105, 0.57885098, 0.56409006,\n",
       "         0.54334569, 0.55930271, 0.56728206, 0.56169715, 0.56428943,\n",
       "         0.59221535, 0.62193527, 0.60099187, 0.61415653, 0.56508813]),\n",
       "  'std_fit_time': array([0.00996674, 0.01397058, 0.01939385, 0.02983056, 0.03035403,\n",
       "         0.02546145, 0.02168969, 0.02252638, 0.0164898 , 0.0143476 ,\n",
       "         0.02257013, 0.02762845, 0.03160506, 0.0311218 , 0.10689456]),\n",
       "  'mean_score_time': array([0.00718102, 0.00818076, 0.00678177, 0.00698175, 0.00718083,\n",
       "         0.00658236, 0.0071816 , 0.00738039, 0.00817852, 0.00738049,\n",
       "         0.0067821 , 0.00718126, 0.00678215, 0.00678215, 0.00578485]),\n",
       "  'std_score_time': array([0.00116297, 0.00132711, 0.00116282, 0.00063068, 0.00116321,\n",
       "         0.0004885 , 0.00074637, 0.00119709, 0.0013232 , 0.00119694,\n",
       "         0.00074662, 0.00074658, 0.0009775 , 0.00074657, 0.00146606]),\n",
       "  'param_colsample_bytree': masked_array(data=[0.65, 0.65, 0.65, 0.65, 0.65, 0.7, 0.7, 0.7, 0.7, 0.7,\n",
       "                     0.75, 0.75, 0.75, 0.75, 0.75],\n",
       "               mask=[False, False, False, False, False, False, False, False,\n",
       "                     False, False, False, False, False, False, False],\n",
       "         fill_value='?',\n",
       "              dtype=object),\n",
       "  'param_subsample': masked_array(data=[0.45, 0.5, 0.55, 0.6, 0.65, 0.45, 0.5, 0.55, 0.6, 0.65,\n",
       "                     0.45, 0.5, 0.55, 0.6, 0.65],\n",
       "               mask=[False, False, False, False, False, False, False, False,\n",
       "                     False, False, False, False, False, False, False],\n",
       "         fill_value='?',\n",
       "              dtype=object),\n",
       "  'params': [{'colsample_bytree': 0.65, 'subsample': 0.45},\n",
       "   {'colsample_bytree': 0.65, 'subsample': 0.5},\n",
       "   {'colsample_bytree': 0.65, 'subsample': 0.55},\n",
       "   {'colsample_bytree': 0.65, 'subsample': 0.6},\n",
       "   {'colsample_bytree': 0.65, 'subsample': 0.65},\n",
       "   {'colsample_bytree': 0.7, 'subsample': 0.45},\n",
       "   {'colsample_bytree': 0.7, 'subsample': 0.5},\n",
       "   {'colsample_bytree': 0.7, 'subsample': 0.55},\n",
       "   {'colsample_bytree': 0.7, 'subsample': 0.6},\n",
       "   {'colsample_bytree': 0.7, 'subsample': 0.65},\n",
       "   {'colsample_bytree': 0.75, 'subsample': 0.45},\n",
       "   {'colsample_bytree': 0.75, 'subsample': 0.5},\n",
       "   {'colsample_bytree': 0.75, 'subsample': 0.55},\n",
       "   {'colsample_bytree': 0.75, 'subsample': 0.6},\n",
       "   {'colsample_bytree': 0.75, 'subsample': 0.65}],\n",
       "  'split0_test_score': array([6.75266937, 6.66451241, 6.15321414, 6.06505963, 6.02979473,\n",
       "         6.75266937, 6.66451241, 6.15321414, 6.06505963, 6.02979473,\n",
       "         6.82318816, 6.59398464, 6.77029856, 6.75266406, 6.45294053]),\n",
       "  'split1_test_score': array([6.77378409, 7.81454803, 6.57973908, 6.79142473, 6.57973826,\n",
       "         6.77378409, 7.81454803, 6.57973908, 6.79142473, 6.57973826,\n",
       "         6.98546198, 7.44410395, 6.84433971, 6.82670111, 7.30298617]),\n",
       "  'split2_test_score': array([8.23791933, 8.34376522, 8.14972389, 8.20264499, 8.3790412 ,\n",
       "         8.23791933, 8.34376522, 8.14972389, 8.20264499, 8.3790412 ,\n",
       "         8.39668021, 8.04388535, 8.62600405, 8.25556733, 8.48488464]),\n",
       "  'split3_test_score': array([8.0967987 , 8.20264336, 8.06152191, 8.39668266, 8.27320225,\n",
       "         8.0967987 , 8.20264336, 8.06152191, 8.39668266, 8.27320225,\n",
       "         8.07916255, 8.00860325, 8.02624022, 8.13208406, 8.06152354]),\n",
       "  'split4_test_score': array([5.62715547, 5.78591961, 5.80355413, 5.82119599, 5.57423968,\n",
       "         5.62715547, 5.78591961, 5.80355413, 5.82119599, 5.57423968,\n",
       "         5.92703494, 6.350394  , 5.97995564, 5.59187828, 5.60951769]),\n",
       "  'mean_test_score': array([7.09766539, 7.36227773, 6.94955063, 7.0554016 , 6.96720322,\n",
       "         7.09766539, 7.36227773, 6.94955063, 7.0554016 , 6.96720322,\n",
       "         7.24230557, 7.28819424, 7.24936763, 7.11177897, 7.18237051]),\n",
       "  'std_test_score': array([0.96796355, 0.98446553, 0.97581928, 1.06667022, 1.15482736,\n",
       "         0.96796355, 0.98446553, 0.97581928, 1.06667022, 1.15482736,\n",
       "         0.8949274 , 0.7036707 , 0.94906485, 0.98687439, 1.04784878]),\n",
       "  'rank_test_score': array([ 8,  1, 14, 10, 12,  8,  1, 14, 10, 12,  5,  3,  4,  7,  6])},\n",
       " {'colsample_bytree': 0.65, 'subsample': 0.5},\n",
       " 7.362277727472369)"
      ]
     },
     "execution_count": 252,
     "metadata": {},
     "output_type": "execute_result"
    }
   ],
   "source": [
    "param_test5 = {\n",
    " 'subsample':[i/100.0 for i in range(45,70,5)],\n",
    " 'colsample_bytree':[i/100.0 for i in range(65,80,5)]\n",
    "}\n",
    "gsearch5 = GridSearchCV(estimator = XGBClassifier( learning_rate =0.3, n_estimators=60, max_depth=8,\n",
    " min_child_weight=3, gamma=0, subsample=0.8, colsample_bytree=0.8,\n",
    " objective= 'binary:logistic', nthread=4, seed=27), \n",
    " param_grid = param_test5, scoring=LogLoss,n_jobs=4,iid=False, cv=5)\n",
    "gsearch5.fit(train_data,train_label)\n",
    "gsearch5.cv_results_, gsearch5.best_params_, gsearch5.best_score_"
   ]
  },
  {
   "cell_type": "code",
   "execution_count": 254,
   "metadata": {},
   "outputs": [
    {
     "name": "stdout",
     "output_type": "stream",
     "text": [
      "[01:22:07] WARNING: C:/Users/Administrator/workspace/xgboost-win64_release_1.3.0/src/learner.cc:1061: Starting in XGBoost 1.3.0, the default evaluation metric used with the objective 'binary:logistic' was changed from 'error' to 'logloss'. Explicitly set eval_metric if you'd like to restore the old behavior.\n"
     ]
    },
    {
     "data": {
      "text/plain": [
       "({'mean_fit_time': array([0.24833512, 0.23596764, 0.24554315, 0.24155354, 0.2014606 ]),\n",
       "  'std_fit_time': array([0.00696732, 0.00629535, 0.00868107, 0.00798903, 0.03591979]),\n",
       "  'mean_score_time': array([0.00598412, 0.00598426, 0.00638342, 0.00578394, 0.0047874 ]),\n",
       "  'std_score_time': array([5.51978917e-07, 8.91963403e-04, 1.49273774e-03, 3.99422855e-04,\n",
       "         9.76931437e-04]),\n",
       "  'param_reg_alpha': masked_array(data=[90, 100, 110, 150, 200],\n",
       "               mask=[False, False, False, False, False],\n",
       "         fill_value='?',\n",
       "              dtype=object),\n",
       "  'params': [{'reg_alpha': 90},\n",
       "   {'reg_alpha': 100},\n",
       "   {'reg_alpha': 110},\n",
       "   {'reg_alpha': 150},\n",
       "   {'reg_alpha': 200}],\n",
       "  'split0_test_score': array([7.89871798, 8.0045029 , 8.02213494, 8.00450779, 8.44528972]),\n",
       "  'split1_test_score': array([8.74948323, 8.82004457, 8.76712346, 8.64364306, 9.20813704]),\n",
       "  'split2_test_score': array([8.27320511, 8.27320307, 8.27320511, 8.36141077, 8.94352375]),\n",
       "  'split3_test_score': array([8.78475839, 8.83767786, 8.82003885, 8.57308213, 8.7142044 ]),\n",
       "  'split4_test_score': array([8.09678154, 8.07914254, 7.77926307, 8.09679216, 8.60836014]),\n",
       "  'mean_test_score': array([8.36058925, 8.40291419, 8.33235309, 8.33588718, 8.78390301]),\n",
       "  'std_test_score': array([0.35262262, 0.35872045, 0.40804535, 0.25243031, 0.26675286]),\n",
       "  'rank_test_score': array([3, 2, 5, 4, 1])},\n",
       " {'reg_alpha': 200},\n",
       " 8.783903011013082)"
      ]
     },
     "execution_count": 254,
     "metadata": {},
     "output_type": "execute_result"
    }
   ],
   "source": [
    "param_test6 = {\n",
    " 'reg_alpha':[90, 100,110,150,200]\n",
    "}\n",
    "gsearch6 = GridSearchCV(estimator = XGBClassifier( learning_rate =0.3, n_estimators=60, max_depth=8,\n",
    " min_child_weight=3, gamma=0, subsample=0.5, colsample_bytree=0.65,\n",
    " objective= 'binary:logistic', nthread=4, seed=27), \n",
    " param_grid = param_test6, scoring=LogLoss,n_jobs=4,iid=False, cv=5)\n",
    "gsearch6.fit(train_data,train_label)\n",
    "gsearch6.cv_results_, gsearch6.best_params_, gsearch6.best_score_"
   ]
  },
  {
   "cell_type": "code",
   "execution_count": 264,
   "metadata": {},
   "outputs": [
    {
     "name": "stdout",
     "output_type": "stream",
     "text": [
      "[01:25:58] WARNING: C:/Users/Administrator/workspace/xgboost-win64_release_1.3.0/src/learner.cc:1061: Starting in XGBoost 1.3.0, the default evaluation metric used with the objective 'binary:logistic' was changed from 'error' to 'logloss'. Explicitly set eval_metric if you'd like to restore the old behavior.\n"
     ]
    },
    {
     "data": {
      "text/plain": [
       "({'mean_fit_time': array([0.15757074, 0.15638123, 0.15797682, 0.16057057, 0.15977254,\n",
       "         0.15697927, 0.15279098, 0.15777845, 0.15318985, 0.15358925,\n",
       "         0.16136761, 0.15857544, 0.15817642, 0.15498533, 0.1519928 ,\n",
       "         0.1581768 , 0.15358877, 0.15458636, 0.15638113, 0.13603549]),\n",
       "  'std_fit_time': array([0.00545929, 0.00609646, 0.00566313, 0.00432428, 0.00385797,\n",
       "         0.00386755, 0.00612852, 0.00247518, 0.00360145, 0.00367811,\n",
       "         0.00677642, 0.0071088 , 0.00529985, 0.0031284 , 0.00257055,\n",
       "         0.00360108, 0.00333768, 0.00520126, 0.00146598, 0.01426715]),\n",
       "  'mean_score_time': array([0.00518622, 0.0047873 , 0.00478725, 0.00538568, 0.00598421,\n",
       "         0.00498705, 0.00478749, 0.00478673, 0.00458808, 0.00458794,\n",
       "         0.00478768, 0.00538592, 0.0057847 , 0.00538578, 0.00518651,\n",
       "         0.00518684, 0.00518665, 0.00478749, 0.00498724, 0.00478783]),\n",
       "  'std_score_time': array([7.46059875e-04, 7.46250969e-04, 3.98779101e-04, 1.01724264e-03,\n",
       "         1.09305893e-03, 6.30826499e-04, 3.98898335e-04, 3.98876463e-04,\n",
       "         4.88772332e-04, 4.88753049e-04, 3.98874753e-04, 4.88481499e-04,\n",
       "         1.71553454e-03, 7.97796442e-04, 3.98660430e-04, 3.99566077e-04,\n",
       "         7.46136261e-04, 3.99136668e-04, 6.74349576e-07, 3.98469010e-04]),\n",
       "  'param_reg_alpha': masked_array(data=[520, 521, 522, 523, 524, 525, 526, 527, 528, 529, 530,\n",
       "                     531, 532, 533, 534, 535, 536, 537, 538, 539],\n",
       "               mask=[False, False, False, False, False, False, False, False,\n",
       "                     False, False, False, False, False, False, False, False,\n",
       "                     False, False, False, False],\n",
       "         fill_value='?',\n",
       "              dtype=object),\n",
       "  'params': [{'reg_alpha': 520},\n",
       "   {'reg_alpha': 521},\n",
       "   {'reg_alpha': 522},\n",
       "   {'reg_alpha': 523},\n",
       "   {'reg_alpha': 524},\n",
       "   {'reg_alpha': 525},\n",
       "   {'reg_alpha': 526},\n",
       "   {'reg_alpha': 527},\n",
       "   {'reg_alpha': 528},\n",
       "   {'reg_alpha': 529},\n",
       "   {'reg_alpha': 530},\n",
       "   {'reg_alpha': 531},\n",
       "   {'reg_alpha': 532},\n",
       "   {'reg_alpha': 533},\n",
       "   {'reg_alpha': 534},\n",
       "   {'reg_alpha': 535},\n",
       "   {'reg_alpha': 536},\n",
       "   {'reg_alpha': 537},\n",
       "   {'reg_alpha': 538},\n",
       "   {'reg_alpha': 539}],\n",
       "  'split0_test_score': array([17.89528231, 17.89528231, 17.89528231, 17.89528231, 17.89528231,\n",
       "         17.89528231, 17.89528231, 17.89528231, 17.89528231, 17.89528231,\n",
       "         17.89528231, 17.89528231, 17.89528231, 17.89528231, 17.89528231,\n",
       "         17.89528231, 17.89528231, 17.89528231, 17.89528231, 17.89528231]),\n",
       "  'split1_test_score': array([ 7.88505832,  7.88505832,  7.88505832, 17.88678206, 17.88678206,\n",
       "         17.88678206, 17.88678206, 17.88678206, 17.88678206, 17.88678206,\n",
       "         17.88678206, 17.88678206, 17.88678206, 17.88678206, 17.88678206,\n",
       "         17.88678206, 17.88678206, 17.88678206, 17.88678206, 17.88678206]),\n",
       "  'split2_test_score': array([17.88678206, 17.88678206, 17.88678206, 17.88678206, 17.88678206,\n",
       "         17.88678206, 17.88678206, 17.88678206, 17.88678206, 17.88678206,\n",
       "         17.88678206, 17.88678206, 17.88678206, 17.88678206, 17.88678206,\n",
       "         17.88678206, 17.88678206, 17.88678206, 17.88678206, 17.88678206]),\n",
       "  'split3_test_score': array([17.88678206, 17.88678206, 17.88678206, 17.88678206, 17.88678206,\n",
       "         17.88678206, 17.88678206, 17.88678206, 17.88678206, 17.88678206,\n",
       "         17.88678206, 17.88678206, 17.88678206, 17.88678206, 17.88678206,\n",
       "         17.88678206, 17.88678206, 17.88678206, 17.88678206, 17.88678206]),\n",
       "  'split4_test_score': array([ 7.47933541,  7.47933541,  7.47933541,  7.47933541, 17.90442188,\n",
       "         17.90442188, 17.90442188, 17.90442188, 17.90442188, 17.90442188,\n",
       "         17.90442188, 17.90442188, 17.90442188, 17.90442188, 17.90442188,\n",
       "         17.90442188, 17.90442188, 17.90442188, 17.90442188, 17.90442188]),\n",
       "  'mean_test_score': array([13.80664803, 13.80664803, 13.80664803, 15.80699278, 17.89201007,\n",
       "         17.89201007, 17.89201007, 17.89201007, 17.89201007, 17.89201007,\n",
       "         17.89201007, 17.89201007, 17.89201007, 17.89201007, 17.89201007,\n",
       "         17.89201007, 17.89201007, 17.89201007, 17.89201007, 17.89201007]),\n",
       "  'std_test_score': array([5.00224004, 5.00224004, 5.00224004, 4.16382998, 0.00702505,\n",
       "         0.00702505, 0.00702505, 0.00702505, 0.00702505, 0.00702505,\n",
       "         0.00702505, 0.00702505, 0.00702505, 0.00702505, 0.00702505,\n",
       "         0.00702505, 0.00702505, 0.00702505, 0.00702505, 0.00702505]),\n",
       "  'rank_test_score': array([18, 18, 18, 17,  1,  1,  1,  1,  1,  1,  1,  1,  1,  1,  1,  1,  1,\n",
       "          1,  1,  1])},\n",
       " {'reg_alpha': 524},\n",
       " 17.892010070753756)"
      ]
     },
     "execution_count": 264,
     "metadata": {},
     "output_type": "execute_result"
    }
   ],
   "source": [
    "param_test7 = {\n",
    " 'reg_alpha':[i for i in range(520,540,1)]\n",
    "}\n",
    "gsearch7 = GridSearchCV(estimator = XGBClassifier( learning_rate =0.3, n_estimators=60, max_depth=8,\n",
    " min_child_weight=3, gamma=0, subsample=0.5, colsample_bytree=0.65,\n",
    " objective= 'binary:logistic', nthread=4, seed=27), \n",
    " param_grid = param_test7, scoring=LogLoss,n_jobs=4,iid=False, cv=5)\n",
    "gsearch7.fit(train_data,train_label)\n",
    "gsearch7.cv_results_, gsearch7.best_params_, gsearch7.best_score_"
   ]
  },
  {
   "cell_type": "code",
   "execution_count": 258,
   "metadata": {},
   "outputs": [
    {
     "name": "stdout",
     "output_type": "stream",
     "text": [
      "[01:24:08] WARNING: C:/Users/Administrator/workspace/xgboost-win64_release_1.3.0/src/learner.cc:1061: Starting in XGBoost 1.3.0, the default evaluation metric used with the objective 'binary:logistic' was changed from 'error' to 'logloss'. Explicitly set eval_metric if you'd like to restore the old behavior.\n"
     ]
    },
    {
     "data": {
      "text/plain": [
       "({'mean_fit_time': array([0.43663101, 0.45238914, 0.43603296, 0.42785482, 0.46276231,\n",
       "         0.42905135, 0.42506251, 0.42725668, 0.4238658 , 0.42187147,\n",
       "         0.42885246, 0.42625942, 0.42785521, 0.42047472, 0.42905183,\n",
       "         0.42685804, 0.42865324, 0.42406492, 0.42326722, 0.37280216]),\n",
       "  'std_fit_time': array([0.00765893, 0.03576259, 0.01579937, 0.01562963, 0.03173386,\n",
       "         0.02171717, 0.01842637, 0.01293605, 0.01330601, 0.0121822 ,\n",
       "         0.01922561, 0.02027901, 0.0108709 , 0.01432279, 0.02069467,\n",
       "         0.01753716, 0.01392556, 0.01395527, 0.01732713, 0.08018749]),\n",
       "  'mean_score_time': array([0.00638323, 0.00618372, 0.00618448, 0.00618405, 0.00658216,\n",
       "         0.00638332, 0.00618372, 0.00678263, 0.00638285, 0.00598383,\n",
       "         0.0057848 , 0.00698142, 0.00618343, 0.00558515, 0.00638323,\n",
       "         0.0065825 , 0.00658216, 0.00817823, 0.00598397, 0.00618367]),\n",
       "  'std_score_time': array([1.19680565e-03, 3.98945905e-04, 7.46251243e-04, 7.46684487e-04,\n",
       "         4.88052198e-04, 7.97736903e-04, 7.46391265e-04, 7.46569696e-04,\n",
       "         1.01664408e-03, 6.30977587e-04, 3.98898164e-04, 8.91910252e-04,\n",
       "         3.98969778e-04, 4.88285799e-04, 1.01724254e-03, 7.97987191e-04,\n",
       "         7.98297674e-04, 3.42007960e-03, 1.16800773e-07, 7.46595413e-04]),\n",
       "  'param_reg_lambda': masked_array(data=[940, 941, 942, 943, 944, 945, 946, 947, 948, 949, 950,\n",
       "                     951, 952, 953, 954, 955, 956, 957, 958, 959],\n",
       "               mask=[False, False, False, False, False, False, False, False,\n",
       "                     False, False, False, False, False, False, False, False,\n",
       "                     False, False, False, False],\n",
       "         fill_value='?',\n",
       "              dtype=object),\n",
       "  'params': [{'reg_lambda': 940},\n",
       "   {'reg_lambda': 941},\n",
       "   {'reg_lambda': 942},\n",
       "   {'reg_lambda': 943},\n",
       "   {'reg_lambda': 944},\n",
       "   {'reg_lambda': 945},\n",
       "   {'reg_lambda': 946},\n",
       "   {'reg_lambda': 947},\n",
       "   {'reg_lambda': 948},\n",
       "   {'reg_lambda': 949},\n",
       "   {'reg_lambda': 950},\n",
       "   {'reg_lambda': 951},\n",
       "   {'reg_lambda': 952},\n",
       "   {'reg_lambda': 953},\n",
       "   {'reg_lambda': 954},\n",
       "   {'reg_lambda': 955},\n",
       "   {'reg_lambda': 956},\n",
       "   {'reg_lambda': 957},\n",
       "   {'reg_lambda': 958},\n",
       "   {'reg_lambda': 959}],\n",
       "  'split0_test_score': array([7.86345634, 7.86345634, 7.86345634, 7.84582552, 7.84582552,\n",
       "         7.84582552, 7.86345634, 7.86345634, 7.88108716, 7.88108716,\n",
       "         7.86345634, 7.88108756, 7.88108756, 7.88108756, 7.8458247 ,\n",
       "         7.88108797, 7.88108797, 7.88108797, 7.88108797, 7.88108797]),\n",
       "  'split1_test_score': array([8.02623368, 8.02623368, 8.06151415, 8.06151415, 8.11443444,\n",
       "         8.09679461, 8.09679461, 8.09679461, 8.06151415, 8.06151415,\n",
       "         8.06151415, 8.04387391, 8.04387391, 8.02623368, 8.00859386,\n",
       "         8.00859386, 7.81454966, 7.761631  , 7.72635013, 7.69106966]),\n",
       "  'split2_test_score': array([7.74400343, 7.7263632 , 7.7263632 , 7.7263632 , 7.7263632 ,\n",
       "         7.70872337, 7.70872337, 7.70872337, 7.72636361, 7.72636361,\n",
       "         7.72636361, 7.72636361, 7.72636361, 7.72636361, 7.72636361,\n",
       "         7.72636361, 7.72636361, 7.70872337, 7.67344332, 7.67344332]),\n",
       "  'split3_test_score': array([8.30847047, 8.30847047, 8.30847047, 8.30847047, 8.30847047,\n",
       "         8.34375093, 8.34374971, 8.30847047, 8.34375093, 8.36138953,\n",
       "         8.36138953, 8.39667   , 8.36138994, 8.36138994, 8.34374889,\n",
       "         8.34374889, 8.27319   , 8.27319   , 8.27319   , 8.29083023]),\n",
       "  'split4_test_score': array([6.7561267 , 6.79140717, 6.79140717, 6.79140717, 6.8090474 ,\n",
       "         6.70320641, 6.82668804, 6.82668804, 6.84432787, 6.84432787,\n",
       "         6.84432787, 6.84432787, 6.84432787, 6.84432787, 6.84432787,\n",
       "         6.77376775, 6.77376775, 6.77376775, 6.77376775, 6.77376775]),\n",
       "  'mean_test_score': array([7.73965812, 7.74318617, 7.75024226, 7.7467161 , 7.7608282 ,\n",
       "         7.73966017, 7.76788241, 7.76082657, 7.77140874, 7.77493646,\n",
       "         7.7714103 , 7.77846459, 7.77140858, 7.76788053, 7.75377178,\n",
       "         7.74671242, 7.6937918 , 7.67968002, 7.66556783, 7.66203979]),\n",
       "  'std_test_score': array([0.52694439, 0.51386641, 0.51793075, 0.51720747, 0.51754198,\n",
       "         0.56194932, 0.51735624, 0.50963727, 0.50700574, 0.51102126,\n",
       "         0.510337  , 0.51739297, 0.50908792, 0.50724526, 0.49986407,\n",
       "         0.52728107, 0.49656213, 0.49417725, 0.49289299, 0.49666075]),\n",
       "  'rank_test_score': array([16, 14, 11, 12,  8, 15,  6,  9,  4,  2,  3,  1,  5,  7, 10, 13, 17,\n",
       "         18, 19, 20])},\n",
       " {'reg_lambda': 951},\n",
       " 7.778464589974159)"
      ]
     },
     "execution_count": 258,
     "metadata": {},
     "output_type": "execute_result"
    }
   ],
   "source": [
    "param_test8 = {\n",
    " 'reg_lambda':[i for i in range(940,960,1)]\n",
    "}\n",
    "gsearch8 = GridSearchCV(estimator = XGBClassifier( learning_rate =0.3, n_estimators=60, max_depth=8,\n",
    " min_child_weight=3, gamma=0, subsample=0.5, colsample_bytree=0.65,\n",
    " objective= 'binary:logistic', nthread=4, seed=27), \n",
    " param_grid = param_test8, scoring=LogLoss,n_jobs=4,iid=False, cv=5)\n",
    "gsearch8.fit(train_data,train_label)\n",
    "gsearch8.cv_results_, gsearch8.best_params_, gsearch8.best_score_"
   ]
  },
  {
   "cell_type": "code",
   "execution_count": 174,
   "metadata": {},
   "outputs": [
    {
     "name": "stdout",
     "output_type": "stream",
     "text": [
      "[00:06:32] WARNING: C:/Users/Administrator/workspace/xgboost-win64_release_1.3.0/src/learner.cc:1061: Starting in XGBoost 1.3.0, the default evaluation metric used with the objective 'binary:logistic' was changed from 'error' to 'logloss'. Explicitly set eval_metric if you'd like to restore the old behavior.\n",
      "RMSLE: 0.388001\n"
     ]
    }
   ],
   "source": [
    "xgb1.fit(X_train,y_train)\n",
    "preds1 = xgb1.predict(X_test)\n",
    "preds1_proba = xgb1.predict_proba(X_test)[:,1]\n",
    "rmsle = log_loss(y_test, preds1_proba)\n",
    "print(\"RMSLE: %f\" % (rmsle))"
   ]
  },
  {
   "cell_type": "code",
   "execution_count": 122,
   "metadata": {},
   "outputs": [
    {
     "name": "stdout",
     "output_type": "stream",
     "text": [
      "RMSLE: 0.390252\n"
     ]
    }
   ],
   "source": [
    "preds = xg_reg.predict(X_test)\n",
    "rmsle = log_loss(y_test, preds)\n",
    "print(\"RMSLE: %f\" % (rmsle))"
   ]
  },
  {
   "cell_type": "code",
   "execution_count": 123,
   "metadata": {},
   "outputs": [],
   "source": [
    "data_dmatrix = xgb.DMatrix(data=X,label=y)\n",
    "params = {\"objective\":\"binary:logistic\", \"min_child_weight\" : 1, \"learning_rate\":0.1, \"gamma\" : 0,\n",
    "                \"subsample\": 0.8, \"colsample_bytree\" : 0.8,\n",
    "                          \"max_depth\" : 5, \"eval_metric\":log_loss, \"scale_pos_weight\" : 1}\n"
   ]
  },
  {
   "cell_type": "code",
   "execution_count": 128,
   "metadata": {},
   "outputs": [],
   "source": [
    "cv_results = xgb.cv(dtrain=data_dmatrix, params=params, nfold=3,\n",
    "                    num_boost_round=200, early_stopping_rounds=10,\n",
    "                    metrics=\"logloss\", as_pandas=True, seed=123)"
   ]
  },
  {
   "cell_type": "code",
   "execution_count": 129,
   "metadata": {},
   "outputs": [
    {
     "data": {
      "text/html": [
       "<div>\n",
       "<style scoped>\n",
       "    .dataframe tbody tr th:only-of-type {\n",
       "        vertical-align: middle;\n",
       "    }\n",
       "\n",
       "    .dataframe tbody tr th {\n",
       "        vertical-align: top;\n",
       "    }\n",
       "\n",
       "    .dataframe thead th {\n",
       "        text-align: right;\n",
       "    }\n",
       "</style>\n",
       "<table border=\"1\" class=\"dataframe\">\n",
       "  <thead>\n",
       "    <tr style=\"text-align: right;\">\n",
       "      <th></th>\n",
       "      <th>train-logloss-mean</th>\n",
       "      <th>train-logloss-std</th>\n",
       "      <th>test-logloss-mean</th>\n",
       "      <th>test-logloss-std</th>\n",
       "    </tr>\n",
       "  </thead>\n",
       "  <tbody>\n",
       "    <tr>\n",
       "      <th>0</th>\n",
       "      <td>0.66</td>\n",
       "      <td>0.00</td>\n",
       "      <td>0.66</td>\n",
       "      <td>0.00</td>\n",
       "    </tr>\n",
       "    <tr>\n",
       "      <th>1</th>\n",
       "      <td>0.63</td>\n",
       "      <td>0.00</td>\n",
       "      <td>0.63</td>\n",
       "      <td>0.00</td>\n",
       "    </tr>\n",
       "    <tr>\n",
       "      <th>2</th>\n",
       "      <td>0.60</td>\n",
       "      <td>0.00</td>\n",
       "      <td>0.61</td>\n",
       "      <td>0.00</td>\n",
       "    </tr>\n",
       "    <tr>\n",
       "      <th>3</th>\n",
       "      <td>0.58</td>\n",
       "      <td>0.00</td>\n",
       "      <td>0.58</td>\n",
       "      <td>0.00</td>\n",
       "    </tr>\n",
       "    <tr>\n",
       "      <th>4</th>\n",
       "      <td>0.56</td>\n",
       "      <td>0.00</td>\n",
       "      <td>0.56</td>\n",
       "      <td>0.00</td>\n",
       "    </tr>\n",
       "  </tbody>\n",
       "</table>\n",
       "</div>"
      ],
      "text/plain": [
       "    train-logloss-mean    train-logloss-std    test-logloss-mean  \\\n",
       "0                 0.66                 0.00                 0.66   \n",
       "1                 0.63                 0.00                 0.63   \n",
       "2                 0.60                 0.00                 0.61   \n",
       "3                 0.58                 0.00                 0.58   \n",
       "4                 0.56                 0.00                 0.56   \n",
       "\n",
       "      test-logloss-std  \n",
       "0                 0.00  \n",
       "1                 0.00  \n",
       "2                 0.00  \n",
       "3                 0.00  \n",
       "4                 0.00  "
      ]
     },
     "execution_count": 129,
     "metadata": {},
     "output_type": "execute_result"
    }
   ],
   "source": [
    "cv_results.head()"
   ]
  },
  {
   "cell_type": "code",
   "execution_count": 130,
   "metadata": {},
   "outputs": [
    {
     "name": "stdout",
     "output_type": "stream",
     "text": [
      "158                   0.38\n",
      "Name: test-logloss-mean, dtype: float64\n"
     ]
    }
   ],
   "source": [
    "print((cv_results[\"test-logloss-mean\"]).tail(1))"
   ]
  },
  {
   "cell_type": "code",
   "execution_count": 89,
   "metadata": {},
   "outputs": [],
   "source": [
    "LogLoss = make_scorer(log_loss)"
   ]
  },
  {
   "cell_type": "code",
   "execution_count": null,
   "metadata": {},
   "outputs": [],
   "source": [
    "print(gscv.best_score_, gscv.best_estimator_)"
   ]
  },
  {
   "cell_type": "code",
   "execution_count": 85,
   "metadata": {},
   "outputs": [],
   "source": [
    "xg_reg.fit(train_data,train_label)\n",
    "preds = xg_reg.predict(test)\n",
    "entregable_RFC = IDs[['Opportunity_ID']].copy()\n",
    "entregable_RFC['Target'] = preds"
   ]
  },
  {
   "cell_type": "code",
   "execution_count": 86,
   "metadata": {},
   "outputs": [],
   "source": [
    "entregable_RFC.to_csv('XGBoost_Final.csv', index=False)"
   ]
  },
  {
   "cell_type": "code",
   "execution_count": 150,
   "metadata": {},
   "outputs": [
    {
     "name": "stdout",
     "output_type": "stream",
     "text": [
      "[23:42:14] WARNING: C:/Users/Administrator/workspace/xgboost-win64_release_1.3.0/src/learner.cc:1061: Starting in XGBoost 1.3.0, the default evaluation metric used with the objective 'binary:logistic' was changed from 'error' to 'logloss'. Explicitly set eval_metric if you'd like to restore the old behavior.\n"
     ]
    }
   ],
   "source": [
    "xgb1.fit(train_data,train_label)\n",
    "preds = xgb1.predict_proba(test)[:,1]\n",
    "entregable_RFC = IDs[['Opportunity_ID']].copy()\n",
    "entregable_RFC['Target'] = preds"
   ]
  },
  {
   "cell_type": "code",
   "execution_count": 152,
   "metadata": {},
   "outputs": [],
   "source": [
    "entregable_RFC.to_csv('XGBoostClass_Final.csv', index=False)"
   ]
  }
 ],
 "metadata": {
  "colab": {
   "authorship_tag": "ABX9TyNqv30OdG+Oh8TASPE4PHLQ",
   "collapsed_sections": [],
   "name": "26-TTA_full.ipynb",
   "provenance": []
  },
  "kernelspec": {
   "display_name": "Python 3",
   "language": "python",
   "name": "python3"
  },
  "language_info": {
   "codemirror_mode": {
    "name": "ipython",
    "version": 3
   },
   "file_extension": ".py",
   "mimetype": "text/x-python",
   "name": "python",
   "nbconvert_exporter": "python",
   "pygments_lexer": "ipython3",
   "version": "3.7.6"
  }
 },
 "nbformat": 4,
 "nbformat_minor": 1
}
