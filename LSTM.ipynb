{
  "nbformat": 4,
  "nbformat_minor": 0,
  "metadata": {
    "accelerator": "GPU",
    "colab": {
      "name": "LSTM.ipynb",
      "provenance": [],
      "collapsed_sections": []
    },
    "kernelspec": {
      "display_name": "Python 3",
      "name": "python3"
    }
  },
  "cells": [
    {
      "cell_type": "code",
      "metadata": {
        "id": "HTbCDu-EajIv"
      },
      "source": [
        "import numpy as np"
      ],
      "execution_count": 1,
      "outputs": []
    },
    {
      "cell_type": "markdown",
      "metadata": {
        "id": "xIPlqtrdQ3CU"
      },
      "source": [
        ""
      ]
    },
    {
      "cell_type": "code",
      "metadata": {
        "id": "ilNFVJQjbR2h"
      },
      "source": [
        "# text processing libraries\n",
        "import re\n",
        "import string\n",
        "\n",
        "# LSTM  \n",
        "from numpy import array\n",
        "import matplotlib.pyplot as plt\n",
        "from pandas import read_csv\n",
        "import math\n",
        "\n",
        "import pandas as pd\n",
        "\n",
        "from keras.preprocessing.text import one_hot\n",
        "from keras.preprocessing.sequence import pad_sequences\n",
        "from keras.models import Sequential\n",
        "from keras.layers.core import Activation, Dropout, Dense\n",
        "from keras.layers import Flatten, LSTM\n",
        "from keras.layers import GlobalMaxPooling1D\n",
        "from keras.models import Model\n",
        "from keras.layers.embeddings import Embedding\n",
        "from sklearn.model_selection import train_test_split\n",
        "from keras.preprocessing.text import Tokenizer\n",
        "from keras.layers import Input\n",
        "from keras.layers.merge import Concatenate\n",
        "\n",
        "EMBEDDING_DIM = 300\n",
        "MAX_SEQUENCE_LENGTH = 200\n",
        "\n",
        "num_lstm = np.random.randint(175, 275)\n",
        "num_dense = np.random.randint(100, 150)\n",
        "rate_drop_lstm = 0.15 + np.random.rand() * 0.25\n",
        "rate_drop_dense = 0.15 + np.random.rand() * 0.25\n",
        "act = 'relu'"
      ],
      "execution_count": 2,
      "outputs": []
    },
    {
      "cell_type": "code",
      "metadata": {
        "colab": {
          "resources": {
            "http://localhost:8080/nbextensions/google.colab/files.js": {
              "data": "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",
              "ok": true,
              "headers": [
                [
                  "content-type",
                  "application/javascript"
                ]
              ],
              "status": 200,
              "status_text": ""
            }
          },
          "base_uri": "https://localhost:8080/",
          "height": 106
        },
        "id": "fnQOK2jjbXPY",
        "outputId": "3a457091-92ed-4e32-f80f-e4b8bb0e9ca2"
      },
      "source": [
        "from google.colab import files\n",
        "data_to_load = files.upload()"
      ],
      "execution_count": 3,
      "outputs": [
        {
          "output_type": "display_data",
          "data": {
            "text/html": [
              "\n",
              "     <input type=\"file\" id=\"files-bfcacc69-5a8e-49ac-8850-171255bc5f93\" name=\"files[]\" multiple disabled\n",
              "        style=\"border:none\" />\n",
              "     <output id=\"result-bfcacc69-5a8e-49ac-8850-171255bc5f93\">\n",
              "      Upload widget is only available when the cell has been executed in the\n",
              "      current browser session. Please rerun this cell to enable.\n",
              "      </output>\n",
              "      <script src=\"/nbextensions/google.colab/files.js\"></script> "
            ],
            "text/plain": [
              "<IPython.core.display.HTML object>"
            ]
          },
          "metadata": {
            "tags": []
          }
        },
        {
          "output_type": "stream",
          "text": [
            "Saving Train_TP2_Datos_2020-2C.csv to Train_TP2_Datos_2020-2C.csv\n",
            "Saving Test_TP2_Datos_2020-2C.csv to Test_TP2_Datos_2020-2C.csv\n"
          ],
          "name": "stdout"
        }
      ]
    },
    {
      "cell_type": "code",
      "metadata": {
        "id": "sKg6kcokdYlv"
      },
      "source": [
        "import io\n",
        "test_df = pd.read_csv(io.BytesIO(data_to_load['Test_TP2_Datos_2020-2C.csv']))\n",
        "train_df = pd.read_csv(io.BytesIO(data_to_load['Train_TP2_Datos_2020-2C.csv']))"
      ],
      "execution_count": 58,
      "outputs": []
    },
    {
      "cell_type": "code",
      "metadata": {
        "colab": {
          "base_uri": "https://localhost:8080/",
          "height": 326
        },
        "id": "6VHY2Rzbd24L",
        "outputId": "8eccfdb2-3ec4-4879-b63c-531c466772fd"
      },
      "source": [
        "train_df.head()"
      ],
      "execution_count": 59,
      "outputs": [
        {
          "output_type": "execute_result",
          "data": {
            "text/html": [
              "<div>\n",
              "<style scoped>\n",
              "    .dataframe tbody tr th:only-of-type {\n",
              "        vertical-align: middle;\n",
              "    }\n",
              "\n",
              "    .dataframe tbody tr th {\n",
              "        vertical-align: top;\n",
              "    }\n",
              "\n",
              "    .dataframe thead th {\n",
              "        text-align: right;\n",
              "    }\n",
              "</style>\n",
              "<table border=\"1\" class=\"dataframe\">\n",
              "  <thead>\n",
              "    <tr style=\"text-align: right;\">\n",
              "      <th></th>\n",
              "      <th>ID</th>\n",
              "      <th>Region</th>\n",
              "      <th>Territory</th>\n",
              "      <th>Pricing, Delivery_Terms_Quote_Appr</th>\n",
              "      <th>Pricing, Delivery_Terms_Approved</th>\n",
              "      <th>Bureaucratic_Code_0_Approval</th>\n",
              "      <th>Bureaucratic_Code_0_Approved</th>\n",
              "      <th>Submitted_for_Approval</th>\n",
              "      <th>Bureaucratic_Code</th>\n",
              "      <th>Account_Created_Date</th>\n",
              "      <th>Source</th>\n",
              "      <th>Billing_Country</th>\n",
              "      <th>Account_Name</th>\n",
              "      <th>Opportunity_Name</th>\n",
              "      <th>Opportunity_ID</th>\n",
              "      <th>Sales_Contract_No</th>\n",
              "      <th>Account_Owner</th>\n",
              "      <th>Opportunity_Owner</th>\n",
              "      <th>Account_Type</th>\n",
              "      <th>Opportunity_Type</th>\n",
              "      <th>Quote_Type</th>\n",
              "      <th>Delivery_Terms</th>\n",
              "      <th>Opportunity_Created_Date</th>\n",
              "      <th>Brand</th>\n",
              "      <th>Product_Type</th>\n",
              "      <th>Size</th>\n",
              "      <th>Product_Category_B</th>\n",
              "      <th>Price</th>\n",
              "      <th>Currency</th>\n",
              "      <th>Last_Activity</th>\n",
              "      <th>Quote_Expiry_Date</th>\n",
              "      <th>Last_Modified_Date</th>\n",
              "      <th>Last_Modified_By</th>\n",
              "      <th>Product_Family</th>\n",
              "      <th>Product_Name</th>\n",
              "      <th>ASP_Currency</th>\n",
              "      <th>ASP</th>\n",
              "      <th>ASP_(converted)_Currency</th>\n",
              "      <th>ASP_(converted)</th>\n",
              "      <th>Planned_Delivery_Start_Date</th>\n",
              "      <th>Planned_Delivery_End_Date</th>\n",
              "      <th>Month</th>\n",
              "      <th>Delivery_Quarter</th>\n",
              "      <th>Delivery_Year</th>\n",
              "      <th>Actual_Delivery_Date</th>\n",
              "      <th>TRF</th>\n",
              "      <th>Total_Amount_Currency</th>\n",
              "      <th>Total_Amount</th>\n",
              "      <th>Total_Taxable_Amount_Currency</th>\n",
              "      <th>Total_Taxable_Amount</th>\n",
              "      <th>Stage</th>\n",
              "      <th>Prod_Category_A</th>\n",
              "    </tr>\n",
              "  </thead>\n",
              "  <tbody>\n",
              "    <tr>\n",
              "      <th>0</th>\n",
              "      <td>27761</td>\n",
              "      <td>EMEA</td>\n",
              "      <td>None</td>\n",
              "      <td>1</td>\n",
              "      <td>1</td>\n",
              "      <td>1</td>\n",
              "      <td>1</td>\n",
              "      <td>0</td>\n",
              "      <td>Bureaucratic_Code_4</td>\n",
              "      <td>6/16/2015</td>\n",
              "      <td>None</td>\n",
              "      <td>Netherlands</td>\n",
              "      <td>Account_Name_619</td>\n",
              "      <td>Opportunity_Name_12598</td>\n",
              "      <td>0</td>\n",
              "      <td>None</td>\n",
              "      <td>Person_Name_51</td>\n",
              "      <td>Person_Name_18</td>\n",
              "      <td>Account_Type_2</td>\n",
              "      <td>Opportunity_Type_1</td>\n",
              "      <td>Non Binding</td>\n",
              "      <td>Delivery_Terms_2</td>\n",
              "      <td>12/7/2015</td>\n",
              "      <td>None</td>\n",
              "      <td>None</td>\n",
              "      <td>None</td>\n",
              "      <td>None</td>\n",
              "      <td>None</td>\n",
              "      <td>None</td>\n",
              "      <td>NaT</td>\n",
              "      <td>1/30/2016</td>\n",
              "      <td>6/13/2016</td>\n",
              "      <td>Person_Name_18</td>\n",
              "      <td>Product_Family_77</td>\n",
              "      <td>Product_Name_99</td>\n",
              "      <td>EUR</td>\n",
              "      <td>0.52</td>\n",
              "      <td>USD</td>\n",
              "      <td>0.58817</td>\n",
              "      <td>5/1/2016</td>\n",
              "      <td>6/30/2016</td>\n",
              "      <td>2016 - 5</td>\n",
              "      <td>Q2</td>\n",
              "      <td>2016</td>\n",
              "      <td>NaT</td>\n",
              "      <td>10</td>\n",
              "      <td>EUR</td>\n",
              "      <td>5272800.0</td>\n",
              "      <td>EUR</td>\n",
              "      <td>5272800.0</td>\n",
              "      <td>Closed Lost</td>\n",
              "      <td>Prod_Category_A_None</td>\n",
              "    </tr>\n",
              "    <tr>\n",
              "      <th>1</th>\n",
              "      <td>27760</td>\n",
              "      <td>EMEA</td>\n",
              "      <td>None</td>\n",
              "      <td>0</td>\n",
              "      <td>0</td>\n",
              "      <td>0</td>\n",
              "      <td>0</td>\n",
              "      <td>0</td>\n",
              "      <td>Bureaucratic_Code_4</td>\n",
              "      <td>6/16/2015</td>\n",
              "      <td>None</td>\n",
              "      <td>Netherlands</td>\n",
              "      <td>Account_Name_619</td>\n",
              "      <td>Opportunity_Name_12600</td>\n",
              "      <td>1</td>\n",
              "      <td>39</td>\n",
              "      <td>Person_Name_51</td>\n",
              "      <td>Person_Name_20</td>\n",
              "      <td>Account_Type_2</td>\n",
              "      <td>Opportunity_Type_1</td>\n",
              "      <td>Non Binding</td>\n",
              "      <td>Delivery_Terms_2</td>\n",
              "      <td>12/7/2015</td>\n",
              "      <td>None</td>\n",
              "      <td>None</td>\n",
              "      <td>None</td>\n",
              "      <td>None</td>\n",
              "      <td>None</td>\n",
              "      <td>None</td>\n",
              "      <td>NaT</td>\n",
              "      <td>1/20/2016</td>\n",
              "      <td>1/15/2016</td>\n",
              "      <td>Person_Name_20</td>\n",
              "      <td>Product_Family_77</td>\n",
              "      <td>Product_Name_100</td>\n",
              "      <td>EUR</td>\n",
              "      <td>0.53</td>\n",
              "      <td>USD</td>\n",
              "      <td>0.59948</td>\n",
              "      <td>1/18/2016</td>\n",
              "      <td>1/20/2016</td>\n",
              "      <td>2016 - 1</td>\n",
              "      <td>Q1</td>\n",
              "      <td>2016</td>\n",
              "      <td>NaT</td>\n",
              "      <td>0</td>\n",
              "      <td>EUR</td>\n",
              "      <td>48230.0</td>\n",
              "      <td>EUR</td>\n",
              "      <td>48230.0</td>\n",
              "      <td>Closed Won</td>\n",
              "      <td>Prod_Category_A_None</td>\n",
              "    </tr>\n",
              "    <tr>\n",
              "      <th>2</th>\n",
              "      <td>27446</td>\n",
              "      <td>Americas</td>\n",
              "      <td>NW America</td>\n",
              "      <td>0</td>\n",
              "      <td>0</td>\n",
              "      <td>0</td>\n",
              "      <td>0</td>\n",
              "      <td>0</td>\n",
              "      <td>Bureaucratic_Code_4</td>\n",
              "      <td>4/21/2015</td>\n",
              "      <td>Source_7</td>\n",
              "      <td>United States</td>\n",
              "      <td>Account_Name_1794</td>\n",
              "      <td>Opportunity_Name_469</td>\n",
              "      <td>2</td>\n",
              "      <td>760</td>\n",
              "      <td>Person_Name_64</td>\n",
              "      <td>Person_Name_8</td>\n",
              "      <td>Account_Type_5</td>\n",
              "      <td>Opportunity_Type_1</td>\n",
              "      <td>Non Binding</td>\n",
              "      <td>Delivery_Terms_4</td>\n",
              "      <td>12/8/2015</td>\n",
              "      <td>None</td>\n",
              "      <td>None</td>\n",
              "      <td>None</td>\n",
              "      <td>None</td>\n",
              "      <td>None</td>\n",
              "      <td>None</td>\n",
              "      <td>NaT</td>\n",
              "      <td>9/30/2016</td>\n",
              "      <td>9/29/2016</td>\n",
              "      <td>Person_Name_8</td>\n",
              "      <td>Product_Family_81</td>\n",
              "      <td>Product_Name_91</td>\n",
              "      <td>USD</td>\n",
              "      <td>0.48</td>\n",
              "      <td>USD</td>\n",
              "      <td>0.48000</td>\n",
              "      <td>1/25/2016</td>\n",
              "      <td>1/25/2016</td>\n",
              "      <td>2016 - 1</td>\n",
              "      <td>Q1</td>\n",
              "      <td>2016</td>\n",
              "      <td>NaT</td>\n",
              "      <td>0</td>\n",
              "      <td>USD</td>\n",
              "      <td>83865.6</td>\n",
              "      <td>USD</td>\n",
              "      <td>83865.6</td>\n",
              "      <td>Closed Won</td>\n",
              "      <td>Prod_Category_A_None</td>\n",
              "    </tr>\n",
              "    <tr>\n",
              "      <th>3</th>\n",
              "      <td>16808</td>\n",
              "      <td>Americas</td>\n",
              "      <td>NW America</td>\n",
              "      <td>1</td>\n",
              "      <td>0</td>\n",
              "      <td>1</td>\n",
              "      <td>0</td>\n",
              "      <td>0</td>\n",
              "      <td>Bureaucratic_Code_5</td>\n",
              "      <td>7/27/2013</td>\n",
              "      <td>Source_11</td>\n",
              "      <td>United States</td>\n",
              "      <td>Account_Name_1201</td>\n",
              "      <td>Opportunity_Name_415</td>\n",
              "      <td>3</td>\n",
              "      <td>None</td>\n",
              "      <td>Person_Name_8</td>\n",
              "      <td>Person_Name_8</td>\n",
              "      <td>Account_Type_5</td>\n",
              "      <td>Opportunity_Type_19</td>\n",
              "      <td>Non Binding</td>\n",
              "      <td>Delivery_Terms_1</td>\n",
              "      <td>12/8/2015</td>\n",
              "      <td>Other</td>\n",
              "      <td>Product_Type_0</td>\n",
              "      <td>Size_4</td>\n",
              "      <td>Product_Category_B_16</td>\n",
              "      <td>0.42</td>\n",
              "      <td>USD</td>\n",
              "      <td>NaT</td>\n",
              "      <td>NaT</td>\n",
              "      <td>3/27/2018</td>\n",
              "      <td>Person_Name_8</td>\n",
              "      <td>Product_Family_209</td>\n",
              "      <td>Product_Name_432</td>\n",
              "      <td>USD</td>\n",
              "      <td>0.53</td>\n",
              "      <td>USD</td>\n",
              "      <td>0.53000</td>\n",
              "      <td>2/1/2018</td>\n",
              "      <td>3/31/2018</td>\n",
              "      <td>2018 - 2</td>\n",
              "      <td>Q1</td>\n",
              "      <td>2018</td>\n",
              "      <td>NaT</td>\n",
              "      <td>14</td>\n",
              "      <td>USD</td>\n",
              "      <td>7421881.5</td>\n",
              "      <td>USD</td>\n",
              "      <td>7421881.5</td>\n",
              "      <td>Closed Lost</td>\n",
              "      <td>Prod_Category_A_None</td>\n",
              "    </tr>\n",
              "    <tr>\n",
              "      <th>4</th>\n",
              "      <td>16805</td>\n",
              "      <td>Americas</td>\n",
              "      <td>NW America</td>\n",
              "      <td>1</td>\n",
              "      <td>0</td>\n",
              "      <td>1</td>\n",
              "      <td>0</td>\n",
              "      <td>0</td>\n",
              "      <td>Bureaucratic_Code_5</td>\n",
              "      <td>7/27/2013</td>\n",
              "      <td>Source_11</td>\n",
              "      <td>United States</td>\n",
              "      <td>Account_Name_1201</td>\n",
              "      <td>Opportunity_Name_851</td>\n",
              "      <td>4</td>\n",
              "      <td>None</td>\n",
              "      <td>Person_Name_8</td>\n",
              "      <td>Person_Name_8</td>\n",
              "      <td>Account_Type_5</td>\n",
              "      <td>Opportunity_Type_19</td>\n",
              "      <td>Non Binding</td>\n",
              "      <td>Delivery_Terms_1</td>\n",
              "      <td>12/8/2015</td>\n",
              "      <td>Other</td>\n",
              "      <td>Product_Type_0</td>\n",
              "      <td>Size_4</td>\n",
              "      <td>Product_Category_B_16</td>\n",
              "      <td>0.42</td>\n",
              "      <td>USD</td>\n",
              "      <td>NaT</td>\n",
              "      <td>6/2/2017</td>\n",
              "      <td>3/27/2018</td>\n",
              "      <td>Person_Name_8</td>\n",
              "      <td>Product_Family_209</td>\n",
              "      <td>Product_Name_432</td>\n",
              "      <td>USD</td>\n",
              "      <td>0.53</td>\n",
              "      <td>USD</td>\n",
              "      <td>0.53000</td>\n",
              "      <td>2/1/2018</td>\n",
              "      <td>2/28/2018</td>\n",
              "      <td>2018 - 2</td>\n",
              "      <td>Q1</td>\n",
              "      <td>2018</td>\n",
              "      <td>NaT</td>\n",
              "      <td>25</td>\n",
              "      <td>USD</td>\n",
              "      <td>13357192.5</td>\n",
              "      <td>USD</td>\n",
              "      <td>13357192.5</td>\n",
              "      <td>Closed Lost</td>\n",
              "      <td>Prod_Category_A_None</td>\n",
              "    </tr>\n",
              "  </tbody>\n",
              "</table>\n",
              "</div>"
            ],
            "text/plain": [
              "      ID    Region  ...        Stage       Prod_Category_A\n",
              "0  27761      EMEA  ...  Closed Lost  Prod_Category_A_None\n",
              "1  27760      EMEA  ...   Closed Won  Prod_Category_A_None\n",
              "2  27446  Americas  ...   Closed Won  Prod_Category_A_None\n",
              "3  16808  Americas  ...  Closed Lost  Prod_Category_A_None\n",
              "4  16805  Americas  ...  Closed Lost  Prod_Category_A_None\n",
              "\n",
              "[5 rows x 52 columns]"
            ]
          },
          "metadata": {
            "tags": []
          },
          "execution_count": 59
        }
      ]
    },
    {
      "cell_type": "code",
      "metadata": {
        "colab": {
          "base_uri": "https://localhost:8080/",
          "height": 326
        },
        "id": "Wz0EQjKuRlh6",
        "outputId": "8cc900a8-8170-4a9d-a1c2-cb81ead1e661"
      },
      "source": [
        "test_df.head()"
      ],
      "execution_count": 60,
      "outputs": [
        {
          "output_type": "execute_result",
          "data": {
            "text/html": [
              "<div>\n",
              "<style scoped>\n",
              "    .dataframe tbody tr th:only-of-type {\n",
              "        vertical-align: middle;\n",
              "    }\n",
              "\n",
              "    .dataframe tbody tr th {\n",
              "        vertical-align: top;\n",
              "    }\n",
              "\n",
              "    .dataframe thead th {\n",
              "        text-align: right;\n",
              "    }\n",
              "</style>\n",
              "<table border=\"1\" class=\"dataframe\">\n",
              "  <thead>\n",
              "    <tr style=\"text-align: right;\">\n",
              "      <th></th>\n",
              "      <th>ID</th>\n",
              "      <th>Region</th>\n",
              "      <th>Territory</th>\n",
              "      <th>Pricing, Delivery_Terms_Quote_Appr</th>\n",
              "      <th>Pricing, Delivery_Terms_Approved</th>\n",
              "      <th>Bureaucratic_Code_0_Approval</th>\n",
              "      <th>Bureaucratic_Code_0_Approved</th>\n",
              "      <th>Submitted_for_Approval</th>\n",
              "      <th>Bureaucratic_Code</th>\n",
              "      <th>Account_Created_Date</th>\n",
              "      <th>Source</th>\n",
              "      <th>Billing_Country</th>\n",
              "      <th>Account_Name</th>\n",
              "      <th>Opportunity_Name</th>\n",
              "      <th>Opportunity_ID</th>\n",
              "      <th>Sales_Contract_No</th>\n",
              "      <th>Account_Owner</th>\n",
              "      <th>Opportunity_Owner</th>\n",
              "      <th>Account_Type</th>\n",
              "      <th>Opportunity_Type</th>\n",
              "      <th>Quote_Type</th>\n",
              "      <th>Delivery_Terms</th>\n",
              "      <th>Opportunity_Created_Date</th>\n",
              "      <th>Brand</th>\n",
              "      <th>Product_Type</th>\n",
              "      <th>Size</th>\n",
              "      <th>Product_Category_B</th>\n",
              "      <th>Price</th>\n",
              "      <th>Currency</th>\n",
              "      <th>Last_Activity</th>\n",
              "      <th>Quote_Expiry_Date</th>\n",
              "      <th>Last_Modified_Date</th>\n",
              "      <th>Last_Modified_By</th>\n",
              "      <th>Product_Family</th>\n",
              "      <th>Product_Name</th>\n",
              "      <th>ASP_Currency</th>\n",
              "      <th>ASP</th>\n",
              "      <th>ASP_(converted)_Currency</th>\n",
              "      <th>ASP_(converted)</th>\n",
              "      <th>Planned_Delivery_Start_Date</th>\n",
              "      <th>Planned_Delivery_End_Date</th>\n",
              "      <th>Month</th>\n",
              "      <th>Delivery_Quarter</th>\n",
              "      <th>Delivery_Year</th>\n",
              "      <th>Actual_Delivery_Date</th>\n",
              "      <th>TRF</th>\n",
              "      <th>Total_Amount_Currency</th>\n",
              "      <th>Total_Amount</th>\n",
              "      <th>Total_Taxable_Amount_Currency</th>\n",
              "      <th>Total_Taxable_Amount</th>\n",
              "      <th>Prod_Category_A</th>\n",
              "    </tr>\n",
              "  </thead>\n",
              "  <tbody>\n",
              "    <tr>\n",
              "      <th>0</th>\n",
              "      <td>6140</td>\n",
              "      <td>EMEA</td>\n",
              "      <td>Germany</td>\n",
              "      <td>1</td>\n",
              "      <td>1</td>\n",
              "      <td>1</td>\n",
              "      <td>1</td>\n",
              "      <td>0</td>\n",
              "      <td>Bureaucratic_Code_4</td>\n",
              "      <td>7/5/2017</td>\n",
              "      <td>Source_7</td>\n",
              "      <td>Germany</td>\n",
              "      <td>Account_Name_978</td>\n",
              "      <td>Opportunity_Name_6118</td>\n",
              "      <td>10689</td>\n",
              "      <td>6436</td>\n",
              "      <td>Person_Name_13</td>\n",
              "      <td>Person_Name_13</td>\n",
              "      <td>Account_Type_0</td>\n",
              "      <td>Opportunity_Type_8</td>\n",
              "      <td>Non Binding</td>\n",
              "      <td>Delivery_Terms_2</td>\n",
              "      <td>4/12/2019</td>\n",
              "      <td>None</td>\n",
              "      <td>None</td>\n",
              "      <td>None</td>\n",
              "      <td>None</td>\n",
              "      <td>None</td>\n",
              "      <td>None</td>\n",
              "      <td>NaT</td>\n",
              "      <td>4/30/2019</td>\n",
              "      <td>4/12/2019</td>\n",
              "      <td>Person_Name_13</td>\n",
              "      <td>Product_Family_171</td>\n",
              "      <td>Product_Name_332</td>\n",
              "      <td>EUR</td>\n",
              "      <td>0.325</td>\n",
              "      <td>USD</td>\n",
              "      <td>0.36761</td>\n",
              "      <td>5/1/2019</td>\n",
              "      <td>5/31/2019</td>\n",
              "      <td>2019 - 5</td>\n",
              "      <td>Q2</td>\n",
              "      <td>2019</td>\n",
              "      <td>NaT</td>\n",
              "      <td>0</td>\n",
              "      <td>EUR</td>\n",
              "      <td>162240.0</td>\n",
              "      <td>EUR</td>\n",
              "      <td>367419.0</td>\n",
              "      <td>Prod_Category_A_None</td>\n",
              "    </tr>\n",
              "    <tr>\n",
              "      <th>1</th>\n",
              "      <td>6146</td>\n",
              "      <td>EMEA</td>\n",
              "      <td>Germany</td>\n",
              "      <td>1</td>\n",
              "      <td>1</td>\n",
              "      <td>1</td>\n",
              "      <td>1</td>\n",
              "      <td>0</td>\n",
              "      <td>Bureaucratic_Code_4</td>\n",
              "      <td>7/5/2017</td>\n",
              "      <td>Source_7</td>\n",
              "      <td>Germany</td>\n",
              "      <td>Account_Name_978</td>\n",
              "      <td>Opportunity_Name_6118</td>\n",
              "      <td>10689</td>\n",
              "      <td>6436</td>\n",
              "      <td>Person_Name_13</td>\n",
              "      <td>Person_Name_13</td>\n",
              "      <td>Account_Type_0</td>\n",
              "      <td>Opportunity_Type_8</td>\n",
              "      <td>Non Binding</td>\n",
              "      <td>Delivery_Terms_2</td>\n",
              "      <td>4/12/2019</td>\n",
              "      <td>None</td>\n",
              "      <td>None</td>\n",
              "      <td>None</td>\n",
              "      <td>None</td>\n",
              "      <td>None</td>\n",
              "      <td>None</td>\n",
              "      <td>NaT</td>\n",
              "      <td>4/30/2019</td>\n",
              "      <td>4/12/2019</td>\n",
              "      <td>Person_Name_13</td>\n",
              "      <td>Product_Family_167</td>\n",
              "      <td>Product_Name_315</td>\n",
              "      <td>EUR</td>\n",
              "      <td>0.320</td>\n",
              "      <td>USD</td>\n",
              "      <td>0.36195</td>\n",
              "      <td>5/1/2019</td>\n",
              "      <td>5/31/2019</td>\n",
              "      <td>2019 - 5</td>\n",
              "      <td>Q2</td>\n",
              "      <td>2019</td>\n",
              "      <td>NaT</td>\n",
              "      <td>0</td>\n",
              "      <td>EUR</td>\n",
              "      <td>78624.0</td>\n",
              "      <td>EUR</td>\n",
              "      <td>367419.0</td>\n",
              "      <td>Prod_Category_A_None</td>\n",
              "    </tr>\n",
              "    <tr>\n",
              "      <th>2</th>\n",
              "      <td>6151</td>\n",
              "      <td>EMEA</td>\n",
              "      <td>Germany</td>\n",
              "      <td>1</td>\n",
              "      <td>1</td>\n",
              "      <td>1</td>\n",
              "      <td>1</td>\n",
              "      <td>0</td>\n",
              "      <td>Bureaucratic_Code_4</td>\n",
              "      <td>7/5/2017</td>\n",
              "      <td>Source_7</td>\n",
              "      <td>Germany</td>\n",
              "      <td>Account_Name_978</td>\n",
              "      <td>Opportunity_Name_6118</td>\n",
              "      <td>10689</td>\n",
              "      <td>6436</td>\n",
              "      <td>Person_Name_13</td>\n",
              "      <td>Person_Name_13</td>\n",
              "      <td>Account_Type_0</td>\n",
              "      <td>Opportunity_Type_8</td>\n",
              "      <td>Non Binding</td>\n",
              "      <td>Delivery_Terms_2</td>\n",
              "      <td>4/12/2019</td>\n",
              "      <td>None</td>\n",
              "      <td>None</td>\n",
              "      <td>None</td>\n",
              "      <td>None</td>\n",
              "      <td>None</td>\n",
              "      <td>None</td>\n",
              "      <td>NaT</td>\n",
              "      <td>4/30/2019</td>\n",
              "      <td>4/12/2019</td>\n",
              "      <td>Person_Name_13</td>\n",
              "      <td>Product_Family_140</td>\n",
              "      <td>Product_Name_241</td>\n",
              "      <td>EUR</td>\n",
              "      <td>0.275</td>\n",
              "      <td>USD</td>\n",
              "      <td>0.31105</td>\n",
              "      <td>5/1/2019</td>\n",
              "      <td>5/31/2019</td>\n",
              "      <td>2019 - 5</td>\n",
              "      <td>Q2</td>\n",
              "      <td>2019</td>\n",
              "      <td>NaT</td>\n",
              "      <td>0</td>\n",
              "      <td>EUR</td>\n",
              "      <td>126555.0</td>\n",
              "      <td>EUR</td>\n",
              "      <td>367419.0</td>\n",
              "      <td>Prod_Category_A_None</td>\n",
              "    </tr>\n",
              "    <tr>\n",
              "      <th>3</th>\n",
              "      <td>6118</td>\n",
              "      <td>EMEA</td>\n",
              "      <td>Germany</td>\n",
              "      <td>1</td>\n",
              "      <td>1</td>\n",
              "      <td>1</td>\n",
              "      <td>1</td>\n",
              "      <td>0</td>\n",
              "      <td>Bureaucratic_Code_4</td>\n",
              "      <td>7/5/2017</td>\n",
              "      <td>Source_7</td>\n",
              "      <td>Germany</td>\n",
              "      <td>Account_Name_978</td>\n",
              "      <td>Opportunity_Name_6117</td>\n",
              "      <td>10690</td>\n",
              "      <td>6504</td>\n",
              "      <td>Person_Name_13</td>\n",
              "      <td>Person_Name_13</td>\n",
              "      <td>Account_Type_0</td>\n",
              "      <td>Opportunity_Type_8</td>\n",
              "      <td>Non Binding</td>\n",
              "      <td>Delivery_Terms_2</td>\n",
              "      <td>4/12/2019</td>\n",
              "      <td>None</td>\n",
              "      <td>None</td>\n",
              "      <td>None</td>\n",
              "      <td>None</td>\n",
              "      <td>None</td>\n",
              "      <td>None</td>\n",
              "      <td>NaT</td>\n",
              "      <td>4/30/2019</td>\n",
              "      <td>4/25/2019</td>\n",
              "      <td>Person_Name_13</td>\n",
              "      <td>Product_Family_171</td>\n",
              "      <td>Product_Name_328</td>\n",
              "      <td>EUR</td>\n",
              "      <td>0.325</td>\n",
              "      <td>USD</td>\n",
              "      <td>0.36761</td>\n",
              "      <td>6/1/2019</td>\n",
              "      <td>6/28/2019</td>\n",
              "      <td>2019 - 6</td>\n",
              "      <td>Q2</td>\n",
              "      <td>2019</td>\n",
              "      <td>NaT</td>\n",
              "      <td>1</td>\n",
              "      <td>EUR</td>\n",
              "      <td>243360.0</td>\n",
              "      <td>EUR</td>\n",
              "      <td>757783.5</td>\n",
              "      <td>Prod_Category_A_None</td>\n",
              "    </tr>\n",
              "    <tr>\n",
              "      <th>4</th>\n",
              "      <td>6124</td>\n",
              "      <td>EMEA</td>\n",
              "      <td>Germany</td>\n",
              "      <td>1</td>\n",
              "      <td>1</td>\n",
              "      <td>1</td>\n",
              "      <td>1</td>\n",
              "      <td>0</td>\n",
              "      <td>Bureaucratic_Code_4</td>\n",
              "      <td>7/5/2017</td>\n",
              "      <td>Source_7</td>\n",
              "      <td>Germany</td>\n",
              "      <td>Account_Name_978</td>\n",
              "      <td>Opportunity_Name_6117</td>\n",
              "      <td>10690</td>\n",
              "      <td>6504</td>\n",
              "      <td>Person_Name_13</td>\n",
              "      <td>Person_Name_13</td>\n",
              "      <td>Account_Type_0</td>\n",
              "      <td>Opportunity_Type_8</td>\n",
              "      <td>Non Binding</td>\n",
              "      <td>Delivery_Terms_2</td>\n",
              "      <td>4/12/2019</td>\n",
              "      <td>None</td>\n",
              "      <td>None</td>\n",
              "      <td>None</td>\n",
              "      <td>None</td>\n",
              "      <td>None</td>\n",
              "      <td>None</td>\n",
              "      <td>NaT</td>\n",
              "      <td>4/30/2019</td>\n",
              "      <td>4/25/2019</td>\n",
              "      <td>Person_Name_13</td>\n",
              "      <td>Product_Family_167</td>\n",
              "      <td>Product_Name_315</td>\n",
              "      <td>EUR</td>\n",
              "      <td>0.320</td>\n",
              "      <td>USD</td>\n",
              "      <td>0.36195</td>\n",
              "      <td>6/1/2019</td>\n",
              "      <td>6/29/2019</td>\n",
              "      <td>2019 - 6</td>\n",
              "      <td>Q2</td>\n",
              "      <td>2019</td>\n",
              "      <td>NaT</td>\n",
              "      <td>0</td>\n",
              "      <td>EUR</td>\n",
              "      <td>157248.0</td>\n",
              "      <td>EUR</td>\n",
              "      <td>757783.5</td>\n",
              "      <td>Prod_Category_A_None</td>\n",
              "    </tr>\n",
              "  </tbody>\n",
              "</table>\n",
              "</div>"
            ],
            "text/plain": [
              "     ID Region  ... Total_Taxable_Amount       Prod_Category_A\n",
              "0  6140   EMEA  ...             367419.0  Prod_Category_A_None\n",
              "1  6146   EMEA  ...             367419.0  Prod_Category_A_None\n",
              "2  6151   EMEA  ...             367419.0  Prod_Category_A_None\n",
              "3  6118   EMEA  ...             757783.5  Prod_Category_A_None\n",
              "4  6124   EMEA  ...             757783.5  Prod_Category_A_None\n",
              "\n",
              "[5 rows x 51 columns]"
            ]
          },
          "metadata": {
            "tags": []
          },
          "execution_count": 60
        }
      ]
    },
    {
      "cell_type": "code",
      "metadata": {
        "id": "vSAct88SQcnv"
      },
      "source": [
        ""
      ],
      "execution_count": 60,
      "outputs": []
    },
    {
      "cell_type": "code",
      "metadata": {
        "id": "j0cTkvAWfUAt"
      },
      "source": [
        "#Y convierto las victorias en 1 y derrotas en 0\n",
        "train_df = train_df[(train_df.Stage == 'Closed Won') | (train_df.Stage == 'Closed Lost')]\n",
        "train_df['Stage'] = train_df['Stage'].transform(func=lambda x : 1 if x=='Closed Won' else 0)\n"
      ],
      "execution_count": 61,
      "outputs": []
    },
    {
      "cell_type": "code",
      "metadata": {
        "colab": {
          "base_uri": "https://localhost:8080/"
        },
        "id": "SqAg6voKV3us",
        "outputId": "3e184d64-c518-48f6-f73f-91f7f24eb5ac"
      },
      "source": [
        "#Completo datos faltantes con Total Amount\n",
        "train_df['Total_Taxable_Amount'].loc[train_df.Total_Taxable_Amount==0.00] = train_df.loc[train_df.Total_Taxable_Amount==0.00]\\\n",
        "                                            .groupby(['Opportunity_ID'])['Total_Amount'].transform('sum')\n",
        "\n",
        "#Convierto a una misma moneda (a dólares) con la información que ya viene en ASP, ASP_Currency y ASP_(converted)\n",
        "toEUR = train_df[train_df.ASP_Currency=='EUR'].head(1)[['ASP_(converted)']].iloc[0,0]/train_df[train_df.ASP_Currency=='EUR']\\\n",
        "        .head(1)[['ASP']].iloc[0,0]\n",
        "toAUD = train_df[train_df.ASP_Currency=='AUD'].head(1)[['ASP_(converted)']].iloc[0,0]/train_df[train_df.ASP_Currency=='AUD']\\\n",
        "        .head(1)[['ASP']].iloc[0,0]\n",
        "toGBP = train_df[train_df.ASP_Currency=='GBP'].head(1)[['ASP_(converted)']].iloc[0,0]/train_df[train_df.ASP_Currency=='GBP']\\\n",
        "        .head(1)[['ASP']].iloc[0,0]\n",
        "toJPY = train_df[['ASP_(converted)']].iloc[12,0]/train_df[['ASP']].iloc[12,0]\n",
        "#En el head(1) de JPY justo habia un nan. Ese numero magico 12 corresponde a la primera fila de moneda JPY con un valor valido\n",
        "\n",
        "train_df['Total_Taxable_Amount_(converted)']=0.0\n",
        "train_df['Total_Taxable_Amount_(converted)'].loc[train_df['Total_Taxable_Amount_Currency']=='EUR'] = \\\n",
        "                                                        train_df['Total_Taxable_Amount'].apply(lambda x: x*toEUR)\n",
        "train_df['Total_Taxable_Amount_(converted)'].loc[train_df['Total_Taxable_Amount_Currency']=='JPY'] = \\\n",
        "                                                        train_df['Total_Taxable_Amount'].apply(lambda x: x*toJPY)\n",
        "train_df['Total_Taxable_Amount_(converted)'].loc[train_df['Total_Taxable_Amount_Currency']=='AUD'] = \\\n",
        "                                                        train_df['Total_Taxable_Amount'].apply(lambda x: x*toAUD)\n",
        "train_df['Total_Taxable_Amount_(converted)'].loc[train_df['Total_Taxable_Amount_Currency']=='GBP'] = \\\n",
        "                                                        train_df['Total_Taxable_Amount'].apply(lambda x: x*toGBP)\n",
        "train_df['Total_Taxable_Amount_(converted)'].loc[train_df['Total_Taxable_Amount_Currency']=='USD'] = \\\n",
        "                                                        train_df['Total_Taxable_Amount'].apply(lambda x: x)"
      ],
      "execution_count": 62,
      "outputs": [
        {
          "output_type": "stream",
          "text": [
            "/usr/local/lib/python3.7/dist-packages/pandas/core/indexing.py:670: SettingWithCopyWarning: \n",
            "A value is trying to be set on a copy of a slice from a DataFrame\n",
            "\n",
            "See the caveats in the documentation: https://pandas.pydata.org/pandas-docs/stable/user_guide/indexing.html#returning-a-view-versus-a-copy\n",
            "  iloc._setitem_with_indexer(indexer, value)\n"
          ],
          "name": "stderr"
        }
      ]
    },
    {
      "cell_type": "code",
      "metadata": {
        "colab": {
          "base_uri": "https://localhost:8080/"
        },
        "id": "5urUAnPOcKzi",
        "outputId": "5fbb1b6b-a338-4305-d9ad-92f553d346b0"
      },
      "source": [
        "test_df['ASP_Currency'].value_counts()"
      ],
      "execution_count": 63,
      "outputs": [
        {
          "output_type": "execute_result",
          "data": {
            "text/plain": [
              "USD    1547\n",
              "EUR     836\n",
              "JPY     168\n",
              "Name: ASP_Currency, dtype: int64"
            ]
          },
          "metadata": {
            "tags": []
          },
          "execution_count": 63
        }
      ]
    },
    {
      "cell_type": "code",
      "metadata": {
        "colab": {
          "base_uri": "https://localhost:8080/"
        },
        "id": "lJTx0NyUZ7T8",
        "outputId": "013f22fa-60cf-4f15-ab42-92b5da11f17f"
      },
      "source": [
        "#Completo datos faltantes con Total Amount\n",
        "test_df['Total_Taxable_Amount'].loc[test_df.Total_Taxable_Amount==0.00] = test_df.loc[test_df.Total_Taxable_Amount==0.00]\\\n",
        "                                            .groupby(['Opportunity_ID'])['Total_Amount'].transform('sum')\n",
        "\n",
        "test_df['Total_Taxable_Amount_(converted)']=0.0\n",
        "test_df['Total_Taxable_Amount_(converted)'].loc[test_df['Total_Taxable_Amount_Currency']=='EUR'] = \\\n",
        "                                                        test_df['Total_Taxable_Amount'].apply(lambda x: x*toEUR)\n",
        "test_df['Total_Taxable_Amount_(converted)'].loc[test_df['Total_Taxable_Amount_Currency']=='JPY'] = \\\n",
        "                                                        test_df['Total_Taxable_Amount'].apply(lambda x: x*toJPY)\n",
        "test_df['Total_Taxable_Amount_(converted)'].loc[test_df['Total_Taxable_Amount_Currency']=='AUD'] = \\\n",
        "                                                        test_df['Total_Taxable_Amount'].apply(lambda x: x*toAUD)\n",
        "test_df['Total_Taxable_Amount_(converted)'].loc[test_df['Total_Taxable_Amount_Currency']=='GBP'] = \\\n",
        "                                                        test_df['Total_Taxable_Amount'].apply(lambda x: x*toGBP)\n",
        "test_df['Total_Taxable_Amount_(converted)'].loc[test_df['Total_Taxable_Amount_Currency']=='USD'] = \\\n",
        "                                                        test_df['Total_Taxable_Amount'].apply(lambda x: x)"
      ],
      "execution_count": 64,
      "outputs": [
        {
          "output_type": "stream",
          "text": [
            "/usr/local/lib/python3.7/dist-packages/pandas/core/indexing.py:670: SettingWithCopyWarning: \n",
            "A value is trying to be set on a copy of a slice from a DataFrame\n",
            "\n",
            "See the caveats in the documentation: https://pandas.pydata.org/pandas-docs/stable/user_guide/indexing.html#returning-a-view-versus-a-copy\n",
            "  iloc._setitem_with_indexer(indexer, value)\n"
          ],
          "name": "stderr"
        }
      ]
    },
    {
      "cell_type": "code",
      "metadata": {
        "colab": {
          "base_uri": "https://localhost:8080/"
        },
        "id": "dDpVcRcBWBo2",
        "outputId": "b10fda58-4206-41fe-c83d-3421b9428d68"
      },
      "source": [
        "train_df['Total_Taxable_Amount_(converted)']"
      ],
      "execution_count": 65,
      "outputs": [
        {
          "output_type": "execute_result",
          "data": {
            "text/plain": [
              "0        5.964044e+06\n",
              "1        5.455277e+04\n",
              "2        8.386560e+04\n",
              "3        7.421882e+06\n",
              "4        1.335719e+07\n",
              "             ...     \n",
              "16942    3.390065e+05\n",
              "16943    3.390065e+05\n",
              "16944    3.390065e+05\n",
              "16945    2.346797e+06\n",
              "16946    2.560320e+07\n",
              "Name: Total_Taxable_Amount_(converted), Length: 16883, dtype: float64"
            ]
          },
          "metadata": {
            "tags": []
          },
          "execution_count": 65
        }
      ]
    },
    {
      "cell_type": "code",
      "metadata": {
        "colab": {
          "base_uri": "https://localhost:8080/"
        },
        "id": "R61WMz-1csHf",
        "outputId": "588ee3ab-9bb6-4825-912e-5ce198e192f0"
      },
      "source": [
        "test_df['Total_Taxable_Amount_(converted)']"
      ],
      "execution_count": 66,
      "outputs": [
        {
          "output_type": "execute_result",
          "data": {
            "text/plain": [
              "0       415586.217750\n",
              "1       415586.217750\n",
              "2       415586.217750\n",
              "3       857126.002298\n",
              "4       857126.002298\n",
              "            ...      \n",
              "2546    147750.000000\n",
              "2547     45054.900000\n",
              "2548    100122.000000\n",
              "2549    143220.000000\n",
              "2550    985208.276800\n",
              "Name: Total_Taxable_Amount_(converted), Length: 2551, dtype: float64"
            ]
          },
          "metadata": {
            "tags": []
          },
          "execution_count": 66
        }
      ]
    },
    {
      "cell_type": "code",
      "metadata": {
        "id": "SsQ2anBLwUC3"
      },
      "source": [
        "train_df['TRF_mean'] = train_df.groupby('Opportunity_ID')['TRF'].transform('mean')\n",
        "train_df = train_df.drop('TRF', axis=1)"
      ],
      "execution_count": 67,
      "outputs": []
    },
    {
      "cell_type": "code",
      "metadata": {
        "id": "YRHmvzPWxhXf"
      },
      "source": [
        "test_df['TRF_mean'] = test_df.groupby('Opportunity_ID')['TRF'].transform('mean')\n",
        "test_df = test_df.drop('TRF', axis=1)"
      ],
      "execution_count": 68,
      "outputs": []
    },
    {
      "cell_type": "code",
      "metadata": {
        "id": "lgUWPCEIi8bh"
      },
      "source": [
        "\n",
        "train_df['TRF_mean'] = train_df['TRF_mean'].astype(int)\n",
        "test_df['TRF_mean'] = test_df['TRF_mean'].astype(int)"
      ],
      "execution_count": 69,
      "outputs": []
    },
    {
      "cell_type": "code",
      "metadata": {
        "id": "RzuRJ-o-Ox26"
      },
      "source": [
        "train_df['Pricing, Delivery_Terms_Quote_Appr'] = train_df['Pricing, Delivery_Terms_Quote_Appr']\\\n",
        "                                                .transform(func=lambda x : 'Necesita' if x==1 else 'NoNecesita')\n",
        "train_df['Pricing, Delivery_Terms_Approved'] = train_df['Pricing, Delivery_Terms_Approved']\\\n",
        "                                                .transform(func=lambda x : 'Obtuvo' if x==1 else 'NoObtuvo')\n",
        "\n",
        "train_df['Aprobacion_Especial'] = train_df['Pricing, Delivery_Terms_Quote_Appr']+train_df['Pricing, Delivery_Terms_Approved']\n",
        "\n",
        "# train = train.drop('Pricing, Delivery_Terms_Quote_Appr', axis=1)\n",
        "# train = train.drop('Pricing, Delivery_Terms_Approved', axis=1)"
      ],
      "execution_count": 70,
      "outputs": []
    },
    {
      "cell_type": "code",
      "metadata": {
        "colab": {
          "base_uri": "https://localhost:8080/"
        },
        "id": "NxW44eLLOArd",
        "outputId": "6d6bb6ad-98a7-4654-b268-cd2f1f303676"
      },
      "source": [
        "train_df['Aprobacion_Especial']"
      ],
      "execution_count": 71,
      "outputs": [
        {
          "output_type": "execute_result",
          "data": {
            "text/plain": [
              "0            NecesitaObtuvo\n",
              "1        NoNecesitaNoObtuvo\n",
              "2        NoNecesitaNoObtuvo\n",
              "3          NecesitaNoObtuvo\n",
              "4          NecesitaNoObtuvo\n",
              "                ...        \n",
              "16942        NecesitaObtuvo\n",
              "16943        NecesitaObtuvo\n",
              "16944        NecesitaObtuvo\n",
              "16945        NecesitaObtuvo\n",
              "16946        NecesitaObtuvo\n",
              "Name: Aprobacion_Especial, Length: 16883, dtype: object"
            ]
          },
          "metadata": {
            "tags": []
          },
          "execution_count": 71
        }
      ]
    },
    {
      "cell_type": "code",
      "metadata": {
        "id": "B3oh8pmAR_ZL"
      },
      "source": [
        "test_df['Pricing, Delivery_Terms_Quote_Appr'] = test_df['Pricing, Delivery_Terms_Quote_Appr']\\\n",
        "                                                .transform(func=lambda x : 'Necesita' if x==1 else 'NoNecesita')\n",
        "test_df['Pricing, Delivery_Terms_Approved'] = test_df['Pricing, Delivery_Terms_Approved']\\\n",
        "                                                .transform(func=lambda x : 'Obtuvo' if x==1 else 'NoObtuvo')\n",
        "\n",
        "test_df['Aprobacion_Especial'] = test_df['Pricing, Delivery_Terms_Quote_Appr']+test_df['Pricing, Delivery_Terms_Approved']\n",
        "\n",
        "# train = train.drop('Pricing, Delivery_Terms_Quote_Appr', axis=1)\n",
        "# train = train.drop('Pricing, Delivery_Terms_Approved', axis=1)"
      ],
      "execution_count": 72,
      "outputs": []
    },
    {
      "cell_type": "code",
      "metadata": {
        "colab": {
          "base_uri": "https://localhost:8080/"
        },
        "id": "PliRHYKdRkT0",
        "outputId": "1d97ed24-aac9-4701-d585-007ef7525f73"
      },
      "source": [
        "#TIEMPO DE ENTREGA\n",
        "#Es la diferencia entre la maxima fecha de entrega (Planned_Delivery_End_Date) y la mínima (Planned_Delivery_Start_Date)\n",
        "#Reemplazo los Nat de Planned_Delivery_End_Date con los de Start_Date (curiosamente da mejor resultado que\n",
        "#reemplazarlo con la fecha de Month)\n",
        "train_df['Planned_Delivery_End_Date'].loc[train_df['Planned_Delivery_End_Date']=='NaT'] = train_df['Planned_Delivery_Start_Date']\n",
        "\n",
        "train_df['Planned_Delivery_Start_Date'] = pd.to_datetime(train_df['Planned_Delivery_Start_Date'])\n",
        "train_df['Planned_Delivery_End_Date'] = pd.to_datetime(train_df['Planned_Delivery_End_Date'])\n",
        "\n",
        "train_df['Planned_Delivery_Start_Date_min'] = train_df.groupby('Opportunity_ID')['Planned_Delivery_Start_Date'].transform('min')\n",
        "train_df['Planned_Delivery_End_Date_max'] = train_df.groupby('Opportunity_ID')['Planned_Delivery_End_Date'].transform('max')\n",
        "\n",
        "train_df['Rango de entrega'] = train_df['Planned_Delivery_End_Date_max'] - train_df['Planned_Delivery_Start_Date_min']\n",
        "train_df['Rango de entrega'] = train_df['Rango de entrega'].dt.days\n"
      ],
      "execution_count": 73,
      "outputs": [
        {
          "output_type": "stream",
          "text": [
            "/usr/local/lib/python3.7/dist-packages/pandas/core/indexing.py:670: SettingWithCopyWarning: \n",
            "A value is trying to be set on a copy of a slice from a DataFrame\n",
            "\n",
            "See the caveats in the documentation: https://pandas.pydata.org/pandas-docs/stable/user_guide/indexing.html#returning-a-view-versus-a-copy\n",
            "  iloc._setitem_with_indexer(indexer, value)\n"
          ],
          "name": "stderr"
        }
      ]
    },
    {
      "cell_type": "code",
      "metadata": {
        "colab": {
          "base_uri": "https://localhost:8080/"
        },
        "id": "R16ucm92qzSj",
        "outputId": "fae8d337-f48c-4c9f-91f5-620f769072f3"
      },
      "source": [
        "test_df['Planned_Delivery_End_Date'].loc[test_df['Planned_Delivery_End_Date']=='NaT'] = test_df['Planned_Delivery_Start_Date']\n",
        "\n",
        "test_df['Planned_Delivery_Start_Date'] = pd.to_datetime(test_df['Planned_Delivery_Start_Date'])\n",
        "test_df['Planned_Delivery_End_Date'] = pd.to_datetime(test_df['Planned_Delivery_End_Date'])\n",
        "\n",
        "test_df['Planned_Delivery_Start_Date_min'] = test_df.groupby('Opportunity_ID')['Planned_Delivery_Start_Date'].transform('min')\n",
        "test_df['Planned_Delivery_End_Date_max'] = test_df.groupby('Opportunity_ID')['Planned_Delivery_End_Date'].transform('max')\n",
        "\n",
        "test_df['Rango de entrega'] = test_df['Planned_Delivery_End_Date_max'] - test_df['Planned_Delivery_Start_Date_min']\n",
        "test_df['Rango de entrega'] = test_df['Rango de entrega'].dt.days"
      ],
      "execution_count": 74,
      "outputs": [
        {
          "output_type": "stream",
          "text": [
            "/usr/local/lib/python3.7/dist-packages/pandas/core/indexing.py:670: SettingWithCopyWarning: \n",
            "A value is trying to be set on a copy of a slice from a DataFrame\n",
            "\n",
            "See the caveats in the documentation: https://pandas.pydata.org/pandas-docs/stable/user_guide/indexing.html#returning-a-view-versus-a-copy\n",
            "  iloc._setitem_with_indexer(indexer, value)\n"
          ],
          "name": "stderr"
        }
      ]
    },
    {
      "cell_type": "code",
      "metadata": {
        "id": "N2nnfCPGzh1O"
      },
      "source": [
        "train_df['Count_products'] = train_df.groupby('Opportunity_ID')['ID'].transform('count')"
      ],
      "execution_count": 75,
      "outputs": []
    },
    {
      "cell_type": "code",
      "metadata": {
        "id": "8eerr2d-zkeh"
      },
      "source": [
        "test_df['Count_products'] = test_df.groupby('Opportunity_ID')['ID'].transform('count')"
      ],
      "execution_count": 76,
      "outputs": []
    },
    {
      "cell_type": "code",
      "metadata": {
        "colab": {
          "base_uri": "https://localhost:8080/"
        },
        "id": "cysriey0h97u",
        "outputId": "d2120b7b-2f78-4f5f-bf88-309902badde5"
      },
      "source": [
        "train_df['Brand']"
      ],
      "execution_count": 77,
      "outputs": [
        {
          "output_type": "execute_result",
          "data": {
            "text/plain": [
              "0         None\n",
              "1         None\n",
              "2         None\n",
              "3        Other\n",
              "4        Other\n",
              "         ...  \n",
              "16942     None\n",
              "16943     None\n",
              "16944     None\n",
              "16945     None\n",
              "16946     None\n",
              "Name: Brand, Length: 16883, dtype: object"
            ]
          },
          "metadata": {
            "tags": []
          },
          "execution_count": 77
        }
      ]
    },
    {
      "cell_type": "code",
      "metadata": {
        "id": "VwV7Be2e7WvA"
      },
      "source": [
        "train = train_df.drop_duplicates('Opportunity_ID')\n",
        "test = test_df.drop_duplicates('Opportunity_ID')"
      ],
      "execution_count": 78,
      "outputs": []
    },
    {
      "cell_type": "code",
      "metadata": {
        "id": "3Z92ZvaoOxRm"
      },
      "source": [
        ""
      ],
      "execution_count": 78,
      "outputs": []
    },
    {
      "cell_type": "code",
      "metadata": {
        "colab": {
          "base_uri": "https://localhost:8080/",
          "height": 643
        },
        "id": "VkbeD32Lf8zr",
        "outputId": "44cf08bb-4abc-4d06-fa21-95a642e9bea6"
      },
      "source": [
        "train"
      ],
      "execution_count": 79,
      "outputs": [
        {
          "output_type": "execute_result",
          "data": {
            "text/html": [
              "<div>\n",
              "<style scoped>\n",
              "    .dataframe tbody tr th:only-of-type {\n",
              "        vertical-align: middle;\n",
              "    }\n",
              "\n",
              "    .dataframe tbody tr th {\n",
              "        vertical-align: top;\n",
              "    }\n",
              "\n",
              "    .dataframe thead th {\n",
              "        text-align: right;\n",
              "    }\n",
              "</style>\n",
              "<table border=\"1\" class=\"dataframe\">\n",
              "  <thead>\n",
              "    <tr style=\"text-align: right;\">\n",
              "      <th></th>\n",
              "      <th>ID</th>\n",
              "      <th>Region</th>\n",
              "      <th>Territory</th>\n",
              "      <th>Pricing, Delivery_Terms_Quote_Appr</th>\n",
              "      <th>Pricing, Delivery_Terms_Approved</th>\n",
              "      <th>Bureaucratic_Code_0_Approval</th>\n",
              "      <th>Bureaucratic_Code_0_Approved</th>\n",
              "      <th>Submitted_for_Approval</th>\n",
              "      <th>Bureaucratic_Code</th>\n",
              "      <th>Account_Created_Date</th>\n",
              "      <th>Source</th>\n",
              "      <th>Billing_Country</th>\n",
              "      <th>Account_Name</th>\n",
              "      <th>Opportunity_Name</th>\n",
              "      <th>Opportunity_ID</th>\n",
              "      <th>Sales_Contract_No</th>\n",
              "      <th>Account_Owner</th>\n",
              "      <th>Opportunity_Owner</th>\n",
              "      <th>Account_Type</th>\n",
              "      <th>Opportunity_Type</th>\n",
              "      <th>Quote_Type</th>\n",
              "      <th>Delivery_Terms</th>\n",
              "      <th>Opportunity_Created_Date</th>\n",
              "      <th>Brand</th>\n",
              "      <th>Product_Type</th>\n",
              "      <th>Size</th>\n",
              "      <th>Product_Category_B</th>\n",
              "      <th>Price</th>\n",
              "      <th>Currency</th>\n",
              "      <th>Last_Activity</th>\n",
              "      <th>Quote_Expiry_Date</th>\n",
              "      <th>Last_Modified_Date</th>\n",
              "      <th>Last_Modified_By</th>\n",
              "      <th>Product_Family</th>\n",
              "      <th>Product_Name</th>\n",
              "      <th>ASP_Currency</th>\n",
              "      <th>ASP</th>\n",
              "      <th>ASP_(converted)_Currency</th>\n",
              "      <th>ASP_(converted)</th>\n",
              "      <th>Planned_Delivery_Start_Date</th>\n",
              "      <th>Planned_Delivery_End_Date</th>\n",
              "      <th>Month</th>\n",
              "      <th>Delivery_Quarter</th>\n",
              "      <th>Delivery_Year</th>\n",
              "      <th>Actual_Delivery_Date</th>\n",
              "      <th>Total_Amount_Currency</th>\n",
              "      <th>Total_Amount</th>\n",
              "      <th>Total_Taxable_Amount_Currency</th>\n",
              "      <th>Total_Taxable_Amount</th>\n",
              "      <th>Stage</th>\n",
              "      <th>Prod_Category_A</th>\n",
              "      <th>Total_Taxable_Amount_(converted)</th>\n",
              "      <th>TRF_mean</th>\n",
              "      <th>Aprobacion_Especial</th>\n",
              "      <th>Planned_Delivery_Start_Date_min</th>\n",
              "      <th>Planned_Delivery_End_Date_max</th>\n",
              "      <th>Rango de entrega</th>\n",
              "      <th>Count_products</th>\n",
              "    </tr>\n",
              "  </thead>\n",
              "  <tbody>\n",
              "    <tr>\n",
              "      <th>0</th>\n",
              "      <td>27761</td>\n",
              "      <td>EMEA</td>\n",
              "      <td>None</td>\n",
              "      <td>Necesita</td>\n",
              "      <td>Obtuvo</td>\n",
              "      <td>1</td>\n",
              "      <td>1</td>\n",
              "      <td>0</td>\n",
              "      <td>Bureaucratic_Code_4</td>\n",
              "      <td>6/16/2015</td>\n",
              "      <td>None</td>\n",
              "      <td>Netherlands</td>\n",
              "      <td>Account_Name_619</td>\n",
              "      <td>Opportunity_Name_12598</td>\n",
              "      <td>0</td>\n",
              "      <td>None</td>\n",
              "      <td>Person_Name_51</td>\n",
              "      <td>Person_Name_18</td>\n",
              "      <td>Account_Type_2</td>\n",
              "      <td>Opportunity_Type_1</td>\n",
              "      <td>Non Binding</td>\n",
              "      <td>Delivery_Terms_2</td>\n",
              "      <td>12/7/2015</td>\n",
              "      <td>None</td>\n",
              "      <td>None</td>\n",
              "      <td>None</td>\n",
              "      <td>None</td>\n",
              "      <td>None</td>\n",
              "      <td>None</td>\n",
              "      <td>NaT</td>\n",
              "      <td>1/30/2016</td>\n",
              "      <td>6/13/2016</td>\n",
              "      <td>Person_Name_18</td>\n",
              "      <td>Product_Family_77</td>\n",
              "      <td>Product_Name_99</td>\n",
              "      <td>EUR</td>\n",
              "      <td>0.5200</td>\n",
              "      <td>USD</td>\n",
              "      <td>0.58817</td>\n",
              "      <td>2016-05-01</td>\n",
              "      <td>2016-06-30</td>\n",
              "      <td>2016 - 5</td>\n",
              "      <td>Q2</td>\n",
              "      <td>2016</td>\n",
              "      <td>NaT</td>\n",
              "      <td>EUR</td>\n",
              "      <td>5272800.00</td>\n",
              "      <td>EUR</td>\n",
              "      <td>5272800.00</td>\n",
              "      <td>0</td>\n",
              "      <td>Prod_Category_A_None</td>\n",
              "      <td>5.964044e+06</td>\n",
              "      <td>10</td>\n",
              "      <td>NecesitaObtuvo</td>\n",
              "      <td>2016-05-01</td>\n",
              "      <td>2016-06-30</td>\n",
              "      <td>60</td>\n",
              "      <td>1</td>\n",
              "    </tr>\n",
              "    <tr>\n",
              "      <th>1</th>\n",
              "      <td>27760</td>\n",
              "      <td>EMEA</td>\n",
              "      <td>None</td>\n",
              "      <td>NoNecesita</td>\n",
              "      <td>NoObtuvo</td>\n",
              "      <td>0</td>\n",
              "      <td>0</td>\n",
              "      <td>0</td>\n",
              "      <td>Bureaucratic_Code_4</td>\n",
              "      <td>6/16/2015</td>\n",
              "      <td>None</td>\n",
              "      <td>Netherlands</td>\n",
              "      <td>Account_Name_619</td>\n",
              "      <td>Opportunity_Name_12600</td>\n",
              "      <td>1</td>\n",
              "      <td>39</td>\n",
              "      <td>Person_Name_51</td>\n",
              "      <td>Person_Name_20</td>\n",
              "      <td>Account_Type_2</td>\n",
              "      <td>Opportunity_Type_1</td>\n",
              "      <td>Non Binding</td>\n",
              "      <td>Delivery_Terms_2</td>\n",
              "      <td>12/7/2015</td>\n",
              "      <td>None</td>\n",
              "      <td>None</td>\n",
              "      <td>None</td>\n",
              "      <td>None</td>\n",
              "      <td>None</td>\n",
              "      <td>None</td>\n",
              "      <td>NaT</td>\n",
              "      <td>1/20/2016</td>\n",
              "      <td>1/15/2016</td>\n",
              "      <td>Person_Name_20</td>\n",
              "      <td>Product_Family_77</td>\n",
              "      <td>Product_Name_100</td>\n",
              "      <td>EUR</td>\n",
              "      <td>0.5300</td>\n",
              "      <td>USD</td>\n",
              "      <td>0.59948</td>\n",
              "      <td>2016-01-18</td>\n",
              "      <td>2016-01-20</td>\n",
              "      <td>2016 - 1</td>\n",
              "      <td>Q1</td>\n",
              "      <td>2016</td>\n",
              "      <td>NaT</td>\n",
              "      <td>EUR</td>\n",
              "      <td>48230.00</td>\n",
              "      <td>EUR</td>\n",
              "      <td>48230.00</td>\n",
              "      <td>1</td>\n",
              "      <td>Prod_Category_A_None</td>\n",
              "      <td>5.455277e+04</td>\n",
              "      <td>0</td>\n",
              "      <td>NoNecesitaNoObtuvo</td>\n",
              "      <td>2016-01-18</td>\n",
              "      <td>2016-01-20</td>\n",
              "      <td>2</td>\n",
              "      <td>1</td>\n",
              "    </tr>\n",
              "    <tr>\n",
              "      <th>2</th>\n",
              "      <td>27446</td>\n",
              "      <td>Americas</td>\n",
              "      <td>NW America</td>\n",
              "      <td>NoNecesita</td>\n",
              "      <td>NoObtuvo</td>\n",
              "      <td>0</td>\n",
              "      <td>0</td>\n",
              "      <td>0</td>\n",
              "      <td>Bureaucratic_Code_4</td>\n",
              "      <td>4/21/2015</td>\n",
              "      <td>Source_7</td>\n",
              "      <td>United States</td>\n",
              "      <td>Account_Name_1794</td>\n",
              "      <td>Opportunity_Name_469</td>\n",
              "      <td>2</td>\n",
              "      <td>760</td>\n",
              "      <td>Person_Name_64</td>\n",
              "      <td>Person_Name_8</td>\n",
              "      <td>Account_Type_5</td>\n",
              "      <td>Opportunity_Type_1</td>\n",
              "      <td>Non Binding</td>\n",
              "      <td>Delivery_Terms_4</td>\n",
              "      <td>12/8/2015</td>\n",
              "      <td>None</td>\n",
              "      <td>None</td>\n",
              "      <td>None</td>\n",
              "      <td>None</td>\n",
              "      <td>None</td>\n",
              "      <td>None</td>\n",
              "      <td>NaT</td>\n",
              "      <td>9/30/2016</td>\n",
              "      <td>9/29/2016</td>\n",
              "      <td>Person_Name_8</td>\n",
              "      <td>Product_Family_81</td>\n",
              "      <td>Product_Name_91</td>\n",
              "      <td>USD</td>\n",
              "      <td>0.4800</td>\n",
              "      <td>USD</td>\n",
              "      <td>0.48000</td>\n",
              "      <td>2016-01-25</td>\n",
              "      <td>2016-01-25</td>\n",
              "      <td>2016 - 1</td>\n",
              "      <td>Q1</td>\n",
              "      <td>2016</td>\n",
              "      <td>NaT</td>\n",
              "      <td>USD</td>\n",
              "      <td>83865.60</td>\n",
              "      <td>USD</td>\n",
              "      <td>83865.60</td>\n",
              "      <td>1</td>\n",
              "      <td>Prod_Category_A_None</td>\n",
              "      <td>8.386560e+04</td>\n",
              "      <td>0</td>\n",
              "      <td>NoNecesitaNoObtuvo</td>\n",
              "      <td>2016-01-25</td>\n",
              "      <td>2016-01-25</td>\n",
              "      <td>0</td>\n",
              "      <td>1</td>\n",
              "    </tr>\n",
              "    <tr>\n",
              "      <th>3</th>\n",
              "      <td>16808</td>\n",
              "      <td>Americas</td>\n",
              "      <td>NW America</td>\n",
              "      <td>Necesita</td>\n",
              "      <td>NoObtuvo</td>\n",
              "      <td>1</td>\n",
              "      <td>0</td>\n",
              "      <td>0</td>\n",
              "      <td>Bureaucratic_Code_5</td>\n",
              "      <td>7/27/2013</td>\n",
              "      <td>Source_11</td>\n",
              "      <td>United States</td>\n",
              "      <td>Account_Name_1201</td>\n",
              "      <td>Opportunity_Name_415</td>\n",
              "      <td>3</td>\n",
              "      <td>None</td>\n",
              "      <td>Person_Name_8</td>\n",
              "      <td>Person_Name_8</td>\n",
              "      <td>Account_Type_5</td>\n",
              "      <td>Opportunity_Type_19</td>\n",
              "      <td>Non Binding</td>\n",
              "      <td>Delivery_Terms_1</td>\n",
              "      <td>12/8/2015</td>\n",
              "      <td>Other</td>\n",
              "      <td>Product_Type_0</td>\n",
              "      <td>Size_4</td>\n",
              "      <td>Product_Category_B_16</td>\n",
              "      <td>0.42</td>\n",
              "      <td>USD</td>\n",
              "      <td>NaT</td>\n",
              "      <td>NaT</td>\n",
              "      <td>3/27/2018</td>\n",
              "      <td>Person_Name_8</td>\n",
              "      <td>Product_Family_209</td>\n",
              "      <td>Product_Name_432</td>\n",
              "      <td>USD</td>\n",
              "      <td>0.5300</td>\n",
              "      <td>USD</td>\n",
              "      <td>0.53000</td>\n",
              "      <td>2018-02-01</td>\n",
              "      <td>2018-03-31</td>\n",
              "      <td>2018 - 2</td>\n",
              "      <td>Q1</td>\n",
              "      <td>2018</td>\n",
              "      <td>NaT</td>\n",
              "      <td>USD</td>\n",
              "      <td>7421881.50</td>\n",
              "      <td>USD</td>\n",
              "      <td>7421881.50</td>\n",
              "      <td>0</td>\n",
              "      <td>Prod_Category_A_None</td>\n",
              "      <td>7.421882e+06</td>\n",
              "      <td>14</td>\n",
              "      <td>NecesitaNoObtuvo</td>\n",
              "      <td>2018-02-01</td>\n",
              "      <td>2018-03-31</td>\n",
              "      <td>58</td>\n",
              "      <td>1</td>\n",
              "    </tr>\n",
              "    <tr>\n",
              "      <th>4</th>\n",
              "      <td>16805</td>\n",
              "      <td>Americas</td>\n",
              "      <td>NW America</td>\n",
              "      <td>Necesita</td>\n",
              "      <td>NoObtuvo</td>\n",
              "      <td>1</td>\n",
              "      <td>0</td>\n",
              "      <td>0</td>\n",
              "      <td>Bureaucratic_Code_5</td>\n",
              "      <td>7/27/2013</td>\n",
              "      <td>Source_11</td>\n",
              "      <td>United States</td>\n",
              "      <td>Account_Name_1201</td>\n",
              "      <td>Opportunity_Name_851</td>\n",
              "      <td>4</td>\n",
              "      <td>None</td>\n",
              "      <td>Person_Name_8</td>\n",
              "      <td>Person_Name_8</td>\n",
              "      <td>Account_Type_5</td>\n",
              "      <td>Opportunity_Type_19</td>\n",
              "      <td>Non Binding</td>\n",
              "      <td>Delivery_Terms_1</td>\n",
              "      <td>12/8/2015</td>\n",
              "      <td>Other</td>\n",
              "      <td>Product_Type_0</td>\n",
              "      <td>Size_4</td>\n",
              "      <td>Product_Category_B_16</td>\n",
              "      <td>0.42</td>\n",
              "      <td>USD</td>\n",
              "      <td>NaT</td>\n",
              "      <td>6/2/2017</td>\n",
              "      <td>3/27/2018</td>\n",
              "      <td>Person_Name_8</td>\n",
              "      <td>Product_Family_209</td>\n",
              "      <td>Product_Name_432</td>\n",
              "      <td>USD</td>\n",
              "      <td>0.5300</td>\n",
              "      <td>USD</td>\n",
              "      <td>0.53000</td>\n",
              "      <td>2018-02-01</td>\n",
              "      <td>2018-02-28</td>\n",
              "      <td>2018 - 2</td>\n",
              "      <td>Q1</td>\n",
              "      <td>2018</td>\n",
              "      <td>NaT</td>\n",
              "      <td>USD</td>\n",
              "      <td>13357192.50</td>\n",
              "      <td>USD</td>\n",
              "      <td>13357192.50</td>\n",
              "      <td>0</td>\n",
              "      <td>Prod_Category_A_None</td>\n",
              "      <td>1.335719e+07</td>\n",
              "      <td>25</td>\n",
              "      <td>NecesitaNoObtuvo</td>\n",
              "      <td>2018-02-01</td>\n",
              "      <td>2018-02-28</td>\n",
              "      <td>27</td>\n",
              "      <td>1</td>\n",
              "    </tr>\n",
              "    <tr>\n",
              "      <th>...</th>\n",
              "      <td>...</td>\n",
              "      <td>...</td>\n",
              "      <td>...</td>\n",
              "      <td>...</td>\n",
              "      <td>...</td>\n",
              "      <td>...</td>\n",
              "      <td>...</td>\n",
              "      <td>...</td>\n",
              "      <td>...</td>\n",
              "      <td>...</td>\n",
              "      <td>...</td>\n",
              "      <td>...</td>\n",
              "      <td>...</td>\n",
              "      <td>...</td>\n",
              "      <td>...</td>\n",
              "      <td>...</td>\n",
              "      <td>...</td>\n",
              "      <td>...</td>\n",
              "      <td>...</td>\n",
              "      <td>...</td>\n",
              "      <td>...</td>\n",
              "      <td>...</td>\n",
              "      <td>...</td>\n",
              "      <td>...</td>\n",
              "      <td>...</td>\n",
              "      <td>...</td>\n",
              "      <td>...</td>\n",
              "      <td>...</td>\n",
              "      <td>...</td>\n",
              "      <td>...</td>\n",
              "      <td>...</td>\n",
              "      <td>...</td>\n",
              "      <td>...</td>\n",
              "      <td>...</td>\n",
              "      <td>...</td>\n",
              "      <td>...</td>\n",
              "      <td>...</td>\n",
              "      <td>...</td>\n",
              "      <td>...</td>\n",
              "      <td>...</td>\n",
              "      <td>...</td>\n",
              "      <td>...</td>\n",
              "      <td>...</td>\n",
              "      <td>...</td>\n",
              "      <td>...</td>\n",
              "      <td>...</td>\n",
              "      <td>...</td>\n",
              "      <td>...</td>\n",
              "      <td>...</td>\n",
              "      <td>...</td>\n",
              "      <td>...</td>\n",
              "      <td>...</td>\n",
              "      <td>...</td>\n",
              "      <td>...</td>\n",
              "      <td>...</td>\n",
              "      <td>...</td>\n",
              "      <td>...</td>\n",
              "      <td>...</td>\n",
              "    </tr>\n",
              "    <tr>\n",
              "      <th>16939</th>\n",
              "      <td>18324</td>\n",
              "      <td>EMEA</td>\n",
              "      <td>Norway</td>\n",
              "      <td>Necesita</td>\n",
              "      <td>Obtuvo</td>\n",
              "      <td>0</td>\n",
              "      <td>0</td>\n",
              "      <td>0</td>\n",
              "      <td>Bureaucratic_Code_4</td>\n",
              "      <td>7/27/2013</td>\n",
              "      <td>Source_9</td>\n",
              "      <td>Germany</td>\n",
              "      <td>Account_Name_533</td>\n",
              "      <td>Opportunity_Name_7202</td>\n",
              "      <td>12799</td>\n",
              "      <td>224</td>\n",
              "      <td>Person_Name_13</td>\n",
              "      <td>Person_Name_13</td>\n",
              "      <td>Account_Type_0</td>\n",
              "      <td>Opportunity_Type_1</td>\n",
              "      <td>Non Binding</td>\n",
              "      <td>Delivery_Terms_2</td>\n",
              "      <td>12/4/2015</td>\n",
              "      <td>None</td>\n",
              "      <td>None</td>\n",
              "      <td>None</td>\n",
              "      <td>None</td>\n",
              "      <td>None</td>\n",
              "      <td>None</td>\n",
              "      <td>NaT</td>\n",
              "      <td>4/3/2016</td>\n",
              "      <td>4/1/2016</td>\n",
              "      <td>Person_Name_13</td>\n",
              "      <td>Product_Family_77</td>\n",
              "      <td>Product_Name_96</td>\n",
              "      <td>EUR</td>\n",
              "      <td>0.5150</td>\n",
              "      <td>USD</td>\n",
              "      <td>0.58251</td>\n",
              "      <td>2016-04-01</td>\n",
              "      <td>2016-04-21</td>\n",
              "      <td>2016 - 4</td>\n",
              "      <td>Q2</td>\n",
              "      <td>2016</td>\n",
              "      <td>NaT</td>\n",
              "      <td>EUR</td>\n",
              "      <td>401700.00</td>\n",
              "      <td>EUR</td>\n",
              "      <td>401700.00</td>\n",
              "      <td>1</td>\n",
              "      <td>Prod_Category_A_None</td>\n",
              "      <td>4.543613e+05</td>\n",
              "      <td>1</td>\n",
              "      <td>NecesitaObtuvo</td>\n",
              "      <td>2016-04-01</td>\n",
              "      <td>2016-04-21</td>\n",
              "      <td>20</td>\n",
              "      <td>1</td>\n",
              "    </tr>\n",
              "    <tr>\n",
              "      <th>16940</th>\n",
              "      <td>20827</td>\n",
              "      <td>Americas</td>\n",
              "      <td>NE America</td>\n",
              "      <td>Necesita</td>\n",
              "      <td>NoObtuvo</td>\n",
              "      <td>0</td>\n",
              "      <td>0</td>\n",
              "      <td>0</td>\n",
              "      <td>Bureaucratic_Code_5</td>\n",
              "      <td>6/16/2014</td>\n",
              "      <td>None</td>\n",
              "      <td>Germany</td>\n",
              "      <td>Account_Name_404</td>\n",
              "      <td>Opportunity_Name_11979</td>\n",
              "      <td>12800</td>\n",
              "      <td>None</td>\n",
              "      <td>Person_Name_13</td>\n",
              "      <td>Person_Name_13</td>\n",
              "      <td>Account_Type_5</td>\n",
              "      <td>Opportunity_Type_19</td>\n",
              "      <td>Non Binding</td>\n",
              "      <td>Delivery_Terms_4</td>\n",
              "      <td>12/4/2015</td>\n",
              "      <td>None</td>\n",
              "      <td>None</td>\n",
              "      <td>None</td>\n",
              "      <td>None</td>\n",
              "      <td>None</td>\n",
              "      <td>None</td>\n",
              "      <td>NaT</td>\n",
              "      <td>1/15/2016</td>\n",
              "      <td>10/10/2016</td>\n",
              "      <td>Person_Name_13</td>\n",
              "      <td>Product_Family_164</td>\n",
              "      <td>Product_Name_307</td>\n",
              "      <td>USD</td>\n",
              "      <td>0.5300</td>\n",
              "      <td>USD</td>\n",
              "      <td>0.53000</td>\n",
              "      <td>2016-10-03</td>\n",
              "      <td>2016-12-30</td>\n",
              "      <td>2016 - 10</td>\n",
              "      <td>Q4</td>\n",
              "      <td>2016</td>\n",
              "      <td>NaT</td>\n",
              "      <td>USD</td>\n",
              "      <td>10751580.00</td>\n",
              "      <td>USD</td>\n",
              "      <td>21332500.00</td>\n",
              "      <td>0</td>\n",
              "      <td>Prod_Category_A_None</td>\n",
              "      <td>2.133250e+07</td>\n",
              "      <td>20</td>\n",
              "      <td>NecesitaNoObtuvo</td>\n",
              "      <td>2016-10-03</td>\n",
              "      <td>2016-12-30</td>\n",
              "      <td>88</td>\n",
              "      <td>2</td>\n",
              "    </tr>\n",
              "    <tr>\n",
              "      <th>16942</th>\n",
              "      <td>8781</td>\n",
              "      <td>EMEA</td>\n",
              "      <td>Austria</td>\n",
              "      <td>Necesita</td>\n",
              "      <td>Obtuvo</td>\n",
              "      <td>1</td>\n",
              "      <td>1</td>\n",
              "      <td>0</td>\n",
              "      <td>Bureaucratic_Code_4</td>\n",
              "      <td>1/15/2016</td>\n",
              "      <td>Source_7</td>\n",
              "      <td>Austria</td>\n",
              "      <td>Account_Name_726</td>\n",
              "      <td>Opportunity_Name_9245</td>\n",
              "      <td>12801</td>\n",
              "      <td>44</td>\n",
              "      <td>Person_Name_13</td>\n",
              "      <td>Person_Name_13</td>\n",
              "      <td>Account_Type_5</td>\n",
              "      <td>Opportunity_Type_1</td>\n",
              "      <td>Non Binding</td>\n",
              "      <td>Delivery_Terms_2</td>\n",
              "      <td>12/4/2015</td>\n",
              "      <td>None</td>\n",
              "      <td>None</td>\n",
              "      <td>None</td>\n",
              "      <td>None</td>\n",
              "      <td>None</td>\n",
              "      <td>None</td>\n",
              "      <td>NaT</td>\n",
              "      <td>NaT</td>\n",
              "      <td>1/19/2016</td>\n",
              "      <td>Person_Name_13</td>\n",
              "      <td>Product_Family_85</td>\n",
              "      <td>Product_Name_111</td>\n",
              "      <td>EUR</td>\n",
              "      <td>0.5200</td>\n",
              "      <td>USD</td>\n",
              "      <td>0.58817</td>\n",
              "      <td>2016-03-21</td>\n",
              "      <td>2016-03-25</td>\n",
              "      <td>2016 - 3</td>\n",
              "      <td>Q1</td>\n",
              "      <td>2016</td>\n",
              "      <td>NaT</td>\n",
              "      <td>EUR</td>\n",
              "      <td>103350.00</td>\n",
              "      <td>EUR</td>\n",
              "      <td>299715.00</td>\n",
              "      <td>1</td>\n",
              "      <td>Prod_Category_A_None</td>\n",
              "      <td>3.390065e+05</td>\n",
              "      <td>0</td>\n",
              "      <td>NecesitaObtuvo</td>\n",
              "      <td>2016-03-21</td>\n",
              "      <td>2016-04-08</td>\n",
              "      <td>18</td>\n",
              "      <td>3</td>\n",
              "    </tr>\n",
              "    <tr>\n",
              "      <th>16945</th>\n",
              "      <td>28561</td>\n",
              "      <td>Americas</td>\n",
              "      <td>NE America</td>\n",
              "      <td>Necesita</td>\n",
              "      <td>Obtuvo</td>\n",
              "      <td>1</td>\n",
              "      <td>1</td>\n",
              "      <td>0</td>\n",
              "      <td>Bureaucratic_Code_4</td>\n",
              "      <td>10/20/2015</td>\n",
              "      <td>None</td>\n",
              "      <td>United States</td>\n",
              "      <td>Account_Name_944</td>\n",
              "      <td>Opportunity_Name_5843</td>\n",
              "      <td>12802</td>\n",
              "      <td>None</td>\n",
              "      <td>Person_Name_3</td>\n",
              "      <td>Person_Name_3</td>\n",
              "      <td>Account_Type_5</td>\n",
              "      <td>Opportunity_Type_1</td>\n",
              "      <td>Non Binding</td>\n",
              "      <td>Delivery_Terms_4</td>\n",
              "      <td>12/5/2015</td>\n",
              "      <td>None</td>\n",
              "      <td>None</td>\n",
              "      <td>None</td>\n",
              "      <td>None</td>\n",
              "      <td>None</td>\n",
              "      <td>None</td>\n",
              "      <td>NaT</td>\n",
              "      <td>2/29/2016</td>\n",
              "      <td>1/22/2016</td>\n",
              "      <td>Person_Name_3</td>\n",
              "      <td>Product_Family_158</td>\n",
              "      <td>Product_Name_287</td>\n",
              "      <td>USD</td>\n",
              "      <td>0.6375</td>\n",
              "      <td>USD</td>\n",
              "      <td>0.63750</td>\n",
              "      <td>2016-04-25</td>\n",
              "      <td>2016-04-29</td>\n",
              "      <td>2016 - 4</td>\n",
              "      <td>Q2</td>\n",
              "      <td>2016</td>\n",
              "      <td>NaT</td>\n",
              "      <td>USD</td>\n",
              "      <td>2346796.88</td>\n",
              "      <td>USD</td>\n",
              "      <td>2346796.88</td>\n",
              "      <td>0</td>\n",
              "      <td>Prod_Category_A_None</td>\n",
              "      <td>2.346797e+06</td>\n",
              "      <td>4</td>\n",
              "      <td>NecesitaObtuvo</td>\n",
              "      <td>2016-04-25</td>\n",
              "      <td>2016-04-29</td>\n",
              "      <td>4</td>\n",
              "      <td>1</td>\n",
              "    </tr>\n",
              "    <tr>\n",
              "      <th>16946</th>\n",
              "      <td>28318</td>\n",
              "      <td>Americas</td>\n",
              "      <td>NE America</td>\n",
              "      <td>Necesita</td>\n",
              "      <td>Obtuvo</td>\n",
              "      <td>1</td>\n",
              "      <td>1</td>\n",
              "      <td>0</td>\n",
              "      <td>Bureaucratic_Code_4</td>\n",
              "      <td>9/3/2015</td>\n",
              "      <td>None</td>\n",
              "      <td>United States</td>\n",
              "      <td>Account_Name_1401</td>\n",
              "      <td>Opportunity_Name_9911</td>\n",
              "      <td>12803</td>\n",
              "      <td>None</td>\n",
              "      <td>Person_Name_3</td>\n",
              "      <td>Person_Name_3</td>\n",
              "      <td>Account_Type_5</td>\n",
              "      <td>Opportunity_Type_19</td>\n",
              "      <td>Non Binding</td>\n",
              "      <td>Delivery_Terms_4</td>\n",
              "      <td>12/5/2015</td>\n",
              "      <td>None</td>\n",
              "      <td>None</td>\n",
              "      <td>None</td>\n",
              "      <td>None</td>\n",
              "      <td>None</td>\n",
              "      <td>None</td>\n",
              "      <td>NaT</td>\n",
              "      <td>1/6/2016</td>\n",
              "      <td>9/28/2016</td>\n",
              "      <td>Person_Name_3</td>\n",
              "      <td>Product_Family_164</td>\n",
              "      <td>Product_Name_307</td>\n",
              "      <td>USD</td>\n",
              "      <td>0.6400</td>\n",
              "      <td>USD</td>\n",
              "      <td>0.64000</td>\n",
              "      <td>2016-07-01</td>\n",
              "      <td>2016-08-31</td>\n",
              "      <td>2016 - 7</td>\n",
              "      <td>Q3</td>\n",
              "      <td>2016</td>\n",
              "      <td>NaT</td>\n",
              "      <td>USD</td>\n",
              "      <td>25603200.00</td>\n",
              "      <td>USD</td>\n",
              "      <td>25603200.00</td>\n",
              "      <td>0</td>\n",
              "      <td>Prod_Category_A_None</td>\n",
              "      <td>2.560320e+07</td>\n",
              "      <td>40</td>\n",
              "      <td>NecesitaObtuvo</td>\n",
              "      <td>2016-07-01</td>\n",
              "      <td>2016-08-31</td>\n",
              "      <td>61</td>\n",
              "      <td>1</td>\n",
              "    </tr>\n",
              "  </tbody>\n",
              "</table>\n",
              "<p>9791 rows × 58 columns</p>\n",
              "</div>"
            ],
            "text/plain": [
              "          ID    Region  ... Rango de entrega Count_products\n",
              "0      27761      EMEA  ...               60              1\n",
              "1      27760      EMEA  ...                2              1\n",
              "2      27446  Americas  ...                0              1\n",
              "3      16808  Americas  ...               58              1\n",
              "4      16805  Americas  ...               27              1\n",
              "...      ...       ...  ...              ...            ...\n",
              "16939  18324      EMEA  ...               20              1\n",
              "16940  20827  Americas  ...               88              2\n",
              "16942   8781      EMEA  ...               18              3\n",
              "16945  28561  Americas  ...                4              1\n",
              "16946  28318  Americas  ...               61              1\n",
              "\n",
              "[9791 rows x 58 columns]"
            ]
          },
          "metadata": {
            "tags": []
          },
          "execution_count": 79
        }
      ]
    },
    {
      "cell_type": "code",
      "metadata": {
        "id": "vSmCHSbngguh"
      },
      "source": [
        "train = train[['Opportunity_ID', 'Territory', 'Region', 'Stage', 'TRF_mean', 'Aprobacion_Especial', 'Total_Taxable_Amount_(converted)', 'Rango de entrega', 'Count_products', 'Opportunity_Type', 'Account_Owner']]"
      ],
      "execution_count": 80,
      "outputs": []
    },
    {
      "cell_type": "code",
      "metadata": {
        "id": "oQxIoxmvjSay"
      },
      "source": [
        "train = train.mask(train.eq('None')).dropna()"
      ],
      "execution_count": 81,
      "outputs": []
    },
    {
      "cell_type": "code",
      "metadata": {
        "colab": {
          "base_uri": "https://localhost:8080/",
          "height": 343
        },
        "id": "0rYYlHYRj9hq",
        "outputId": "870399b0-ca09-4b84-e096-e5fc20e10dba"
      },
      "source": [
        "train.head()"
      ],
      "execution_count": 82,
      "outputs": [
        {
          "output_type": "execute_result",
          "data": {
            "text/html": [
              "<div>\n",
              "<style scoped>\n",
              "    .dataframe tbody tr th:only-of-type {\n",
              "        vertical-align: middle;\n",
              "    }\n",
              "\n",
              "    .dataframe tbody tr th {\n",
              "        vertical-align: top;\n",
              "    }\n",
              "\n",
              "    .dataframe thead th {\n",
              "        text-align: right;\n",
              "    }\n",
              "</style>\n",
              "<table border=\"1\" class=\"dataframe\">\n",
              "  <thead>\n",
              "    <tr style=\"text-align: right;\">\n",
              "      <th></th>\n",
              "      <th>Opportunity_ID</th>\n",
              "      <th>Territory</th>\n",
              "      <th>Region</th>\n",
              "      <th>Stage</th>\n",
              "      <th>TRF_mean</th>\n",
              "      <th>Aprobacion_Especial</th>\n",
              "      <th>Total_Taxable_Amount_(converted)</th>\n",
              "      <th>Rango de entrega</th>\n",
              "      <th>Count_products</th>\n",
              "      <th>Opportunity_Type</th>\n",
              "      <th>Account_Owner</th>\n",
              "    </tr>\n",
              "  </thead>\n",
              "  <tbody>\n",
              "    <tr>\n",
              "      <th>2</th>\n",
              "      <td>2</td>\n",
              "      <td>NW America</td>\n",
              "      <td>Americas</td>\n",
              "      <td>1</td>\n",
              "      <td>0</td>\n",
              "      <td>NoNecesitaNoObtuvo</td>\n",
              "      <td>83865.6</td>\n",
              "      <td>0</td>\n",
              "      <td>1</td>\n",
              "      <td>Opportunity_Type_1</td>\n",
              "      <td>Person_Name_64</td>\n",
              "    </tr>\n",
              "    <tr>\n",
              "      <th>3</th>\n",
              "      <td>3</td>\n",
              "      <td>NW America</td>\n",
              "      <td>Americas</td>\n",
              "      <td>0</td>\n",
              "      <td>14</td>\n",
              "      <td>NecesitaNoObtuvo</td>\n",
              "      <td>7421881.5</td>\n",
              "      <td>58</td>\n",
              "      <td>1</td>\n",
              "      <td>Opportunity_Type_19</td>\n",
              "      <td>Person_Name_8</td>\n",
              "    </tr>\n",
              "    <tr>\n",
              "      <th>4</th>\n",
              "      <td>4</td>\n",
              "      <td>NW America</td>\n",
              "      <td>Americas</td>\n",
              "      <td>0</td>\n",
              "      <td>25</td>\n",
              "      <td>NecesitaNoObtuvo</td>\n",
              "      <td>13357192.5</td>\n",
              "      <td>27</td>\n",
              "      <td>1</td>\n",
              "      <td>Opportunity_Type_19</td>\n",
              "      <td>Person_Name_8</td>\n",
              "    </tr>\n",
              "    <tr>\n",
              "      <th>5</th>\n",
              "      <td>5</td>\n",
              "      <td>NW America</td>\n",
              "      <td>Americas</td>\n",
              "      <td>0</td>\n",
              "      <td>28</td>\n",
              "      <td>NecesitaNoObtuvo</td>\n",
              "      <td>14838277.5</td>\n",
              "      <td>58</td>\n",
              "      <td>1</td>\n",
              "      <td>Opportunity_Type_19</td>\n",
              "      <td>Person_Name_8</td>\n",
              "    </tr>\n",
              "    <tr>\n",
              "      <th>6</th>\n",
              "      <td>6</td>\n",
              "      <td>NW America</td>\n",
              "      <td>Americas</td>\n",
              "      <td>0</td>\n",
              "      <td>7</td>\n",
              "      <td>NecesitaNoObtuvo</td>\n",
              "      <td>2659494.6</td>\n",
              "      <td>89</td>\n",
              "      <td>1</td>\n",
              "      <td>Opportunity_Type_19</td>\n",
              "      <td>Person_Name_8</td>\n",
              "    </tr>\n",
              "  </tbody>\n",
              "</table>\n",
              "</div>"
            ],
            "text/plain": [
              "   Opportunity_ID   Territory  ...     Opportunity_Type   Account_Owner\n",
              "2               2  NW America  ...   Opportunity_Type_1  Person_Name_64\n",
              "3               3  NW America  ...  Opportunity_Type_19   Person_Name_8\n",
              "4               4  NW America  ...  Opportunity_Type_19   Person_Name_8\n",
              "5               5  NW America  ...  Opportunity_Type_19   Person_Name_8\n",
              "6               6  NW America  ...  Opportunity_Type_19   Person_Name_8\n",
              "\n",
              "[5 rows x 11 columns]"
            ]
          },
          "metadata": {
            "tags": []
          },
          "execution_count": 82
        }
      ]
    },
    {
      "cell_type": "code",
      "metadata": {
        "colab": {
          "base_uri": "https://localhost:8080/",
          "height": 343
        },
        "id": "vgI-OUXyxAZA",
        "outputId": "f78f8a41-ce3b-44cd-8c66-d315d7ea744f"
      },
      "source": [
        "test.head()"
      ],
      "execution_count": 83,
      "outputs": [
        {
          "output_type": "execute_result",
          "data": {
            "text/html": [
              "<div>\n",
              "<style scoped>\n",
              "    .dataframe tbody tr th:only-of-type {\n",
              "        vertical-align: middle;\n",
              "    }\n",
              "\n",
              "    .dataframe tbody tr th {\n",
              "        vertical-align: top;\n",
              "    }\n",
              "\n",
              "    .dataframe thead th {\n",
              "        text-align: right;\n",
              "    }\n",
              "</style>\n",
              "<table border=\"1\" class=\"dataframe\">\n",
              "  <thead>\n",
              "    <tr style=\"text-align: right;\">\n",
              "      <th></th>\n",
              "      <th>ID</th>\n",
              "      <th>Region</th>\n",
              "      <th>Territory</th>\n",
              "      <th>Pricing, Delivery_Terms_Quote_Appr</th>\n",
              "      <th>Pricing, Delivery_Terms_Approved</th>\n",
              "      <th>Bureaucratic_Code_0_Approval</th>\n",
              "      <th>Bureaucratic_Code_0_Approved</th>\n",
              "      <th>Submitted_for_Approval</th>\n",
              "      <th>Bureaucratic_Code</th>\n",
              "      <th>Account_Created_Date</th>\n",
              "      <th>Source</th>\n",
              "      <th>Billing_Country</th>\n",
              "      <th>Account_Name</th>\n",
              "      <th>Opportunity_Name</th>\n",
              "      <th>Opportunity_ID</th>\n",
              "      <th>Sales_Contract_No</th>\n",
              "      <th>Account_Owner</th>\n",
              "      <th>Opportunity_Owner</th>\n",
              "      <th>Account_Type</th>\n",
              "      <th>Opportunity_Type</th>\n",
              "      <th>Quote_Type</th>\n",
              "      <th>Delivery_Terms</th>\n",
              "      <th>Opportunity_Created_Date</th>\n",
              "      <th>Brand</th>\n",
              "      <th>Product_Type</th>\n",
              "      <th>Size</th>\n",
              "      <th>Product_Category_B</th>\n",
              "      <th>Price</th>\n",
              "      <th>Currency</th>\n",
              "      <th>Last_Activity</th>\n",
              "      <th>Quote_Expiry_Date</th>\n",
              "      <th>Last_Modified_Date</th>\n",
              "      <th>Last_Modified_By</th>\n",
              "      <th>Product_Family</th>\n",
              "      <th>Product_Name</th>\n",
              "      <th>ASP_Currency</th>\n",
              "      <th>ASP</th>\n",
              "      <th>ASP_(converted)_Currency</th>\n",
              "      <th>ASP_(converted)</th>\n",
              "      <th>Planned_Delivery_Start_Date</th>\n",
              "      <th>Planned_Delivery_End_Date</th>\n",
              "      <th>Month</th>\n",
              "      <th>Delivery_Quarter</th>\n",
              "      <th>Delivery_Year</th>\n",
              "      <th>Actual_Delivery_Date</th>\n",
              "      <th>Total_Amount_Currency</th>\n",
              "      <th>Total_Amount</th>\n",
              "      <th>Total_Taxable_Amount_Currency</th>\n",
              "      <th>Total_Taxable_Amount</th>\n",
              "      <th>Prod_Category_A</th>\n",
              "      <th>Total_Taxable_Amount_(converted)</th>\n",
              "      <th>TRF_mean</th>\n",
              "      <th>Aprobacion_Especial</th>\n",
              "      <th>Planned_Delivery_Start_Date_min</th>\n",
              "      <th>Planned_Delivery_End_Date_max</th>\n",
              "      <th>Rango de entrega</th>\n",
              "      <th>Count_products</th>\n",
              "    </tr>\n",
              "  </thead>\n",
              "  <tbody>\n",
              "    <tr>\n",
              "      <th>0</th>\n",
              "      <td>6140</td>\n",
              "      <td>EMEA</td>\n",
              "      <td>Germany</td>\n",
              "      <td>Necesita</td>\n",
              "      <td>Obtuvo</td>\n",
              "      <td>1</td>\n",
              "      <td>1</td>\n",
              "      <td>0</td>\n",
              "      <td>Bureaucratic_Code_4</td>\n",
              "      <td>7/5/2017</td>\n",
              "      <td>Source_7</td>\n",
              "      <td>Germany</td>\n",
              "      <td>Account_Name_978</td>\n",
              "      <td>Opportunity_Name_6118</td>\n",
              "      <td>10689</td>\n",
              "      <td>6436</td>\n",
              "      <td>Person_Name_13</td>\n",
              "      <td>Person_Name_13</td>\n",
              "      <td>Account_Type_0</td>\n",
              "      <td>Opportunity_Type_8</td>\n",
              "      <td>Non Binding</td>\n",
              "      <td>Delivery_Terms_2</td>\n",
              "      <td>4/12/2019</td>\n",
              "      <td>None</td>\n",
              "      <td>None</td>\n",
              "      <td>None</td>\n",
              "      <td>None</td>\n",
              "      <td>None</td>\n",
              "      <td>None</td>\n",
              "      <td>NaT</td>\n",
              "      <td>4/30/2019</td>\n",
              "      <td>4/12/2019</td>\n",
              "      <td>Person_Name_13</td>\n",
              "      <td>Product_Family_171</td>\n",
              "      <td>Product_Name_332</td>\n",
              "      <td>EUR</td>\n",
              "      <td>0.325</td>\n",
              "      <td>USD</td>\n",
              "      <td>0.36761</td>\n",
              "      <td>2019-05-01</td>\n",
              "      <td>2019-05-31</td>\n",
              "      <td>2019 - 5</td>\n",
              "      <td>Q2</td>\n",
              "      <td>2019</td>\n",
              "      <td>NaT</td>\n",
              "      <td>EUR</td>\n",
              "      <td>162240.0</td>\n",
              "      <td>EUR</td>\n",
              "      <td>367419.0</td>\n",
              "      <td>Prod_Category_A_None</td>\n",
              "      <td>4.155862e+05</td>\n",
              "      <td>0</td>\n",
              "      <td>NecesitaObtuvo</td>\n",
              "      <td>2019-05-01</td>\n",
              "      <td>2019-05-31</td>\n",
              "      <td>30</td>\n",
              "      <td>3</td>\n",
              "    </tr>\n",
              "    <tr>\n",
              "      <th>3</th>\n",
              "      <td>6118</td>\n",
              "      <td>EMEA</td>\n",
              "      <td>Germany</td>\n",
              "      <td>Necesita</td>\n",
              "      <td>Obtuvo</td>\n",
              "      <td>1</td>\n",
              "      <td>1</td>\n",
              "      <td>0</td>\n",
              "      <td>Bureaucratic_Code_4</td>\n",
              "      <td>7/5/2017</td>\n",
              "      <td>Source_7</td>\n",
              "      <td>Germany</td>\n",
              "      <td>Account_Name_978</td>\n",
              "      <td>Opportunity_Name_6117</td>\n",
              "      <td>10690</td>\n",
              "      <td>6504</td>\n",
              "      <td>Person_Name_13</td>\n",
              "      <td>Person_Name_13</td>\n",
              "      <td>Account_Type_0</td>\n",
              "      <td>Opportunity_Type_8</td>\n",
              "      <td>Non Binding</td>\n",
              "      <td>Delivery_Terms_2</td>\n",
              "      <td>4/12/2019</td>\n",
              "      <td>None</td>\n",
              "      <td>None</td>\n",
              "      <td>None</td>\n",
              "      <td>None</td>\n",
              "      <td>None</td>\n",
              "      <td>None</td>\n",
              "      <td>NaT</td>\n",
              "      <td>4/30/2019</td>\n",
              "      <td>4/25/2019</td>\n",
              "      <td>Person_Name_13</td>\n",
              "      <td>Product_Family_171</td>\n",
              "      <td>Product_Name_328</td>\n",
              "      <td>EUR</td>\n",
              "      <td>0.325</td>\n",
              "      <td>USD</td>\n",
              "      <td>0.36761</td>\n",
              "      <td>2019-06-01</td>\n",
              "      <td>2019-06-28</td>\n",
              "      <td>2019 - 6</td>\n",
              "      <td>Q2</td>\n",
              "      <td>2019</td>\n",
              "      <td>NaT</td>\n",
              "      <td>EUR</td>\n",
              "      <td>243360.0</td>\n",
              "      <td>EUR</td>\n",
              "      <td>757783.5</td>\n",
              "      <td>Prod_Category_A_None</td>\n",
              "      <td>8.571260e+05</td>\n",
              "      <td>0</td>\n",
              "      <td>NecesitaObtuvo</td>\n",
              "      <td>2019-06-01</td>\n",
              "      <td>2019-06-29</td>\n",
              "      <td>28</td>\n",
              "      <td>5</td>\n",
              "    </tr>\n",
              "    <tr>\n",
              "      <th>8</th>\n",
              "      <td>11530</td>\n",
              "      <td>Americas</td>\n",
              "      <td>NE America</td>\n",
              "      <td>Necesita</td>\n",
              "      <td>Obtuvo</td>\n",
              "      <td>0</td>\n",
              "      <td>0</td>\n",
              "      <td>0</td>\n",
              "      <td>Bureaucratic_Code_4</td>\n",
              "      <td>2/16/2019</td>\n",
              "      <td>Source_9</td>\n",
              "      <td>United States</td>\n",
              "      <td>Account_Name_143</td>\n",
              "      <td>Opportunity_Name_385</td>\n",
              "      <td>10691</td>\n",
              "      <td>6452</td>\n",
              "      <td>Person_Name_9</td>\n",
              "      <td>Person_Name_9</td>\n",
              "      <td>Account_Type_2</td>\n",
              "      <td>Opportunity_Type_7</td>\n",
              "      <td>Non Binding</td>\n",
              "      <td>Delivery_Terms_4</td>\n",
              "      <td>4/12/2019</td>\n",
              "      <td>None</td>\n",
              "      <td>None</td>\n",
              "      <td>None</td>\n",
              "      <td>None</td>\n",
              "      <td>None</td>\n",
              "      <td>None</td>\n",
              "      <td>NaT</td>\n",
              "      <td>NaT</td>\n",
              "      <td>4/16/2019</td>\n",
              "      <td>Person_Name_9</td>\n",
              "      <td>Product_Family_223</td>\n",
              "      <td>Product_Name_484</td>\n",
              "      <td>USD</td>\n",
              "      <td>0.425</td>\n",
              "      <td>USD</td>\n",
              "      <td>0.42500</td>\n",
              "      <td>2019-10-01</td>\n",
              "      <td>2019-10-01</td>\n",
              "      <td>2019 - 10</td>\n",
              "      <td>Q4</td>\n",
              "      <td>2019</td>\n",
              "      <td>NaT</td>\n",
              "      <td>USD</td>\n",
              "      <td>21037.5</td>\n",
              "      <td>USD</td>\n",
              "      <td>21037.5</td>\n",
              "      <td>Prod_Category_A_None</td>\n",
              "      <td>2.103750e+04</td>\n",
              "      <td>0</td>\n",
              "      <td>NecesitaObtuvo</td>\n",
              "      <td>2019-10-01</td>\n",
              "      <td>2019-10-01</td>\n",
              "      <td>0</td>\n",
              "      <td>1</td>\n",
              "    </tr>\n",
              "    <tr>\n",
              "      <th>9</th>\n",
              "      <td>20314</td>\n",
              "      <td>Americas</td>\n",
              "      <td>NW America</td>\n",
              "      <td>Necesita</td>\n",
              "      <td>Obtuvo</td>\n",
              "      <td>1</td>\n",
              "      <td>0</td>\n",
              "      <td>0</td>\n",
              "      <td>Bureaucratic_Code_2</td>\n",
              "      <td>7/27/2013</td>\n",
              "      <td>Source_11</td>\n",
              "      <td>United States</td>\n",
              "      <td>Account_Name_25</td>\n",
              "      <td>Opportunity_Name_8423</td>\n",
              "      <td>10692</td>\n",
              "      <td>6441</td>\n",
              "      <td>Person_Name_8</td>\n",
              "      <td>Person_Name_8</td>\n",
              "      <td>Account_Type_0</td>\n",
              "      <td>Opportunity_Type_1</td>\n",
              "      <td>Non Binding</td>\n",
              "      <td>Delivery_Terms_4</td>\n",
              "      <td>4/12/2019</td>\n",
              "      <td>None</td>\n",
              "      <td>None</td>\n",
              "      <td>None</td>\n",
              "      <td>None</td>\n",
              "      <td>None</td>\n",
              "      <td>None</td>\n",
              "      <td>NaT</td>\n",
              "      <td>NaT</td>\n",
              "      <td>4/16/2019</td>\n",
              "      <td>Person_Name_8</td>\n",
              "      <td>Product_Family_221</td>\n",
              "      <td>Product_Name_473</td>\n",
              "      <td>USD</td>\n",
              "      <td>0.425</td>\n",
              "      <td>USD</td>\n",
              "      <td>0.42500</td>\n",
              "      <td>2019-12-10</td>\n",
              "      <td>2019-12-10</td>\n",
              "      <td>2019 - 12</td>\n",
              "      <td>Q4</td>\n",
              "      <td>2019</td>\n",
              "      <td>NaT</td>\n",
              "      <td>USD</td>\n",
              "      <td>342490.5</td>\n",
              "      <td>USD</td>\n",
              "      <td>2169106.5</td>\n",
              "      <td>Prod_Category_A_None</td>\n",
              "      <td>2.169106e+06</td>\n",
              "      <td>1</td>\n",
              "      <td>NecesitaObtuvo</td>\n",
              "      <td>2019-12-02</td>\n",
              "      <td>2019-12-16</td>\n",
              "      <td>14</td>\n",
              "      <td>6</td>\n",
              "    </tr>\n",
              "    <tr>\n",
              "      <th>15</th>\n",
              "      <td>7374</td>\n",
              "      <td>Americas</td>\n",
              "      <td>NW America</td>\n",
              "      <td>NoNecesita</td>\n",
              "      <td>NoObtuvo</td>\n",
              "      <td>0</td>\n",
              "      <td>0</td>\n",
              "      <td>0</td>\n",
              "      <td>Bureaucratic_Code_4</td>\n",
              "      <td>8/30/2018</td>\n",
              "      <td>Source_9</td>\n",
              "      <td>United States</td>\n",
              "      <td>Account_Name_1192</td>\n",
              "      <td>Opportunity_Name_7655</td>\n",
              "      <td>10693</td>\n",
              "      <td>6439</td>\n",
              "      <td>Person_Name_64</td>\n",
              "      <td>Person_Name_64</td>\n",
              "      <td>Account_Type_0</td>\n",
              "      <td>Opportunity_Type_7</td>\n",
              "      <td>Non Binding</td>\n",
              "      <td>Delivery_Terms_4</td>\n",
              "      <td>4/12/2019</td>\n",
              "      <td>None</td>\n",
              "      <td>None</td>\n",
              "      <td>None</td>\n",
              "      <td>None</td>\n",
              "      <td>None</td>\n",
              "      <td>None</td>\n",
              "      <td>NaT</td>\n",
              "      <td>5/12/2019</td>\n",
              "      <td>4/13/2019</td>\n",
              "      <td>Person_Name_64</td>\n",
              "      <td>Product_Family_140</td>\n",
              "      <td>Product_Name_241</td>\n",
              "      <td>USD</td>\n",
              "      <td>0.390</td>\n",
              "      <td>USD</td>\n",
              "      <td>0.39000</td>\n",
              "      <td>2019-05-02</td>\n",
              "      <td>2019-05-02</td>\n",
              "      <td>2019 - 5</td>\n",
              "      <td>Q2</td>\n",
              "      <td>2019</td>\n",
              "      <td>NaT</td>\n",
              "      <td>USD</td>\n",
              "      <td>5752.5</td>\n",
              "      <td>USD</td>\n",
              "      <td>5752.5</td>\n",
              "      <td>Prod_Category_A_None</td>\n",
              "      <td>5.752500e+03</td>\n",
              "      <td>0</td>\n",
              "      <td>NoNecesitaNoObtuvo</td>\n",
              "      <td>2019-05-02</td>\n",
              "      <td>2019-05-02</td>\n",
              "      <td>0</td>\n",
              "      <td>1</td>\n",
              "    </tr>\n",
              "  </tbody>\n",
              "</table>\n",
              "</div>"
            ],
            "text/plain": [
              "       ID    Region  ... Rango de entrega Count_products\n",
              "0    6140      EMEA  ...               30              3\n",
              "3    6118      EMEA  ...               28              5\n",
              "8   11530  Americas  ...                0              1\n",
              "9   20314  Americas  ...               14              6\n",
              "15   7374  Americas  ...                0              1\n",
              "\n",
              "[5 rows x 57 columns]"
            ]
          },
          "metadata": {
            "tags": []
          },
          "execution_count": 83
        }
      ]
    },
    {
      "cell_type": "code",
      "metadata": {
        "id": "wQd_XCj6kAK5"
      },
      "source": [
        "# territory = train[['Territory']]\n",
        "# territory"
      ],
      "execution_count": 84,
      "outputs": []
    },
    {
      "cell_type": "code",
      "metadata": {
        "id": "guUCF-KK8Mvk"
      },
      "source": [
        "# # turn train into dict\n",
        "# X_dict = territory.to_dict(orient='records') # turn each row as key-value pairs\n",
        "# # show X_dict\n",
        "# X_dict"
      ],
      "execution_count": 85,
      "outputs": []
    },
    {
      "cell_type": "code",
      "metadata": {
        "id": "_8Ln7rKE8Pii"
      },
      "source": [
        "# # DictVectorizer\n",
        "# from sklearn.feature_extraction import DictVectorizer\n",
        "# # instantiate a Dictvectorizer object for X\n",
        "# dv_X = DictVectorizer(sparse=False) \n",
        "# # sparse = False makes the output is not a sparse matrix"
      ],
      "execution_count": 86,
      "outputs": []
    },
    {
      "cell_type": "code",
      "metadata": {
        "id": "7S8ZOHh58TAF"
      },
      "source": [
        "# # apply dv_X on X_dict\n",
        "# X_encoded = dv_X.fit_transform(X_dict)\n",
        "# # show X_encoded\n",
        "# X_encoded"
      ],
      "execution_count": 87,
      "outputs": []
    },
    {
      "cell_type": "code",
      "metadata": {
        "id": "U_gP9RDG8Uoq"
      },
      "source": [
        "# # vocabulary\n",
        "# vocab = dv_X.vocabulary_\n",
        "# # show vocab\n",
        "# vocab"
      ],
      "execution_count": 88,
      "outputs": []
    },
    {
      "cell_type": "code",
      "metadata": {
        "id": "Irp7SYhl8W9u"
      },
      "source": [
        "#print(X_encoded.shape)\n"
      ],
      "execution_count": 89,
      "outputs": []
    },
    {
      "cell_type": "code",
      "metadata": {
        "id": "sd86Vzr7ov4i"
      },
      "source": [
        "# maxlen = 100\n",
        "\n",
        "\n",
        "# X_train = pad_sequences(X_encoded, padding='post', maxlen=maxlen)\n",
        "# X_train.shape"
      ],
      "execution_count": 90,
      "outputs": []
    },
    {
      "cell_type": "code",
      "metadata": {
        "colab": {
          "base_uri": "https://localhost:8080/"
        },
        "id": "dAGxLHOhn9Ml",
        "outputId": "b2d04992-2f16-48ed-9fb4-14b18c281776"
      },
      "source": [
        "from sklearn.preprocessing import LabelEncoder\n",
        "\n",
        "X = train['Territory']\n",
        "le = LabelEncoder()\n",
        "X = le.fit_transform(X)\n",
        "X1 = X.reshape(-1,1)\n",
        "X1.shape"
      ],
      "execution_count": 91,
      "outputs": [
        {
          "output_type": "execute_result",
          "data": {
            "text/plain": [
              "(7940, 1)"
            ]
          },
          "metadata": {
            "tags": []
          },
          "execution_count": 91
        }
      ]
    },
    {
      "cell_type": "code",
      "metadata": {
        "colab": {
          "base_uri": "https://localhost:8080/"
        },
        "id": "fdr-Uh8KpL7A",
        "outputId": "a524dfb1-df09-4fcc-827d-74cbf471915b"
      },
      "source": [
        "X2 = train['TRF_mean']\n",
        "le = LabelEncoder()\n",
        "X2 = le.fit_transform(X2)\n",
        "X2 = X2.reshape(-1,1)\n",
        "X2.shape\n",
        "X2"
      ],
      "execution_count": 92,
      "outputs": [
        {
          "output_type": "execute_result",
          "data": {
            "text/plain": [
              "array([[ 0],\n",
              "       [14],\n",
              "       [25],\n",
              "       ...,\n",
              "       [ 0],\n",
              "       [ 4],\n",
              "       [39]])"
            ]
          },
          "metadata": {
            "tags": []
          },
          "execution_count": 92
        }
      ]
    },
    {
      "cell_type": "code",
      "metadata": {
        "colab": {
          "base_uri": "https://localhost:8080/"
        },
        "id": "VlhY8dbaPZie",
        "outputId": "e74d4f6b-4207-4489-e1cf-11dae123c90f"
      },
      "source": [
        "X3 = train['Aprobacion_Especial']\n",
        "le = LabelEncoder()\n",
        "X3 = le.fit_transform(X)\n",
        "X3 = X.reshape(-1,1)\n",
        "X3.shape\n",
        "X3"
      ],
      "execution_count": 93,
      "outputs": [
        {
          "output_type": "execute_result",
          "data": {
            "text/plain": [
              "array([[43],\n",
              "       [43],\n",
              "       [43],\n",
              "       ...,\n",
              "       [ 3],\n",
              "       [42],\n",
              "       [42]])"
            ]
          },
          "metadata": {
            "tags": []
          },
          "execution_count": 93
        }
      ]
    },
    {
      "cell_type": "code",
      "metadata": {
        "colab": {
          "base_uri": "https://localhost:8080/"
        },
        "id": "86DG-aF2WTQg",
        "outputId": "46a77bb0-9209-46ed-8ec3-e7e1af5ad43f"
      },
      "source": [
        "X4 = train['Total_Taxable_Amount_(converted)']\n",
        "le = LabelEncoder()\n",
        "X4 = le.fit_transform(X4)\n",
        "X4 = X4.reshape(-1,1)\n",
        "X4.shape\n",
        "X4"
      ],
      "execution_count": 94,
      "outputs": [
        {
          "output_type": "execute_result",
          "data": {
            "text/plain": [
              "array([[1770],\n",
              "       [5985],\n",
              "       [6153],\n",
              "       ...,\n",
              "       [3810],\n",
              "       [5483],\n",
              "       [6286]])"
            ]
          },
          "metadata": {
            "tags": []
          },
          "execution_count": 94
        }
      ]
    },
    {
      "cell_type": "code",
      "metadata": {
        "colab": {
          "base_uri": "https://localhost:8080/"
        },
        "id": "V5E00Zk2rT3F",
        "outputId": "03d3e0bd-bd3f-4a83-d731-b3e4af70c54b"
      },
      "source": [
        "X5 = train['Rango de entrega']\n",
        "le = LabelEncoder()\n",
        "X5 = le.fit_transform(X5)\n",
        "X5 = X5.reshape(-1,1)\n",
        "X5.shape\n"
      ],
      "execution_count": 95,
      "outputs": [
        {
          "output_type": "execute_result",
          "data": {
            "text/plain": [
              "(7940, 1)"
            ]
          },
          "metadata": {
            "tags": []
          },
          "execution_count": 95
        }
      ]
    },
    {
      "cell_type": "code",
      "metadata": {
        "colab": {
          "base_uri": "https://localhost:8080/"
        },
        "id": "Bx6usfW7zyhN",
        "outputId": "7b733cba-1333-48e4-c754-1f43ee041693"
      },
      "source": [
        "X6 = train['Count_products']\n",
        "le = LabelEncoder()\n",
        "X6 = le.fit_transform(X6)\n",
        "X6 = X6.reshape(-1,1)\n",
        "X6.shape\n"
      ],
      "execution_count": 96,
      "outputs": [
        {
          "output_type": "execute_result",
          "data": {
            "text/plain": [
              "(7940, 1)"
            ]
          },
          "metadata": {
            "tags": []
          },
          "execution_count": 96
        }
      ]
    },
    {
      "cell_type": "code",
      "metadata": {
        "colab": {
          "base_uri": "https://localhost:8080/"
        },
        "id": "MXM_LRwkZse0",
        "outputId": "6e0858b3-e419-4b6b-c525-64bcc7cd196d"
      },
      "source": [
        "X7 = train['Region']\n",
        "le = LabelEncoder()\n",
        "X7 = le.fit_transform(X7)\n",
        "X7 = X7.reshape(-1,1)\n",
        "X7.shape\n"
      ],
      "execution_count": 97,
      "outputs": [
        {
          "output_type": "execute_result",
          "data": {
            "text/plain": [
              "(7940, 1)"
            ]
          },
          "metadata": {
            "tags": []
          },
          "execution_count": 97
        }
      ]
    },
    {
      "cell_type": "code",
      "metadata": {
        "id": "0eGk6CDwhreQ",
        "colab": {
          "base_uri": "https://localhost:8080/"
        },
        "outputId": "dc0440ac-7131-4d51-fc54-4d9c53b5b0fd"
      },
      "source": [
        "X8 = train['Opportunity_Type']\n",
        "le = LabelEncoder()\n",
        "X8 = le.fit_transform(X8)\n",
        "X8 = X8.reshape(-1,1)\n",
        "X8.shape"
      ],
      "execution_count": 98,
      "outputs": [
        {
          "output_type": "execute_result",
          "data": {
            "text/plain": [
              "(7940, 1)"
            ]
          },
          "metadata": {
            "tags": []
          },
          "execution_count": 98
        }
      ]
    },
    {
      "cell_type": "code",
      "metadata": {
        "id": "ovKooHiLiWrH",
        "colab": {
          "base_uri": "https://localhost:8080/"
        },
        "outputId": "be8bd20e-2f06-4923-c614-d0a0c5354f19"
      },
      "source": [
        "X9 = train['Account_Owner']\n",
        "le = LabelEncoder()\n",
        "X9 = le.fit_transform(X9)\n",
        "X9 = X9.reshape(-1,1)\n",
        "X9.shape"
      ],
      "execution_count": 99,
      "outputs": [
        {
          "output_type": "execute_result",
          "data": {
            "text/plain": [
              "(7940, 1)"
            ]
          },
          "metadata": {
            "tags": []
          },
          "execution_count": 99
        }
      ]
    },
    {
      "cell_type": "code",
      "metadata": {
        "id": "cteq7w8J8bBP"
      },
      "source": [
        "from sklearn.preprocessing import LabelEncoder\n",
        "Y_train =train['Stage']\n"
      ],
      "execution_count": 100,
      "outputs": []
    },
    {
      "cell_type": "code",
      "metadata": {
        "colab": {
          "base_uri": "https://localhost:8080/"
        },
        "id": "pH-sAg0m8d0S",
        "outputId": "203cb5bd-0756-419a-fdcb-0cde77417ce2"
      },
      "source": [
        "\n",
        "print(X1.shape, X2.shape, X3.shape, X4.shape, Y_train.shape)\n"
      ],
      "execution_count": 101,
      "outputs": [
        {
          "output_type": "stream",
          "text": [
            "(7940, 1) (7940, 1) (7940, 1) (7940, 1) (7940,)\n"
          ],
          "name": "stdout"
        }
      ]
    },
    {
      "cell_type": "code",
      "metadata": {
        "id": "-mhusFnZsOLM"
      },
      "source": [
        "rate_drop_lstm = 0.15 + np.random.rand() * 0.25\n",
        "rate_drop_dense = 0.15 + np.random.rand() * 0.25"
      ],
      "execution_count": 102,
      "outputs": []
    },
    {
      "cell_type": "code",
      "metadata": {
        "id": "3Ee2SVNy8UvD"
      },
      "source": [
        "from keras.models import Sequential\n",
        "from keras.layers import Dropout, Reshape, Bidirectional\n",
        "\n",
        "from keras.models import Model\n",
        "from keras.layers import Dense, Embedding, LSTM, SpatialDropout1D\n",
        "from keras.layers.convolutional import Conv1D, MaxPooling1D\n",
        "from keras.layers import GlobalMaxPooling1D\n",
        "from keras.layers.advanced_activations import LeakyReLU\n",
        "from keras.optimizers import Adam\n",
        "from keras.layers.merge import concatenate"
      ],
      "execution_count": 103,
      "outputs": []
    },
    {
      "cell_type": "code",
      "metadata": {
        "colab": {
          "base_uri": "https://localhost:8080/"
        },
        "id": "LZB7g8S18hpP",
        "outputId": "2c83d6b0-e9e7-4cb2-8ec2-a54cea4d629d"
      },
      "source": [
        "opt = Adam(lr=0.0001, beta_1=0.9, beta_2=0.999, decay=0.01)\n",
        "\n",
        "lstm_layer = LSTM(124, dropout=0.25, recurrent_dropout=0.2)\n",
        "\n",
        "embedding = Embedding(7000, 200, input_length=1)\n",
        "\n",
        "sequence_1_input = Input(shape=(1,), dtype='int32')\n",
        "embedded_sequences_1 = embedding(sequence_1_input)\n",
        "x1 = lstm_layer(embedded_sequences_1)\n",
        "\n",
        "sequence_1_output = Dense(64, activation=act)(x1)\n",
        "sequence_1_output = Dropout(rate_drop_dense)(sequence_1_output)\n",
        "\n",
        "x = Model(inputs=sequence_1_input, outputs=sequence_1_output)\n",
        "\n",
        "\n",
        "sequence_2_input = Input(shape=(1, ), dtype='int32')\n",
        "embedded_sequences_2 = embedding(sequence_2_input)\n",
        "y1 = lstm_layer(embedded_sequences_2)\n",
        "\n",
        "sequence_2_output = Dense(64, activation=act)(y1)\n",
        "sequence_2_output = Dropout(rate_drop_dense)(sequence_2_output)\n",
        "\n",
        "y = Model(inputs=sequence_2_input, outputs=sequence_2_output)\n",
        "\n",
        "sequence_3_input = Input(shape=(1), dtype='int32')\n",
        "embedded_sequences_3 = embedding(sequence_3_input)\n",
        "z1 = lstm_layer(embedded_sequences_3)\n",
        "\n",
        "sequence_3_output = Dense(64, activation=act)(z1)\n",
        "sequence_3_output = Dropout(rate_drop_dense)(sequence_3_output)\n",
        "\n",
        "z = Model(inputs=sequence_3_input, outputs=sequence_3_output)\n",
        "\n",
        "sequence_4_input = Input(shape=(1,), dtype='int32')\n",
        "embedded_sequences_4 = embedding(sequence_4_input)\n",
        "p1 = lstm_layer(embedded_sequences_4)\n",
        "\n",
        "sequence_4_output = Dense(64, activation=act)(p1)\n",
        "sequence_4_output = Dropout(rate_drop_dense)(sequence_4_output)\n",
        "\n",
        "p = Model(inputs=sequence_4_input, outputs=sequence_4_output)\n",
        "\n",
        "sequence_5_input = Input(shape=(1,), dtype='int32')\n",
        "embedded_sequences_5 = embedding(sequence_5_input)\n",
        "q1 = lstm_layer(embedded_sequences_5)\n",
        "\n",
        "sequence_5_output = Dense(64, activation=act)(q1)\n",
        "sequence_5_output = Dropout(rate_drop_dense)(sequence_5_output)\n",
        "\n",
        "q = Model(inputs=sequence_5_input, outputs=sequence_5_output)\n",
        "\n",
        "sequence_6_input = Input(shape=(1,), dtype='int32')\n",
        "embedded_sequences_6 = embedding(sequence_6_input)\n",
        "r1 = lstm_layer(embedded_sequences_6)\n",
        "\n",
        "sequence_6_output = Dense(64, activation=act)(r1)\n",
        "sequence_6_output = Dropout(rate_drop_dense)(sequence_6_output)\n",
        "\n",
        "r = Model(inputs=sequence_6_input, outputs=sequence_6_output)\n",
        "\n",
        "sequence_7_input = Input(shape=(1,), dtype='int32')\n",
        "embedded_sequences_7 = embedding(sequence_7_input)\n",
        "s1 = lstm_layer(embedded_sequences_7)\n",
        "\n",
        "sequence_7_output = Dense(64, activation=act)(s1)\n",
        "sequence_7_output = Dropout(rate_drop_dense)(sequence_7_output)\n",
        "\n",
        "s = Model(inputs=sequence_7_input, outputs=sequence_7_output)\n",
        "\n",
        "sequence_8_input = Input(shape=(1,), dtype='int32')\n",
        "embedded_sequences_8 = embedding(sequence_8_input)\n",
        "t1 = lstm_layer(embedded_sequences_8)\n",
        "\n",
        "sequence_8_output = Dense(64, activation=act)(t1)\n",
        "sequence_8_output = Dropout(rate_drop_dense)(sequence_8_output)\n",
        "\n",
        "t = Model(inputs=sequence_8_input, outputs=sequence_8_output)\n",
        "\n",
        "sequence_9_input = Input(shape=(1,), dtype='int32')\n",
        "embedded_sequences_9 = embedding(sequence_9_input)\n",
        "u1 = lstm_layer(embedded_sequences_9)\n",
        "\n",
        "sequence_9_output = Dense(64, activation=act)(u1)\n",
        "sequence_9_output = Dropout(rate_drop_dense)(sequence_9_output)\n",
        "\n",
        "u = Model(inputs=sequence_9_input, outputs=sequence_9_output)\n",
        "\n",
        "merged = concatenate([x.output, y.output, z.output, p.output, q.output, r.output, s.output, t.output, u.output])\n",
        "\n",
        "merged = Dropout(rate_drop_dense)(merged)\n",
        "\n",
        "merged = Dense(64, activation=act)(merged)\n",
        "merged = Dropout(rate_drop_dense)(merged)\n",
        "\n",
        "merged = Dense(32, activation=act)(merged)\n",
        "merged = Dropout(rate_drop_dense)(merged)\n",
        "\n",
        "merged = Dense(16, activation=act)(merged)\n",
        "merged = Dropout(rate_drop_dense)(merged)\n",
        "\n",
        "preds = Dense(1, activation='sigmoid')(merged)\n",
        "\n",
        "\n",
        "model = Model(inputs=[sequence_1_input, sequence_2_input, sequence_3_input, sequence_4_input, sequence_5_input, sequence_6_input, sequence_7_input, sequence_8_input, sequence_9_input ], \\\n",
        "        outputs=preds)\n",
        "model.compile(loss='binary_crossentropy',\n",
        "        optimizer=opt,\n",
        "        metrics=['acc'])"
      ],
      "execution_count": 104,
      "outputs": [
        {
          "output_type": "stream",
          "text": [
            "WARNING:tensorflow:Layer lstm_3 will not use cuDNN kernel since it doesn't meet the cuDNN kernel criteria. It will use generic GPU kernel as fallback when running on GPU\n"
          ],
          "name": "stdout"
        }
      ]
    },
    {
      "cell_type": "code",
      "metadata": {
        "colab": {
          "base_uri": "https://localhost:8080/"
        },
        "id": "ZcFwErg6kTRh",
        "outputId": "e166d289-f134-4f1d-b818-5e7556f02eb8"
      },
      "source": [
        "print(model.summary())"
      ],
      "execution_count": 105,
      "outputs": [
        {
          "output_type": "stream",
          "text": [
            "Model: \"model_39\"\n",
            "__________________________________________________________________________________________________\n",
            "Layer (type)                    Output Shape         Param #     Connected to                     \n",
            "==================================================================================================\n",
            "input_28 (InputLayer)           [(None, 1)]          0                                            \n",
            "__________________________________________________________________________________________________\n",
            "input_29 (InputLayer)           [(None, 1)]          0                                            \n",
            "__________________________________________________________________________________________________\n",
            "input_30 (InputLayer)           [(None, 1)]          0                                            \n",
            "__________________________________________________________________________________________________\n",
            "input_31 (InputLayer)           [(None, 1)]          0                                            \n",
            "__________________________________________________________________________________________________\n",
            "input_32 (InputLayer)           [(None, 1)]          0                                            \n",
            "__________________________________________________________________________________________________\n",
            "input_33 (InputLayer)           [(None, 1)]          0                                            \n",
            "__________________________________________________________________________________________________\n",
            "input_34 (InputLayer)           [(None, 1)]          0                                            \n",
            "__________________________________________________________________________________________________\n",
            "input_35 (InputLayer)           [(None, 1)]          0                                            \n",
            "__________________________________________________________________________________________________\n",
            "input_36 (InputLayer)           [(None, 1)]          0                                            \n",
            "__________________________________________________________________________________________________\n",
            "embedding_3 (Embedding)         (None, 1, 200)       1400000     input_28[0][0]                   \n",
            "                                                                 input_29[0][0]                   \n",
            "                                                                 input_30[0][0]                   \n",
            "                                                                 input_31[0][0]                   \n",
            "                                                                 input_32[0][0]                   \n",
            "                                                                 input_33[0][0]                   \n",
            "                                                                 input_34[0][0]                   \n",
            "                                                                 input_35[0][0]                   \n",
            "                                                                 input_36[0][0]                   \n",
            "__________________________________________________________________________________________________\n",
            "lstm_3 (LSTM)                   (None, 100)          120400      embedding_3[0][0]                \n",
            "                                                                 embedding_3[1][0]                \n",
            "                                                                 embedding_3[2][0]                \n",
            "                                                                 embedding_3[3][0]                \n",
            "                                                                 embedding_3[4][0]                \n",
            "                                                                 embedding_3[5][0]                \n",
            "                                                                 embedding_3[6][0]                \n",
            "                                                                 embedding_3[7][0]                \n",
            "                                                                 embedding_3[8][0]                \n",
            "__________________________________________________________________________________________________\n",
            "dense_39 (Dense)                (None, 64)           6464        lstm_3[0][0]                     \n",
            "__________________________________________________________________________________________________\n",
            "dense_40 (Dense)                (None, 64)           6464        lstm_3[1][0]                     \n",
            "__________________________________________________________________________________________________\n",
            "dense_41 (Dense)                (None, 64)           6464        lstm_3[2][0]                     \n",
            "__________________________________________________________________________________________________\n",
            "dense_42 (Dense)                (None, 64)           6464        lstm_3[3][0]                     \n",
            "__________________________________________________________________________________________________\n",
            "dense_43 (Dense)                (None, 64)           6464        lstm_3[4][0]                     \n",
            "__________________________________________________________________________________________________\n",
            "dense_44 (Dense)                (None, 64)           6464        lstm_3[5][0]                     \n",
            "__________________________________________________________________________________________________\n",
            "dense_45 (Dense)                (None, 64)           6464        lstm_3[6][0]                     \n",
            "__________________________________________________________________________________________________\n",
            "dense_46 (Dense)                (None, 64)           6464        lstm_3[7][0]                     \n",
            "__________________________________________________________________________________________________\n",
            "dense_47 (Dense)                (None, 64)           6464        lstm_3[8][0]                     \n",
            "__________________________________________________________________________________________________\n",
            "dropout_39 (Dropout)            (None, 64)           0           dense_39[0][0]                   \n",
            "__________________________________________________________________________________________________\n",
            "dropout_40 (Dropout)            (None, 64)           0           dense_40[0][0]                   \n",
            "__________________________________________________________________________________________________\n",
            "dropout_41 (Dropout)            (None, 64)           0           dense_41[0][0]                   \n",
            "__________________________________________________________________________________________________\n",
            "dropout_42 (Dropout)            (None, 64)           0           dense_42[0][0]                   \n",
            "__________________________________________________________________________________________________\n",
            "dropout_43 (Dropout)            (None, 64)           0           dense_43[0][0]                   \n",
            "__________________________________________________________________________________________________\n",
            "dropout_44 (Dropout)            (None, 64)           0           dense_44[0][0]                   \n",
            "__________________________________________________________________________________________________\n",
            "dropout_45 (Dropout)            (None, 64)           0           dense_45[0][0]                   \n",
            "__________________________________________________________________________________________________\n",
            "dropout_46 (Dropout)            (None, 64)           0           dense_46[0][0]                   \n",
            "__________________________________________________________________________________________________\n",
            "dropout_47 (Dropout)            (None, 64)           0           dense_47[0][0]                   \n",
            "__________________________________________________________________________________________________\n",
            "concatenate_3 (Concatenate)     (None, 576)          0           dropout_39[0][0]                 \n",
            "                                                                 dropout_40[0][0]                 \n",
            "                                                                 dropout_41[0][0]                 \n",
            "                                                                 dropout_42[0][0]                 \n",
            "                                                                 dropout_43[0][0]                 \n",
            "                                                                 dropout_44[0][0]                 \n",
            "                                                                 dropout_45[0][0]                 \n",
            "                                                                 dropout_46[0][0]                 \n",
            "                                                                 dropout_47[0][0]                 \n",
            "__________________________________________________________________________________________________\n",
            "dropout_48 (Dropout)            (None, 576)          0           concatenate_3[0][0]              \n",
            "__________________________________________________________________________________________________\n",
            "dense_48 (Dense)                (None, 64)           36928       dropout_48[0][0]                 \n",
            "__________________________________________________________________________________________________\n",
            "dropout_49 (Dropout)            (None, 64)           0           dense_48[0][0]                   \n",
            "__________________________________________________________________________________________________\n",
            "dense_49 (Dense)                (None, 32)           2080        dropout_49[0][0]                 \n",
            "__________________________________________________________________________________________________\n",
            "dropout_50 (Dropout)            (None, 32)           0           dense_49[0][0]                   \n",
            "__________________________________________________________________________________________________\n",
            "dense_50 (Dense)                (None, 16)           528         dropout_50[0][0]                 \n",
            "__________________________________________________________________________________________________\n",
            "dropout_51 (Dropout)            (None, 16)           0           dense_50[0][0]                   \n",
            "__________________________________________________________________________________________________\n",
            "dense_51 (Dense)                (None, 1)            17          dropout_51[0][0]                 \n",
            "==================================================================================================\n",
            "Total params: 1,618,129\n",
            "Trainable params: 1,618,129\n",
            "Non-trainable params: 0\n",
            "__________________________________________________________________________________________________\n",
            "None\n"
          ],
          "name": "stdout"
        }
      ]
    },
    {
      "cell_type": "code",
      "metadata": {
        "colab": {
          "base_uri": "https://localhost:8080/",
          "height": 516
        },
        "id": "YEsC6jdH4fwu",
        "outputId": "6c6dc5ca-9c80-40c6-88ad-20e9bdcb6d42"
      },
      "source": [
        "from keras.utils import plot_model\n",
        "plot_model(model, to_file='model_plot4a.png', show_shapes=True, show_layer_names=True)"
      ],
      "execution_count": 106,
      "outputs": [
        {
          "output_type": "execute_result",
          "data": {
            "image/png": "[encoded data removed]",
            "text/plain": [
              "<IPython.core.display.Image object>"
            ]
          },
          "metadata": {
            "tags": []
          },
          "execution_count": 106
        }
      ]
    },
    {
      "cell_type": "code",
      "metadata": {
        "colab": {
          "base_uri": "https://localhost:8080/"
        },
        "id": "WYE7P9Mz8wdH",
        "outputId": "4dc568f8-6878-4b45-f78c-654dff4c8672"
      },
      "source": [
        "history = model.fit([X1, X2, X3, X4, X5, X6, X7, X8, X9], Y_train, batch_size=32, epochs=20, verbose=1)\n"
      ],
      "execution_count": 107,
      "outputs": [
        {
          "output_type": "stream",
          "text": [
            "Epoch 1/20\n",
            "249/249 [==============================] - 34s 64ms/step - loss: 0.6909 - acc: 0.5647\n",
            "Epoch 2/20\n",
            "249/249 [==============================] - 16s 64ms/step - loss: 0.6767 - acc: 0.6701\n",
            "Epoch 3/20\n",
            "249/249 [==============================] - 16s 63ms/step - loss: 0.6611 - acc: 0.7039\n",
            "Epoch 4/20\n",
            "249/249 [==============================] - 16s 64ms/step - loss: 0.6470 - acc: 0.7159\n",
            "Epoch 5/20\n",
            "249/249 [==============================] - 16s 63ms/step - loss: 0.6346 - acc: 0.7339\n",
            "Epoch 6/20\n",
            "249/249 [==============================] - 16s 63ms/step - loss: 0.6314 - acc: 0.7272\n",
            "Epoch 7/20\n",
            "249/249 [==============================] - 16s 63ms/step - loss: 0.6232 - acc: 0.7332\n",
            "Epoch 8/20\n",
            "249/249 [==============================] - 16s 63ms/step - loss: 0.6104 - acc: 0.7432\n",
            "Epoch 9/20\n",
            "249/249 [==============================] - 16s 63ms/step - loss: 0.6128 - acc: 0.7420\n",
            "Epoch 10/20\n",
            "249/249 [==============================] - 16s 63ms/step - loss: 0.6115 - acc: 0.7346\n",
            "Epoch 11/20\n",
            "249/249 [==============================] - 15s 62ms/step - loss: 0.6100 - acc: 0.7357\n",
            "Epoch 12/20\n",
            "249/249 [==============================] - 16s 63ms/step - loss: 0.5993 - acc: 0.7466\n",
            "Epoch 13/20\n",
            "249/249 [==============================] - 15s 62ms/step - loss: 0.6034 - acc: 0.7397\n",
            "Epoch 14/20\n",
            "249/249 [==============================] - 15s 62ms/step - loss: 0.5971 - acc: 0.7449\n",
            "Epoch 15/20\n",
            "249/249 [==============================] - 16s 63ms/step - loss: 0.6032 - acc: 0.7308\n",
            "Epoch 16/20\n",
            "249/249 [==============================] - 15s 62ms/step - loss: 0.5948 - acc: 0.7419\n",
            "Epoch 17/20\n",
            "249/249 [==============================] - 16s 62ms/step - loss: 0.5963 - acc: 0.7333\n",
            "Epoch 18/20\n",
            "249/249 [==============================] - 16s 62ms/step - loss: 0.5966 - acc: 0.7302\n",
            "Epoch 19/20\n",
            "249/249 [==============================] - 15s 62ms/step - loss: 0.5971 - acc: 0.7367\n",
            "Epoch 20/20\n",
            "249/249 [==============================] - 15s 62ms/step - loss: 0.5908 - acc: 0.7376\n"
          ],
          "name": "stdout"
        }
      ]
    },
    {
      "cell_type": "code",
      "metadata": {
        "id": "rdRV5-zFkfbc"
      },
      "source": [
        "\n"
      ],
      "execution_count": 107,
      "outputs": []
    },
    {
      "cell_type": "code",
      "metadata": {
        "colab": {
          "base_uri": "https://localhost:8080/"
        },
        "id": "l-qwdk7A_cr9",
        "outputId": "f87c8e07-9cf0-42bb-e9ad-9edd0fa7db36"
      },
      "source": [
        "X_test = test['Territory']\n",
        "le = LabelEncoder()\n",
        "X_test = le.fit_transform(X_test)\n",
        "X_test = X_test.reshape(-1,1)\n",
        "X_test.shape"
      ],
      "execution_count": 108,
      "outputs": [
        {
          "output_type": "execute_result",
          "data": {
            "text/plain": [
              "(1567, 1)"
            ]
          },
          "metadata": {
            "tags": []
          },
          "execution_count": 108
        }
      ]
    },
    {
      "cell_type": "code",
      "metadata": {
        "colab": {
          "base_uri": "https://localhost:8080/"
        },
        "id": "Rvc1YjaCw4x_",
        "outputId": "eee86368-4fa5-428e-8fed-0d220806b126"
      },
      "source": [
        "X_test2 = test['TRF_mean']\n",
        "le = LabelEncoder()\n",
        "X_test2 = le.fit_transform(X_test2)\n",
        "X_test2 = X_test2.reshape(-1,1)\n",
        "X_test2.shape"
      ],
      "execution_count": 109,
      "outputs": [
        {
          "output_type": "execute_result",
          "data": {
            "text/plain": [
              "(1567, 1)"
            ]
          },
          "metadata": {
            "tags": []
          },
          "execution_count": 109
        }
      ]
    },
    {
      "cell_type": "code",
      "metadata": {
        "colab": {
          "base_uri": "https://localhost:8080/"
        },
        "id": "hsw1KgzawyOU",
        "outputId": "a24fb08f-8e7c-425f-d11f-d0e3711da43e"
      },
      "source": [
        "X_test3 = test['Aprobacion_Especial']\n",
        "le = LabelEncoder()\n",
        "X_test3 = le.fit_transform(X_test3)\n",
        "X_test3 = X_test3.reshape(-1,1)\n",
        "X_test3.shape"
      ],
      "execution_count": 110,
      "outputs": [
        {
          "output_type": "execute_result",
          "data": {
            "text/plain": [
              "(1567, 1)"
            ]
          },
          "metadata": {
            "tags": []
          },
          "execution_count": 110
        }
      ]
    },
    {
      "cell_type": "code",
      "metadata": {
        "colab": {
          "base_uri": "https://localhost:8080/"
        },
        "id": "_HQ1-qPcSUBl",
        "outputId": "6291bde6-562c-4e75-e345-acdc45336988"
      },
      "source": [
        "X_test4 = test['Total_Taxable_Amount_(converted)']\n",
        "le = LabelEncoder()\n",
        "X_test4 = le.fit_transform(X_test4)\n",
        "X_test4 = X_test4.reshape(-1,1)\n",
        "X_test4.shape"
      ],
      "execution_count": 111,
      "outputs": [
        {
          "output_type": "execute_result",
          "data": {
            "text/plain": [
              "(1567, 1)"
            ]
          },
          "metadata": {
            "tags": []
          },
          "execution_count": 111
        }
      ]
    },
    {
      "cell_type": "code",
      "metadata": {
        "colab": {
          "base_uri": "https://localhost:8080/"
        },
        "id": "ALFIEesTv5ET",
        "outputId": "c330b6ec-98b7-4a04-85eb-06e1e39f246a"
      },
      "source": [
        "X_test5 = test['Rango de entrega']\n",
        "le = LabelEncoder()\n",
        "X_test5 = le.fit_transform(X_test5)\n",
        "X_test5 = X_test5.reshape(-1,1)\n",
        "X_test5.shape"
      ],
      "execution_count": 112,
      "outputs": [
        {
          "output_type": "execute_result",
          "data": {
            "text/plain": [
              "(1567, 1)"
            ]
          },
          "metadata": {
            "tags": []
          },
          "execution_count": 112
        }
      ]
    },
    {
      "cell_type": "code",
      "metadata": {
        "colab": {
          "base_uri": "https://localhost:8080/"
        },
        "id": "O4119oZs0TSJ",
        "outputId": "f2f8deda-9f42-4539-f293-82f0e2d48310"
      },
      "source": [
        "X_test6 = test['Count_products']\n",
        "le = LabelEncoder()\n",
        "X_test6 = le.fit_transform(X_test6)\n",
        "X_test6 = X_test6.reshape(-1,1)\n",
        "X_test6.shape"
      ],
      "execution_count": 113,
      "outputs": [
        {
          "output_type": "execute_result",
          "data": {
            "text/plain": [
              "(1567, 1)"
            ]
          },
          "metadata": {
            "tags": []
          },
          "execution_count": 113
        }
      ]
    },
    {
      "cell_type": "code",
      "metadata": {
        "colab": {
          "base_uri": "https://localhost:8080/"
        },
        "id": "5mqGdiPrZZ4W",
        "outputId": "7ef15d35-4864-4ea7-c68e-bccd9558bb19"
      },
      "source": [
        "X_test7 = test['Region']\n",
        "le = LabelEncoder()\n",
        "X_test7 = le.fit_transform(X_test7)\n",
        "X_test7 = X_test7.reshape(-1,1)\n",
        "X_test7.shape"
      ],
      "execution_count": 114,
      "outputs": [
        {
          "output_type": "execute_result",
          "data": {
            "text/plain": [
              "(1567, 1)"
            ]
          },
          "metadata": {
            "tags": []
          },
          "execution_count": 114
        }
      ]
    },
    {
      "cell_type": "code",
      "metadata": {
        "colab": {
          "base_uri": "https://localhost:8080/"
        },
        "id": "W_o1h6_-INZd",
        "outputId": "cef69305-aab9-42d5-a090-fe98939d8043"
      },
      "source": [
        "X_test8 = test['Opportunity_Type']\n",
        "le = LabelEncoder()\n",
        "X_test8 = le.fit_transform(X_test8)\n",
        "X_test8 = X_test8.reshape(-1,1)\n",
        "X_test8.shape"
      ],
      "execution_count": 116,
      "outputs": [
        {
          "output_type": "execute_result",
          "data": {
            "text/plain": [
              "(1567, 1)"
            ]
          },
          "metadata": {
            "tags": []
          },
          "execution_count": 116
        }
      ]
    },
    {
      "cell_type": "code",
      "metadata": {
        "colab": {
          "base_uri": "https://localhost:8080/"
        },
        "id": "ikboXwpYIadJ",
        "outputId": "63d62430-e523-49ec-b70a-64edc9bd9ebb"
      },
      "source": [
        "X_test9 = test['Account_Owner']\n",
        "le = LabelEncoder()\n",
        "X_test9 = le.fit_transform(X_test9)\n",
        "X_test9 = X_test9.reshape(-1,1)\n",
        "X_test9.shape"
      ],
      "execution_count": 117,
      "outputs": [
        {
          "output_type": "execute_result",
          "data": {
            "text/plain": [
              "(1567, 1)"
            ]
          },
          "metadata": {
            "tags": []
          },
          "execution_count": 117
        }
      ]
    },
    {
      "cell_type": "code",
      "metadata": {
        "colab": {
          "base_uri": "https://localhost:8080/",
          "height": 1000
        },
        "id": "Fqvmu0Bb_r0j",
        "outputId": "d1fe4582-a851-48bd-f10f-df1a00d7e813"
      },
      "source": [
        "MODEL = model.predict([X_test, X_test2, X_test3, X_test4, X_test5, X_test6, X_test7, X_test8, X_test9])\n",
        "\n",
        "sub = test[['Opportunity_ID']].copy()\n",
        "sub['Target'] = MODEL\n",
        "sub.to_csv(\"model.csv\", index=False)\n",
        "sub.head(50)\n"
      ],
      "execution_count": 119,
      "outputs": [
        {
          "output_type": "execute_result",
          "data": {
            "text/html": [
              "<div>\n",
              "<style scoped>\n",
              "    .dataframe tbody tr th:only-of-type {\n",
              "        vertical-align: middle;\n",
              "    }\n",
              "\n",
              "    .dataframe tbody tr th {\n",
              "        vertical-align: top;\n",
              "    }\n",
              "\n",
              "    .dataframe thead th {\n",
              "        text-align: right;\n",
              "    }\n",
              "</style>\n",
              "<table border=\"1\" class=\"dataframe\">\n",
              "  <thead>\n",
              "    <tr style=\"text-align: right;\">\n",
              "      <th></th>\n",
              "      <th>Opportunity_ID</th>\n",
              "      <th>Target</th>\n",
              "    </tr>\n",
              "  </thead>\n",
              "  <tbody>\n",
              "    <tr>\n",
              "      <th>0</th>\n",
              "      <td>10689</td>\n",
              "      <td>0.656964</td>\n",
              "    </tr>\n",
              "    <tr>\n",
              "      <th>3</th>\n",
              "      <td>10690</td>\n",
              "      <td>0.650377</td>\n",
              "    </tr>\n",
              "    <tr>\n",
              "      <th>8</th>\n",
              "      <td>10691</td>\n",
              "      <td>0.678792</td>\n",
              "    </tr>\n",
              "    <tr>\n",
              "      <th>9</th>\n",
              "      <td>10692</td>\n",
              "      <td>0.388205</td>\n",
              "    </tr>\n",
              "    <tr>\n",
              "      <th>15</th>\n",
              "      <td>10693</td>\n",
              "      <td>0.677376</td>\n",
              "    </tr>\n",
              "    <tr>\n",
              "      <th>16</th>\n",
              "      <td>10694</td>\n",
              "      <td>0.677376</td>\n",
              "    </tr>\n",
              "    <tr>\n",
              "      <th>17</th>\n",
              "      <td>10695</td>\n",
              "      <td>0.671522</td>\n",
              "    </tr>\n",
              "    <tr>\n",
              "      <th>20</th>\n",
              "      <td>10696</td>\n",
              "      <td>0.668047</td>\n",
              "    </tr>\n",
              "    <tr>\n",
              "      <th>24</th>\n",
              "      <td>10697</td>\n",
              "      <td>0.661494</td>\n",
              "    </tr>\n",
              "    <tr>\n",
              "      <th>29</th>\n",
              "      <td>10698</td>\n",
              "      <td>0.660705</td>\n",
              "    </tr>\n",
              "    <tr>\n",
              "      <th>31</th>\n",
              "      <td>10699</td>\n",
              "      <td>0.652471</td>\n",
              "    </tr>\n",
              "    <tr>\n",
              "      <th>36</th>\n",
              "      <td>10700</td>\n",
              "      <td>0.708527</td>\n",
              "    </tr>\n",
              "    <tr>\n",
              "      <th>39</th>\n",
              "      <td>10701</td>\n",
              "      <td>0.708527</td>\n",
              "    </tr>\n",
              "    <tr>\n",
              "      <th>42</th>\n",
              "      <td>10702</td>\n",
              "      <td>0.679369</td>\n",
              "    </tr>\n",
              "    <tr>\n",
              "      <th>43</th>\n",
              "      <td>10703</td>\n",
              "      <td>0.711111</td>\n",
              "    </tr>\n",
              "    <tr>\n",
              "      <th>46</th>\n",
              "      <td>10704</td>\n",
              "      <td>0.716355</td>\n",
              "    </tr>\n",
              "    <tr>\n",
              "      <th>47</th>\n",
              "      <td>10705</td>\n",
              "      <td>0.691547</td>\n",
              "    </tr>\n",
              "    <tr>\n",
              "      <th>49</th>\n",
              "      <td>10706</td>\n",
              "      <td>0.688324</td>\n",
              "    </tr>\n",
              "    <tr>\n",
              "      <th>51</th>\n",
              "      <td>10707</td>\n",
              "      <td>0.367207</td>\n",
              "    </tr>\n",
              "    <tr>\n",
              "      <th>52</th>\n",
              "      <td>10708</td>\n",
              "      <td>0.362246</td>\n",
              "    </tr>\n",
              "    <tr>\n",
              "      <th>53</th>\n",
              "      <td>10709</td>\n",
              "      <td>0.684473</td>\n",
              "    </tr>\n",
              "    <tr>\n",
              "      <th>54</th>\n",
              "      <td>10710</td>\n",
              "      <td>0.364555</td>\n",
              "    </tr>\n",
              "    <tr>\n",
              "      <th>55</th>\n",
              "      <td>10711</td>\n",
              "      <td>0.359743</td>\n",
              "    </tr>\n",
              "    <tr>\n",
              "      <th>56</th>\n",
              "      <td>10712</td>\n",
              "      <td>0.715920</td>\n",
              "    </tr>\n",
              "    <tr>\n",
              "      <th>57</th>\n",
              "      <td>10713</td>\n",
              "      <td>0.360969</td>\n",
              "    </tr>\n",
              "    <tr>\n",
              "      <th>58</th>\n",
              "      <td>10714</td>\n",
              "      <td>0.706279</td>\n",
              "    </tr>\n",
              "    <tr>\n",
              "      <th>59</th>\n",
              "      <td>10715</td>\n",
              "      <td>0.657775</td>\n",
              "    </tr>\n",
              "    <tr>\n",
              "      <th>60</th>\n",
              "      <td>10716</td>\n",
              "      <td>0.657866</td>\n",
              "    </tr>\n",
              "    <tr>\n",
              "      <th>61</th>\n",
              "      <td>10717</td>\n",
              "      <td>0.367754</td>\n",
              "    </tr>\n",
              "    <tr>\n",
              "      <th>62</th>\n",
              "      <td>10718</td>\n",
              "      <td>0.677012</td>\n",
              "    </tr>\n",
              "    <tr>\n",
              "      <th>63</th>\n",
              "      <td>10719</td>\n",
              "      <td>0.701918</td>\n",
              "    </tr>\n",
              "    <tr>\n",
              "      <th>64</th>\n",
              "      <td>10720</td>\n",
              "      <td>0.362289</td>\n",
              "    </tr>\n",
              "    <tr>\n",
              "      <th>65</th>\n",
              "      <td>10721</td>\n",
              "      <td>0.601374</td>\n",
              "    </tr>\n",
              "    <tr>\n",
              "      <th>66</th>\n",
              "      <td>10722</td>\n",
              "      <td>0.722921</td>\n",
              "    </tr>\n",
              "    <tr>\n",
              "      <th>67</th>\n",
              "      <td>10723</td>\n",
              "      <td>0.726689</td>\n",
              "    </tr>\n",
              "    <tr>\n",
              "      <th>68</th>\n",
              "      <td>10724</td>\n",
              "      <td>0.704150</td>\n",
              "    </tr>\n",
              "    <tr>\n",
              "      <th>69</th>\n",
              "      <td>10725</td>\n",
              "      <td>0.686642</td>\n",
              "    </tr>\n",
              "    <tr>\n",
              "      <th>70</th>\n",
              "      <td>10726</td>\n",
              "      <td>0.654006</td>\n",
              "    </tr>\n",
              "    <tr>\n",
              "      <th>71</th>\n",
              "      <td>10727</td>\n",
              "      <td>0.366083</td>\n",
              "    </tr>\n",
              "    <tr>\n",
              "      <th>72</th>\n",
              "      <td>10728</td>\n",
              "      <td>0.683417</td>\n",
              "    </tr>\n",
              "    <tr>\n",
              "      <th>73</th>\n",
              "      <td>10729</td>\n",
              "      <td>0.395428</td>\n",
              "    </tr>\n",
              "    <tr>\n",
              "      <th>74</th>\n",
              "      <td>10730</td>\n",
              "      <td>0.723835</td>\n",
              "    </tr>\n",
              "    <tr>\n",
              "      <th>75</th>\n",
              "      <td>10731</td>\n",
              "      <td>0.663421</td>\n",
              "    </tr>\n",
              "    <tr>\n",
              "      <th>76</th>\n",
              "      <td>10732</td>\n",
              "      <td>0.711109</td>\n",
              "    </tr>\n",
              "    <tr>\n",
              "      <th>80</th>\n",
              "      <td>10733</td>\n",
              "      <td>0.711109</td>\n",
              "    </tr>\n",
              "    <tr>\n",
              "      <th>84</th>\n",
              "      <td>10734</td>\n",
              "      <td>0.367130</td>\n",
              "    </tr>\n",
              "    <tr>\n",
              "      <th>85</th>\n",
              "      <td>10735</td>\n",
              "      <td>0.650985</td>\n",
              "    </tr>\n",
              "    <tr>\n",
              "      <th>86</th>\n",
              "      <td>10736</td>\n",
              "      <td>0.640145</td>\n",
              "    </tr>\n",
              "    <tr>\n",
              "      <th>87</th>\n",
              "      <td>10737</td>\n",
              "      <td>0.653523</td>\n",
              "    </tr>\n",
              "    <tr>\n",
              "      <th>88</th>\n",
              "      <td>10738</td>\n",
              "      <td>0.700363</td>\n",
              "    </tr>\n",
              "  </tbody>\n",
              "</table>\n",
              "</div>"
            ],
            "text/plain": [
              "    Opportunity_ID    Target\n",
              "0            10689  0.656964\n",
              "3            10690  0.650377\n",
              "8            10691  0.678792\n",
              "9            10692  0.388205\n",
              "15           10693  0.677376\n",
              "16           10694  0.677376\n",
              "17           10695  0.671522\n",
              "20           10696  0.668047\n",
              "24           10697  0.661494\n",
              "29           10698  0.660705\n",
              "31           10699  0.652471\n",
              "36           10700  0.708527\n",
              "39           10701  0.708527\n",
              "42           10702  0.679369\n",
              "43           10703  0.711111\n",
              "46           10704  0.716355\n",
              "47           10705  0.691547\n",
              "49           10706  0.688324\n",
              "51           10707  0.367207\n",
              "52           10708  0.362246\n",
              "53           10709  0.684473\n",
              "54           10710  0.364555\n",
              "55           10711  0.359743\n",
              "56           10712  0.715920\n",
              "57           10713  0.360969\n",
              "58           10714  0.706279\n",
              "59           10715  0.657775\n",
              "60           10716  0.657866\n",
              "61           10717  0.367754\n",
              "62           10718  0.677012\n",
              "63           10719  0.701918\n",
              "64           10720  0.362289\n",
              "65           10721  0.601374\n",
              "66           10722  0.722921\n",
              "67           10723  0.726689\n",
              "68           10724  0.704150\n",
              "69           10725  0.686642\n",
              "70           10726  0.654006\n",
              "71           10727  0.366083\n",
              "72           10728  0.683417\n",
              "73           10729  0.395428\n",
              "74           10730  0.723835\n",
              "75           10731  0.663421\n",
              "76           10732  0.711109\n",
              "80           10733  0.711109\n",
              "84           10734  0.367130\n",
              "85           10735  0.650985\n",
              "86           10736  0.640145\n",
              "87           10737  0.653523\n",
              "88           10738  0.700363"
            ]
          },
          "metadata": {
            "tags": []
          },
          "execution_count": 119
        }
      ]
    },
    {
      "cell_type": "code",
      "metadata": {
        "colab": {
          "base_uri": "https://localhost:8080/",
          "height": 17
        },
        "id": "2QnPJ5Y0u4A-",
        "outputId": "fe84619c-ab5c-4fad-b416-1f19b82ca213"
      },
      "source": [
        " from google.colab import files\n",
        " files.download('model.csv')"
      ],
      "execution_count": 120,
      "outputs": [
        {
          "output_type": "display_data",
          "data": {
            "application/javascript": [
              "\n",
              "    async function download(id, filename, size) {\n",
              "      if (!google.colab.kernel.accessAllowed) {\n",
              "        return;\n",
              "      }\n",
              "      const div = document.createElement('div');\n",
              "      const label = document.createElement('label');\n",
              "      label.textContent = `Downloading \"${filename}\": `;\n",
              "      div.appendChild(label);\n",
              "      const progress = document.createElement('progress');\n",
              "      progress.max = size;\n",
              "      div.appendChild(progress);\n",
              "      document.body.appendChild(div);\n",
              "\n",
              "      const buffers = [];\n",
              "      let downloaded = 0;\n",
              "\n",
              "      const channel = await google.colab.kernel.comms.open(id);\n",
              "      // Send a message to notify the kernel that we're ready.\n",
              "      channel.send({})\n",
              "\n",
              "      for await (const message of channel.messages) {\n",
              "        // Send a message to notify the kernel that we're ready.\n",
              "        channel.send({})\n",
              "        if (message.buffers) {\n",
              "          for (const buffer of message.buffers) {\n",
              "            buffers.push(buffer);\n",
              "            downloaded += buffer.byteLength;\n",
              "            progress.value = downloaded;\n",
              "          }\n",
              "        }\n",
              "      }\n",
              "      const blob = new Blob(buffers, {type: 'application/binary'});\n",
              "      const a = document.createElement('a');\n",
              "      a.href = window.URL.createObjectURL(blob);\n",
              "      a.download = filename;\n",
              "      div.appendChild(a);\n",
              "      a.click();\n",
              "      div.remove();\n",
              "    }\n",
              "  "
            ],
            "text/plain": [
              "<IPython.core.display.Javascript object>"
            ]
          },
          "metadata": {
            "tags": []
          }
        },
        {
          "output_type": "display_data",
          "data": {
            "application/javascript": [
              "download(\"download_7a6a24ad-4cf0-4259-97a5-f12a7d31c396\", \"model.csv\", 25857)"
            ],
            "text/plain": [
              "<IPython.core.display.Javascript object>"
            ]
          },
          "metadata": {
            "tags": []
          }
        }
      ]
    },
    {
      "cell_type": "code",
      "metadata": {
        "id": "0aWn-WN7lBK_"
      },
      "source": [
        ""
      ],
      "execution_count": null,
      "outputs": []
    }
  ]
}