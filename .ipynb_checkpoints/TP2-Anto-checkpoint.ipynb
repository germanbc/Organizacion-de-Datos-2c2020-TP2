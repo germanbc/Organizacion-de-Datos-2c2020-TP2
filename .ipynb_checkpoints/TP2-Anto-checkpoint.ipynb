{
 "cells": [
  {
   "cell_type": "code",
   "execution_count": 31,
   "metadata": {
    "colab": {
     "base_uri": "https://localhost:8080/"
    },
    "executionInfo": {
     "elapsed": 3511,
     "status": "ok",
     "timestamp": 1609043250535,
     "user": {
      "displayName": "GERMAN BERNARDO BOBADILLA CATALAN",
      "photoUrl": "",
      "userId": "14005656012307870514"
     },
     "user_tz": 180
    },
    "id": "Qases-cpAvsK",
    "outputId": "333d0374-417a-4d98-8d6e-988dc230ebf2"
   },
   "outputs": [],
   "source": [
    "#pip install category_encoders"
   ]
  },
  {
   "cell_type": "code",
   "execution_count": 1,
   "metadata": {
    "executionInfo": {
     "elapsed": 3473,
     "status": "ok",
     "timestamp": 1609043250545,
     "user": {
      "displayName": "GERMAN BERNARDO BOBADILLA CATALAN",
      "photoUrl": "",
      "userId": "14005656012307870514"
     },
     "user_tz": 180
    },
    "id": "bORvgZ-bAJuo"
   },
   "outputs": [],
   "source": [
    "import pandas as pd\n",
    "import numpy as np\n",
    "import seaborn as sns\n",
    "import matplotlib.pyplot as plt\n",
    "from itertools import cycle, islice\n",
    "import datetime as datetime\n",
    "import glob\n",
    "from matplotlib import pyplot\n",
    "#import pycountry\n",
    "#import plotly.express as px\n",
    "#import psutil\n",
    "#import kaleido\n",
    "#import kora.install.orca\n",
    "#import plotly.graph_objects as go\n",
    "#import plotly.io as pio\n",
    "from sklearn.model_selection import GridSearchCV\n",
    "from sklearn.metrics import log_loss, make_scorer\n",
    "import category_encoders as ce\n",
    "\n",
    "%matplotlib inline\n",
    "\n",
    "plt.style.use('default') # haciendo los graficos un poco mas bonitos en matplotlib\n",
    "#plt.rcParams['figure.figsize'] = (20, 10)\n",
    "\n",
    "sns.set(style=\"whitegrid\") # seteando tipo de grid en seaborn\n",
    "\n",
    "pd.options.display.float_format = '{:20,.2f}'.format # suprimimos la notacion cientifica en los outputs\n",
    "\n",
    "#import warnings\n",
    "#warnings.filterwarnings('ignore')\n",
    "\n",
    "plt.rcParams['figure.figsize'] = (15, 5)"
   ]
  },
  {
   "cell_type": "code",
   "execution_count": 2,
   "metadata": {
    "executionInfo": {
     "elapsed": 3455,
     "status": "ok",
     "timestamp": 1609043250548,
     "user": {
      "displayName": "GERMAN BERNARDO BOBADILLA CATALAN",
      "photoUrl": "",
      "userId": "14005656012307870514"
     },
     "user_tz": 180
    },
    "id": "cuZBGYTo9uUp"
   },
   "outputs": [],
   "source": [
    "def oneHotEncoding(df, columna):\n",
    "    one_hot = pd.get_dummies(df[columna])\n",
    "    df.drop(columna, axis=1, inplace=True)\n",
    "    df = pd.concat([df, one_hot], axis=1)\n",
    "    return df"
   ]
  },
  {
   "cell_type": "markdown",
   "metadata": {
    "id": "AcSgcz_JgCCh"
   },
   "source": [
    "# Train"
   ]
  },
  {
   "cell_type": "code",
   "execution_count": 3,
   "metadata": {
    "executionInfo": {
     "elapsed": 3442,
     "status": "ok",
     "timestamp": 1609043250550,
     "user": {
      "displayName": "GERMAN BERNARDO BOBADILLA CATALAN",
      "photoUrl": "",
      "userId": "14005656012307870514"
     },
     "user_tz": 180
    },
    "id": "mbO3fP4nAlQr"
   },
   "outputs": [],
   "source": [
    "train = pd.read_csv('Train_TP2_Datos_2020-2C.csv')"
   ]
  },
  {
   "cell_type": "code",
   "execution_count": 4,
   "metadata": {
    "executionInfo": {
     "elapsed": 3430,
     "status": "ok",
     "timestamp": 1609043250552,
     "user": {
      "displayName": "GERMAN BERNARDO BOBADILLA CATALAN",
      "photoUrl": "",
      "userId": "14005656012307870514"
     },
     "user_tz": 180
    },
    "id": "NOnxiO191_kj"
   },
   "outputs": [],
   "source": [
    "#Ignoro los otros estados ya que hay muy pocos de ellos y no se sacarles utilidad.\n",
    "#Y convierto las victorias en 1 y derrotas en 0\n",
    "train = train[(train.Stage == 'Closed Won') | (train.Stage == 'Closed Lost')]\n",
    "train['Stage'] = train['Stage'].transform(func=lambda x : 1 if x=='Closed Won' else 0)"
   ]
  },
  {
   "cell_type": "code",
   "execution_count": 5,
   "metadata": {
    "executionInfo": {
     "elapsed": 4143,
     "status": "ok",
     "timestamp": 1609043251279,
     "user": {
      "displayName": "GERMAN BERNARDO BOBADILLA CATALAN",
      "photoUrl": "",
      "userId": "14005656012307870514"
     },
     "user_tz": 180
    },
    "id": "Q9bqha_hrdek"
   },
   "outputs": [],
   "source": [
    "train = train.drop('ID', axis=1)\n",
    "#train = train.drop('Territory', axis=1)\n",
    "train = train.drop('Pricing, Delivery_Terms_Quote_Appr', axis=1)\n",
    "train = train.drop('Pricing, Delivery_Terms_Approved', axis=1)\n",
    "train = train.drop('Bureaucratic_Code_0_Approval', axis=1)\n",
    "train = train.drop('Bureaucratic_Code_0_Approved', axis=1)\n",
    "train = train.drop('Account_Created_Date', axis=1)\n",
    "#train = train.drop('Source ', axis=1)\n",
    "train = train.drop('Billing_Country', axis=1)\n",
    "#train = train.drop('Account_Name', axis=1)\n",
    "train = train.drop('Opportunity_Name', axis=1)\n",
    "#train = train.drop('Sales_Contract_No', axis=1)\n",
    "train = train.drop('Account_Owner', axis=1)\n",
    "#train = train.drop('Opportunity_Owner', axis=1)\n",
    "train = train.drop('Account_Type', axis=1)\n",
    "train = train.drop('Opportunity_Type', axis=1)\n",
    "train = train.drop('Quote_Type', axis=1)\n",
    "train = train.drop('Delivery_Terms', axis=1)\n",
    "train = train.drop('Opportunity_Created_Date', axis=1)\n",
    "train = train.drop('Brand', axis=1)\n",
    "train = train.drop('Product_Type', axis=1)\n",
    "train = train.drop('Size', axis=1)\n",
    "train = train.drop('Product_Category_B', axis=1)\n",
    "train = train.drop('Price', axis=1)\n",
    "train = train.drop('Currency', axis=1)\n",
    "train = train.drop('Last_Activity', axis=1)\n",
    "train = train.drop('Quote_Expiry_Date', axis=1)\n",
    "train = train.drop('Last_Modified_Date', axis=1)\n",
    "train = train.drop('Last_Modified_By', axis=1)\n",
    "train = train.drop('Product_Family', axis=1)\n",
    "train = train.drop('Product_Name', axis=1)\n",
    "train = train.drop('ASP_Currency', axis=1)\n",
    "train = train.drop('ASP', axis=1)\n",
    "train = train.drop('ASP_(converted)_Currency', axis=1)\n",
    "train = train.drop('ASP_(converted)', axis=1)\n",
    "train = train.drop('Planned_Delivery_Start_Date', axis=1)\n",
    "train = train.drop('Planned_Delivery_End_Date', axis=1)\n",
    "train = train.drop('Month', axis=1)\n",
    "train = train.drop('Delivery_Quarter', axis=1)\n",
    "train = train.drop('Delivery_Year', axis=1)\n",
    "train = train.drop('Actual_Delivery_Date', axis=1)\n",
    "train = train.drop('Total_Amount_Currency', axis=1)\n",
    "train = train.drop('Total_Amount', axis=1)\n",
    "train = train.drop('Total_Taxable_Amount_Currency', axis=1)\n",
    "train = train.drop('Total_Taxable_Amount', axis=1)\n",
    "train = train.drop('Prod_Category_A', axis=1)\n",
    "train = train.drop('Submitted_for_Approval', axis=1)\n",
    "train = train.drop('Bureaucratic_Code', axis=1)\n",
    "train = train.drop('Region', axis=1)"
   ]
  },
  {
   "cell_type": "markdown",
   "metadata": {},
   "source": [
    "---"
   ]
  },
  {
   "cell_type": "code",
   "execution_count": 6,
   "metadata": {
    "executionInfo": {
     "elapsed": 4116,
     "status": "ok",
     "timestamp": 1609043251283,
     "user": {
      "displayName": "GERMAN BERNARDO BOBADILLA CATALAN",
      "photoUrl": "",
      "userId": "14005656012307870514"
     },
     "user_tz": 180
    },
    "id": "bP_f1T4g_5k6"
   },
   "outputs": [],
   "source": [
    "train['TRF_promedio'] = train.groupby('Opportunity_ID')['TRF'].transform('mean')\n",
    "train = train.drop('TRF', axis=1)"
   ]
  },
  {
   "cell_type": "markdown",
   "metadata": {
    "executionInfo": {
     "elapsed": 4102,
     "status": "ok",
     "timestamp": 1609043251285,
     "user": {
      "displayName": "GERMAN BERNARDO BOBADILLA CATALAN",
      "photoUrl": "",
      "userId": "14005656012307870514"
     },
     "user_tz": 180
    },
    "id": "Ln2nPsdg96ZX"
   },
   "source": [
    "---"
   ]
  },
  {
   "cell_type": "code",
   "execution_count": 7,
   "metadata": {
    "colab": {
     "base_uri": "https://localhost:8080/"
    },
    "executionInfo": {
     "elapsed": 4083,
     "status": "ok",
     "timestamp": 1609043251286,
     "user": {
      "displayName": "GERMAN BERNARDO BOBADILLA CATALAN",
      "photoUrl": "",
      "userId": "14005656012307870514"
     },
     "user_tz": 180
    },
    "id": "ztKko5sk96ew",
    "outputId": "46caf9ab-3e04-474c-d422-f6f60af848c6"
   },
   "outputs": [],
   "source": [
    "target_enc_terr = ce.TargetEncoder(train['Territory'])\n",
    "\n",
    "# Fit the encoder using the categorical features and target\n",
    "target_enc_terr.fit(train['Territory'], train['Stage'])\n",
    "\n",
    "# Transform the features, rename the columns with _target suffix, and join to dataframe\n",
    "train = train.join(target_enc_terr.transform(train['Territory']).add_suffix('_target'))\n",
    "\n",
    "train = train.drop('Territory', axis=1)"
   ]
  },
  {
   "cell_type": "markdown",
   "metadata": {
    "executionInfo": {
     "elapsed": 4061,
     "status": "ok",
     "timestamp": 1609043251288,
     "user": {
      "displayName": "GERMAN BERNARDO BOBADILLA CATALAN",
      "photoUrl": "",
      "userId": "14005656012307870514"
     },
     "user_tz": 180
    },
    "id": "ABLccEoW0fVV"
   },
   "source": [
    "---"
   ]
  },
  {
   "cell_type": "code",
   "execution_count": 8,
   "metadata": {
    "colab": {
     "base_uri": "https://localhost:8080/"
    },
    "executionInfo": {
     "elapsed": 4036,
     "status": "ok",
     "timestamp": 1609043251290,
     "user": {
      "displayName": "GERMAN BERNARDO BOBADILLA CATALAN",
      "photoUrl": "",
      "userId": "14005656012307870514"
     },
     "user_tz": 180
    },
    "id": "VY_Z0v3l0fcg",
    "outputId": "9b207688-5d2b-4a9a-d65f-b5209240f69a"
   },
   "outputs": [],
   "source": [
    "target_enc_owner = ce.TargetEncoder(train['Opportunity_Owner'])\n",
    "\n",
    "# Fit the encoder using the categorical features and target\n",
    "target_enc_owner.fit(train['Opportunity_Owner'], train['Stage'])\n",
    "\n",
    "# Transform the features, rename the columns with _target suffix, and join to dataframe\n",
    "train = train.join(target_enc_owner.transform(train['Opportunity_Owner']).add_suffix('_target'))\n",
    "\n",
    "train = train.drop('Opportunity_Owner', axis=1)"
   ]
  },
  {
   "cell_type": "markdown",
   "metadata": {
    "executionInfo": {
     "elapsed": 4017,
     "status": "ok",
     "timestamp": 1609043251294,
     "user": {
      "displayName": "GERMAN BERNARDO BOBADILLA CATALAN",
      "photoUrl": "",
      "userId": "14005656012307870514"
     },
     "user_tz": 180
    },
    "id": "fyRSLZ9LGQeH"
   },
   "source": [
    "---"
   ]
  },
  {
   "cell_type": "code",
   "execution_count": 9,
   "metadata": {
    "colab": {
     "base_uri": "https://localhost:8080/"
    },
    "executionInfo": {
     "elapsed": 3997,
     "status": "ok",
     "timestamp": 1609043251296,
     "user": {
      "displayName": "GERMAN BERNARDO BOBADILLA CATALAN",
      "photoUrl": "",
      "userId": "14005656012307870514"
     },
     "user_tz": 180
    },
    "id": "Wha5w0YmGQwk",
    "outputId": "e0410f4a-f7a5-44f1-ca91-3ee82d7d1fd8"
   },
   "outputs": [],
   "source": [
    "target_enc_source = ce.TargetEncoder(train['Source '])\n",
    "\n",
    "# Fit the encoder using the categorical features and target\n",
    "target_enc_source.fit(train['Source '], train['Stage'])\n",
    "\n",
    "# Transform the features, rename the columns with _target suffix, and join to dataframe\n",
    "train = train.join(target_enc_source.transform(train['Source ']).add_suffix('_target'))\n",
    "\n",
    "train = train.drop('Source ', axis=1)"
   ]
  },
  {
   "cell_type": "markdown",
   "metadata": {
    "executionInfo": {
     "elapsed": 3977,
     "status": "ok",
     "timestamp": 1609043251298,
     "user": {
      "displayName": "GERMAN BERNARDO BOBADILLA CATALAN",
      "photoUrl": "",
      "userId": "14005656012307870514"
     },
     "user_tz": 180
    },
    "id": "0rX7AWupjvc3"
   },
   "source": [
    "---"
   ]
  },
  {
   "cell_type": "code",
   "execution_count": 10,
   "metadata": {
    "executionInfo": {
     "elapsed": 3963,
     "status": "ok",
     "timestamp": 1609043251300,
     "user": {
      "displayName": "GERMAN BERNARDO BOBADILLA CATALAN",
      "photoUrl": "",
      "userId": "14005656012307870514"
     },
     "user_tz": 180
    },
    "id": "DNF6yoUlAEIp"
   },
   "outputs": [],
   "source": [
    "trainOp = train.drop_duplicates('Opportunity_ID')\n",
    "trainOp = trainOp.drop('Opportunity_ID', axis=1)"
   ]
  },
  {
   "cell_type": "markdown",
   "metadata": {
    "executionInfo": {
     "elapsed": 3949,
     "status": "ok",
     "timestamp": 1609043251302,
     "user": {
      "displayName": "GERMAN BERNARDO BOBADILLA CATALAN",
      "photoUrl": "",
      "userId": "14005656012307870514"
     },
     "user_tz": 180
    },
    "id": "r45XI2z64e0_"
   },
   "source": [
    "---"
   ]
  },
  {
   "cell_type": "code",
   "execution_count": 11,
   "metadata": {
    "colab": {
     "base_uri": "https://localhost:8080/"
    },
    "executionInfo": {
     "elapsed": 3926,
     "status": "ok",
     "timestamp": 1609043251303,
     "user": {
      "displayName": "GERMAN BERNARDO BOBADILLA CATALAN",
      "photoUrl": "",
      "userId": "14005656012307870514"
     },
     "user_tz": 180
    },
    "id": "ZKeP_iqo4eu4",
    "outputId": "19ba3e68-7fe7-49ce-aa0a-d4a464754dfe"
   },
   "outputs": [],
   "source": [
    "target_enc_account_name = ce.TargetEncoder(trainOp['Account_Name'])\n",
    "\n",
    "# Fit the encoder using the categorical features and target\n",
    "target_enc_account_name.fit(trainOp['Account_Name'], trainOp['Stage'])\n",
    "\n",
    "# Transform the features, rename the columns with _target suffix, and join to dataframe\n",
    "trainOp = trainOp.join(target_enc_account_name.transform(trainOp['Account_Name']).add_suffix('_target'))\n",
    "\n",
    "trainOp = trainOp.drop('Account_Name', axis=1)"
   ]
  },
  {
   "cell_type": "markdown",
   "metadata": {},
   "source": [
    "---"
   ]
  },
  {
   "cell_type": "code",
   "execution_count": 12,
   "metadata": {
    "colab": {
     "base_uri": "https://localhost:8080/"
    },
    "executionInfo": {
     "elapsed": 3892,
     "status": "ok",
     "timestamp": 1609043251305,
     "user": {
      "displayName": "GERMAN BERNARDO BOBADILLA CATALAN",
      "photoUrl": "",
      "userId": "14005656012307870514"
     },
     "user_tz": 180
    },
    "id": "RxnQ0C-sZl_W",
    "outputId": "28e9302f-76ad-49f0-a942-302379927d7a"
   },
   "outputs": [],
   "source": [
    "target_enc_SCN = ce.TargetEncoder(trainOp['Sales_Contract_No'])\n",
    "\n",
    "# Fit the encoder using the categorical features and target\n",
    "target_enc_SCN.fit(trainOp['Sales_Contract_No'], trainOp['Stage'])\n",
    "\n",
    "# Transform the features, rename the columns with _target suffix, and join to dataframe\n",
    "trainOp = trainOp.join(target_enc_SCN.transform(trainOp['Sales_Contract_No']).add_suffix('_target'))\n",
    "\n",
    "trainOp = trainOp.drop('Sales_Contract_No', axis=1)"
   ]
  },
  {
   "cell_type": "markdown",
   "metadata": {
    "executionInfo": {
     "elapsed": 3867,
     "status": "ok",
     "timestamp": 1609043251308,
     "user": {
      "displayName": "GERMAN BERNARDO BOBADILLA CATALAN",
      "photoUrl": "",
      "userId": "14005656012307870514"
     },
     "user_tz": 180
    },
    "id": "Dpqoo3RMkLGt"
   },
   "source": [
    "---"
   ]
  },
  {
   "cell_type": "code",
   "execution_count": 13,
   "metadata": {
    "executionInfo": {
     "elapsed": 4532,
     "status": "ok",
     "timestamp": 1609043251987,
     "user": {
      "displayName": "GERMAN BERNARDO BOBADILLA CATALAN",
      "photoUrl": "",
      "userId": "14005656012307870514"
     },
     "user_tz": 180
    },
    "id": "BoXF1WqknLeQ"
   },
   "outputs": [],
   "source": [
    "train_label = []\n",
    "train_data = []\n",
    "\n",
    "train_label = trainOp[\"Stage\"]\n",
    "train_data = trainOp.iloc[:, trainOp.columns != 'Stage']"
   ]
  },
  {
   "cell_type": "markdown",
   "metadata": {
    "id": "A4SzN2AtgJhC"
   },
   "source": [
    "# Test"
   ]
  },
  {
   "cell_type": "code",
   "execution_count": 14,
   "metadata": {
    "executionInfo": {
     "elapsed": 4521,
     "status": "ok",
     "timestamp": 1609043251989,
     "user": {
      "displayName": "GERMAN BERNARDO BOBADILLA CATALAN",
      "photoUrl": "",
      "userId": "14005656012307870514"
     },
     "user_tz": 180
    },
    "id": "mxzTC3EJgnbF"
   },
   "outputs": [],
   "source": [
    "test = pd.read_csv('Test_TP2_Datos_2020-2C.csv')"
   ]
  },
  {
   "cell_type": "code",
   "execution_count": 15,
   "metadata": {
    "executionInfo": {
     "elapsed": 4508,
     "status": "ok",
     "timestamp": 1609043251990,
     "user": {
      "displayName": "GERMAN BERNARDO BOBADILLA CATALAN",
      "photoUrl": "",
      "userId": "14005656012307870514"
     },
     "user_tz": 180
    },
    "id": "NpoTtzaVs-Ke"
   },
   "outputs": [],
   "source": [
    "test = test.drop('ID', axis=1)\n",
    "#test = test.drop('Territory', axis=1)\n",
    "test = test.drop('Pricing, Delivery_Terms_Quote_Appr', axis=1)\n",
    "test = test.drop('Pricing, Delivery_Terms_Approved', axis=1)\n",
    "test = test.drop('Bureaucratic_Code_0_Approval', axis=1)\n",
    "test = test.drop('Bureaucratic_Code_0_Approved', axis=1)\n",
    "test = test.drop('Account_Created_Date', axis=1)\n",
    "#test = test.drop('Source ', axis=1)\n",
    "test = test.drop('Billing_Country', axis=1)\n",
    "#test = test.drop('Account_Name', axis=1)\n",
    "test = test.drop('Opportunity_Name', axis=1)\n",
    "#test = test.drop('Sales_Contract_No', axis=1)\n",
    "test = test.drop('Account_Owner', axis=1)\n",
    "#test = test.drop('Opportunity_Owner', axis=1)\n",
    "test = test.drop('Account_Type', axis=1)\n",
    "test = test.drop('Opportunity_Type', axis=1)\n",
    "test = test.drop('Quote_Type', axis=1)\n",
    "test = test.drop('Delivery_Terms', axis=1)\n",
    "test = test.drop('Opportunity_Created_Date', axis=1)\n",
    "test = test.drop('Brand', axis=1)\n",
    "test = test.drop('Product_Type', axis=1)\n",
    "test = test.drop('Size', axis=1)\n",
    "test = test.drop('Product_Category_B', axis=1)\n",
    "test = test.drop('Price', axis=1)\n",
    "test = test.drop('Currency', axis=1)\n",
    "test = test.drop('Last_Activity', axis=1)\n",
    "test = test.drop('Quote_Expiry_Date', axis=1)\n",
    "test = test.drop('Last_Modified_Date', axis=1)\n",
    "test = test.drop('Last_Modified_By', axis=1)\n",
    "test = test.drop('Product_Family', axis=1)\n",
    "test = test.drop('Product_Name', axis=1)\n",
    "test = test.drop('ASP_Currency', axis=1)\n",
    "test = test.drop('ASP', axis=1)\n",
    "test = test.drop('ASP_(converted)_Currency', axis=1)\n",
    "test = test.drop('ASP_(converted)', axis=1)\n",
    "test = test.drop('Planned_Delivery_Start_Date', axis=1)\n",
    "test = test.drop('Planned_Delivery_End_Date', axis=1)\n",
    "test = test.drop('Month', axis=1)\n",
    "test = test.drop('Delivery_Quarter', axis=1)\n",
    "test = test.drop('Delivery_Year', axis=1)\n",
    "test = test.drop('Actual_Delivery_Date', axis=1)\n",
    "test = test.drop('Total_Amount_Currency', axis=1)\n",
    "test = test.drop('Total_Amount', axis=1)\n",
    "test = test.drop('Total_Taxable_Amount_Currency', axis=1)\n",
    "test = test.drop('Total_Taxable_Amount', axis=1)\n",
    "test = test.drop('Prod_Category_A', axis=1)\n",
    "test = test.drop('Submitted_for_Approval', axis=1)\n",
    "test = test.drop('Bureaucratic_Code', axis=1)\n",
    "test = test.drop('Region', axis=1)"
   ]
  },
  {
   "cell_type": "markdown",
   "metadata": {
    "executionInfo": {
     "elapsed": 4496,
     "status": "ok",
     "timestamp": 1609043251992,
     "user": {
      "displayName": "GERMAN BERNARDO BOBADILLA CATALAN",
      "photoUrl": "",
      "userId": "14005656012307870514"
     },
     "user_tz": 180
    },
    "id": "7qsbH_aYkY_Y"
   },
   "source": [
    "---"
   ]
  },
  {
   "cell_type": "code",
   "execution_count": 16,
   "metadata": {
    "executionInfo": {
     "elapsed": 4484,
     "status": "ok",
     "timestamp": 1609043251994,
     "user": {
      "displayName": "GERMAN BERNARDO BOBADILLA CATALAN",
      "photoUrl": "",
      "userId": "14005656012307870514"
     },
     "user_tz": 180
    },
    "id": "PViXhFQaA5b4"
   },
   "outputs": [],
   "source": [
    "test['TRF_promedio'] = test.groupby('Opportunity_ID')['TRF'].transform('mean')\n",
    "test = test.drop('TRF', axis=1)"
   ]
  },
  {
   "cell_type": "markdown",
   "metadata": {
    "executionInfo": {
     "elapsed": 4474,
     "status": "ok",
     "timestamp": 1609043251997,
     "user": {
      "displayName": "GERMAN BERNARDO BOBADILLA CATALAN",
      "photoUrl": "",
      "userId": "14005656012307870514"
     },
     "user_tz": 180
    },
    "id": "rxYU1WAGBpWl"
   },
   "source": [
    "---"
   ]
  },
  {
   "cell_type": "code",
   "execution_count": 17,
   "metadata": {
    "executionInfo": {
     "elapsed": 4462,
     "status": "ok",
     "timestamp": 1609043251999,
     "user": {
      "displayName": "GERMAN BERNARDO BOBADILLA CATALAN",
      "photoUrl": "",
      "userId": "14005656012307870514"
     },
     "user_tz": 180
    },
    "id": "nE0HqwoM-XG5"
   },
   "outputs": [],
   "source": [
    "test = test.join(target_enc_terr.transform(test['Territory']).add_suffix('_target'))\n",
    "test = test.drop('Territory', axis=1)"
   ]
  },
  {
   "cell_type": "markdown",
   "metadata": {
    "executionInfo": {
     "elapsed": 4450,
     "status": "ok",
     "timestamp": 1609043252001,
     "user": {
      "displayName": "GERMAN BERNARDO BOBADILLA CATALAN",
      "photoUrl": "",
      "userId": "14005656012307870514"
     },
     "user_tz": 180
    },
    "id": "_sRJb9e_0-Jr"
   },
   "source": [
    "---"
   ]
  },
  {
   "cell_type": "code",
   "execution_count": 18,
   "metadata": {
    "executionInfo": {
     "elapsed": 4437,
     "status": "ok",
     "timestamp": 1609043252002,
     "user": {
      "displayName": "GERMAN BERNARDO BOBADILLA CATALAN",
      "photoUrl": "",
      "userId": "14005656012307870514"
     },
     "user_tz": 180
    },
    "id": "AQXxjETu0_Vd"
   },
   "outputs": [],
   "source": [
    "test = test.join(target_enc_owner.transform(test['Opportunity_Owner']).add_suffix('_target'))\n",
    "test = test.drop('Opportunity_Owner', axis=1)"
   ]
  },
  {
   "cell_type": "markdown",
   "metadata": {
    "executionInfo": {
     "elapsed": 4425,
     "status": "ok",
     "timestamp": 1609043252004,
     "user": {
      "displayName": "GERMAN BERNARDO BOBADILLA CATALAN",
      "photoUrl": "",
      "userId": "14005656012307870514"
     },
     "user_tz": 180
    },
    "id": "HqG4ijRFGpSD"
   },
   "source": [
    "---"
   ]
  },
  {
   "cell_type": "code",
   "execution_count": 19,
   "metadata": {
    "executionInfo": {
     "elapsed": 4409,
     "status": "ok",
     "timestamp": 1609043252006,
     "user": {
      "displayName": "GERMAN BERNARDO BOBADILLA CATALAN",
      "photoUrl": "",
      "userId": "14005656012307870514"
     },
     "user_tz": 180
    },
    "id": "mO-k6HLGGpYk"
   },
   "outputs": [],
   "source": [
    "test = test.join(target_enc_source.transform(test['Source ']).add_suffix('_target'))\n",
    "test = test.drop('Source ', axis=1)"
   ]
  },
  {
   "cell_type": "markdown",
   "metadata": {
    "executionInfo": {
     "elapsed": 4398,
     "status": "ok",
     "timestamp": 1609043252008,
     "user": {
      "displayName": "GERMAN BERNARDO BOBADILLA CATALAN",
      "photoUrl": "",
      "userId": "14005656012307870514"
     },
     "user_tz": 180
    },
    "id": "9BK7Z_g945xi"
   },
   "source": [
    "---"
   ]
  },
  {
   "cell_type": "code",
   "execution_count": 20,
   "metadata": {
    "executionInfo": {
     "elapsed": 4386,
     "status": "ok",
     "timestamp": 1609043252010,
     "user": {
      "displayName": "GERMAN BERNARDO BOBADILLA CATALAN",
      "photoUrl": "",
      "userId": "14005656012307870514"
     },
     "user_tz": 180
    },
    "id": "ps3Rx3dlBAKU"
   },
   "outputs": [],
   "source": [
    "testOp = test.drop_duplicates('Opportunity_ID')\n",
    "IDs = testOp[['Opportunity_ID']].copy()\n",
    "testOp = testOp.drop('Opportunity_ID', axis=1)"
   ]
  },
  {
   "cell_type": "markdown",
   "metadata": {
    "executionInfo": {
     "elapsed": 4374,
     "status": "ok",
     "timestamp": 1609043252012,
     "user": {
      "displayName": "GERMAN BERNARDO BOBADILLA CATALAN",
      "photoUrl": "",
      "userId": "14005656012307870514"
     },
     "user_tz": 180
    },
    "id": "hPD0_PVR_Vj3"
   },
   "source": [
    "---"
   ]
  },
  {
   "cell_type": "code",
   "execution_count": 21,
   "metadata": {
    "executionInfo": {
     "elapsed": 4363,
     "status": "ok",
     "timestamp": 1609043252014,
     "user": {
      "displayName": "GERMAN BERNARDO BOBADILLA CATALAN",
      "photoUrl": "",
      "userId": "14005656012307870514"
     },
     "user_tz": 180
    },
    "id": "8mZU0ViE45rs"
   },
   "outputs": [],
   "source": [
    "testOp = testOp.join(target_enc_account_name.transform(testOp['Account_Name']).add_suffix('_target'))\n",
    "testOp = testOp.drop('Account_Name', axis=1)"
   ]
  },
  {
   "cell_type": "markdown",
   "metadata": {},
   "source": [
    "---"
   ]
  },
  {
   "cell_type": "code",
   "execution_count": 22,
   "metadata": {
    "executionInfo": {
     "elapsed": 4351,
     "status": "ok",
     "timestamp": 1609043252016,
     "user": {
      "displayName": "GERMAN BERNARDO BOBADILLA CATALAN",
      "photoUrl": "",
      "userId": "14005656012307870514"
     },
     "user_tz": 180
    },
    "id": "hYNgCViyZzLU"
   },
   "outputs": [],
   "source": [
    "testOp = testOp.join(target_enc_SCN.transform(testOp['Sales_Contract_No']).add_suffix('_target'))\n",
    "testOp = testOp.drop('Sales_Contract_No', axis=1)"
   ]
  },
  {
   "cell_type": "markdown",
   "metadata": {
    "id": "TwO2KPqmgQvO"
   },
   "source": [
    "# Modelos"
   ]
  },
  {
   "cell_type": "markdown",
   "metadata": {
    "id": "tWSQaVxkgZJu"
   },
   "source": [
    "Random Forest"
   ]
  },
  {
   "cell_type": "code",
   "execution_count": 23,
   "metadata": {
    "executionInfo": {
     "elapsed": 4321,
     "status": "ok",
     "timestamp": 1609043252020,
     "user": {
      "displayName": "GERMAN BERNARDO BOBADILLA CATALAN",
      "photoUrl": "",
      "userId": "14005656012307870514"
     },
     "user_tz": 180
    },
    "id": "nd7sqPr84_ff"
   },
   "outputs": [],
   "source": [
    "from sklearn.ensemble import RandomForestClassifier"
   ]
  },
  {
   "cell_type": "code",
   "execution_count": 24,
   "metadata": {
    "executionInfo": {
     "elapsed": 4309,
     "status": "ok",
     "timestamp": 1609043252022,
     "user": {
      "displayName": "GERMAN BERNARDO BOBADILLA CATALAN",
      "photoUrl": "",
      "userId": "14005656012307870514"
     },
     "user_tz": 180
    },
    "id": "4Q44GHhat3Az"
   },
   "outputs": [],
   "source": [
    "parameters = {'n_estimators':[50, 100, 150, 200, 250, 300]}"
   ]
  },
  {
   "cell_type": "code",
   "execution_count": 25,
   "metadata": {
    "executionInfo": {
     "elapsed": 4296,
     "status": "ok",
     "timestamp": 1609043252023,
     "user": {
      "displayName": "GERMAN BERNARDO BOBADILLA CATALAN",
      "photoUrl": "",
      "userId": "14005656012307870514"
     },
     "user_tz": 180
    },
    "id": "XQ6kHfb85DF5"
   },
   "outputs": [],
   "source": [
    "modeloRFC=RandomForestClassifier(random_state=0, n_jobs=-1)"
   ]
  },
  {
   "cell_type": "code",
   "execution_count": 26,
   "metadata": {
    "executionInfo": {
     "elapsed": 4284,
     "status": "ok",
     "timestamp": 1609043252025,
     "user": {
      "displayName": "GERMAN BERNARDO BOBADILLA CATALAN",
      "photoUrl": "",
      "userId": "14005656012307870514"
     },
     "user_tz": 180
    },
    "id": "l7atqQbVuJv-"
   },
   "outputs": [],
   "source": [
    "LogLoss = make_scorer(log_loss)"
   ]
  },
  {
   "cell_type": "code",
   "execution_count": 27,
   "metadata": {
    "executionInfo": {
     "elapsed": 4270,
     "status": "ok",
     "timestamp": 1609043252027,
     "user": {
      "displayName": "GERMAN BERNARDO BOBADILLA CATALAN",
      "photoUrl": "",
      "userId": "14005656012307870514"
     },
     "user_tz": 180
    },
    "id": "Y3lT4Sz5uNkb"
   },
   "outputs": [],
   "source": [
    "gscv = GridSearchCV(modeloRFC, parameters, cv=5, scoring=LogLoss)"
   ]
  },
  {
   "cell_type": "code",
   "execution_count": 28,
   "metadata": {
    "colab": {
     "base_uri": "https://localhost:8080/"
    },
    "executionInfo": {
     "elapsed": 34801,
     "status": "ok",
     "timestamp": 1609043282577,
     "user": {
      "displayName": "GERMAN BERNARDO BOBADILLA CATALAN",
      "photoUrl": "",
      "userId": "14005656012307870514"
     },
     "user_tz": 180
    },
    "id": "N96GRReyuZm1",
    "outputId": "7a8f47bb-4ba6-4e81-9a1e-28ae917e3b63"
   },
   "outputs": [
    {
     "data": {
      "text/plain": [
       "GridSearchCV(cv=5, error_score=nan,\n",
       "             estimator=RandomForestClassifier(bootstrap=True, ccp_alpha=0.0,\n",
       "                                              class_weight=None,\n",
       "                                              criterion='gini', max_depth=None,\n",
       "                                              max_features='auto',\n",
       "                                              max_leaf_nodes=None,\n",
       "                                              max_samples=None,\n",
       "                                              min_impurity_decrease=0.0,\n",
       "                                              min_impurity_split=None,\n",
       "                                              min_samples_leaf=1,\n",
       "                                              min_samples_split=2,\n",
       "                                              min_weight_fraction_leaf=0.0,\n",
       "                                              n_estimators=100, n_jobs=-1,\n",
       "                                              oob_score=False, random_state=0,\n",
       "                                              verbose=0, warm_start=False),\n",
       "             iid='deprecated', n_jobs=None,\n",
       "             param_grid={'n_estimators': [50, 100, 150, 200, 250, 300]},\n",
       "             pre_dispatch='2*n_jobs', refit=True, return_train_score=False,\n",
       "             scoring=make_scorer(log_loss), verbose=0)"
      ]
     },
     "execution_count": 28,
     "metadata": {},
     "output_type": "execute_result"
    }
   ],
   "source": [
    "gscv.fit(train_data, train_label)"
   ]
  },
  {
   "cell_type": "code",
   "execution_count": 60,
   "metadata": {
    "colab": {
     "base_uri": "https://localhost:8080/"
    },
    "executionInfo": {
     "elapsed": 769,
     "status": "ok",
     "timestamp": 1609043346033,
     "user": {
      "displayName": "GERMAN BERNARDO BOBADILLA CATALAN",
      "photoUrl": "",
      "userId": "14005656012307870514"
     },
     "user_tz": 180
    },
    "id": "HFX4QcOKuj_n",
    "outputId": "5d7babc6-a32e-46cb-8c57-4778c70466cf"
   },
   "outputs": [
    {
     "name": "stdout",
     "output_type": "stream",
     "text": [
      "1.5521700230216713 RandomForestClassifier(bootstrap=True, class_weight=None, criterion='gini',\n",
      "                       max_depth=None, max_features='auto', max_leaf_nodes=None,\n",
      "                       min_impurity_decrease=0.0, min_impurity_split=None,\n",
      "                       min_samples_leaf=1, min_samples_split=2,\n",
      "                       min_weight_fraction_leaf=0.0, n_estimators=50, n_jobs=-1,\n",
      "                       oob_score=False, random_state=0, verbose=0,\n",
      "                       warm_start=False)\n"
     ]
    }
   ],
   "source": [
    "print(gscv.best_score_, gscv.best_estimator_)"
   ]
  },
  {
   "cell_type": "code",
   "execution_count": 93,
   "metadata": {
    "executionInfo": {
     "elapsed": 1349,
     "status": "ok",
     "timestamp": 1609043353773,
     "user": {
      "displayName": "GERMAN BERNARDO BOBADILLA CATALAN",
      "photoUrl": "",
      "userId": "14005656012307870514"
     },
     "user_tz": 180
    },
    "id": "40c8i-7s7xI1"
   },
   "outputs": [],
   "source": [
    "modeloRFC=RandomForestClassifier(random_state=0, n_jobs=-1, n_estimators=50)"
   ]
  },
  {
   "cell_type": "code",
   "execution_count": 94,
   "metadata": {
    "executionInfo": {
     "elapsed": 1892,
     "status": "ok",
     "timestamp": 1609043354550,
     "user": {
      "displayName": "GERMAN BERNARDO BOBADILLA CATALAN",
      "photoUrl": "",
      "userId": "14005656012307870514"
     },
     "user_tz": 180
    },
    "id": "Qvh5scuk5Le6"
   },
   "outputs": [],
   "source": [
    "modeloRFC.fit(train_data, train_label)\n",
    "result = modeloRFC.predict(testOp)"
   ]
  },
  {
   "cell_type": "code",
   "execution_count": 95,
   "metadata": {
    "executionInfo": {
     "elapsed": 1388,
     "status": "ok",
     "timestamp": 1609043354575,
     "user": {
      "displayName": "GERMAN BERNARDO BOBADILLA CATALAN",
      "photoUrl": "",
      "userId": "14005656012307870514"
     },
     "user_tz": 180
    },
    "id": "rVjlaa0m5Qn5"
   },
   "outputs": [],
   "source": [
    "entregable_RFC = IDs[['Opportunity_ID']].copy()\n",
    "entregable_RFC['Target'] = result"
   ]
  },
  {
   "cell_type": "code",
   "execution_count": 96,
   "metadata": {
    "executionInfo": {
     "elapsed": 813,
     "status": "ok",
     "timestamp": 1609043357563,
     "user": {
      "displayName": "GERMAN BERNARDO BOBADILLA CATALAN",
      "photoUrl": "",
      "userId": "14005656012307870514"
     },
     "user_tz": 180
    },
    "id": "eVZkqAHN6Jkh"
   },
   "outputs": [],
   "source": [
    "entregable_RFC.to_csv('RF_Sales_Contract_No_SinDuplicados.csv', index=False)"
   ]
  },
  {
   "cell_type": "code",
   "execution_count": null,
   "metadata": {
    "id": "ou1cRYlebsTr"
   },
   "outputs": [],
   "source": []
  }
 ],
 "metadata": {
  "colab": {
   "authorship_tag": "ABX9TyM6+TQM+etp+FfN611rFbC2",
   "collapsed_sections": [],
   "name": "19-Target_Sales_Contract_No.ipynb",
   "provenance": [
    {
     "file_id": "1qJFyFsyYYcgaEK5Yz6qh6WfuBl8wH07Z",
     "timestamp": 1608489303765
    }
   ]
  },
  "kernelspec": {
   "display_name": "Python 3",
   "language": "python",
   "name": "python3"
  },
  "language_info": {
   "codemirror_mode": {
    "name": "ipython",
    "version": 3
   },
   "file_extension": ".py",
   "mimetype": "text/x-python",
   "name": "python",
   "nbconvert_exporter": "python",
   "pygments_lexer": "ipython3",
   "version": "3.7.6"
  }
 },
 "nbformat": 4,
 "nbformat_minor": 1
}
