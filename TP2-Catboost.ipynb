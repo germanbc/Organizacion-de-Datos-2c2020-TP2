{
 "cells": [
  {
   "cell_type": "code",
   "execution_count": 1,
   "metadata": {
    "colab": {
     "base_uri": "https://localhost:8080/"
    },
    "executionInfo": {
     "elapsed": 3287,
     "status": "ok",
     "timestamp": 1613662258038,
     "user": {
      "displayName": "GERMAN BERNARDO BOBADILLA CATALAN",
      "photoUrl": "",
      "userId": "14005656012307870514"
     },
     "user_tz": 180
    },
    "id": "LbXE6jOSiAbx",
    "outputId": "eb35f29f-4594-4044-d58c-73f4c31b9b42"
   },
   "outputs": [],
   "source": [
    "#pip install category_encoders"
   ]
  },
  {
   "cell_type": "code",
   "execution_count": 2,
   "metadata": {},
   "outputs": [],
   "source": [
    "#pip install catboost"
   ]
  },
  {
   "cell_type": "code",
   "execution_count": 3,
   "metadata": {},
   "outputs": [],
   "source": [
    "#pip install ipywidgets"
   ]
  },
  {
   "cell_type": "code",
   "execution_count": 4,
   "metadata": {
    "executionInfo": {
     "elapsed": 3238,
     "status": "ok",
     "timestamp": 1613662258041,
     "user": {
      "displayName": "GERMAN BERNARDO BOBADILLA CATALAN",
      "photoUrl": "",
      "userId": "14005656012307870514"
     },
     "user_tz": 180
    },
    "id": "-nmSKb48ias1"
   },
   "outputs": [],
   "source": [
    "import pandas as pd\n",
    "import numpy as np\n",
    "import seaborn as sns\n",
    "import matplotlib.pyplot as plt\n",
    "from itertools import cycle, islice\n",
    "import datetime as datetime\n",
    "import glob\n",
    "from matplotlib import pyplot\n",
    "import plotly.graph_objects as go\n",
    "import plotly.io as pio\n",
    "from sklearn.model_selection import GridSearchCV\n",
    "from sklearn.metrics import log_loss, make_scorer\n",
    "import category_encoders as ce\n",
    "from sklearn.ensemble import RandomForestRegressor\n",
    "import warnings\n",
    "\n",
    "%matplotlib inline\n",
    "\n",
    "plt.style.use('default')\n",
    "sns.set(style=\"whitegrid\")\n",
    "pd.options.display.float_format = '{:20,.2f}'.format\n",
    "warnings.filterwarnings('ignore')\n",
    "plt.rcParams['figure.figsize'] = (15, 5)\n",
    "\n",
    "\n",
    "import xgboost as xgb\n",
    "from xgboost.sklearn import XGBClassifier\n",
    "from sklearn.ensemble import RandomForestRegressor\n",
    "from sklearn.metrics import mean_squared_error\n",
    "import pandas as pd\n",
    "import numpy as np\n",
    "%matplotlib inline\n",
    "import matplotlib.pyplot as plt\n",
    "from sklearn import tree\n",
    "from catboost import CatBoostRegressor"
   ]
  },
  {
   "cell_type": "markdown",
   "metadata": {
    "id": "-GQVNmCfijVf"
   },
   "source": [
    "# Train"
   ]
  },
  {
   "cell_type": "markdown",
   "metadata": {},
   "source": [
    "__Lectura de datos__"
   ]
  },
  {
   "cell_type": "code",
   "execution_count": 5,
   "metadata": {},
   "outputs": [],
   "source": [
    "train = pd.read_csv('Train_TP2_Datos_2020-2C.csv')\n",
    "\n",
    "train = train[(train.Stage == 'Closed Won') | (train.Stage == 'Closed Lost')]\n",
    "train['Stage'] = train['Stage'].transform(func=lambda x : 1 if x=='Closed Won' else 0)\n",
    "\n",
    "train = train.drop('Last_Activity', axis=1) #Todos datos nulos\n",
    "train = train.drop('Actual_Delivery_Date', axis=1) #Todos datos nulos\n",
    "train = train.drop('Submitted_for_Approval', axis=1) #Todos los datos en cero\n",
    "train = train.drop('Prod_Category_A', axis=1) #Todos en none\n",
    "train = train.drop('Sales_Contract_No', axis=1) #Para evitar el problema de target leakage\n",
    "train = train.drop('Opportunity_Name', axis=1) #Redundante si tenemos Opportunity_ID"
   ]
  },
  {
   "cell_type": "markdown",
   "metadata": {},
   "source": [
    "***"
   ]
  },
  {
   "cell_type": "markdown",
   "metadata": {},
   "source": [
    "__FEATURES__"
   ]
  },
  {
   "cell_type": "markdown",
   "metadata": {},
   "source": [
    "__Aprobación especial de su precio total__"
   ]
  },
  {
   "cell_type": "code",
   "execution_count": 6,
   "metadata": {},
   "outputs": [],
   "source": [
    "train['Pricing, Delivery_Terms_Quote_Appr'] = train['Pricing, Delivery_Terms_Quote_Appr']\\\n",
    "                                                .transform(func=lambda x : 'Necesita' if x==1 else 'NoNecesita')\n",
    "train['Pricing, Delivery_Terms_Approved'] = train['Pricing, Delivery_Terms_Approved']\\\n",
    "                                                .transform(func=lambda x : 'Obtuvo' if x==1 else 'NoObtuvo')\n",
    "\n",
    "train['Aprobacion_Especial'] = train['Pricing, Delivery_Terms_Quote_Appr']+train['Pricing, Delivery_Terms_Approved']\n",
    "\n",
    "train = train.drop('Pricing, Delivery_Terms_Quote_Appr', axis=1)\n",
    "train = train.drop('Pricing, Delivery_Terms_Approved', axis=1)"
   ]
  },
  {
   "cell_type": "markdown",
   "metadata": {},
   "source": [
    "***"
   ]
  },
  {
   "cell_type": "markdown",
   "metadata": {},
   "source": [
    "__TRF promedio__"
   ]
  },
  {
   "cell_type": "code",
   "execution_count": 7,
   "metadata": {},
   "outputs": [],
   "source": [
    "train['TRF_promedio'] = train.groupby('Opportunity_ID')['TRF'].transform('mean')\n",
    "train = train.drop('TRF', axis=1)"
   ]
  },
  {
   "cell_type": "markdown",
   "metadata": {},
   "source": [
    "***"
   ]
  },
  {
   "cell_type": "markdown",
   "metadata": {},
   "source": [
    "__Total Taxable Amount (converted)__"
   ]
  },
  {
   "cell_type": "code",
   "execution_count": 8,
   "metadata": {},
   "outputs": [],
   "source": [
    "#Completo datos faltantes con Total Amount\n",
    "train['Total_Taxable_Amount'].loc[train.Total_Taxable_Amount==0.00] = train.loc[train.Total_Taxable_Amount==0.00]\\\n",
    "                                            .groupby(['Opportunity_ID'])['Total_Amount'].transform('sum')\n",
    "\n",
    "#Convierto a una misma moneda (a dólares) con la información que ya viene en ASP, ASP_Currency y ASP_(converted)\n",
    "toEUR = train[train.ASP_Currency=='EUR'].head(1)[['ASP_(converted)']].iloc[0,0]/train[train.ASP_Currency=='EUR']\\\n",
    "        .head(1)[['ASP']].iloc[0,0]\n",
    "toAUD = train[train.ASP_Currency=='AUD'].head(1)[['ASP_(converted)']].iloc[0,0]/train[train.ASP_Currency=='AUD']\\\n",
    "        .head(1)[['ASP']].iloc[0,0]\n",
    "toGBP = train[train.ASP_Currency=='GBP'].head(1)[['ASP_(converted)']].iloc[0,0]/train[train.ASP_Currency=='GBP']\\\n",
    "        .head(1)[['ASP']].iloc[0,0]\n",
    "toJPY = train[['ASP_(converted)']].iloc[12,0]/train[['ASP']].iloc[12,0]\n",
    "#En el head(1) de JPY justo habia un nan. Ese numero magico 12 corresponde a la primera fila de moneda JPY con un valor valido\n",
    "\n",
    "train['Total_Taxable_Amount_(converted)']=0.0\n",
    "train['Total_Taxable_Amount_(converted)'].loc[train['Total_Taxable_Amount_Currency']=='EUR'] = \\\n",
    "                                                        train['Total_Taxable_Amount'].apply(lambda x: x*toEUR)\n",
    "train['Total_Taxable_Amount_(converted)'].loc[train['Total_Taxable_Amount_Currency']=='JPY'] = \\\n",
    "                                                        train['Total_Taxable_Amount'].apply(lambda x: x*toJPY)\n",
    "train['Total_Taxable_Amount_(converted)'].loc[train['Total_Taxable_Amount_Currency']=='AUD'] = \\\n",
    "                                                        train['Total_Taxable_Amount'].apply(lambda x: x*toAUD)\n",
    "train['Total_Taxable_Amount_(converted)'].loc[train['Total_Taxable_Amount_Currency']=='GBP'] = \\\n",
    "                                                        train['Total_Taxable_Amount'].apply(lambda x: x*toGBP)\n",
    "train['Total_Taxable_Amount_(converted)'].loc[train['Total_Taxable_Amount_Currency']=='USD'] = \\\n",
    "                                                        train['Total_Taxable_Amount'].apply(lambda x: x)\n",
    "\n",
    "train = train.drop('Total_Taxable_Amount_Currency', axis=1)\n",
    "train = train.drop('Total_Amount_Currency', axis=1)\n",
    "train = train.drop('Total_Amount', axis=1)\n",
    "train = train.drop('ASP_Currency', axis=1)\n",
    "train = train.drop('ASP', axis=1)\n",
    "train = train.drop('ASP_(converted)_Currency', axis=1)\n",
    "train = train.drop('ASP_(converted)', axis=1)"
   ]
  },
  {
   "cell_type": "markdown",
   "metadata": {},
   "source": [
    "***"
   ]
  },
  {
   "cell_type": "markdown",
   "metadata": {},
   "source": [
    "__Tiempo de entrega (en días)__"
   ]
  },
  {
   "cell_type": "code",
   "execution_count": 9,
   "metadata": {},
   "outputs": [],
   "source": [
    "#Es la diferencia entre la maxima fecha de entrega (Planned_Delivery_End_Date) y la mínima (Planned_Delivery_Start_Date)\n",
    "#Reemplazo los Nat de Planned_Delivery_End_Date con los de Start_Date (curiosamente da mejor resultado que\n",
    "#reemplazarlo con la fecha de Month)\n",
    "train['Planned_Delivery_End_Date'].loc[train['Planned_Delivery_End_Date']=='NaT'] = train['Planned_Delivery_Start_Date']\n",
    "\n",
    "train['Planned_Delivery_Start_Date'] = pd.to_datetime(train['Planned_Delivery_Start_Date'])\n",
    "train['Planned_Delivery_End_Date'] = pd.to_datetime(train['Planned_Delivery_End_Date'])\n",
    "\n",
    "train['Planned_Delivery_Start_Date_min'] = train.groupby('Opportunity_ID')['Planned_Delivery_Start_Date'].transform('min')\n",
    "train['Planned_Delivery_End_Date_max'] = train.groupby('Opportunity_ID')['Planned_Delivery_End_Date'].transform('max')\n",
    "\n",
    "train['Diferencia'] = train['Planned_Delivery_End_Date_max'] - train['Planned_Delivery_Start_Date_min']\n",
    "train['Diferencia'] = train['Diferencia'].dt.days\n",
    "\n",
    "train = train.drop('Planned_Delivery_Start_Date', axis=1)\n",
    "train = train.drop('Planned_Delivery_End_Date', axis=1)\n",
    "train = train.drop('Planned_Delivery_Start_Date_min', axis=1)\n",
    "train = train.drop('Planned_Delivery_End_Date_max', axis=1)"
   ]
  },
  {
   "cell_type": "markdown",
   "metadata": {},
   "source": [
    "***"
   ]
  },
  {
   "cell_type": "markdown",
   "metadata": {},
   "source": [
    "__Cantidad de productos por oportunidad__"
   ]
  },
  {
   "cell_type": "code",
   "execution_count": 10,
   "metadata": {},
   "outputs": [],
   "source": [
    "train['Cantidad de productos'] = train.groupby('Opportunity_ID')['ID'].transform('count')\n",
    "train = train.drop('ID', axis=1)"
   ]
  },
  {
   "cell_type": "markdown",
   "metadata": {},
   "source": [
    "***"
   ]
  },
  {
   "cell_type": "markdown",
   "metadata": {},
   "source": [
    "__Elimino lo que ya no voy a usar__"
   ]
  },
  {
   "cell_type": "code",
   "execution_count": 11,
   "metadata": {
    "colab": {
     "base_uri": "https://localhost:8080/"
    },
    "executionInfo": {
     "elapsed": 4417,
     "status": "ok",
     "timestamp": 1613662259297,
     "user": {
      "displayName": "GERMAN BERNARDO BOBADILLA CATALAN",
      "photoUrl": "",
      "userId": "14005656012307870514"
     },
     "user_tz": 180
    },
    "id": "xllpdLWLie20",
    "outputId": "1f74a58b-a051-4472-d756-af46efe829a3"
   },
   "outputs": [],
   "source": [
    "train = train.drop('Bureaucratic_Code_0_Approval', axis=1)\n",
    "train = train.drop('Bureaucratic_Code_0_Approved', axis=1)\n",
    "train = train.drop('Account_Created_Date', axis=1)\n",
    "train = train.drop('Source ', axis=1)\n",
    "train = train.drop('Billing_Country', axis=1)\n",
    "train = train.drop('Opportunity_Owner', axis=1)\n",
    "train = train.drop('Account_Type', axis=1)\n",
    "train = train.drop('Quote_Type', axis=1)\n",
    "train = train.drop('Delivery_Terms', axis=1)\n",
    "train = train.drop('Opportunity_Created_Date', axis=1)\n",
    "train = train.drop('Product_Type', axis=1)\n",
    "train = train.drop('Size', axis=1)\n",
    "train = train.drop('Product_Category_B', axis=1)\n",
    "train = train.drop('Price', axis=1)\n",
    "train = train.drop('Currency', axis=1)\n",
    "train = train.drop('Quote_Expiry_Date', axis=1)\n",
    "train = train.drop('Last_Modified_Date', axis=1)\n",
    "train = train.drop('Last_Modified_By', axis=1)\n",
    "train = train.drop('Product_Family', axis=1)\n",
    "train = train.drop('Product_Name', axis=1)\n",
    "train = train.drop('Month', axis=1)\n",
    "train = train.drop('Territory', axis=1)\n",
    "train = train.drop('Region', axis=1)\n",
    "train = train.drop('Opportunity_Type', axis=1)\n",
    "train = train.drop('Account_Owner', axis=1)\n",
    "train = train.drop('Delivery_Quarter', axis=1)\n",
    "train = train.drop('Delivery_Year', axis=1)\n",
    "train = train.drop('Bureaucratic_Code', axis=1)\n",
    "\n",
    "#Elimino los duplicados para obtener una oportunidad por fila. Nota: Todos los features que siguen corresponden a\n",
    "#caracteristicas de las oportunidades, no a caracteristicas especificas de c/producto dentro de una oportunidad\n",
    "train = train.drop_duplicates('Opportunity_ID')\n",
    "train = train.drop('Opportunity_ID', axis=1)"
   ]
  },
  {
   "cell_type": "markdown",
   "metadata": {},
   "source": [
    "***"
   ]
  },
  {
   "cell_type": "code",
   "execution_count": 12,
   "metadata": {
    "executionInfo": {
     "elapsed": 5076,
     "status": "ok",
     "timestamp": 1613662260087,
     "user": {
      "displayName": "GERMAN BERNARDO BOBADILLA CATALAN",
      "photoUrl": "",
      "userId": "14005656012307870514"
     },
     "user_tz": 180
    },
    "id": "4wcyKGKFj1Yg"
   },
   "outputs": [],
   "source": [
    "train_label = train['Stage']\n",
    "train_data = train.iloc[:, train.columns != 'Stage']"
   ]
  },
  {
   "cell_type": "markdown",
   "metadata": {},
   "source": [
    "***"
   ]
  },
  {
   "cell_type": "markdown",
   "metadata": {
    "id": "pz5jTfCuk8dk"
   },
   "source": [
    "# Test"
   ]
  },
  {
   "cell_type": "markdown",
   "metadata": {},
   "source": [
    "__Lectura de datos__"
   ]
  },
  {
   "cell_type": "code",
   "execution_count": 13,
   "metadata": {},
   "outputs": [],
   "source": [
    "test = pd.read_csv('Test_TP2_Datos_2020-2C.csv')\n",
    "\n",
    "test = test.drop('Last_Activity', axis=1)\n",
    "test = test.drop('Actual_Delivery_Date', axis=1)\n",
    "test = test.drop('Submitted_for_Approval', axis=1)\n",
    "test = test.drop('Prod_Category_A', axis=1)\n",
    "test = test.drop('Sales_Contract_No', axis=1)\n",
    "test = test.drop('Opportunity_Name', axis=1)"
   ]
  },
  {
   "cell_type": "markdown",
   "metadata": {},
   "source": [
    "***"
   ]
  },
  {
   "cell_type": "markdown",
   "metadata": {},
   "source": [
    "__FEATURES__"
   ]
  },
  {
   "cell_type": "markdown",
   "metadata": {},
   "source": [
    "__Aprobación especial de su precio total__"
   ]
  },
  {
   "cell_type": "code",
   "execution_count": 14,
   "metadata": {},
   "outputs": [],
   "source": [
    "test['Pricing, Delivery_Terms_Quote_Appr'] = test['Pricing, Delivery_Terms_Quote_Appr']\\\n",
    "                                                .transform(func=lambda x : 'Necesita' if x==1 else 'NoNecesita')\n",
    "test['Pricing, Delivery_Terms_Approved'] = test['Pricing, Delivery_Terms_Approved']\\\n",
    "                                                .transform(func=lambda x : 'Obtuvo' if x==1 else 'NoObtuvo')\n",
    "\n",
    "test['Aprobacion_Especial'] = test['Pricing, Delivery_Terms_Quote_Appr']+test['Pricing, Delivery_Terms_Approved']\n",
    "\n",
    "test = test.drop('Pricing, Delivery_Terms_Quote_Appr', axis=1)\n",
    "test = test.drop('Pricing, Delivery_Terms_Approved', axis=1)"
   ]
  },
  {
   "cell_type": "markdown",
   "metadata": {},
   "source": [
    "***"
   ]
  },
  {
   "cell_type": "markdown",
   "metadata": {},
   "source": [
    "__TRF promedio__"
   ]
  },
  {
   "cell_type": "code",
   "execution_count": 15,
   "metadata": {},
   "outputs": [],
   "source": [
    "test['TRF_promedio'] = test.groupby('Opportunity_ID')['TRF'].transform('mean')\n",
    "test = test.drop('TRF', axis=1)"
   ]
  },
  {
   "cell_type": "markdown",
   "metadata": {},
   "source": [
    "***"
   ]
  },
  {
   "cell_type": "markdown",
   "metadata": {},
   "source": [
    "__Total Taxable Amount (converted)__"
   ]
  },
  {
   "cell_type": "code",
   "execution_count": 16,
   "metadata": {},
   "outputs": [],
   "source": [
    "test['Total_Taxable_Amount'].loc[test.Total_Taxable_Amount==0.00] = test.loc[test.Total_Taxable_Amount==0.00]\\\n",
    "                                            .groupby(['Opportunity_ID'])['Total_Amount'].transform('sum')\n",
    "\n",
    "test['Total_Taxable_Amount_(converted)']=0.0\n",
    "test['Total_Taxable_Amount_(converted)'].loc[test['Total_Taxable_Amount_Currency']=='EUR'] = \\\n",
    "                                                        test['Total_Taxable_Amount'].apply(lambda x: x*toEUR)\n",
    "test['Total_Taxable_Amount_(converted)'].loc[test['Total_Taxable_Amount_Currency']=='JPY'] = \\\n",
    "                                                        test['Total_Taxable_Amount'].apply(lambda x: x*toJPY)\n",
    "test['Total_Taxable_Amount_(converted)'].loc[test['Total_Taxable_Amount_Currency']=='AUD'] = \\\n",
    "                                                        test['Total_Taxable_Amount'].apply(lambda x: x*toAUD)\n",
    "test['Total_Taxable_Amount_(converted)'].loc[test['Total_Taxable_Amount_Currency']=='GBP'] = \\\n",
    "                                                        test['Total_Taxable_Amount'].apply(lambda x: x*toGBP)\n",
    "test['Total_Taxable_Amount_(converted)'].loc[test['Total_Taxable_Amount_Currency']=='USD'] = \\\n",
    "                                                        test['Total_Taxable_Amount'].apply(lambda x: x)\n",
    "\n",
    "test = test.drop('Total_Amount_Currency', axis=1)\n",
    "test = test.drop('Total_Amount', axis=1)\n",
    "test = test.drop('Total_Taxable_Amount_Currency', axis=1)\n",
    "test = test.drop('ASP_Currency', axis=1)\n",
    "test = test.drop('ASP', axis=1)\n",
    "test = test.drop('ASP_(converted)_Currency', axis=1)\n",
    "test = test.drop('ASP_(converted)', axis=1)"
   ]
  },
  {
   "cell_type": "markdown",
   "metadata": {},
   "source": [
    "***"
   ]
  },
  {
   "cell_type": "markdown",
   "metadata": {},
   "source": [
    "__Tiempo de entrega (en días)__"
   ]
  },
  {
   "cell_type": "code",
   "execution_count": 17,
   "metadata": {},
   "outputs": [],
   "source": [
    "test['Planned_Delivery_End_Date'].loc[test['Planned_Delivery_End_Date']=='NaT'] = test['Planned_Delivery_Start_Date']\n",
    "\n",
    "test['Planned_Delivery_Start_Date'] = pd.to_datetime(test['Planned_Delivery_Start_Date'])\n",
    "test['Planned_Delivery_End_Date'] = pd.to_datetime(test['Planned_Delivery_End_Date'])\n",
    "\n",
    "test['Planned_Delivery_Start_Date_min'] = test.groupby('Opportunity_ID')['Planned_Delivery_Start_Date'].transform('min')\n",
    "test['Planned_Delivery_End_Date_max'] = test.groupby('Opportunity_ID')['Planned_Delivery_End_Date'].transform('max')\n",
    "\n",
    "test['Diferencia'] = test['Planned_Delivery_End_Date_max'] - test['Planned_Delivery_Start_Date_min']\n",
    "test['Diferencia'] = test['Diferencia'].dt.days\n",
    "\n",
    "test = test.drop('Planned_Delivery_Start_Date', axis=1)\n",
    "test = test.drop('Planned_Delivery_End_Date', axis=1)\n",
    "test = test.drop('Planned_Delivery_Start_Date_min', axis=1)\n",
    "test = test.drop('Planned_Delivery_End_Date_max', axis=1)"
   ]
  },
  {
   "cell_type": "markdown",
   "metadata": {},
   "source": [
    "***"
   ]
  },
  {
   "cell_type": "markdown",
   "metadata": {},
   "source": [
    "__Cantidad de productos por oportunidad__"
   ]
  },
  {
   "cell_type": "code",
   "execution_count": 18,
   "metadata": {},
   "outputs": [],
   "source": [
    "test['Cantidad de productos'] = test.groupby('Opportunity_ID')['ID'].transform('count')\n",
    "test = test.drop('ID', axis=1)"
   ]
  },
  {
   "cell_type": "markdown",
   "metadata": {},
   "source": [
    "***"
   ]
  },
  {
   "cell_type": "markdown",
   "metadata": {},
   "source": [
    "__Elimino lo que ya no voy a usar__"
   ]
  },
  {
   "cell_type": "code",
   "execution_count": 19,
   "metadata": {
    "colab": {
     "base_uri": "https://localhost:8080/"
    },
    "executionInfo": {
     "elapsed": 5062,
     "status": "ok",
     "timestamp": 1613662260089,
     "user": {
      "displayName": "GERMAN BERNARDO BOBADILLA CATALAN",
      "photoUrl": "",
      "userId": "14005656012307870514"
     },
     "user_tz": 180
    },
    "id": "GBus4FDzle3M",
    "outputId": "0a1683ca-07f2-4f2c-be6d-e9be436b061f"
   },
   "outputs": [],
   "source": [
    "test = test.drop('Bureaucratic_Code_0_Approval', axis=1)\n",
    "test = test.drop('Bureaucratic_Code_0_Approved', axis=1)\n",
    "test = test.drop('Account_Created_Date', axis=1)\n",
    "test = test.drop('Source ', axis=1)\n",
    "test = test.drop('Billing_Country', axis=1)\n",
    "test = test.drop('Opportunity_Owner', axis=1)\n",
    "test = test.drop('Account_Type', axis=1)\n",
    "test = test.drop('Quote_Type', axis=1)\n",
    "test = test.drop('Delivery_Terms', axis=1)\n",
    "test = test.drop('Opportunity_Created_Date', axis=1)\n",
    "test = test.drop('Product_Type', axis=1)\n",
    "test = test.drop('Size', axis=1)\n",
    "test = test.drop('Product_Category_B', axis=1)\n",
    "test = test.drop('Price', axis=1)\n",
    "test = test.drop('Currency', axis=1)\n",
    "test = test.drop('Quote_Expiry_Date', axis=1)\n",
    "test = test.drop('Last_Modified_Date', axis=1)\n",
    "test = test.drop('Last_Modified_By', axis=1)\n",
    "test = test.drop('Product_Family', axis=1)\n",
    "test = test.drop('Product_Name', axis=1)\n",
    "test = test.drop('Month', axis=1)\n",
    "test = test.drop('Territory', axis=1)\n",
    "test = test.drop('Region', axis=1)\n",
    "test = test.drop('Opportunity_Type', axis=1)\n",
    "test = test.drop('Account_Owner', axis=1)\n",
    "test = test.drop('Delivery_Quarter', axis=1)\n",
    "test = test.drop('Delivery_Year', axis=1)\n",
    "test = test.drop('Bureaucratic_Code', axis=1)\n",
    "\n",
    "test = test.drop_duplicates('Opportunity_ID')\n",
    "IDs = test[['Opportunity_ID']].copy()\n",
    "test = test.drop('Opportunity_ID', axis=1)"
   ]
  },
  {
   "cell_type": "markdown",
   "metadata": {},
   "source": [
    "***"
   ]
  },
  {
   "cell_type": "markdown",
   "metadata": {
    "id": "Ju9jZKwImBCV"
   },
   "source": [
    "# Modelos"
   ]
  },
  {
   "cell_type": "markdown",
   "metadata": {},
   "source": [
    "## Catboost"
   ]
  },
  {
   "cell_type": "code",
   "execution_count": 20,
   "metadata": {},
   "outputs": [],
   "source": [
    "LogLoss = make_scorer(log_loss, greater_is_better=False, needs_proba=True)"
   ]
  },
  {
   "cell_type": "code",
   "execution_count": 21,
   "metadata": {},
   "outputs": [],
   "source": [
    "from sklearn.model_selection import train_test_split\n",
    "X_train, X_validation, y_train, y_validation = train_test_split(train_data, train_label, train_size=0.7, random_state=1234)"
   ]
  },
  {
   "cell_type": "code",
   "execution_count": 22,
   "metadata": {},
   "outputs": [],
   "source": [
    "categorical_features_indices = np.where(train_data.dtypes == np.object)[0]"
   ]
  },
  {
   "cell_type": "code",
   "execution_count": 23,
   "metadata": {},
   "outputs": [],
   "source": [
    "%%capture\n",
    "modelCatBoost=CatBoostRegressor(iterations=250, depth=3, learning_rate=0.05)\n",
    "modelCatBoost.fit(X_train, y_train,cat_features=categorical_features_indices,eval_set=(X_validation, y_validation),plot=True)"
   ]
  },
  {
   "cell_type": "code",
   "execution_count": 24,
   "metadata": {},
   "outputs": [
    {
     "name": "stdout",
     "output_type": "stream",
     "text": [
      "logloss: 0.361421\n"
     ]
    }
   ],
   "source": [
    "preds = modelCatBoost.predict(X_train)\n",
    "logloss = log_loss(y_train, preds)\n",
    "print(\"logloss: %f\" % (logloss))"
   ]
  },
  {
   "cell_type": "code",
   "execution_count": 25,
   "metadata": {},
   "outputs": [],
   "source": [
    "%%capture\n",
    "modelCatBoost.fit(train_data,train_label,cat_features=categorical_features_indices)\n",
    "preds = modelCatBoost.predict(test)\n",
    "entregable_CatBoost = IDs[['Opportunity_ID']].copy()\n",
    "entregable_CatBoost['Target'] = preds"
   ]
  },
  {
   "cell_type": "code",
   "execution_count": 26,
   "metadata": {},
   "outputs": [],
   "source": [
    "entregable_CatBoost.to_csv('CatBoost.csv', index=False)"
   ]
  },
  {
   "cell_type": "markdown",
   "metadata": {},
   "source": [
    "__Grid Search Cross Validation__"
   ]
  },
  {
   "cell_type": "code",
   "execution_count": 27,
   "metadata": {},
   "outputs": [],
   "source": [
    "modeloCB = CatBoostRegressor()\n",
    "LogLoss = make_scorer(log_loss, greater_is_better = False)\n",
    "categorical_features_indices = np.where(train_data.dtypes == np.object)[0]"
   ]
  },
  {
   "cell_type": "code",
   "execution_count": 28,
   "metadata": {},
   "outputs": [],
   "source": [
    "parameters = {'iterations':[100, 250, 500] , 'depth':[2, 3, 5], 'learning_rate':[0.005, 0.05, 0.5]}\n",
    "gscv = GridSearchCV(modeloCB, parameters, cv=5, scoring=LogLoss)"
   ]
  },
  {
   "cell_type": "code",
   "execution_count": 29,
   "metadata": {},
   "outputs": [],
   "source": [
    "%%capture\n",
    "gscv.fit(train_data, train_label, cat_features = categorical_features_indices)"
   ]
  },
  {
   "cell_type": "code",
   "execution_count": 30,
   "metadata": {},
   "outputs": [
    {
     "name": "stdout",
     "output_type": "stream",
     "text": [
      "{'depth': 5, 'iterations': 100, 'learning_rate': 0.05}\n"
     ]
    }
   ],
   "source": [
    "print(gscv.best_params_)"
   ]
  },
  {
   "cell_type": "markdown",
   "metadata": {},
   "source": [
    "__Predicción__"
   ]
  },
  {
   "cell_type": "code",
   "execution_count": 31,
   "metadata": {},
   "outputs": [],
   "source": [
    "%%capture\n",
    "modeloCB = CatBoostRegressor(depth = 5, iterations = 100, learning_rate = 0.05)\n",
    "modeloCB.fit(train_data, train_label, cat_features = categorical_features_indices)\n",
    "result = modeloCB.predict(test)\n",
    "\n",
    "entregable_CB = IDs[['Opportunity_ID']].copy()\n",
    "entregable_CB['Target'] = result"
   ]
  },
  {
   "cell_type": "code",
   "execution_count": 32,
   "metadata": {},
   "outputs": [],
   "source": [
    "entregable_CB.to_csv('CB_Final.csv', index=False)"
   ]
  }
 ],
 "metadata": {
  "colab": {
   "authorship_tag": "ABX9TyNqv30OdG+Oh8TASPE4PHLQ",
   "collapsed_sections": [],
   "name": "26-TTA_full.ipynb",
   "provenance": []
  },
  "kernelspec": {
   "display_name": "Python 3",
   "language": "python",
   "name": "python3"
  },
  "language_info": {
   "codemirror_mode": {
    "name": "ipython",
    "version": 3
   },
   "file_extension": ".py",
   "mimetype": "text/x-python",
   "name": "python",
   "nbconvert_exporter": "python",
   "pygments_lexer": "ipython3",
   "version": "3.7.9"
  }
 },
 "nbformat": 4,
 "nbformat_minor": 1
}
