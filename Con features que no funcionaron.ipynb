{
 "cells": [
  {
   "cell_type": "code",
   "execution_count": 264,
   "metadata": {
    "colab": {
     "base_uri": "https://localhost:8080/"
    },
    "executionInfo": {
     "elapsed": 3575,
     "status": "ok",
     "timestamp": 1609390670274,
     "user": {
      "displayName": "GERMAN BERNARDO BOBADILLA CATALAN",
      "photoUrl": "",
      "userId": "14005656012307870514"
     },
     "user_tz": 180
    },
    "id": "Qases-cpAvsK",
    "outputId": "d9dafc4b-379a-418e-b223-f157fb9615ce"
   },
   "outputs": [
    {
     "name": "stdout",
     "output_type": "stream",
     "text": [
      "Requirement already satisfied: category_encoders in /usr/local/lib/python3.6/dist-packages (2.2.2)\n",
      "Requirement already satisfied: scipy>=1.0.0 in /usr/local/lib/python3.6/dist-packages (from category_encoders) (1.4.1)\n",
      "Requirement already satisfied: patsy>=0.5.1 in /usr/local/lib/python3.6/dist-packages (from category_encoders) (0.5.1)\n",
      "Requirement already satisfied: scikit-learn>=0.20.0 in /usr/local/lib/python3.6/dist-packages (from category_encoders) (0.22.2.post1)\n",
      "Requirement already satisfied: numpy>=1.14.0 in /usr/local/lib/python3.6/dist-packages (from category_encoders) (1.19.4)\n",
      "Requirement already satisfied: statsmodels>=0.9.0 in /usr/local/lib/python3.6/dist-packages (from category_encoders) (0.10.2)\n",
      "Requirement already satisfied: pandas>=0.21.1 in /usr/local/lib/python3.6/dist-packages (from category_encoders) (1.1.5)\n",
      "Requirement already satisfied: six in /usr/local/lib/python3.6/dist-packages (from patsy>=0.5.1->category_encoders) (1.15.0)\n",
      "Requirement already satisfied: joblib>=0.11 in /usr/local/lib/python3.6/dist-packages (from scikit-learn>=0.20.0->category_encoders) (1.0.0)\n",
      "Requirement already satisfied: python-dateutil>=2.7.3 in /usr/local/lib/python3.6/dist-packages (from pandas>=0.21.1->category_encoders) (2.8.1)\n",
      "Requirement already satisfied: pytz>=2017.2 in /usr/local/lib/python3.6/dist-packages (from pandas>=0.21.1->category_encoders) (2018.9)\n"
     ]
    }
   ],
   "source": [
    "#pip install category_encoders"
   ]
  },
  {
   "cell_type": "code",
   "execution_count": 1,
   "metadata": {
    "executionInfo": {
     "elapsed": 3540,
     "status": "ok",
     "timestamp": 1609390670277,
     "user": {
      "displayName": "GERMAN BERNARDO BOBADILLA CATALAN",
      "photoUrl": "",
      "userId": "14005656012307870514"
     },
     "user_tz": 180
    },
    "id": "bORvgZ-bAJuo"
   },
   "outputs": [],
   "source": [
    "import pandas as pd\n",
    "import numpy as np\n",
    "import seaborn as sns\n",
    "import matplotlib.pyplot as plt\n",
    "from itertools import cycle, islice\n",
    "import datetime as datetime\n",
    "import glob\n",
    "from matplotlib import pyplot\n",
    "#import pycountry\n",
    "#import plotly.express as px\n",
    "#import psutil\n",
    "#import kaleido\n",
    "#import kora.install.orca\n",
    "import plotly.graph_objects as go\n",
    "import plotly.io as pio\n",
    "from sklearn.model_selection import GridSearchCV\n",
    "from sklearn.metrics import log_loss, make_scorer\n",
    "import category_encoders as ce\n",
    "\n",
    "%matplotlib inline\n",
    "\n",
    "plt.style.use('default') # haciendo los graficos un poco mas bonitos en matplotlib\n",
    "#plt.rcParams['figure.figsize'] = (20, 10)\n",
    "\n",
    "sns.set(style=\"whitegrid\") # seteando tipo de grid en seaborn\n",
    "\n",
    "pd.options.display.float_format = '{:20,.2f}'.format # suprimimos la notacion cientifica en los outputs\n",
    "\n",
    "#import warnings\n",
    "#warnings.filterwarnings('ignore')\n",
    "\n",
    "plt.rcParams['figure.figsize'] = (15, 5)"
   ]
  },
  {
   "cell_type": "code",
   "execution_count": 2,
   "metadata": {
    "executionInfo": {
     "elapsed": 3527,
     "status": "ok",
     "timestamp": 1609390670280,
     "user": {
      "displayName": "GERMAN BERNARDO BOBADILLA CATALAN",
      "photoUrl": "",
      "userId": "14005656012307870514"
     },
     "user_tz": 180
    },
    "id": "cuZBGYTo9uUp"
   },
   "outputs": [],
   "source": [
    "def oneHotEncoding(df, columna):\n",
    "    one_hot = pd.get_dummies(df[columna])\n",
    "    df.drop(columna, axis=1, inplace=True)\n",
    "    df = pd.concat([df, one_hot], axis=1)\n",
    "    return df"
   ]
  },
  {
   "cell_type": "markdown",
   "metadata": {
    "id": "AcSgcz_JgCCh"
   },
   "source": [
    "# Train"
   ]
  },
  {
   "cell_type": "code",
   "execution_count": 3,
   "metadata": {
    "executionInfo": {
     "elapsed": 3517,
     "status": "ok",
     "timestamp": 1609390670283,
     "user": {
      "displayName": "GERMAN BERNARDO BOBADILLA CATALAN",
      "photoUrl": "",
      "userId": "14005656012307870514"
     },
     "user_tz": 180
    },
    "id": "mbO3fP4nAlQr"
   },
   "outputs": [],
   "source": [
    "train = pd.read_csv('Train_TP2_Datos_2020-2C.csv')"
   ]
  },
  {
   "cell_type": "code",
   "execution_count": 4,
   "metadata": {
    "executionInfo": {
     "elapsed": 3507,
     "status": "ok",
     "timestamp": 1609390670286,
     "user": {
      "displayName": "GERMAN BERNARDO BOBADILLA CATALAN",
      "photoUrl": "",
      "userId": "14005656012307870514"
     },
     "user_tz": 180
    },
    "id": "NOnxiO191_kj"
   },
   "outputs": [],
   "source": [
    "#Ignoro los otros estados ya que hay muy pocos de ellos y no se sacarles utilidad.\n",
    "#Y convierto las victorias en 1 y derrotas en 0\n",
    "train = train[(train.Stage == 'Closed Won') | (train.Stage == 'Closed Lost')]\n",
    "train['Stage'] = train['Stage'].transform(func=lambda x : 1 if x=='Closed Won' else 0)"
   ]
  },
  {
   "cell_type": "markdown",
   "metadata": {},
   "source": [
    "---"
   ]
  },
  {
   "cell_type": "code",
   "execution_count": 5,
   "metadata": {},
   "outputs": [],
   "source": [
    "train['Bureaucratic_Code_0_Approval'] = train['Bureaucratic_Code_0_Approval'].transform(func=lambda x : 'Necesita' if x==1 else 'NoNecesita')\n",
    "train['Bureaucratic_Code_0_Approved'] = train['Bureaucratic_Code_0_Approved'].transform(func=lambda x : 'Obtuvo' if x==1 else 'NoObtuvo')\n",
    "train['Codigo_Burocratico'] = train['Bureaucratic_Code_0_Approval']+train['Bureaucratic_Code_0_Approved']"
   ]
  },
  {
   "cell_type": "markdown",
   "metadata": {},
   "source": [
    "---"
   ]
  },
  {
   "cell_type": "code",
   "execution_count": 6,
   "metadata": {},
   "outputs": [],
   "source": [
    "train['Pricing, Delivery_Terms_Quote_Appr'] = train['Pricing, Delivery_Terms_Quote_Appr'].transform(func=lambda x : 'Necesita' if x==1 else 'NoNecesita')\n",
    "train['Pricing, Delivery_Terms_Approved'] = train['Pricing, Delivery_Terms_Approved'].transform(func=lambda x : 'Obtuvo' if x==1 else 'NoObtuvo')\n",
    "train['Aprobacion_Especial'] = train['Pricing, Delivery_Terms_Quote_Appr']+train['Pricing, Delivery_Terms_Approved']"
   ]
  },
  {
   "cell_type": "markdown",
   "metadata": {},
   "source": [
    "---"
   ]
  },
  {
   "cell_type": "code",
   "execution_count": 7,
   "metadata": {
    "executionInfo": {
     "elapsed": 3495,
     "status": "ok",
     "timestamp": 1609390670289,
     "user": {
      "displayName": "GERMAN BERNARDO BOBADILLA CATALAN",
      "photoUrl": "",
      "userId": "14005656012307870514"
     },
     "user_tz": 180
    },
    "id": "ExADb5UhHBGo"
   },
   "outputs": [],
   "source": [
    "train.drop(train[train.Total_Amount.isnull()].index, inplace = True)"
   ]
  },
  {
   "cell_type": "code",
   "execution_count": 8,
   "metadata": {
    "executionInfo": {
     "elapsed": 3855,
     "status": "ok",
     "timestamp": 1609390670672,
     "user": {
      "displayName": "GERMAN BERNARDO BOBADILLA CATALAN",
      "photoUrl": "",
      "userId": "14005656012307870514"
     },
     "user_tz": 180
    },
    "id": "Q9bqha_hrdek"
   },
   "outputs": [],
   "source": [
    "train = train.drop('ID', axis=1)\n",
    "#train = train.drop('Territory', axis=1)\n",
    "train = train.drop('Pricing, Delivery_Terms_Quote_Appr', axis=1)\n",
    "train = train.drop('Pricing, Delivery_Terms_Approved', axis=1)\n",
    "train = train.drop('Bureaucratic_Code_0_Approval', axis=1)\n",
    "train = train.drop('Bureaucratic_Code_0_Approved', axis=1)\n",
    "train = train.drop('Account_Created_Date', axis=1)\n",
    "#train = train.drop('Source ', axis=1)\n",
    "train = train.drop('Billing_Country', axis=1)\n",
    "#train = train.drop('Account_Name', axis=1)\n",
    "#train = train.drop('Opportunity_Name', axis=1)\n",
    "#train = train.drop('Sales_Contract_No', axis=1)\n",
    "train = train.drop('Account_Owner', axis=1)\n",
    "#train = train.drop('Opportunity_Owner', axis=1)\n",
    "train = train.drop('Account_Type', axis=1)\n",
    "train = train.drop('Opportunity_Type', axis=1)\n",
    "train = train.drop('Quote_Type', axis=1)\n",
    "train = train.drop('Delivery_Terms', axis=1)\n",
    "train = train.drop('Opportunity_Created_Date', axis=1)\n",
    "train = train.drop('Brand', axis=1)\n",
    "train = train.drop('Product_Type', axis=1)\n",
    "train = train.drop('Size', axis=1)\n",
    "train = train.drop('Product_Category_B', axis=1)\n",
    "train = train.drop('Price', axis=1)\n",
    "train = train.drop('Currency', axis=1)\n",
    "train = train.drop('Last_Activity', axis=1)\n",
    "train = train.drop('Quote_Expiry_Date', axis=1)\n",
    "train = train.drop('Last_Modified_Date', axis=1)\n",
    "train = train.drop('Last_Modified_By', axis=1)\n",
    "train = train.drop('Product_Family', axis=1)\n",
    "train = train.drop('Product_Name', axis=1)\n",
    "#train = train.drop('ASP_Currency', axis=1)\n",
    "#train = train.drop('ASP', axis=1)\n",
    "train = train.drop('ASP_(converted)_Currency', axis=1)\n",
    "#train = train.drop('ASP_(converted)', axis=1)\n",
    "train = train.drop('Planned_Delivery_Start_Date', axis=1)\n",
    "train = train.drop('Planned_Delivery_End_Date', axis=1)\n",
    "train = train.drop('Month', axis=1)\n",
    "train = train.drop('Delivery_Quarter', axis=1)\n",
    "train = train.drop('Delivery_Year', axis=1)\n",
    "train = train.drop('Actual_Delivery_Date', axis=1)\n",
    "#train = train.drop('Total_Amount_Currency', axis=1)\n",
    "#train = train.drop('Total_Amount', axis=1)\n",
    "#train = train.drop('Total_Taxable_Amount_Currency', axis=1)\n",
    "#train = train.drop('Total_Taxable_Amount', axis=1)\n",
    "train = train.drop('Prod_Category_A', axis=1)\n",
    "train = train.drop('Submitted_for_Approval', axis=1)\n",
    "train = train.drop('Bureaucratic_Code', axis=1)\n",
    "train = train.drop('Region', axis=1)"
   ]
  },
  {
   "cell_type": "markdown",
   "metadata": {
    "executionInfo": {
     "elapsed": 3828,
     "status": "ok",
     "timestamp": 1609390670673,
     "user": {
      "displayName": "GERMAN BERNARDO BOBADILLA CATALAN",
      "photoUrl": "",
      "userId": "14005656012307870514"
     },
     "user_tz": 180
    },
    "id": "88Hu_3xYjiba"
   },
   "source": [
    "---"
   ]
  },
  {
   "cell_type": "code",
   "execution_count": 9,
   "metadata": {
    "executionInfo": {
     "elapsed": 3817,
     "status": "ok",
     "timestamp": 1609390670676,
     "user": {
      "displayName": "GERMAN BERNARDO BOBADILLA CATALAN",
      "photoUrl": "",
      "userId": "14005656012307870514"
     },
     "user_tz": 180
    },
    "id": "bP_f1T4g_5k6"
   },
   "outputs": [],
   "source": [
    "#train['TRF_totales'] = train.groupby('Opportunity_ID')['TRF'].transform('sum')\n",
    "train['TRF_promedio'] = train.groupby('Opportunity_ID')['TRF'].transform('mean')\n",
    "train = train.drop('TRF', axis=1)"
   ]
  },
  {
   "cell_type": "markdown",
   "metadata": {},
   "source": [
    "---"
   ]
  },
  {
   "cell_type": "code",
   "execution_count": 10,
   "metadata": {},
   "outputs": [
    {
     "name": "stderr",
     "output_type": "stream",
     "text": [
      "/usr/local/lib/python3.7/dist-packages/pandas/core/indexing.py:205: SettingWithCopyWarning: \n",
      "A value is trying to be set on a copy of a slice from a DataFrame\n",
      "\n",
      "See the caveats in the documentation: http://pandas.pydata.org/pandas-docs/stable/user_guide/indexing.html#returning-a-view-versus-a-copy\n",
      "  self._setitem_with_indexer(indexer, value)\n"
     ]
    }
   ],
   "source": [
    "#Completo los datos faltantes de 'Total_Taxable_Amount' con los de 'Total_Amount'\n",
    "train['Total_Taxable_Amount'].loc[train.Total_Taxable_Amount==0.00] = train.loc[train.Total_Taxable_Amount==0.00]\\\n",
    "                                            .groupby(['Opportunity_Name'])['Total_Amount'].transform('sum')\n",
    "\n",
    "train = train.drop('Opportunity_Name', axis=1)"
   ]
  },
  {
   "cell_type": "code",
   "execution_count": 11,
   "metadata": {
    "executionInfo": {
     "elapsed": 3805,
     "status": "ok",
     "timestamp": 1609390670677,
     "user": {
      "displayName": "GERMAN BERNARDO BOBADILLA CATALAN",
      "photoUrl": "",
      "userId": "14005656012307870514"
     },
     "user_tz": 180
    },
    "id": "ilOexFFFWIvw"
   },
   "outputs": [],
   "source": [
    "toEUR = train[train.ASP_Currency=='EUR'].head(1)[['ASP_(converted)']].iloc[0,0]/train[train.ASP_Currency=='EUR'].head(1)[['ASP']].iloc[0,0]\n",
    "toAUD = train[train.ASP_Currency=='AUD'].head(1)[['ASP_(converted)']].iloc[0,0]/train[train.ASP_Currency=='AUD'].head(1)[['ASP']].iloc[0,0]\n",
    "toGBP = train[train.ASP_Currency=='GBP'].head(1)[['ASP_(converted)']].iloc[0,0]/train[train.ASP_Currency=='GBP'].head(1)[['ASP']].iloc[0,0]\n",
    "toJPY = train[['ASP_(converted)']].iloc[12,0]/train[['ASP']].iloc[12,0]\n",
    "#En el head(1) de JPY justo habia un nan. Ese numero magico 12 corresponde a la primera fila de moneda JPY con un valor valido\n",
    "\n",
    "train = train.drop('ASP_Currency', axis=1)\n",
    "train = train.drop('ASP', axis=1)\n",
    "train = train.drop('ASP_(converted)', axis=1)"
   ]
  },
  {
   "cell_type": "code",
   "execution_count": 12,
   "metadata": {
    "colab": {
     "base_uri": "https://localhost:8080/"
    },
    "executionInfo": {
     "elapsed": 3786,
     "status": "ok",
     "timestamp": 1609390670679,
     "user": {
      "displayName": "GERMAN BERNARDO BOBADILLA CATALAN",
      "photoUrl": "",
      "userId": "14005656012307870514"
     },
     "user_tz": 180
    },
    "id": "WfuKRod2WP3a",
    "outputId": "b8dc3cc0-c86b-4051-b907-84a3f48cd712"
   },
   "outputs": [],
   "source": [
    "train['Total_Amount_(converted)']=0.0\n",
    "train['Total_Amount_(converted)'].loc[train['Total_Amount_Currency']=='EUR'] = train['Total_Amount'].apply(lambda x: x*toEUR)\n",
    "train['Total_Amount_(converted)'].loc[train['Total_Amount_Currency']=='JPY'] = train['Total_Amount'].apply(lambda x: x*toJPY)\n",
    "train['Total_Amount_(converted)'].loc[train['Total_Amount_Currency']=='AUD'] = train['Total_Amount'].apply(lambda x: x*toAUD)\n",
    "train['Total_Amount_(converted)'].loc[train['Total_Amount_Currency']=='GBP'] = train['Total_Amount'].apply(lambda x: x*toGBP)\n",
    "train['Total_Amount_(converted)'].loc[train['Total_Amount_Currency']=='USD'] = train['Total_Amount'].apply(lambda x: x)\n",
    "\n",
    "train['Total_Taxable_Amount_(converted)']=0.0\n",
    "train['Total_Taxable_Amount_(converted)'].loc[train['Total_Taxable_Amount_Currency']=='EUR'] = train['Total_Taxable_Amount'].apply(lambda x: x*toEUR)\n",
    "train['Total_Taxable_Amount_(converted)'].loc[train['Total_Taxable_Amount_Currency']=='JPY'] = train['Total_Taxable_Amount'].apply(lambda x: x*toJPY)\n",
    "train['Total_Taxable_Amount_(converted)'].loc[train['Total_Taxable_Amount_Currency']=='AUD'] = train['Total_Taxable_Amount'].apply(lambda x: x*toAUD)\n",
    "train['Total_Taxable_Amount_(converted)'].loc[train['Total_Taxable_Amount_Currency']=='GBP'] = train['Total_Taxable_Amount'].apply(lambda x: x*toGBP)\n",
    "train['Total_Taxable_Amount_(converted)'].loc[train['Total_Taxable_Amount_Currency']=='USD'] = train['Total_Taxable_Amount'].apply(lambda x: x)\n",
    "\n",
    "train = train.drop('Total_Amount_Currency', axis=1)\n",
    "train = train.drop('Total_Amount', axis=1)\n",
    "train = train.drop('Total_Taxable_Amount_Currency', axis=1)\n",
    "train = train.drop('Total_Taxable_Amount', axis=1)"
   ]
  },
  {
   "cell_type": "code",
   "execution_count": 13,
   "metadata": {
    "executionInfo": {
     "elapsed": 3774,
     "status": "ok",
     "timestamp": 1609390670681,
     "user": {
      "displayName": "GERMAN BERNARDO BOBADILLA CATALAN",
      "photoUrl": "",
      "userId": "14005656012307870514"
     },
     "user_tz": 180
    },
    "id": "5wFaeTurWDgQ"
   },
   "outputs": [],
   "source": [
    "train['TA_promedio'] = train.groupby('Opportunity_ID')['Total_Amount_(converted)'].transform('mean')\n",
    "train = train.drop('Total_Amount_(converted)', axis=1)"
   ]
  },
  {
   "cell_type": "markdown",
   "metadata": {
    "executionInfo": {
     "elapsed": 3756,
     "status": "ok",
     "timestamp": 1609390670683,
     "user": {
      "displayName": "GERMAN BERNARDO BOBADILLA CATALAN",
      "photoUrl": "",
      "userId": "14005656012307870514"
     },
     "user_tz": 180
    },
    "id": "Ln2nPsdg96ZX"
   },
   "source": [
    "---"
   ]
  },
  {
   "cell_type": "code",
   "execution_count": 14,
   "metadata": {
    "colab": {
     "base_uri": "https://localhost:8080/"
    },
    "executionInfo": {
     "elapsed": 3743,
     "status": "ok",
     "timestamp": 1609390670685,
     "user": {
      "displayName": "GERMAN BERNARDO BOBADILLA CATALAN",
      "photoUrl": "",
      "userId": "14005656012307870514"
     },
     "user_tz": 180
    },
    "id": "ztKko5sk96ew",
    "outputId": "5ab46c2b-cef4-47c9-a704-376f0010fb48"
   },
   "outputs": [],
   "source": [
    "target_enc_terr = ce.TargetEncoder(train['Territory'])\n",
    "\n",
    "# Fit the encoder using the categorical features and target\n",
    "target_enc_terr.fit(train['Territory'], train['Stage'])\n",
    "\n",
    "# Transform the features, rename the columns with _target suffix, and join to dataframe\n",
    "train = train.join(target_enc_terr.transform(train['Territory']).add_suffix('_target'))\n",
    "\n",
    "train = train.drop('Territory', axis=1)"
   ]
  },
  {
   "cell_type": "markdown",
   "metadata": {
    "executionInfo": {
     "elapsed": 4452,
     "status": "ok",
     "timestamp": 1609390671406,
     "user": {
      "displayName": "GERMAN BERNARDO BOBADILLA CATALAN",
      "photoUrl": "",
      "userId": "14005656012307870514"
     },
     "user_tz": 180
    },
    "id": "ABLccEoW0fVV"
   },
   "source": [
    "---"
   ]
  },
  {
   "cell_type": "code",
   "execution_count": 15,
   "metadata": {
    "colab": {
     "base_uri": "https://localhost:8080/"
    },
    "executionInfo": {
     "elapsed": 4439,
     "status": "ok",
     "timestamp": 1609390671408,
     "user": {
      "displayName": "GERMAN BERNARDO BOBADILLA CATALAN",
      "photoUrl": "",
      "userId": "14005656012307870514"
     },
     "user_tz": 180
    },
    "id": "VY_Z0v3l0fcg",
    "outputId": "fa54914c-000a-4886-cefe-883520e59f51"
   },
   "outputs": [],
   "source": [
    "target_enc_owner = ce.TargetEncoder(train['Opportunity_Owner'])\n",
    "\n",
    "# Fit the encoder using the categorical features and target\n",
    "target_enc_owner.fit(train['Opportunity_Owner'], train['Stage'])\n",
    "\n",
    "# Transform the features, rename the columns with _target suffix, and join to dataframe\n",
    "train = train.join(target_enc_owner.transform(train['Opportunity_Owner']).add_suffix('_target'))\n",
    "\n",
    "train = train.drop('Opportunity_Owner', axis=1)"
   ]
  },
  {
   "cell_type": "markdown",
   "metadata": {
    "executionInfo": {
     "elapsed": 4428,
     "status": "ok",
     "timestamp": 1609390671410,
     "user": {
      "displayName": "GERMAN BERNARDO BOBADILLA CATALAN",
      "photoUrl": "",
      "userId": "14005656012307870514"
     },
     "user_tz": 180
    },
    "id": "fyRSLZ9LGQeH"
   },
   "source": [
    "---"
   ]
  },
  {
   "cell_type": "code",
   "execution_count": 16,
   "metadata": {
    "colab": {
     "base_uri": "https://localhost:8080/"
    },
    "executionInfo": {
     "elapsed": 4417,
     "status": "ok",
     "timestamp": 1609390671412,
     "user": {
      "displayName": "GERMAN BERNARDO BOBADILLA CATALAN",
      "photoUrl": "",
      "userId": "14005656012307870514"
     },
     "user_tz": 180
    },
    "id": "Wha5w0YmGQwk",
    "outputId": "b6919642-b384-4678-cf9c-f7abb1af9dbf"
   },
   "outputs": [],
   "source": [
    "target_enc_source = ce.TargetEncoder(train['Source '])\n",
    "\n",
    "# Fit the encoder using the categorical features and target\n",
    "target_enc_source.fit(train['Source '], train['Stage'])\n",
    "\n",
    "# Transform the features, rename the columns with _target suffix, and join to dataframe\n",
    "train = train.join(target_enc_source.transform(train['Source ']).add_suffix('_target'))\n",
    "\n",
    "train = train.drop('Source ', axis=1)"
   ]
  },
  {
   "cell_type": "markdown",
   "metadata": {
    "executionInfo": {
     "elapsed": 4400,
     "status": "ok",
     "timestamp": 1609390671415,
     "user": {
      "displayName": "GERMAN BERNARDO BOBADILLA CATALAN",
      "photoUrl": "",
      "userId": "14005656012307870514"
     },
     "user_tz": 180
    },
    "id": "0rX7AWupjvc3"
   },
   "source": [
    "---"
   ]
  },
  {
   "cell_type": "code",
   "execution_count": 17,
   "metadata": {
    "executionInfo": {
     "elapsed": 4382,
     "status": "ok",
     "timestamp": 1609390671417,
     "user": {
      "displayName": "GERMAN BERNARDO BOBADILLA CATALAN",
      "photoUrl": "",
      "userId": "14005656012307870514"
     },
     "user_tz": 180
    },
    "id": "DNF6yoUlAEIp"
   },
   "outputs": [],
   "source": [
    "trainOp = train.drop_duplicates('Opportunity_ID')\n",
    "trainOp = trainOp.drop('Opportunity_ID', axis=1)"
   ]
  },
  {
   "cell_type": "markdown",
   "metadata": {
    "executionInfo": {
     "elapsed": 4364,
     "status": "ok",
     "timestamp": 1609390671418,
     "user": {
      "displayName": "GERMAN BERNARDO BOBADILLA CATALAN",
      "photoUrl": "",
      "userId": "14005656012307870514"
     },
     "user_tz": 180
    },
    "id": "r45XI2z64e0_"
   },
   "source": [
    "---"
   ]
  },
  {
   "cell_type": "code",
   "execution_count": 18,
   "metadata": {
    "colab": {
     "base_uri": "https://localhost:8080/"
    },
    "executionInfo": {
     "elapsed": 4349,
     "status": "ok",
     "timestamp": 1609390671420,
     "user": {
      "displayName": "GERMAN BERNARDO BOBADILLA CATALAN",
      "photoUrl": "",
      "userId": "14005656012307870514"
     },
     "user_tz": 180
    },
    "id": "ZKeP_iqo4eu4",
    "outputId": "721077f5-2b39-4ae2-a159-3466408d8e9d"
   },
   "outputs": [],
   "source": [
    "target_enc_account_name = ce.TargetEncoder(trainOp['Account_Name'])\n",
    "\n",
    "# Fit the encoder using the categorical features and target\n",
    "target_enc_account_name.fit(trainOp['Account_Name'], trainOp['Stage'])\n",
    "\n",
    "# Transform the features, rename the columns with _target suffix, and join to dataframe\n",
    "trainOp = trainOp.join(target_enc_account_name.transform(trainOp['Account_Name']).add_suffix('_target'))\n",
    "\n",
    "trainOp = trainOp.drop('Account_Name', axis=1)"
   ]
  },
  {
   "cell_type": "markdown",
   "metadata": {},
   "source": [
    "---"
   ]
  },
  {
   "cell_type": "code",
   "execution_count": 19,
   "metadata": {
    "colab": {
     "base_uri": "https://localhost:8080/"
    },
    "executionInfo": {
     "elapsed": 4338,
     "status": "ok",
     "timestamp": 1609390671422,
     "user": {
      "displayName": "GERMAN BERNARDO BOBADILLA CATALAN",
      "photoUrl": "",
      "userId": "14005656012307870514"
     },
     "user_tz": 180
    },
    "id": "RxnQ0C-sZl_W",
    "outputId": "520aabe3-c6b3-40f5-a45b-92475f461f7e"
   },
   "outputs": [],
   "source": [
    "target_enc_SCN = ce.TargetEncoder(trainOp['Sales_Contract_No'])\n",
    "\n",
    "# Fit the encoder using the categorical features and target\n",
    "target_enc_SCN.fit(trainOp['Sales_Contract_No'], trainOp['Stage'])\n",
    "\n",
    "# Transform the features, rename the columns with _target suffix, and join to dataframe\n",
    "trainOp = trainOp.join(target_enc_SCN.transform(trainOp['Sales_Contract_No']).add_suffix('_target'))\n",
    "\n",
    "trainOp = trainOp.drop('Sales_Contract_No', axis=1)"
   ]
  },
  {
   "cell_type": "markdown",
   "metadata": {},
   "source": [
    "---"
   ]
  },
  {
   "cell_type": "code",
   "execution_count": 20,
   "metadata": {},
   "outputs": [],
   "source": [
    "target_enc_CB = ce.TargetEncoder(trainOp['Codigo_Burocratico'])\n",
    "\n",
    "# Fit the encoder using the categorical features and target\n",
    "target_enc_CB.fit(trainOp['Codigo_Burocratico'], trainOp['Stage'])\n",
    "\n",
    "# Transform the features, rename the columns with _target suffix, and join to dataframe\n",
    "trainOp = trainOp.join(target_enc_CB.transform(trainOp['Codigo_Burocratico']).add_suffix('_target'))\n",
    "\n",
    "trainOp = trainOp.drop('Codigo_Burocratico', axis=1)"
   ]
  },
  {
   "cell_type": "markdown",
   "metadata": {},
   "source": [
    "---"
   ]
  },
  {
   "cell_type": "code",
   "execution_count": 21,
   "metadata": {},
   "outputs": [],
   "source": [
    "target_enc_AE = ce.TargetEncoder(trainOp['Aprobacion_Especial'])\n",
    "\n",
    "# Fit the encoder using the categorical features and target\n",
    "target_enc_AE.fit(trainOp['Aprobacion_Especial'], trainOp['Stage'])\n",
    "\n",
    "# Transform the features, rename the columns with _target suffix, and join to dataframe\n",
    "trainOp = trainOp.join(target_enc_AE.transform(trainOp['Aprobacion_Especial']).add_suffix('_target'))\n",
    "\n",
    "trainOp = trainOp.drop('Aprobacion_Especial', axis=1)"
   ]
  },
  {
   "cell_type": "markdown",
   "metadata": {
    "executionInfo": {
     "elapsed": 4326,
     "status": "ok",
     "timestamp": 1609390671423,
     "user": {
      "displayName": "GERMAN BERNARDO BOBADILLA CATALAN",
      "photoUrl": "",
      "userId": "14005656012307870514"
     },
     "user_tz": 180
    },
    "id": "Dpqoo3RMkLGt"
   },
   "source": [
    "---"
   ]
  },
  {
   "cell_type": "code",
   "execution_count": 22,
   "metadata": {
    "executionInfo": {
     "elapsed": 4315,
     "status": "ok",
     "timestamp": 1609390671425,
     "user": {
      "displayName": "GERMAN BERNARDO BOBADILLA CATALAN",
      "photoUrl": "",
      "userId": "14005656012307870514"
     },
     "user_tz": 180
    },
    "id": "BoXF1WqknLeQ"
   },
   "outputs": [],
   "source": [
    "train_label = []\n",
    "train_data = []\n",
    "\n",
    "train_label = trainOp[\"Stage\"]\n",
    "train_data = trainOp.iloc[:, trainOp.columns != 'Stage']"
   ]
  },
  {
   "cell_type": "markdown",
   "metadata": {
    "id": "A4SzN2AtgJhC"
   },
   "source": [
    "# Test"
   ]
  },
  {
   "cell_type": "code",
   "execution_count": 36,
   "metadata": {
    "executionInfo": {
     "elapsed": 4304,
     "status": "ok",
     "timestamp": 1609390671427,
     "user": {
      "displayName": "GERMAN BERNARDO BOBADILLA CATALAN",
      "photoUrl": "",
      "userId": "14005656012307870514"
     },
     "user_tz": 180
    },
    "id": "mxzTC3EJgnbF"
   },
   "outputs": [],
   "source": [
    "test = pd.read_csv('Test_TP2_Datos_2020-2C.csv')"
   ]
  },
  {
   "cell_type": "markdown",
   "metadata": {},
   "source": [
    "---"
   ]
  },
  {
   "cell_type": "code",
   "execution_count": 37,
   "metadata": {},
   "outputs": [],
   "source": [
    "test['Bureaucratic_Code_0_Approval'] = test['Bureaucratic_Code_0_Approval'].transform(func=lambda x : 'Necesita' if x==1 else 'NoNecesita')\n",
    "test['Bureaucratic_Code_0_Approved'] = test['Bureaucratic_Code_0_Approved'].transform(func=lambda x : 'Obtuvo' if x==1 else 'NoObtuvo')\n",
    "test['Codigo_Burocratico'] = test['Bureaucratic_Code_0_Approval']+test['Bureaucratic_Code_0_Approved']"
   ]
  },
  {
   "cell_type": "markdown",
   "metadata": {},
   "source": [
    "---"
   ]
  },
  {
   "cell_type": "code",
   "execution_count": 38,
   "metadata": {},
   "outputs": [],
   "source": [
    "test['Pricing, Delivery_Terms_Quote_Appr'] = test['Pricing, Delivery_Terms_Quote_Appr'].transform(func=lambda x : 'Necesita' if x==1 else 'NoNecesita')\n",
    "test['Pricing, Delivery_Terms_Approved'] = test['Pricing, Delivery_Terms_Approved'].transform(func=lambda x : 'Obtuvo' if x==1 else 'NoObtuvo')\n",
    "test['Aprobacion_Especial'] = test['Pricing, Delivery_Terms_Quote_Appr']+test['Pricing, Delivery_Terms_Approved']"
   ]
  },
  {
   "cell_type": "markdown",
   "metadata": {},
   "source": [
    "---"
   ]
  },
  {
   "cell_type": "code",
   "execution_count": 39,
   "metadata": {
    "executionInfo": {
     "elapsed": 5061,
     "status": "ok",
     "timestamp": 1609390672197,
     "user": {
      "displayName": "GERMAN BERNARDO BOBADILLA CATALAN",
      "photoUrl": "",
      "userId": "14005656012307870514"
     },
     "user_tz": 180
    },
    "id": "NpoTtzaVs-Ke"
   },
   "outputs": [],
   "source": [
    "test = test.drop('ID', axis=1)\n",
    "#test = test.drop('Territory', axis=1)\n",
    "test = test.drop('Pricing, Delivery_Terms_Quote_Appr', axis=1)\n",
    "test = test.drop('Pricing, Delivery_Terms_Approved', axis=1)\n",
    "test = test.drop('Bureaucratic_Code_0_Approval', axis=1)\n",
    "test = test.drop('Bureaucratic_Code_0_Approved', axis=1)\n",
    "test = test.drop('Account_Created_Date', axis=1)\n",
    "#test = test.drop('Source ', axis=1)\n",
    "test = test.drop('Billing_Country', axis=1)\n",
    "#test = test.drop('Account_Name', axis=1)\n",
    "#test = test.drop('Opportunity_Name', axis=1)\n",
    "#test = test.drop('Sales_Contract_No', axis=1)\n",
    "test = test.drop('Account_Owner', axis=1)\n",
    "#test = test.drop('Opportunity_Owner', axis=1)\n",
    "test = test.drop('Account_Type', axis=1)\n",
    "test = test.drop('Opportunity_Type', axis=1)\n",
    "test = test.drop('Quote_Type', axis=1)\n",
    "test = test.drop('Delivery_Terms', axis=1)\n",
    "test = test.drop('Opportunity_Created_Date', axis=1)\n",
    "test = test.drop('Brand', axis=1)\n",
    "test = test.drop('Product_Type', axis=1)\n",
    "test = test.drop('Size', axis=1)\n",
    "test = test.drop('Product_Category_B', axis=1)\n",
    "test = test.drop('Price', axis=1)\n",
    "test = test.drop('Currency', axis=1)\n",
    "test = test.drop('Last_Activity', axis=1)\n",
    "test = test.drop('Quote_Expiry_Date', axis=1)\n",
    "test = test.drop('Last_Modified_Date', axis=1)\n",
    "test = test.drop('Last_Modified_By', axis=1)\n",
    "test = test.drop('Product_Family', axis=1)\n",
    "test = test.drop('Product_Name', axis=1)\n",
    "test = test.drop('ASP_Currency', axis=1)\n",
    "test = test.drop('ASP', axis=1)\n",
    "test = test.drop('ASP_(converted)_Currency', axis=1)\n",
    "test = test.drop('ASP_(converted)', axis=1)\n",
    "test = test.drop('Planned_Delivery_Start_Date', axis=1)\n",
    "test = test.drop('Planned_Delivery_End_Date', axis=1)\n",
    "test = test.drop('Month', axis=1)\n",
    "test = test.drop('Delivery_Quarter', axis=1)\n",
    "test = test.drop('Delivery_Year', axis=1)\n",
    "test = test.drop('Actual_Delivery_Date', axis=1)\n",
    "#test = test.drop('Total_Amount_Currency', axis=1)\n",
    "#test = test.drop('Total_Amount', axis=1)\n",
    "#test = test.drop('Total_Taxable_Amount_Currency', axis=1)\n",
    "#test = test.drop('Total_Taxable_Amount', axis=1)\n",
    "test = test.drop('Prod_Category_A', axis=1)\n",
    "test = test.drop('Submitted_for_Approval', axis=1)\n",
    "test = test.drop('Bureaucratic_Code', axis=1)\n",
    "test = test.drop('Region', axis=1)"
   ]
  },
  {
   "cell_type": "markdown",
   "metadata": {
    "executionInfo": {
     "elapsed": 5051,
     "status": "ok",
     "timestamp": 1609390672200,
     "user": {
      "displayName": "GERMAN BERNARDO BOBADILLA CATALAN",
      "photoUrl": "",
      "userId": "14005656012307870514"
     },
     "user_tz": 180
    },
    "id": "7qsbH_aYkY_Y"
   },
   "source": [
    "---"
   ]
  },
  {
   "cell_type": "code",
   "execution_count": 40,
   "metadata": {
    "executionInfo": {
     "elapsed": 5038,
     "status": "ok",
     "timestamp": 1609390672203,
     "user": {
      "displayName": "GERMAN BERNARDO BOBADILLA CATALAN",
      "photoUrl": "",
      "userId": "14005656012307870514"
     },
     "user_tz": 180
    },
    "id": "PViXhFQaA5b4"
   },
   "outputs": [],
   "source": [
    "test['TRF_promedio'] = test.groupby('Opportunity_ID')['TRF'].transform('mean')\n",
    "test = test.drop('TRF', axis=1)"
   ]
  },
  {
   "cell_type": "markdown",
   "metadata": {},
   "source": [
    "---"
   ]
  },
  {
   "cell_type": "code",
   "execution_count": 41,
   "metadata": {},
   "outputs": [],
   "source": [
    "test['Total_Taxable_Amount'].loc[test.Total_Taxable_Amount==0.00] = test.loc[test.Total_Taxable_Amount==0.00]\\\n",
    "                                            .groupby(['Opportunity_Name'])['Total_Amount'].transform('sum')\n",
    "\n",
    "test = test.drop('Opportunity_Name', axis=1)"
   ]
  },
  {
   "cell_type": "code",
   "execution_count": 42,
   "metadata": {
    "colab": {
     "base_uri": "https://localhost:8080/"
    },
    "executionInfo": {
     "elapsed": 5025,
     "status": "ok",
     "timestamp": 1609390672204,
     "user": {
      "displayName": "GERMAN BERNARDO BOBADILLA CATALAN",
      "photoUrl": "",
      "userId": "14005656012307870514"
     },
     "user_tz": 180
    },
    "id": "6AyKbjZ6WgZD",
    "outputId": "da0cc340-73c7-4290-d574-18c64129122b"
   },
   "outputs": [],
   "source": [
    "test['Total_Amount_(converted)']=0.0\n",
    "test['Total_Amount_(converted)'].loc[test['Total_Amount_Currency']=='EUR'] = test['Total_Amount'].apply(lambda x: x*toEUR)\n",
    "test['Total_Amount_(converted)'].loc[test['Total_Amount_Currency']=='JPY'] = test['Total_Amount'].apply(lambda x: x*toJPY)\n",
    "test['Total_Amount_(converted)'].loc[test['Total_Amount_Currency']=='AUD'] = test['Total_Amount'].apply(lambda x: x*toAUD)\n",
    "test['Total_Amount_(converted)'].loc[test['Total_Amount_Currency']=='GBP'] = test['Total_Amount'].apply(lambda x: x*toGBP)\n",
    "test['Total_Amount_(converted)'].loc[test['Total_Amount_Currency']=='USD'] = test['Total_Amount'].apply(lambda x: x)\n",
    "\n",
    "test['Total_Taxable_Amount_(converted)']=0.0\n",
    "test['Total_Taxable_Amount_(converted)'].loc[test['Total_Taxable_Amount_Currency']=='EUR'] = test['Total_Taxable_Amount'].apply(lambda x: x*toEUR)\n",
    "test['Total_Taxable_Amount_(converted)'].loc[test['Total_Taxable_Amount_Currency']=='JPY'] = test['Total_Taxable_Amount'].apply(lambda x: x*toJPY)\n",
    "test['Total_Taxable_Amount_(converted)'].loc[test['Total_Taxable_Amount_Currency']=='AUD'] = test['Total_Taxable_Amount'].apply(lambda x: x*toAUD)\n",
    "test['Total_Taxable_Amount_(converted)'].loc[test['Total_Taxable_Amount_Currency']=='GBP'] = test['Total_Taxable_Amount'].apply(lambda x: x*toGBP)\n",
    "test['Total_Taxable_Amount_(converted)'].loc[test['Total_Taxable_Amount_Currency']=='USD'] = test['Total_Taxable_Amount'].apply(lambda x: x)\n",
    "\n",
    "test = test.drop('Total_Amount_Currency', axis=1)\n",
    "test = test.drop('Total_Amount', axis=1)\n",
    "test = test.drop('Total_Taxable_Amount_Currency', axis=1)\n",
    "test = test.drop('Total_Taxable_Amount', axis=1)"
   ]
  },
  {
   "cell_type": "code",
   "execution_count": 43,
   "metadata": {
    "executionInfo": {
     "elapsed": 5014,
     "status": "ok",
     "timestamp": 1609390672206,
     "user": {
      "displayName": "GERMAN BERNARDO BOBADILLA CATALAN",
      "photoUrl": "",
      "userId": "14005656012307870514"
     },
     "user_tz": 180
    },
    "id": "WXOekJsABak0"
   },
   "outputs": [],
   "source": [
    "test['TA_promedio'] = test.groupby('Opportunity_ID')['Total_Amount_(converted)'].transform('mean')\n",
    "test = test.drop('Total_Amount_(converted)', axis=1)"
   ]
  },
  {
   "cell_type": "markdown",
   "metadata": {
    "executionInfo": {
     "elapsed": 5002,
     "status": "ok",
     "timestamp": 1609390672208,
     "user": {
      "displayName": "GERMAN BERNARDO BOBADILLA CATALAN",
      "photoUrl": "",
      "userId": "14005656012307870514"
     },
     "user_tz": 180
    },
    "id": "rxYU1WAGBpWl"
   },
   "source": [
    "---"
   ]
  },
  {
   "cell_type": "code",
   "execution_count": 44,
   "metadata": {
    "executionInfo": {
     "elapsed": 4992,
     "status": "ok",
     "timestamp": 1609390672211,
     "user": {
      "displayName": "GERMAN BERNARDO BOBADILLA CATALAN",
      "photoUrl": "",
      "userId": "14005656012307870514"
     },
     "user_tz": 180
    },
    "id": "nE0HqwoM-XG5"
   },
   "outputs": [],
   "source": [
    "test = test.join(target_enc_terr.transform(test['Territory']).add_suffix('_target'))\n",
    "test = test.drop('Territory', axis=1)"
   ]
  },
  {
   "cell_type": "markdown",
   "metadata": {
    "executionInfo": {
     "elapsed": 4987,
     "status": "ok",
     "timestamp": 1609390672219,
     "user": {
      "displayName": "GERMAN BERNARDO BOBADILLA CATALAN",
      "photoUrl": "",
      "userId": "14005656012307870514"
     },
     "user_tz": 180
    },
    "id": "_sRJb9e_0-Jr"
   },
   "source": [
    "---"
   ]
  },
  {
   "cell_type": "code",
   "execution_count": 45,
   "metadata": {
    "executionInfo": {
     "elapsed": 4975,
     "status": "ok",
     "timestamp": 1609390672221,
     "user": {
      "displayName": "GERMAN BERNARDO BOBADILLA CATALAN",
      "photoUrl": "",
      "userId": "14005656012307870514"
     },
     "user_tz": 180
    },
    "id": "AQXxjETu0_Vd"
   },
   "outputs": [],
   "source": [
    "test = test.join(target_enc_owner.transform(test['Opportunity_Owner']).add_suffix('_target'))\n",
    "test = test.drop('Opportunity_Owner', axis=1)"
   ]
  },
  {
   "cell_type": "markdown",
   "metadata": {
    "executionInfo": {
     "elapsed": 4961,
     "status": "ok",
     "timestamp": 1609390672223,
     "user": {
      "displayName": "GERMAN BERNARDO BOBADILLA CATALAN",
      "photoUrl": "",
      "userId": "14005656012307870514"
     },
     "user_tz": 180
    },
    "id": "HqG4ijRFGpSD"
   },
   "source": [
    "---"
   ]
  },
  {
   "cell_type": "code",
   "execution_count": 46,
   "metadata": {
    "executionInfo": {
     "elapsed": 4949,
     "status": "ok",
     "timestamp": 1609390672225,
     "user": {
      "displayName": "GERMAN BERNARDO BOBADILLA CATALAN",
      "photoUrl": "",
      "userId": "14005656012307870514"
     },
     "user_tz": 180
    },
    "id": "mO-k6HLGGpYk"
   },
   "outputs": [],
   "source": [
    "test = test.join(target_enc_source.transform(test['Source ']).add_suffix('_target'))\n",
    "test = test.drop('Source ', axis=1)"
   ]
  },
  {
   "cell_type": "markdown",
   "metadata": {
    "executionInfo": {
     "elapsed": 4938,
     "status": "ok",
     "timestamp": 1609390672227,
     "user": {
      "displayName": "GERMAN BERNARDO BOBADILLA CATALAN",
      "photoUrl": "",
      "userId": "14005656012307870514"
     },
     "user_tz": 180
    },
    "id": "9BK7Z_g945xi"
   },
   "source": [
    "---"
   ]
  },
  {
   "cell_type": "code",
   "execution_count": 47,
   "metadata": {
    "executionInfo": {
     "elapsed": 4921,
     "status": "ok",
     "timestamp": 1609390672228,
     "user": {
      "displayName": "GERMAN BERNARDO BOBADILLA CATALAN",
      "photoUrl": "",
      "userId": "14005656012307870514"
     },
     "user_tz": 180
    },
    "id": "ps3Rx3dlBAKU"
   },
   "outputs": [],
   "source": [
    "testOp = test.drop_duplicates('Opportunity_ID')\n",
    "IDs = testOp[['Opportunity_ID']].copy()\n",
    "testOp = testOp.drop('Opportunity_ID', axis=1)"
   ]
  },
  {
   "cell_type": "markdown",
   "metadata": {
    "executionInfo": {
     "elapsed": 4910,
     "status": "ok",
     "timestamp": 1609390672230,
     "user": {
      "displayName": "GERMAN BERNARDO BOBADILLA CATALAN",
      "photoUrl": "",
      "userId": "14005656012307870514"
     },
     "user_tz": 180
    },
    "id": "hPD0_PVR_Vj3"
   },
   "source": [
    "---"
   ]
  },
  {
   "cell_type": "code",
   "execution_count": 48,
   "metadata": {
    "executionInfo": {
     "elapsed": 4902,
     "status": "ok",
     "timestamp": 1609390672235,
     "user": {
      "displayName": "GERMAN BERNARDO BOBADILLA CATALAN",
      "photoUrl": "",
      "userId": "14005656012307870514"
     },
     "user_tz": 180
    },
    "id": "8mZU0ViE45rs"
   },
   "outputs": [],
   "source": [
    "testOp = testOp.join(target_enc_account_name.transform(testOp['Account_Name']).add_suffix('_target'))\n",
    "testOp = testOp.drop('Account_Name', axis=1)"
   ]
  },
  {
   "cell_type": "markdown",
   "metadata": {},
   "source": [
    "---"
   ]
  },
  {
   "cell_type": "code",
   "execution_count": 49,
   "metadata": {
    "executionInfo": {
     "elapsed": 4891,
     "status": "ok",
     "timestamp": 1609390672237,
     "user": {
      "displayName": "GERMAN BERNARDO BOBADILLA CATALAN",
      "photoUrl": "",
      "userId": "14005656012307870514"
     },
     "user_tz": 180
    },
    "id": "hYNgCViyZzLU"
   },
   "outputs": [],
   "source": [
    "testOp = testOp.join(target_enc_SCN.transform(testOp['Sales_Contract_No']).add_suffix('_target'))\n",
    "testOp = testOp.drop('Sales_Contract_No', axis=1)"
   ]
  },
  {
   "cell_type": "markdown",
   "metadata": {},
   "source": [
    "---"
   ]
  },
  {
   "cell_type": "code",
   "execution_count": 50,
   "metadata": {},
   "outputs": [],
   "source": [
    "testOp = testOp.join(target_enc_CB.transform(testOp['Codigo_Burocratico']).add_suffix('_target'))\n",
    "testOp = testOp.drop('Codigo_Burocratico', axis=1)"
   ]
  },
  {
   "cell_type": "markdown",
   "metadata": {},
   "source": [
    "---"
   ]
  },
  {
   "cell_type": "code",
   "execution_count": 51,
   "metadata": {},
   "outputs": [],
   "source": [
    "testOp = testOp.join(target_enc_AE.transform(testOp['Aprobacion_Especial']).add_suffix('_target'))\n",
    "testOp = testOp.drop('Aprobacion_Especial', axis=1)"
   ]
  },
  {
   "cell_type": "markdown",
   "metadata": {
    "id": "TwO2KPqmgQvO"
   },
   "source": [
    "# Modelos"
   ]
  },
  {
   "cell_type": "markdown",
   "metadata": {
    "id": "tWSQaVxkgZJu"
   },
   "source": [
    "Random Forest"
   ]
  },
  {
   "cell_type": "code",
   "execution_count": 54,
   "metadata": {
    "executionInfo": {
     "elapsed": 4879,
     "status": "ok",
     "timestamp": 1609390672239,
     "user": {
      "displayName": "GERMAN BERNARDO BOBADILLA CATALAN",
      "photoUrl": "",
      "userId": "14005656012307870514"
     },
     "user_tz": 180
    },
    "id": "nd7sqPr84_ff"
   },
   "outputs": [],
   "source": [
    "from sklearn.ensemble import RandomForestClassifier"
   ]
  },
  {
   "cell_type": "code",
   "execution_count": 55,
   "metadata": {
    "executionInfo": {
     "elapsed": 4867,
     "status": "ok",
     "timestamp": 1609390672240,
     "user": {
      "displayName": "GERMAN BERNARDO BOBADILLA CATALAN",
      "photoUrl": "",
      "userId": "14005656012307870514"
     },
     "user_tz": 180
    },
    "id": "4Q44GHhat3Az"
   },
   "outputs": [],
   "source": [
    "parameters = {'n_estimators':[50, 100, 150, 200, 250, 300]}"
   ]
  },
  {
   "cell_type": "code",
   "execution_count": 56,
   "metadata": {
    "executionInfo": {
     "elapsed": 4856,
     "status": "ok",
     "timestamp": 1609390672242,
     "user": {
      "displayName": "GERMAN BERNARDO BOBADILLA CATALAN",
      "photoUrl": "",
      "userId": "14005656012307870514"
     },
     "user_tz": 180
    },
    "id": "XQ6kHfb85DF5"
   },
   "outputs": [],
   "source": [
    "modeloRFC=RandomForestClassifier(random_state=0, n_jobs=-1)"
   ]
  },
  {
   "cell_type": "code",
   "execution_count": 57,
   "metadata": {
    "executionInfo": {
     "elapsed": 4845,
     "status": "ok",
     "timestamp": 1609390672243,
     "user": {
      "displayName": "GERMAN BERNARDO BOBADILLA CATALAN",
      "photoUrl": "",
      "userId": "14005656012307870514"
     },
     "user_tz": 180
    },
    "id": "l7atqQbVuJv-"
   },
   "outputs": [],
   "source": [
    "LogLoss = make_scorer(log_loss)"
   ]
  },
  {
   "cell_type": "code",
   "execution_count": 58,
   "metadata": {
    "executionInfo": {
     "elapsed": 4831,
     "status": "ok",
     "timestamp": 1609390672245,
     "user": {
      "displayName": "GERMAN BERNARDO BOBADILLA CATALAN",
      "photoUrl": "",
      "userId": "14005656012307870514"
     },
     "user_tz": 180
    },
    "id": "Y3lT4Sz5uNkb"
   },
   "outputs": [],
   "source": [
    "gscv = GridSearchCV(modeloRFC, parameters, cv=5, scoring=LogLoss)"
   ]
  },
  {
   "cell_type": "code",
   "execution_count": 59,
   "metadata": {
    "colab": {
     "base_uri": "https://localhost:8080/"
    },
    "executionInfo": {
     "elapsed": 41498,
     "status": "ok",
     "timestamp": 1609390708927,
     "user": {
      "displayName": "GERMAN BERNARDO BOBADILLA CATALAN",
      "photoUrl": "",
      "userId": "14005656012307870514"
     },
     "user_tz": 180
    },
    "id": "N96GRReyuZm1",
    "outputId": "cded5026-977a-415f-8446-8f4962baa245"
   },
   "outputs": [
    {
     "data": {
      "text/plain": [
       "GridSearchCV(cv=5, error_score='raise-deprecating',\n",
       "             estimator=RandomForestClassifier(bootstrap=True, class_weight=None,\n",
       "                                              criterion='gini', max_depth=None,\n",
       "                                              max_features='auto',\n",
       "                                              max_leaf_nodes=None,\n",
       "                                              min_impurity_decrease=0.0,\n",
       "                                              min_impurity_split=None,\n",
       "                                              min_samples_leaf=1,\n",
       "                                              min_samples_split=2,\n",
       "                                              min_weight_fraction_leaf=0.0,\n",
       "                                              n_estimators='warn', n_jobs=-1,\n",
       "                                              oob_score=False, random_state=0,\n",
       "                                              verbose=0, warm_start=False),\n",
       "             iid='warn', n_jobs=None,\n",
       "             param_grid={'n_estimators': [50, 100, 150, 200, 250, 300]},\n",
       "             pre_dispatch='2*n_jobs', refit=True, return_train_score=False,\n",
       "             scoring=make_scorer(log_loss), verbose=0)"
      ]
     },
     "execution_count": 59,
     "metadata": {},
     "output_type": "execute_result"
    }
   ],
   "source": [
    "gscv.fit(train_data, train_label)"
   ]
  },
  {
   "cell_type": "code",
   "execution_count": 60,
   "metadata": {
    "colab": {
     "base_uri": "https://localhost:8080/"
    },
    "executionInfo": {
     "elapsed": 901,
     "status": "ok",
     "timestamp": 1609390746485,
     "user": {
      "displayName": "GERMAN BERNARDO BOBADILLA CATALAN",
      "photoUrl": "",
      "userId": "14005656012307870514"
     },
     "user_tz": 180
    },
    "id": "HFX4QcOKuj_n",
    "outputId": "236fa985-5afa-40de-c433-d26d431c4aeb"
   },
   "outputs": [
    {
     "name": "stdout",
     "output_type": "stream",
     "text": [
      "1.5101868651838977 RandomForestClassifier(bootstrap=True, class_weight=None, criterion='gini',\n",
      "                       max_depth=None, max_features='auto', max_leaf_nodes=None,\n",
      "                       min_impurity_decrease=0.0, min_impurity_split=None,\n",
      "                       min_samples_leaf=1, min_samples_split=2,\n",
      "                       min_weight_fraction_leaf=0.0, n_estimators=50, n_jobs=-1,\n",
      "                       oob_score=False, random_state=0, verbose=0,\n",
      "                       warm_start=False)\n"
     ]
    }
   ],
   "source": [
    "print(gscv.best_score_, gscv.best_estimator_)"
   ]
  },
  {
   "cell_type": "code",
   "execution_count": 61,
   "metadata": {
    "executionInfo": {
     "elapsed": 1308,
     "status": "ok",
     "timestamp": 1609390752342,
     "user": {
      "displayName": "GERMAN BERNARDO BOBADILLA CATALAN",
      "photoUrl": "",
      "userId": "14005656012307870514"
     },
     "user_tz": 180
    },
    "id": "40c8i-7s7xI1"
   },
   "outputs": [],
   "source": [
    "modeloRFC=RandomForestClassifier(random_state=0, n_jobs=-1, n_estimators=50)"
   ]
  },
  {
   "cell_type": "code",
   "execution_count": 62,
   "metadata": {
    "executionInfo": {
     "elapsed": 1892,
     "status": "ok",
     "timestamp": 1609390753150,
     "user": {
      "displayName": "GERMAN BERNARDO BOBADILLA CATALAN",
      "photoUrl": "",
      "userId": "14005656012307870514"
     },
     "user_tz": 180
    },
    "id": "Qvh5scuk5Le6"
   },
   "outputs": [],
   "source": [
    "modeloRFC.fit(train_data, train_label)\n",
    "result = modeloRFC.predict(testOp)"
   ]
  },
  {
   "cell_type": "code",
   "execution_count": 63,
   "metadata": {
    "executionInfo": {
     "elapsed": 2151,
     "status": "ok",
     "timestamp": 1609390753652,
     "user": {
      "displayName": "GERMAN BERNARDO BOBADILLA CATALAN",
      "photoUrl": "",
      "userId": "14005656012307870514"
     },
     "user_tz": 180
    },
    "id": "rVjlaa0m5Qn5"
   },
   "outputs": [],
   "source": [
    "entregable_RFC = IDs[['Opportunity_ID']].copy()\n",
    "entregable_RFC['Target'] = result"
   ]
  },
  {
   "cell_type": "code",
   "execution_count": 64,
   "metadata": {
    "executionInfo": {
     "elapsed": 876,
     "status": "ok",
     "timestamp": 1609390780934,
     "user": {
      "displayName": "GERMAN BERNARDO BOBADILLA CATALAN",
      "photoUrl": "",
      "userId": "14005656012307870514"
     },
     "user_tz": 180
    },
    "id": "eVZkqAHN6Jkh"
   },
   "outputs": [],
   "source": [
    "entregable_RFC.to_csv('RF_TodosLosFeatures.csv', index=False)"
   ]
  },
  {
   "cell_type": "code",
   "execution_count": null,
   "metadata": {
    "id": "ou1cRYlebsTr"
   },
   "outputs": [],
   "source": []
  }
 ],
 "metadata": {
  "colab": {
   "authorship_tag": "ABX9TyPK/DgThPtHE7GTWAQOnghJ",
   "collapsed_sections": [],
   "name": "29-TTA_promedio.ipynb",
   "provenance": [
    {
     "file_id": "1qJFyFsyYYcgaEK5Yz6qh6WfuBl8wH07Z",
     "timestamp": 1608489303765
    }
   ]
  },
  "kernelspec": {
   "display_name": "Python 3",
   "language": "python",
   "name": "python3"
  },
  "language_info": {
   "codemirror_mode": {
    "name": "ipython",
    "version": 3
   },
   "file_extension": ".py",
   "mimetype": "text/x-python",
   "name": "python",
   "nbconvert_exporter": "python",
   "pygments_lexer": "ipython3",
   "version": "3.7.9"
  }
 },
 "nbformat": 4,
 "nbformat_minor": 1
}
